{
 "cells": [
  {
   "cell_type": "code",
   "execution_count": 1,
   "metadata": {},
   "outputs": [
    {
     "name": "stdout",
     "output_type": "stream",
     "text": [
      "Requirement already satisfied: selenium in c:\\users\\sumit\\anaconda3\\lib\\site-packages (4.1.2)\n",
      "Requirement already satisfied: trio~=0.17 in c:\\users\\sumit\\anaconda3\\lib\\site-packages (from selenium) (0.20.0)\n",
      "Requirement already satisfied: trio-websocket~=0.9 in c:\\users\\sumit\\anaconda3\\lib\\site-packages (from selenium) (0.9.2)\n",
      "Requirement already satisfied: urllib3[secure,socks]~=1.26 in c:\\users\\sumit\\anaconda3\\lib\\site-packages (from selenium) (1.26.8)\n",
      "Requirement already satisfied: async-generator>=1.9 in c:\\users\\sumit\\anaconda3\\lib\\site-packages (from trio~=0.17->selenium) (1.10)\n",
      "Requirement already satisfied: sniffio in c:\\users\\sumit\\anaconda3\\lib\\site-packages (from trio~=0.17->selenium) (1.2.0)\n",
      "Requirement already satisfied: idna in c:\\users\\sumit\\anaconda3\\lib\\site-packages (from trio~=0.17->selenium) (2.10)\n",
      "Requirement already satisfied: attrs>=19.2.0 in c:\\users\\sumit\\anaconda3\\lib\\site-packages (from trio~=0.17->selenium) (20.3.0)\n",
      "Requirement already satisfied: cffi>=1.14; os_name == \"nt\" and implementation_name != \"pypy\" in c:\\users\\sumit\\anaconda3\\lib\\site-packages (from trio~=0.17->selenium) (1.14.3)\n",
      "Requirement already satisfied: sortedcontainers in c:\\users\\sumit\\anaconda3\\lib\\site-packages (from trio~=0.17->selenium) (2.2.2)\n",
      "Requirement already satisfied: outcome in c:\\users\\sumit\\anaconda3\\lib\\site-packages (from trio~=0.17->selenium) (1.1.0)\n",
      "Requirement already satisfied: wsproto>=0.14 in c:\\users\\sumit\\anaconda3\\lib\\site-packages (from trio-websocket~=0.9->selenium) (1.1.0)\n",
      "Requirement already satisfied: certifi; extra == \"secure\" in c:\\users\\sumit\\anaconda3\\lib\\site-packages (from urllib3[secure,socks]~=1.26->selenium) (2020.6.20)\n",
      "Requirement already satisfied: pyOpenSSL>=0.14; extra == \"secure\" in c:\\users\\sumit\\anaconda3\\lib\\site-packages (from urllib3[secure,socks]~=1.26->selenium) (19.1.0)\n",
      "Requirement already satisfied: cryptography>=1.3.4; extra == \"secure\" in c:\\users\\sumit\\anaconda3\\lib\\site-packages (from urllib3[secure,socks]~=1.26->selenium) (3.1.1)\n",
      "Requirement already satisfied: PySocks!=1.5.7,<2.0,>=1.5.6; extra == \"socks\" in c:\\users\\sumit\\anaconda3\\lib\\site-packages (from urllib3[secure,socks]~=1.26->selenium) (1.7.1)\n",
      "Requirement already satisfied: pycparser in c:\\users\\sumit\\anaconda3\\lib\\site-packages (from cffi>=1.14; os_name == \"nt\" and implementation_name != \"pypy\"->trio~=0.17->selenium) (2.20)\n",
      "Requirement already satisfied: h11<1,>=0.9.0 in c:\\users\\sumit\\anaconda3\\lib\\site-packages (from wsproto>=0.14->trio-websocket~=0.9->selenium) (0.13.0)\n",
      "Requirement already satisfied: six>=1.5.2 in c:\\users\\sumit\\anaconda3\\lib\\site-packages (from pyOpenSSL>=0.14; extra == \"secure\"->urllib3[secure,socks]~=1.26->selenium) (1.15.0)\n"
     ]
    }
   ],
   "source": [
    "!pip install selenium"
   ]
  },
  {
   "cell_type": "code",
   "execution_count": 2,
   "metadata": {},
   "outputs": [],
   "source": [
    "#now i download driver for the web browser"
   ]
  },
  {
   "cell_type": "code",
   "execution_count": 2,
   "metadata": {},
   "outputs": [],
   "source": [
    "#import requiring libraries\n",
    "import selenium \n",
    "import pandas as pd\n",
    "from selenium import webdriver\n",
    "import warnings \n",
    "warnings.filterwarnings(\"ignore\")"
   ]
  },
  {
   "cell_type": "code",
   "execution_count": 3,
   "metadata": {},
   "outputs": [
    {
     "data": {
      "text/plain": [
       "<selenium.webdriver.chrome.webdriver.WebDriver (session=\"3b293a15e4014f88d412c4290a90e192\")>"
      ]
     },
     "execution_count": 3,
     "metadata": {},
     "output_type": "execute_result"
    }
   ],
   "source": [
    "#let's connect to webdriver\n",
    "driver=webdriver.Chrome(r\"C:/Users/sumit/Downloads/chromedriver_win32/chromedriver\")\n",
    "driver"
   ]
  },
  {
   "cell_type": "code",
   "execution_count": 4,
   "metadata": {},
   "outputs": [],
   "source": [
    "driver=webdriver.Chrome(\"chromedriver\")\n"
   ]
  },
  {
   "cell_type": "markdown",
   "metadata": {},
   "source": [
    "# ANS.1"
   ]
  },
  {
   "cell_type": "code",
   "execution_count": 6,
   "metadata": {},
   "outputs": [],
   "source": [
    "url=\"https://www.naukri.com/\"\n",
    "driver.get(url)"
   ]
  },
  {
   "cell_type": "code",
   "execution_count": 7,
   "metadata": {},
   "outputs": [
    {
     "data": {
      "text/plain": [
       "<selenium.webdriver.remote.webelement.WebElement (session=\"0432dd3cd251bc4fa0fcc16ff29a1093\", element=\"aa8120a2-b97f-445b-be6f-3f9263bd6e30\")>"
      ]
     },
     "execution_count": 7,
     "metadata": {},
     "output_type": "execute_result"
    }
   ],
   "source": [
    "search_job=driver.find_element_by_class_name(\"suggestor-input\")\n",
    "search_job"
   ]
  },
  {
   "cell_type": "code",
   "execution_count": 8,
   "metadata": {},
   "outputs": [],
   "source": [
    "search_job.send_keys(\"data analyst\")"
   ]
  },
  {
   "cell_type": "code",
   "execution_count": 9,
   "metadata": {},
   "outputs": [
    {
     "data": {
      "text/plain": [
       "<selenium.webdriver.remote.webelement.WebElement (session=\"0432dd3cd251bc4fa0fcc16ff29a1093\", element=\"1bfd7cfd-b5c3-4699-b681-959a661c9492\")>"
      ]
     },
     "execution_count": 9,
     "metadata": {},
     "output_type": "execute_result"
    }
   ],
   "source": [
    "search_location=driver.find_element_by_xpath(\"/html/body/div/div[2]/div[3]/div/div/div[3]/div/div/div/input\")\n",
    "search_location"
   ]
  },
  {
   "cell_type": "code",
   "execution_count": 10,
   "metadata": {},
   "outputs": [],
   "source": [
    "search_location.send_keys(\"Banglore\")"
   ]
  },
  {
   "cell_type": "code",
   "execution_count": 11,
   "metadata": {},
   "outputs": [
    {
     "data": {
      "text/plain": [
       "<selenium.webdriver.remote.webelement.WebElement (session=\"0432dd3cd251bc4fa0fcc16ff29a1093\", element=\"fe167995-a337-428d-8bc9-8fd2257ec223\")>"
      ]
     },
     "execution_count": 11,
     "metadata": {},
     "output_type": "execute_result"
    }
   ],
   "source": [
    "search_button=driver.find_element_by_xpath(\"/html/body/div/div[2]/div[3]/div/div/div[6]\")\n",
    "search_button"
   ]
  },
  {
   "cell_type": "code",
   "execution_count": 12,
   "metadata": {},
   "outputs": [],
   "source": [
    "search_button.click()"
   ]
  },
  {
   "cell_type": "code",
   "execution_count": 17,
   "metadata": {},
   "outputs": [
    {
     "data": {
      "text/plain": [
       "[<selenium.webdriver.remote.webelement.WebElement (session=\"0432dd3cd251bc4fa0fcc16ff29a1093\", element=\"471d04c9-3dec-4dab-af2a-b6c9151759e6\")>,\n",
       " <selenium.webdriver.remote.webelement.WebElement (session=\"0432dd3cd251bc4fa0fcc16ff29a1093\", element=\"3baaac5d-e601-4a56-880d-1745e29a1dad\")>,\n",
       " <selenium.webdriver.remote.webelement.WebElement (session=\"0432dd3cd251bc4fa0fcc16ff29a1093\", element=\"96da2cbb-f336-4d4a-982e-375bf55af737\")>,\n",
       " <selenium.webdriver.remote.webelement.WebElement (session=\"0432dd3cd251bc4fa0fcc16ff29a1093\", element=\"ef0358f7-1a23-4bcb-b944-7ce803437b2d\")>,\n",
       " <selenium.webdriver.remote.webelement.WebElement (session=\"0432dd3cd251bc4fa0fcc16ff29a1093\", element=\"d76768fa-b0fd-41c9-ba64-ae3a6370f409\")>,\n",
       " <selenium.webdriver.remote.webelement.WebElement (session=\"0432dd3cd251bc4fa0fcc16ff29a1093\", element=\"f7a1410a-95ed-42da-afa9-5a748fb5c0fd\")>,\n",
       " <selenium.webdriver.remote.webelement.WebElement (session=\"0432dd3cd251bc4fa0fcc16ff29a1093\", element=\"e3b87b66-2cf5-4e0e-8f85-85131ea54b3e\")>,\n",
       " <selenium.webdriver.remote.webelement.WebElement (session=\"0432dd3cd251bc4fa0fcc16ff29a1093\", element=\"277575ef-2fec-4eed-a80e-a4ed0b0da4f3\")>,\n",
       " <selenium.webdriver.remote.webelement.WebElement (session=\"0432dd3cd251bc4fa0fcc16ff29a1093\", element=\"bf9586aa-46e9-4f2e-a1c4-1a50db07fef6\")>,\n",
       " <selenium.webdriver.remote.webelement.WebElement (session=\"0432dd3cd251bc4fa0fcc16ff29a1093\", element=\"084d3950-46f0-4f63-a032-2d542a4ddd8a\")>,\n",
       " <selenium.webdriver.remote.webelement.WebElement (session=\"0432dd3cd251bc4fa0fcc16ff29a1093\", element=\"74556933-b1f4-42b5-b184-2e77c4a31b47\")>,\n",
       " <selenium.webdriver.remote.webelement.WebElement (session=\"0432dd3cd251bc4fa0fcc16ff29a1093\", element=\"670e48e9-0be8-4905-ab5f-5ba19ff11e9d\")>,\n",
       " <selenium.webdriver.remote.webelement.WebElement (session=\"0432dd3cd251bc4fa0fcc16ff29a1093\", element=\"1bb87cb7-f975-46a4-b3ab-e2fb34766ec6\")>,\n",
       " <selenium.webdriver.remote.webelement.WebElement (session=\"0432dd3cd251bc4fa0fcc16ff29a1093\", element=\"d65b89e7-c27a-4d26-8d94-9993d2c124eb\")>,\n",
       " <selenium.webdriver.remote.webelement.WebElement (session=\"0432dd3cd251bc4fa0fcc16ff29a1093\", element=\"78c3e89d-2358-487c-a3bb-5be3090321a5\")>,\n",
       " <selenium.webdriver.remote.webelement.WebElement (session=\"0432dd3cd251bc4fa0fcc16ff29a1093\", element=\"12029395-166f-48c6-87e8-9d7528affa82\")>,\n",
       " <selenium.webdriver.remote.webelement.WebElement (session=\"0432dd3cd251bc4fa0fcc16ff29a1093\", element=\"f10af4c3-566c-42ab-b55f-b2cf2c93fbda\")>,\n",
       " <selenium.webdriver.remote.webelement.WebElement (session=\"0432dd3cd251bc4fa0fcc16ff29a1093\", element=\"d8783469-40fc-42fd-b15d-7083833e630b\")>,\n",
       " <selenium.webdriver.remote.webelement.WebElement (session=\"0432dd3cd251bc4fa0fcc16ff29a1093\", element=\"358e489d-5e7c-4bc6-90b3-7a7b9e8f0161\")>,\n",
       " <selenium.webdriver.remote.webelement.WebElement (session=\"0432dd3cd251bc4fa0fcc16ff29a1093\", element=\"7341c16f-58bb-44ed-b790-a7c4df74c5f3\")>]"
      ]
     },
     "execution_count": 17,
     "metadata": {},
     "output_type": "execute_result"
    }
   ],
   "source": [
    "#EXTRACTING JOB TITLES\n",
    "TITLE=driver.find_elements_by_xpath('//a[@class=\"title fw500 ellipsis\"]')\n",
    "TITLE"
   ]
  },
  {
   "cell_type": "code",
   "execution_count": 18,
   "metadata": {},
   "outputs": [
    {
     "data": {
      "text/plain": [
       "['Senior Data Analyst II',\n",
       " 'Data Scientist/ Data Analyst',\n",
       " 'MDM - Data Analyst',\n",
       " 'Senior Data analyst (Azure / MDM)',\n",
       " 'Data Analyst I',\n",
       " 'Senior Data Analyst II',\n",
       " 'Hiring Data Analyst (L6)',\n",
       " 'Hiring Data Analyst (L5)',\n",
       " 'Hiring For Data Analyst I(SQL & Python)',\n",
       " 'Data Analyst - EdTech']"
      ]
     },
     "execution_count": 18,
     "metadata": {},
     "output_type": "execute_result"
    }
   ],
   "source": [
    "title=[]\n",
    "for i in TITLE:\n",
    "    title.append(i.text)\n",
    "title[0:10]\n"
   ]
  },
  {
   "cell_type": "code",
   "execution_count": 23,
   "metadata": {},
   "outputs": [
    {
     "data": {
      "text/plain": [
       "[<selenium.webdriver.remote.webelement.WebElement (session=\"0432dd3cd251bc4fa0fcc16ff29a1093\", element=\"ca79e2ea-3ea5-4c65-b75d-fb96dcf54110\")>,\n",
       " <selenium.webdriver.remote.webelement.WebElement (session=\"0432dd3cd251bc4fa0fcc16ff29a1093\", element=\"7518bfc6-14bf-45e1-b8af-a85d78da51e2\")>,\n",
       " <selenium.webdriver.remote.webelement.WebElement (session=\"0432dd3cd251bc4fa0fcc16ff29a1093\", element=\"725820bf-5062-4c6a-a20c-20022627cec0\")>,\n",
       " <selenium.webdriver.remote.webelement.WebElement (session=\"0432dd3cd251bc4fa0fcc16ff29a1093\", element=\"2f3bece6-1fd8-46f8-bb12-34dd97a461b9\")>,\n",
       " <selenium.webdriver.remote.webelement.WebElement (session=\"0432dd3cd251bc4fa0fcc16ff29a1093\", element=\"57d1e362-7d1d-424d-9998-ca7b5a8c5741\")>,\n",
       " <selenium.webdriver.remote.webelement.WebElement (session=\"0432dd3cd251bc4fa0fcc16ff29a1093\", element=\"4250166d-90e9-4302-ae89-ee171dfbeefa\")>,\n",
       " <selenium.webdriver.remote.webelement.WebElement (session=\"0432dd3cd251bc4fa0fcc16ff29a1093\", element=\"d0f927f4-1720-4b9d-8197-e3b0e2cf8df7\")>,\n",
       " <selenium.webdriver.remote.webelement.WebElement (session=\"0432dd3cd251bc4fa0fcc16ff29a1093\", element=\"7160cc0e-2128-4dc7-acc3-1ce7960df715\")>,\n",
       " <selenium.webdriver.remote.webelement.WebElement (session=\"0432dd3cd251bc4fa0fcc16ff29a1093\", element=\"a267b000-b80e-42a7-835d-e55d462aae8b\")>,\n",
       " <selenium.webdriver.remote.webelement.WebElement (session=\"0432dd3cd251bc4fa0fcc16ff29a1093\", element=\"6285a80b-0bf1-432c-aaaf-077a11fd3020\")>,\n",
       " <selenium.webdriver.remote.webelement.WebElement (session=\"0432dd3cd251bc4fa0fcc16ff29a1093\", element=\"d4d8dba0-39d4-4c88-820e-aa3ef7f7427a\")>,\n",
       " <selenium.webdriver.remote.webelement.WebElement (session=\"0432dd3cd251bc4fa0fcc16ff29a1093\", element=\"11bb9e3b-a6cf-47d4-8ef3-0d5580358292\")>,\n",
       " <selenium.webdriver.remote.webelement.WebElement (session=\"0432dd3cd251bc4fa0fcc16ff29a1093\", element=\"3f235f5d-5dee-4763-bc85-76a82ce088fc\")>,\n",
       " <selenium.webdriver.remote.webelement.WebElement (session=\"0432dd3cd251bc4fa0fcc16ff29a1093\", element=\"b8a06b0a-cc00-4884-9df7-5d853b51ed9a\")>,\n",
       " <selenium.webdriver.remote.webelement.WebElement (session=\"0432dd3cd251bc4fa0fcc16ff29a1093\", element=\"4d045d6e-f861-4295-8623-b5b054b20fb6\")>,\n",
       " <selenium.webdriver.remote.webelement.WebElement (session=\"0432dd3cd251bc4fa0fcc16ff29a1093\", element=\"847229a0-4b32-4c5c-b11f-defb8e90484d\")>,\n",
       " <selenium.webdriver.remote.webelement.WebElement (session=\"0432dd3cd251bc4fa0fcc16ff29a1093\", element=\"f3609e7d-b226-46aa-9887-05254954d2c5\")>,\n",
       " <selenium.webdriver.remote.webelement.WebElement (session=\"0432dd3cd251bc4fa0fcc16ff29a1093\", element=\"656779e5-6900-4154-b35a-5ec80f835b4f\")>,\n",
       " <selenium.webdriver.remote.webelement.WebElement (session=\"0432dd3cd251bc4fa0fcc16ff29a1093\", element=\"a4374a14-2139-4cb9-8f40-9f25dae09969\")>,\n",
       " <selenium.webdriver.remote.webelement.WebElement (session=\"0432dd3cd251bc4fa0fcc16ff29a1093\", element=\"0f9978b8-f5eb-4930-9ecb-c33fd7f40a2f\")>]"
      ]
     },
     "execution_count": 23,
     "metadata": {},
     "output_type": "execute_result"
    }
   ],
   "source": [
    "#EXTRACTING JOB LOCATION\n",
    "LOCATION=driver.find_elements_by_xpath('//li[@class=\"fleft grey-text br2 placeHolderLi location\"]')\n",
    "LOCATION"
   ]
  },
  {
   "cell_type": "code",
   "execution_count": 27,
   "metadata": {},
   "outputs": [
    {
     "data": {
      "text/plain": [
       "['Bangalore/Bengaluru',\n",
       " 'Noida, Hyderabad/Secunderabad, Bangalore/Bengaluru',\n",
       " 'Bangalore/Bengaluru',\n",
       " 'Hyderabad/Secunderabad, Gurgaon/Gurugram, Bangalore/Bengaluru\\n(WFH during Covid)',\n",
       " 'Bangalore/Bengaluru',\n",
       " 'Bangalore/Bengaluru',\n",
       " 'Bangalore/Bengaluru\\n(WFH during Covid)',\n",
       " 'Bangalore/Bengaluru\\n(WFH during Covid)',\n",
       " 'Bangalore/Bengaluru',\n",
       " 'Bangalore/Bengaluru']"
      ]
     },
     "execution_count": 27,
     "metadata": {},
     "output_type": "execute_result"
    }
   ],
   "source": [
    "location=[]\n",
    "for i in LOCATION:\n",
    "    location.append(i.text)\n",
    "location[0:10]"
   ]
  },
  {
   "cell_type": "code",
   "execution_count": 31,
   "metadata": {},
   "outputs": [
    {
     "data": {
      "text/plain": [
       "[<selenium.webdriver.remote.webelement.WebElement (session=\"0432dd3cd251bc4fa0fcc16ff29a1093\", element=\"1fb8b433-8818-4af6-8bea-7a743a095e71\")>,\n",
       " <selenium.webdriver.remote.webelement.WebElement (session=\"0432dd3cd251bc4fa0fcc16ff29a1093\", element=\"1718985f-156b-4fdd-a681-8565e5a97c0a\")>,\n",
       " <selenium.webdriver.remote.webelement.WebElement (session=\"0432dd3cd251bc4fa0fcc16ff29a1093\", element=\"d2a0a991-69e8-4730-8f6f-797a15973a1a\")>,\n",
       " <selenium.webdriver.remote.webelement.WebElement (session=\"0432dd3cd251bc4fa0fcc16ff29a1093\", element=\"b62e563b-6a93-470f-9966-9f49dad14dc5\")>,\n",
       " <selenium.webdriver.remote.webelement.WebElement (session=\"0432dd3cd251bc4fa0fcc16ff29a1093\", element=\"e23b1313-04c8-48c5-94a6-74294a11996a\")>,\n",
       " <selenium.webdriver.remote.webelement.WebElement (session=\"0432dd3cd251bc4fa0fcc16ff29a1093\", element=\"74c42e92-dd28-473c-811d-b4a2c2d9de73\")>,\n",
       " <selenium.webdriver.remote.webelement.WebElement (session=\"0432dd3cd251bc4fa0fcc16ff29a1093\", element=\"6f8c99ec-a021-4667-bb77-4afdec251266\")>,\n",
       " <selenium.webdriver.remote.webelement.WebElement (session=\"0432dd3cd251bc4fa0fcc16ff29a1093\", element=\"5252b272-7ab8-4c93-8cc0-0e027a705be4\")>,\n",
       " <selenium.webdriver.remote.webelement.WebElement (session=\"0432dd3cd251bc4fa0fcc16ff29a1093\", element=\"0a0d87a4-ba64-4e2c-930d-273a0745f493\")>,\n",
       " <selenium.webdriver.remote.webelement.WebElement (session=\"0432dd3cd251bc4fa0fcc16ff29a1093\", element=\"112ac556-3420-42f8-a87b-e3d27e1c7cef\")>,\n",
       " <selenium.webdriver.remote.webelement.WebElement (session=\"0432dd3cd251bc4fa0fcc16ff29a1093\", element=\"fba79e3b-c13d-4599-86ea-ea1b541d51f4\")>,\n",
       " <selenium.webdriver.remote.webelement.WebElement (session=\"0432dd3cd251bc4fa0fcc16ff29a1093\", element=\"242c4cc1-6384-49f0-917b-70942f45b73f\")>,\n",
       " <selenium.webdriver.remote.webelement.WebElement (session=\"0432dd3cd251bc4fa0fcc16ff29a1093\", element=\"cd85b065-58f2-4b20-9ffc-5726387e5708\")>,\n",
       " <selenium.webdriver.remote.webelement.WebElement (session=\"0432dd3cd251bc4fa0fcc16ff29a1093\", element=\"c83fa8ff-0dae-4f38-8b22-0c66a122cbdc\")>,\n",
       " <selenium.webdriver.remote.webelement.WebElement (session=\"0432dd3cd251bc4fa0fcc16ff29a1093\", element=\"00bff58f-9a99-4e4e-92a7-652c78264706\")>,\n",
       " <selenium.webdriver.remote.webelement.WebElement (session=\"0432dd3cd251bc4fa0fcc16ff29a1093\", element=\"d17d10d9-84a9-46e2-a941-ee39927ec3f1\")>,\n",
       " <selenium.webdriver.remote.webelement.WebElement (session=\"0432dd3cd251bc4fa0fcc16ff29a1093\", element=\"c2f23584-758f-4195-9ca4-4b352741eb2e\")>,\n",
       " <selenium.webdriver.remote.webelement.WebElement (session=\"0432dd3cd251bc4fa0fcc16ff29a1093\", element=\"af8004b4-83f2-44c2-aa59-277e196517ea\")>,\n",
       " <selenium.webdriver.remote.webelement.WebElement (session=\"0432dd3cd251bc4fa0fcc16ff29a1093\", element=\"027d550d-0cf7-4f73-a1cb-c30878f6485f\")>,\n",
       " <selenium.webdriver.remote.webelement.WebElement (session=\"0432dd3cd251bc4fa0fcc16ff29a1093\", element=\"b40a9357-ef80-4daf-88df-cc94cc23e9de\")>]"
      ]
     },
     "execution_count": 31,
     "metadata": {},
     "output_type": "execute_result"
    }
   ],
   "source": [
    "#EXTRACTING EXPERIENCE\n",
    "EXPERIENCE=driver.find_elements_by_xpath('//li[@class=\"fleft grey-text br2 placeHolderLi experience\"]')\n",
    "EXPERIENCE"
   ]
  },
  {
   "cell_type": "code",
   "execution_count": 33,
   "metadata": {},
   "outputs": [
    {
     "data": {
      "text/plain": [
       "['2-4 Yrs',\n",
       " '5-6 Yrs',\n",
       " '4-9 Yrs',\n",
       " '4-7 Yrs',\n",
       " '5-10 Yrs',\n",
       " '3-6 Yrs',\n",
       " '9-14 Yrs',\n",
       " '5-10 Yrs',\n",
       " '0-2 Yrs',\n",
       " '2-6 Yrs']"
      ]
     },
     "execution_count": 33,
     "metadata": {},
     "output_type": "execute_result"
    }
   ],
   "source": [
    "experience=[]\n",
    "for i in EXPERIENCE:\n",
    "    experience.append(i.text)\n",
    "experience[0:10]"
   ]
  },
  {
   "cell_type": "code",
   "execution_count": 34,
   "metadata": {},
   "outputs": [
    {
     "data": {
      "text/plain": [
       "[<selenium.webdriver.remote.webelement.WebElement (session=\"0432dd3cd251bc4fa0fcc16ff29a1093\", element=\"245e61f7-4c26-45cc-a729-784444de3635\")>,\n",
       " <selenium.webdriver.remote.webelement.WebElement (session=\"0432dd3cd251bc4fa0fcc16ff29a1093\", element=\"173ddcb2-5527-4b63-8c17-0ae5038130c2\")>,\n",
       " <selenium.webdriver.remote.webelement.WebElement (session=\"0432dd3cd251bc4fa0fcc16ff29a1093\", element=\"328217c8-1387-4a70-aa1d-7f4a2e6b9f52\")>,\n",
       " <selenium.webdriver.remote.webelement.WebElement (session=\"0432dd3cd251bc4fa0fcc16ff29a1093\", element=\"d82d4dc9-fb9c-445e-9a9c-0f4bcff17c68\")>,\n",
       " <selenium.webdriver.remote.webelement.WebElement (session=\"0432dd3cd251bc4fa0fcc16ff29a1093\", element=\"2eee6cda-2fcf-4a1d-b889-bea75c4a3725\")>,\n",
       " <selenium.webdriver.remote.webelement.WebElement (session=\"0432dd3cd251bc4fa0fcc16ff29a1093\", element=\"68032447-ad6c-49f1-888a-88f429a66522\")>,\n",
       " <selenium.webdriver.remote.webelement.WebElement (session=\"0432dd3cd251bc4fa0fcc16ff29a1093\", element=\"201f082f-57ee-49ca-9de2-0bbb7745147f\")>,\n",
       " <selenium.webdriver.remote.webelement.WebElement (session=\"0432dd3cd251bc4fa0fcc16ff29a1093\", element=\"d0524c9a-60c4-4f48-ac10-5e5e3afa2d32\")>,\n",
       " <selenium.webdriver.remote.webelement.WebElement (session=\"0432dd3cd251bc4fa0fcc16ff29a1093\", element=\"0c9c9f1f-c239-4837-8b86-d47fb6547545\")>,\n",
       " <selenium.webdriver.remote.webelement.WebElement (session=\"0432dd3cd251bc4fa0fcc16ff29a1093\", element=\"8b2a4848-6eca-44c4-908a-165b4abe79ac\")>,\n",
       " <selenium.webdriver.remote.webelement.WebElement (session=\"0432dd3cd251bc4fa0fcc16ff29a1093\", element=\"cb35ff9d-5ffc-488f-8474-970559ca480d\")>,\n",
       " <selenium.webdriver.remote.webelement.WebElement (session=\"0432dd3cd251bc4fa0fcc16ff29a1093\", element=\"dc25008d-12ae-4fda-a427-49164d1367aa\")>,\n",
       " <selenium.webdriver.remote.webelement.WebElement (session=\"0432dd3cd251bc4fa0fcc16ff29a1093\", element=\"73266ff3-c308-4a37-86f3-d033bc2f06a1\")>,\n",
       " <selenium.webdriver.remote.webelement.WebElement (session=\"0432dd3cd251bc4fa0fcc16ff29a1093\", element=\"75bf34bd-f616-4620-9ddb-f22d6f843cfa\")>,\n",
       " <selenium.webdriver.remote.webelement.WebElement (session=\"0432dd3cd251bc4fa0fcc16ff29a1093\", element=\"d57b63a3-b559-4266-8b91-80718f8e16de\")>,\n",
       " <selenium.webdriver.remote.webelement.WebElement (session=\"0432dd3cd251bc4fa0fcc16ff29a1093\", element=\"c14d0ffc-6276-446b-829c-ccb1a9d05a5d\")>,\n",
       " <selenium.webdriver.remote.webelement.WebElement (session=\"0432dd3cd251bc4fa0fcc16ff29a1093\", element=\"78d24b38-ac2d-41f5-984e-3af4d21a08ba\")>,\n",
       " <selenium.webdriver.remote.webelement.WebElement (session=\"0432dd3cd251bc4fa0fcc16ff29a1093\", element=\"10139769-f9a4-41bd-99fd-f75139ede2b2\")>,\n",
       " <selenium.webdriver.remote.webelement.WebElement (session=\"0432dd3cd251bc4fa0fcc16ff29a1093\", element=\"a20005a8-abc0-42ae-aaf2-499fa401e1b7\")>,\n",
       " <selenium.webdriver.remote.webelement.WebElement (session=\"0432dd3cd251bc4fa0fcc16ff29a1093\", element=\"de7ce438-e8cd-418a-993f-6bd029384bdf\")>]"
      ]
     },
     "execution_count": 34,
     "metadata": {},
     "output_type": "execute_result"
    }
   ],
   "source": [
    "#EXTRACTING  COMPANY NAME\n",
    "NAME=driver.find_elements_by_xpath('//a[@class=\"subTitle ellipsis fleft\"]')\n",
    "NAME"
   ]
  },
  {
   "cell_type": "code",
   "execution_count": 35,
   "metadata": {},
   "outputs": [
    {
     "data": {
      "text/plain": [
       "['Flipkart',\n",
       " 'JK Technosoft',\n",
       " 'Shell',\n",
       " 'Syneos Health',\n",
       " 'Cerner',\n",
       " 'Flipkart',\n",
       " 'Born Commerce',\n",
       " 'Born Commerce',\n",
       " 'Clario India Pvt Ltd',\n",
       " 'TalentStack']"
      ]
     },
     "execution_count": 35,
     "metadata": {},
     "output_type": "execute_result"
    }
   ],
   "source": [
    "name=[]\n",
    "for i in NAME:\n",
    "    name.append(i.text)\n",
    "name[0:10]"
   ]
  },
  {
   "cell_type": "code",
   "execution_count": 36,
   "metadata": {},
   "outputs": [],
   "source": [
    "title=title[0:10]\n",
    "location=location[0:10]\n",
    "name=name[0:10]\n",
    "experience=experience[0:10]"
   ]
  },
  {
   "cell_type": "code",
   "execution_count": 37,
   "metadata": {},
   "outputs": [],
   "source": [
    "JOB=pd.DataFrame()\n",
    "JOB[\"TITLE\"]=title\n",
    "JOB['COMPANY LOCATION']=location\n",
    "JOB[\"COMPANY NAME\"]=name\n",
    "JOB[\"EXPERIENCE REQUIRED\"]=experience"
   ]
  },
  {
   "cell_type": "code",
   "execution_count": 38,
   "metadata": {},
   "outputs": [
    {
     "data": {
      "text/html": [
       "<div>\n",
       "<style scoped>\n",
       "    .dataframe tbody tr th:only-of-type {\n",
       "        vertical-align: middle;\n",
       "    }\n",
       "\n",
       "    .dataframe tbody tr th {\n",
       "        vertical-align: top;\n",
       "    }\n",
       "\n",
       "    .dataframe thead th {\n",
       "        text-align: right;\n",
       "    }\n",
       "</style>\n",
       "<table border=\"1\" class=\"dataframe\">\n",
       "  <thead>\n",
       "    <tr style=\"text-align: right;\">\n",
       "      <th></th>\n",
       "      <th>TITLE</th>\n",
       "      <th>COMPANY LOCATION</th>\n",
       "      <th>COMPANY NAME</th>\n",
       "      <th>EXPERIENCE REQUIRED</th>\n",
       "    </tr>\n",
       "  </thead>\n",
       "  <tbody>\n",
       "    <tr>\n",
       "      <th>0</th>\n",
       "      <td>Senior Data Analyst II</td>\n",
       "      <td>Bangalore/Bengaluru</td>\n",
       "      <td>Flipkart</td>\n",
       "      <td>2-4 Yrs</td>\n",
       "    </tr>\n",
       "    <tr>\n",
       "      <th>1</th>\n",
       "      <td>Data Scientist/ Data Analyst</td>\n",
       "      <td>Noida, Hyderabad/Secunderabad, Bangalore/Benga...</td>\n",
       "      <td>JK Technosoft</td>\n",
       "      <td>5-6 Yrs</td>\n",
       "    </tr>\n",
       "    <tr>\n",
       "      <th>2</th>\n",
       "      <td>MDM - Data Analyst</td>\n",
       "      <td>Bangalore/Bengaluru</td>\n",
       "      <td>Shell</td>\n",
       "      <td>4-9 Yrs</td>\n",
       "    </tr>\n",
       "    <tr>\n",
       "      <th>3</th>\n",
       "      <td>Senior Data analyst (Azure / MDM)</td>\n",
       "      <td>Hyderabad/Secunderabad, Gurgaon/Gurugram, Bang...</td>\n",
       "      <td>Syneos Health</td>\n",
       "      <td>4-7 Yrs</td>\n",
       "    </tr>\n",
       "    <tr>\n",
       "      <th>4</th>\n",
       "      <td>Data Analyst I</td>\n",
       "      <td>Bangalore/Bengaluru</td>\n",
       "      <td>Cerner</td>\n",
       "      <td>5-10 Yrs</td>\n",
       "    </tr>\n",
       "    <tr>\n",
       "      <th>5</th>\n",
       "      <td>Senior Data Analyst II</td>\n",
       "      <td>Bangalore/Bengaluru</td>\n",
       "      <td>Flipkart</td>\n",
       "      <td>3-6 Yrs</td>\n",
       "    </tr>\n",
       "    <tr>\n",
       "      <th>6</th>\n",
       "      <td>Hiring Data Analyst (L6)</td>\n",
       "      <td>Bangalore/Bengaluru\\n(WFH during Covid)</td>\n",
       "      <td>Born Commerce</td>\n",
       "      <td>9-14 Yrs</td>\n",
       "    </tr>\n",
       "    <tr>\n",
       "      <th>7</th>\n",
       "      <td>Hiring Data Analyst (L5)</td>\n",
       "      <td>Bangalore/Bengaluru\\n(WFH during Covid)</td>\n",
       "      <td>Born Commerce</td>\n",
       "      <td>5-10 Yrs</td>\n",
       "    </tr>\n",
       "    <tr>\n",
       "      <th>8</th>\n",
       "      <td>Hiring For Data Analyst I(SQL &amp; Python)</td>\n",
       "      <td>Bangalore/Bengaluru</td>\n",
       "      <td>Clario India Pvt Ltd</td>\n",
       "      <td>0-2 Yrs</td>\n",
       "    </tr>\n",
       "    <tr>\n",
       "      <th>9</th>\n",
       "      <td>Data Analyst - EdTech</td>\n",
       "      <td>Bangalore/Bengaluru</td>\n",
       "      <td>TalentStack</td>\n",
       "      <td>2-6 Yrs</td>\n",
       "    </tr>\n",
       "  </tbody>\n",
       "</table>\n",
       "</div>"
      ],
      "text/plain": [
       "                                     TITLE  \\\n",
       "0                   Senior Data Analyst II   \n",
       "1             Data Scientist/ Data Analyst   \n",
       "2                       MDM - Data Analyst   \n",
       "3        Senior Data analyst (Azure / MDM)   \n",
       "4                           Data Analyst I   \n",
       "5                   Senior Data Analyst II   \n",
       "6                 Hiring Data Analyst (L6)   \n",
       "7                 Hiring Data Analyst (L5)   \n",
       "8  Hiring For Data Analyst I(SQL & Python)   \n",
       "9                    Data Analyst - EdTech   \n",
       "\n",
       "                                    COMPANY LOCATION          COMPANY NAME  \\\n",
       "0                                Bangalore/Bengaluru              Flipkart   \n",
       "1  Noida, Hyderabad/Secunderabad, Bangalore/Benga...         JK Technosoft   \n",
       "2                                Bangalore/Bengaluru                 Shell   \n",
       "3  Hyderabad/Secunderabad, Gurgaon/Gurugram, Bang...         Syneos Health   \n",
       "4                                Bangalore/Bengaluru                Cerner   \n",
       "5                                Bangalore/Bengaluru              Flipkart   \n",
       "6            Bangalore/Bengaluru\\n(WFH during Covid)         Born Commerce   \n",
       "7            Bangalore/Bengaluru\\n(WFH during Covid)         Born Commerce   \n",
       "8                                Bangalore/Bengaluru  Clario India Pvt Ltd   \n",
       "9                                Bangalore/Bengaluru           TalentStack   \n",
       "\n",
       "  EXPERIENCE REQUIRED  \n",
       "0             2-4 Yrs  \n",
       "1             5-6 Yrs  \n",
       "2             4-9 Yrs  \n",
       "3             4-7 Yrs  \n",
       "4            5-10 Yrs  \n",
       "5             3-6 Yrs  \n",
       "6            9-14 Yrs  \n",
       "7            5-10 Yrs  \n",
       "8             0-2 Yrs  \n",
       "9             2-6 Yrs  "
      ]
     },
     "execution_count": 38,
     "metadata": {},
     "output_type": "execute_result"
    }
   ],
   "source": [
    "JOB"
   ]
  },
  {
   "cell_type": "markdown",
   "metadata": {},
   "source": [
    "# ANS.2-"
   ]
  },
  {
   "cell_type": "code",
   "execution_count": 4,
   "metadata": {},
   "outputs": [
    {
     "data": {
      "text/plain": [
       "<selenium.webdriver.chrome.webdriver.WebDriver (session=\"683e0abd8badca7fc95c1c800c8974ee\")>"
      ]
     },
     "execution_count": 4,
     "metadata": {},
     "output_type": "execute_result"
    }
   ],
   "source": [
    "driver=webdriver.Chrome(r\"C:/Users/sumit/Downloads/chromedriver_win32/chromedriver\")\n",
    "driver"
   ]
  },
  {
   "cell_type": "code",
   "execution_count": 5,
   "metadata": {},
   "outputs": [],
   "source": [
    "driver=webdriver.Chrome(\"chromedriver\")"
   ]
  },
  {
   "cell_type": "code",
   "execution_count": 6,
   "metadata": {},
   "outputs": [],
   "source": [
    "url=\"https://www.naukri.com/\"\n",
    "driver.get(url)"
   ]
  },
  {
   "cell_type": "code",
   "execution_count": 7,
   "metadata": {},
   "outputs": [],
   "source": [
    "search_job=driver.find_element_by_class_name(\"suggestor-input \")"
   ]
  },
  {
   "cell_type": "code",
   "execution_count": 8,
   "metadata": {},
   "outputs": [],
   "source": [
    "search_job.send_keys(\"Data Scientist\")"
   ]
  },
  {
   "cell_type": "code",
   "execution_count": 9,
   "metadata": {},
   "outputs": [
    {
     "data": {
      "text/plain": [
       "<selenium.webdriver.remote.webelement.WebElement (session=\"4a2078e7e0e0cd8655625b43b91662fb\", element=\"72a22813-b04b-4cb6-8418-298aae6b55b4\")>"
      ]
     },
     "execution_count": 9,
     "metadata": {},
     "output_type": "execute_result"
    }
   ],
   "source": [
    "search_lctn=driver.find_element_by_xpath(\"/html/body/div/div[2]/div[3]/div/div/div[3]/div/div/div/input\")\n",
    "search_lctn"
   ]
  },
  {
   "cell_type": "code",
   "execution_count": 11,
   "metadata": {},
   "outputs": [],
   "source": [
    "search_lctn.send_keys(\"BANGLORE\")"
   ]
  },
  {
   "cell_type": "code",
   "execution_count": 12,
   "metadata": {},
   "outputs": [
    {
     "data": {
      "text/plain": [
       "<selenium.webdriver.remote.webelement.WebElement (session=\"4a2078e7e0e0cd8655625b43b91662fb\", element=\"037c0f16-782b-45da-837a-64ff61ecd789\")>"
      ]
     },
     "execution_count": 12,
     "metadata": {},
     "output_type": "execute_result"
    }
   ],
   "source": [
    "search_button=driver.find_element_by_xpath(\"/html/body/div/div[2]/div[3]/div/div/div[6]\")\n",
    "search_button"
   ]
  },
  {
   "cell_type": "code",
   "execution_count": 16,
   "metadata": {},
   "outputs": [
    {
     "ename": "StaleElementReferenceException",
     "evalue": "Message: stale element reference: element is not attached to the page document\n  (Session info: chrome=99.0.4844.82)\nStacktrace:\nBacktrace:\n\tOrdinal0 [0x01059943+2595139]\n\tOrdinal0 [0x00FEC9F1+2148849]\n\tOrdinal0 [0x00EE4528+1066280]\n\tOrdinal0 [0x00EE6E04+1076740]\n\tOrdinal0 [0x00EE6CBE+1076414]\n\tOrdinal0 [0x00EE6F50+1077072]\n\tOrdinal0 [0x00F1290C+1255692]\n\tOrdinal0 [0x00F079D6+1210838]\n\tOrdinal0 [0x00F2B9EC+1358316]\n\tOrdinal0 [0x00F07474+1209460]\n\tOrdinal0 [0x00F2BC04+1358852]\n\tOrdinal0 [0x00F3BAF2+1424114]\n\tOrdinal0 [0x00F2B806+1357830]\n\tOrdinal0 [0x00F06086+1204358]\n\tOrdinal0 [0x00F06F96+1208214]\n\tGetHandleVerifier [0x011FB232+1658114]\n\tGetHandleVerifier [0x012B312C+2411516]\n\tGetHandleVerifier [0x010EF261+560433]\n\tGetHandleVerifier [0x010EE366+556598]\n\tOrdinal0 [0x00FF286B+2173035]\n\tOrdinal0 [0x00FF75F8+2192888]\n\tOrdinal0 [0x00FF76E5+2193125]\n\tOrdinal0 [0x010011FC+2232828]\n\tBaseThreadInitThunk [0x75AD6739+25]\n\tRtlGetFullPathName_UEx [0x77388E7F+1215]\n\tRtlGetFullPathName_UEx [0x77388E4D+1165]\n",
     "output_type": "error",
     "traceback": [
      "\u001b[1;31m---------------------------------------------------------------------------\u001b[0m",
      "\u001b[1;31mStaleElementReferenceException\u001b[0m            Traceback (most recent call last)",
      "\u001b[1;32m<ipython-input-16-3f8c40a1efc0>\u001b[0m in \u001b[0;36m<module>\u001b[1;34m\u001b[0m\n\u001b[1;32m----> 1\u001b[1;33m \u001b[0msearch_button\u001b[0m\u001b[1;33m.\u001b[0m\u001b[0mclick\u001b[0m\u001b[1;33m(\u001b[0m\u001b[1;33m)\u001b[0m\u001b[1;33m\u001b[0m\u001b[1;33m\u001b[0m\u001b[0m\n\u001b[0m",
      "\u001b[1;32m~\\anaconda3\\lib\\site-packages\\selenium\\webdriver\\remote\\webelement.py\u001b[0m in \u001b[0;36mclick\u001b[1;34m(self)\u001b[0m\n\u001b[0;32m     79\u001b[0m     \u001b[1;32mdef\u001b[0m \u001b[0mclick\u001b[0m\u001b[1;33m(\u001b[0m\u001b[0mself\u001b[0m\u001b[1;33m)\u001b[0m \u001b[1;33m->\u001b[0m \u001b[1;32mNone\u001b[0m\u001b[1;33m:\u001b[0m\u001b[1;33m\u001b[0m\u001b[1;33m\u001b[0m\u001b[0m\n\u001b[0;32m     80\u001b[0m         \u001b[1;34m\"\"\"Clicks the element.\"\"\"\u001b[0m\u001b[1;33m\u001b[0m\u001b[1;33m\u001b[0m\u001b[0m\n\u001b[1;32m---> 81\u001b[1;33m         \u001b[0mself\u001b[0m\u001b[1;33m.\u001b[0m\u001b[0m_execute\u001b[0m\u001b[1;33m(\u001b[0m\u001b[0mCommand\u001b[0m\u001b[1;33m.\u001b[0m\u001b[0mCLICK_ELEMENT\u001b[0m\u001b[1;33m)\u001b[0m\u001b[1;33m\u001b[0m\u001b[1;33m\u001b[0m\u001b[0m\n\u001b[0m\u001b[0;32m     82\u001b[0m \u001b[1;33m\u001b[0m\u001b[0m\n\u001b[0;32m     83\u001b[0m     \u001b[1;32mdef\u001b[0m \u001b[0msubmit\u001b[0m\u001b[1;33m(\u001b[0m\u001b[0mself\u001b[0m\u001b[1;33m)\u001b[0m\u001b[1;33m:\u001b[0m\u001b[1;33m\u001b[0m\u001b[1;33m\u001b[0m\u001b[0m\n",
      "\u001b[1;32m~\\anaconda3\\lib\\site-packages\\selenium\\webdriver\\remote\\webelement.py\u001b[0m in \u001b[0;36m_execute\u001b[1;34m(self, command, params)\u001b[0m\n\u001b[0;32m    708\u001b[0m             \u001b[0mparams\u001b[0m \u001b[1;33m=\u001b[0m \u001b[1;33m{\u001b[0m\u001b[1;33m}\u001b[0m\u001b[1;33m\u001b[0m\u001b[1;33m\u001b[0m\u001b[0m\n\u001b[0;32m    709\u001b[0m         \u001b[0mparams\u001b[0m\u001b[1;33m[\u001b[0m\u001b[1;34m'id'\u001b[0m\u001b[1;33m]\u001b[0m \u001b[1;33m=\u001b[0m \u001b[0mself\u001b[0m\u001b[1;33m.\u001b[0m\u001b[0m_id\u001b[0m\u001b[1;33m\u001b[0m\u001b[1;33m\u001b[0m\u001b[0m\n\u001b[1;32m--> 710\u001b[1;33m         \u001b[1;32mreturn\u001b[0m \u001b[0mself\u001b[0m\u001b[1;33m.\u001b[0m\u001b[0m_parent\u001b[0m\u001b[1;33m.\u001b[0m\u001b[0mexecute\u001b[0m\u001b[1;33m(\u001b[0m\u001b[0mcommand\u001b[0m\u001b[1;33m,\u001b[0m \u001b[0mparams\u001b[0m\u001b[1;33m)\u001b[0m\u001b[1;33m\u001b[0m\u001b[1;33m\u001b[0m\u001b[0m\n\u001b[0m\u001b[0;32m    711\u001b[0m \u001b[1;33m\u001b[0m\u001b[0m\n\u001b[0;32m    712\u001b[0m     \u001b[1;32mdef\u001b[0m \u001b[0mfind_element\u001b[0m\u001b[1;33m(\u001b[0m\u001b[0mself\u001b[0m\u001b[1;33m,\u001b[0m \u001b[0mby\u001b[0m\u001b[1;33m=\u001b[0m\u001b[0mBy\u001b[0m\u001b[1;33m.\u001b[0m\u001b[0mID\u001b[0m\u001b[1;33m,\u001b[0m \u001b[0mvalue\u001b[0m\u001b[1;33m=\u001b[0m\u001b[1;32mNone\u001b[0m\u001b[1;33m)\u001b[0m\u001b[1;33m:\u001b[0m\u001b[1;33m\u001b[0m\u001b[1;33m\u001b[0m\u001b[0m\n",
      "\u001b[1;32m~\\anaconda3\\lib\\site-packages\\selenium\\webdriver\\remote\\webdriver.py\u001b[0m in \u001b[0;36mexecute\u001b[1;34m(self, driver_command, params)\u001b[0m\n\u001b[0;32m    423\u001b[0m         \u001b[0mresponse\u001b[0m \u001b[1;33m=\u001b[0m \u001b[0mself\u001b[0m\u001b[1;33m.\u001b[0m\u001b[0mcommand_executor\u001b[0m\u001b[1;33m.\u001b[0m\u001b[0mexecute\u001b[0m\u001b[1;33m(\u001b[0m\u001b[0mdriver_command\u001b[0m\u001b[1;33m,\u001b[0m \u001b[0mparams\u001b[0m\u001b[1;33m)\u001b[0m\u001b[1;33m\u001b[0m\u001b[1;33m\u001b[0m\u001b[0m\n\u001b[0;32m    424\u001b[0m         \u001b[1;32mif\u001b[0m \u001b[0mresponse\u001b[0m\u001b[1;33m:\u001b[0m\u001b[1;33m\u001b[0m\u001b[1;33m\u001b[0m\u001b[0m\n\u001b[1;32m--> 425\u001b[1;33m             \u001b[0mself\u001b[0m\u001b[1;33m.\u001b[0m\u001b[0merror_handler\u001b[0m\u001b[1;33m.\u001b[0m\u001b[0mcheck_response\u001b[0m\u001b[1;33m(\u001b[0m\u001b[0mresponse\u001b[0m\u001b[1;33m)\u001b[0m\u001b[1;33m\u001b[0m\u001b[1;33m\u001b[0m\u001b[0m\n\u001b[0m\u001b[0;32m    426\u001b[0m             response['value'] = self._unwrap_value(\n\u001b[0;32m    427\u001b[0m                 response.get('value', None))\n",
      "\u001b[1;32m~\\anaconda3\\lib\\site-packages\\selenium\\webdriver\\remote\\errorhandler.py\u001b[0m in \u001b[0;36mcheck_response\u001b[1;34m(self, response)\u001b[0m\n\u001b[0;32m    245\u001b[0m                 \u001b[0malert_text\u001b[0m \u001b[1;33m=\u001b[0m \u001b[0mvalue\u001b[0m\u001b[1;33m[\u001b[0m\u001b[1;34m'alert'\u001b[0m\u001b[1;33m]\u001b[0m\u001b[1;33m.\u001b[0m\u001b[0mget\u001b[0m\u001b[1;33m(\u001b[0m\u001b[1;34m'text'\u001b[0m\u001b[1;33m)\u001b[0m\u001b[1;33m\u001b[0m\u001b[1;33m\u001b[0m\u001b[0m\n\u001b[0;32m    246\u001b[0m             \u001b[1;32mraise\u001b[0m \u001b[0mexception_class\u001b[0m\u001b[1;33m(\u001b[0m\u001b[0mmessage\u001b[0m\u001b[1;33m,\u001b[0m \u001b[0mscreen\u001b[0m\u001b[1;33m,\u001b[0m \u001b[0mstacktrace\u001b[0m\u001b[1;33m,\u001b[0m \u001b[0malert_text\u001b[0m\u001b[1;33m)\u001b[0m  \u001b[1;31m# type: ignore[call-arg]  # mypy is not smart enough here\u001b[0m\u001b[1;33m\u001b[0m\u001b[1;33m\u001b[0m\u001b[0m\n\u001b[1;32m--> 247\u001b[1;33m         \u001b[1;32mraise\u001b[0m \u001b[0mexception_class\u001b[0m\u001b[1;33m(\u001b[0m\u001b[0mmessage\u001b[0m\u001b[1;33m,\u001b[0m \u001b[0mscreen\u001b[0m\u001b[1;33m,\u001b[0m \u001b[0mstacktrace\u001b[0m\u001b[1;33m)\u001b[0m\u001b[1;33m\u001b[0m\u001b[1;33m\u001b[0m\u001b[0m\n\u001b[0m\u001b[0;32m    248\u001b[0m \u001b[1;33m\u001b[0m\u001b[0m\n\u001b[0;32m    249\u001b[0m     \u001b[1;32mdef\u001b[0m \u001b[0m_value_or_default\u001b[0m\u001b[1;33m(\u001b[0m\u001b[0mself\u001b[0m\u001b[1;33m,\u001b[0m \u001b[0mobj\u001b[0m\u001b[1;33m:\u001b[0m \u001b[0mMapping\u001b[0m\u001b[1;33m[\u001b[0m\u001b[0m_KT\u001b[0m\u001b[1;33m,\u001b[0m \u001b[0m_VT\u001b[0m\u001b[1;33m]\u001b[0m\u001b[1;33m,\u001b[0m \u001b[0mkey\u001b[0m\u001b[1;33m:\u001b[0m \u001b[0m_KT\u001b[0m\u001b[1;33m,\u001b[0m \u001b[0mdefault\u001b[0m\u001b[1;33m:\u001b[0m \u001b[0m_VT\u001b[0m\u001b[1;33m)\u001b[0m \u001b[1;33m->\u001b[0m \u001b[0m_VT\u001b[0m\u001b[1;33m:\u001b[0m\u001b[1;33m\u001b[0m\u001b[1;33m\u001b[0m\u001b[0m\n",
      "\u001b[1;31mStaleElementReferenceException\u001b[0m: Message: stale element reference: element is not attached to the page document\n  (Session info: chrome=99.0.4844.82)\nStacktrace:\nBacktrace:\n\tOrdinal0 [0x01059943+2595139]\n\tOrdinal0 [0x00FEC9F1+2148849]\n\tOrdinal0 [0x00EE4528+1066280]\n\tOrdinal0 [0x00EE6E04+1076740]\n\tOrdinal0 [0x00EE6CBE+1076414]\n\tOrdinal0 [0x00EE6F50+1077072]\n\tOrdinal0 [0x00F1290C+1255692]\n\tOrdinal0 [0x00F079D6+1210838]\n\tOrdinal0 [0x00F2B9EC+1358316]\n\tOrdinal0 [0x00F07474+1209460]\n\tOrdinal0 [0x00F2BC04+1358852]\n\tOrdinal0 [0x00F3BAF2+1424114]\n\tOrdinal0 [0x00F2B806+1357830]\n\tOrdinal0 [0x00F06086+1204358]\n\tOrdinal0 [0x00F06F96+1208214]\n\tGetHandleVerifier [0x011FB232+1658114]\n\tGetHandleVerifier [0x012B312C+2411516]\n\tGetHandleVerifier [0x010EF261+560433]\n\tGetHandleVerifier [0x010EE366+556598]\n\tOrdinal0 [0x00FF286B+2173035]\n\tOrdinal0 [0x00FF75F8+2192888]\n\tOrdinal0 [0x00FF76E5+2193125]\n\tOrdinal0 [0x010011FC+2232828]\n\tBaseThreadInitThunk [0x75AD6739+25]\n\tRtlGetFullPathName_UEx [0x77388E7F+1215]\n\tRtlGetFullPathName_UEx [0x77388E4D+1165]\n"
     ]
    }
   ],
   "source": [
    "search_button.click()"
   ]
  },
  {
   "cell_type": "code",
   "execution_count": 29,
   "metadata": {},
   "outputs": [
    {
     "data": {
      "text/plain": [
       "[<selenium.webdriver.remote.webelement.WebElement (session=\"4a2078e7e0e0cd8655625b43b91662fb\", element=\"7b997735-7ceb-44d7-a5fe-c61fa4905a55\")>,\n",
       " <selenium.webdriver.remote.webelement.WebElement (session=\"4a2078e7e0e0cd8655625b43b91662fb\", element=\"899036a6-9c04-4b7a-ade1-cf665155854a\")>,\n",
       " <selenium.webdriver.remote.webelement.WebElement (session=\"4a2078e7e0e0cd8655625b43b91662fb\", element=\"c1aab62e-7f3d-48f3-8a51-48a0315246c4\")>,\n",
       " <selenium.webdriver.remote.webelement.WebElement (session=\"4a2078e7e0e0cd8655625b43b91662fb\", element=\"a732a52a-b57f-4196-bee2-b90d81b7f610\")>,\n",
       " <selenium.webdriver.remote.webelement.WebElement (session=\"4a2078e7e0e0cd8655625b43b91662fb\", element=\"d91f728b-4d5e-4004-8dfb-c95c36ac4415\")>,\n",
       " <selenium.webdriver.remote.webelement.WebElement (session=\"4a2078e7e0e0cd8655625b43b91662fb\", element=\"c3aec553-0942-4b62-905b-f7e6ca80defd\")>,\n",
       " <selenium.webdriver.remote.webelement.WebElement (session=\"4a2078e7e0e0cd8655625b43b91662fb\", element=\"8cb45342-8c4a-4c80-ae47-c226deb2ed36\")>,\n",
       " <selenium.webdriver.remote.webelement.WebElement (session=\"4a2078e7e0e0cd8655625b43b91662fb\", element=\"b34ef8b1-58ca-451e-b582-592ab01fa7e6\")>,\n",
       " <selenium.webdriver.remote.webelement.WebElement (session=\"4a2078e7e0e0cd8655625b43b91662fb\", element=\"5ce24e2a-816b-4c32-aca3-21276c3578a1\")>,\n",
       " <selenium.webdriver.remote.webelement.WebElement (session=\"4a2078e7e0e0cd8655625b43b91662fb\", element=\"f1480cc2-1caf-476c-9045-15631e3e4516\")>,\n",
       " <selenium.webdriver.remote.webelement.WebElement (session=\"4a2078e7e0e0cd8655625b43b91662fb\", element=\"a568dca6-1eb0-4416-b848-bbf6c753b4b3\")>,\n",
       " <selenium.webdriver.remote.webelement.WebElement (session=\"4a2078e7e0e0cd8655625b43b91662fb\", element=\"87377172-a43e-436f-9f44-2e99a72bef8e\")>,\n",
       " <selenium.webdriver.remote.webelement.WebElement (session=\"4a2078e7e0e0cd8655625b43b91662fb\", element=\"c9871cf0-7b86-4cea-8d2f-3754478d74f0\")>,\n",
       " <selenium.webdriver.remote.webelement.WebElement (session=\"4a2078e7e0e0cd8655625b43b91662fb\", element=\"fcce6f0b-8698-470b-a2b6-78a6f02de8bc\")>,\n",
       " <selenium.webdriver.remote.webelement.WebElement (session=\"4a2078e7e0e0cd8655625b43b91662fb\", element=\"66b0cbf1-a184-4404-a06b-f411b2a86436\")>,\n",
       " <selenium.webdriver.remote.webelement.WebElement (session=\"4a2078e7e0e0cd8655625b43b91662fb\", element=\"709e916a-86ce-4557-9c30-08ba06d20c29\")>,\n",
       " <selenium.webdriver.remote.webelement.WebElement (session=\"4a2078e7e0e0cd8655625b43b91662fb\", element=\"90996ac0-6dff-4a94-afdd-4e9eb7c52177\")>,\n",
       " <selenium.webdriver.remote.webelement.WebElement (session=\"4a2078e7e0e0cd8655625b43b91662fb\", element=\"3a294f9c-e651-49c0-bb3c-0a9d3277f6f1\")>,\n",
       " <selenium.webdriver.remote.webelement.WebElement (session=\"4a2078e7e0e0cd8655625b43b91662fb\", element=\"76bbf266-30d0-4b39-903f-24a2f09c54c5\")>,\n",
       " <selenium.webdriver.remote.webelement.WebElement (session=\"4a2078e7e0e0cd8655625b43b91662fb\", element=\"e9f060de-fb14-488a-a314-e57c97a09681\")>]"
      ]
     },
     "execution_count": 29,
     "metadata": {},
     "output_type": "execute_result"
    }
   ],
   "source": [
    "job_title=driver.find_elements_by_xpath('//a[@class=\"title fw500 ellipsis\"]')\n",
    "job_title"
   ]
  },
  {
   "cell_type": "code",
   "execution_count": 30,
   "metadata": {},
   "outputs": [
    {
     "data": {
      "text/plain": [
       "['Senior Data Scientist Opportunity with Flipkart Data science group',\n",
       " 'Senior NLP Data Scientist',\n",
       " 'Principal Data Scientist',\n",
       " 'Data Scientist: Artificial Intelligence',\n",
       " 'Data Scientist',\n",
       " 'Data Scientist',\n",
       " 'Data Scientist/Software Developer',\n",
       " 'Sr. Data Scientist',\n",
       " 'Senior / Principal Data Scientist',\n",
       " 'Senior Data Scientist - Speech & Text analytics']"
      ]
     },
     "execution_count": 30,
     "metadata": {},
     "output_type": "execute_result"
    }
   ],
   "source": [
    "JOB_TITLE=[]\n",
    "for i in job_title:\n",
    "    JOB_TITLE.append(i.text)\n",
    "JOB_TITLE[0:10]"
   ]
  },
  {
   "cell_type": "code",
   "execution_count": 31,
   "metadata": {},
   "outputs": [
    {
     "data": {
      "text/plain": [
       "[<selenium.webdriver.remote.webelement.WebElement (session=\"4a2078e7e0e0cd8655625b43b91662fb\", element=\"9b697e38-273a-486b-8739-aec667bfaecd\")>,\n",
       " <selenium.webdriver.remote.webelement.WebElement (session=\"4a2078e7e0e0cd8655625b43b91662fb\", element=\"317f212a-5315-49e1-aac8-5ce95220edad\")>,\n",
       " <selenium.webdriver.remote.webelement.WebElement (session=\"4a2078e7e0e0cd8655625b43b91662fb\", element=\"6f8c97d3-c8de-419c-9397-808f6f494f45\")>,\n",
       " <selenium.webdriver.remote.webelement.WebElement (session=\"4a2078e7e0e0cd8655625b43b91662fb\", element=\"71ec2a9e-3b60-429a-b5ff-988cc1d91371\")>,\n",
       " <selenium.webdriver.remote.webelement.WebElement (session=\"4a2078e7e0e0cd8655625b43b91662fb\", element=\"7228f80c-e4fc-43a3-9853-20989eed84d8\")>,\n",
       " <selenium.webdriver.remote.webelement.WebElement (session=\"4a2078e7e0e0cd8655625b43b91662fb\", element=\"4957cdd7-f182-4428-a1f0-921c78711cab\")>,\n",
       " <selenium.webdriver.remote.webelement.WebElement (session=\"4a2078e7e0e0cd8655625b43b91662fb\", element=\"89589ae5-033c-4d84-bc5b-317d43a162ae\")>,\n",
       " <selenium.webdriver.remote.webelement.WebElement (session=\"4a2078e7e0e0cd8655625b43b91662fb\", element=\"36337d2e-e21c-432c-a42e-fb983c7bbb93\")>,\n",
       " <selenium.webdriver.remote.webelement.WebElement (session=\"4a2078e7e0e0cd8655625b43b91662fb\", element=\"50050cb6-c690-4f40-946a-37a4458c5928\")>,\n",
       " <selenium.webdriver.remote.webelement.WebElement (session=\"4a2078e7e0e0cd8655625b43b91662fb\", element=\"e9b3752c-8577-4026-9de9-4dfacb91ac87\")>,\n",
       " <selenium.webdriver.remote.webelement.WebElement (session=\"4a2078e7e0e0cd8655625b43b91662fb\", element=\"370d96f6-82f3-4214-9923-99bd56727917\")>,\n",
       " <selenium.webdriver.remote.webelement.WebElement (session=\"4a2078e7e0e0cd8655625b43b91662fb\", element=\"e231e5a3-dfed-4e49-a314-403ca7f6496e\")>,\n",
       " <selenium.webdriver.remote.webelement.WebElement (session=\"4a2078e7e0e0cd8655625b43b91662fb\", element=\"29a26843-37ee-40de-a784-1cb789f49af4\")>,\n",
       " <selenium.webdriver.remote.webelement.WebElement (session=\"4a2078e7e0e0cd8655625b43b91662fb\", element=\"f6798241-37ae-4e1d-98ab-65a40b4fa64f\")>,\n",
       " <selenium.webdriver.remote.webelement.WebElement (session=\"4a2078e7e0e0cd8655625b43b91662fb\", element=\"dbfc8cdd-7e0d-4efa-8fef-16b5c2f80963\")>,\n",
       " <selenium.webdriver.remote.webelement.WebElement (session=\"4a2078e7e0e0cd8655625b43b91662fb\", element=\"53aaa1cf-7b53-45b5-bbaa-66a3dca7fabc\")>,\n",
       " <selenium.webdriver.remote.webelement.WebElement (session=\"4a2078e7e0e0cd8655625b43b91662fb\", element=\"9dafca96-52ac-48fe-8ef2-5abd5da9067d\")>,\n",
       " <selenium.webdriver.remote.webelement.WebElement (session=\"4a2078e7e0e0cd8655625b43b91662fb\", element=\"313b9fc9-12b0-45f5-8899-167aa5a9d495\")>,\n",
       " <selenium.webdriver.remote.webelement.WebElement (session=\"4a2078e7e0e0cd8655625b43b91662fb\", element=\"b566c785-6356-4445-a931-089bb81745ad\")>,\n",
       " <selenium.webdriver.remote.webelement.WebElement (session=\"4a2078e7e0e0cd8655625b43b91662fb\", element=\"e2be72a2-759e-42a0-8b6a-2fad32c47dda\")>]"
      ]
     },
     "execution_count": 31,
     "metadata": {},
     "output_type": "execute_result"
    }
   ],
   "source": [
    "job_location=driver.find_elements_by_xpath('//LI[@class=\"fleft grey-text br2 placeHolderLi location\"]')\n",
    "job_location"
   ]
  },
  {
   "cell_type": "code",
   "execution_count": 32,
   "metadata": {},
   "outputs": [
    {
     "data": {
      "text/plain": [
       "['Bangalore/Bengaluru',\n",
       " 'Bangalore/Bengaluru',\n",
       " 'Hyderabad/Secunderabad, Bangalore/Bengaluru',\n",
       " 'Bangalore/Bengaluru',\n",
       " 'Bangalore/Bengaluru',\n",
       " 'Bangalore/Bengaluru',\n",
       " 'Bangalore/Bengaluru',\n",
       " 'Remote',\n",
       " 'Bangalore/Bengaluru(Whitefield)',\n",
       " 'Bangalore/Bengaluru']"
      ]
     },
     "execution_count": 32,
     "metadata": {},
     "output_type": "execute_result"
    }
   ],
   "source": [
    "JOB_LOCATION=[]\n",
    "for i in job_location:\n",
    "    JOB_LOCATION.append(i.text)\n",
    "JOB_LOCATION[0:10]"
   ]
  },
  {
   "cell_type": "code",
   "execution_count": 33,
   "metadata": {},
   "outputs": [
    {
     "data": {
      "text/plain": [
       "[<selenium.webdriver.remote.webelement.WebElement (session=\"4a2078e7e0e0cd8655625b43b91662fb\", element=\"e409db55-943a-494b-af1b-bf0c87a37eeb\")>,\n",
       " <selenium.webdriver.remote.webelement.WebElement (session=\"4a2078e7e0e0cd8655625b43b91662fb\", element=\"23d45a32-2e41-4722-af5d-78ed0da962ad\")>,\n",
       " <selenium.webdriver.remote.webelement.WebElement (session=\"4a2078e7e0e0cd8655625b43b91662fb\", element=\"848d0d21-7084-427c-9675-250864893275\")>,\n",
       " <selenium.webdriver.remote.webelement.WebElement (session=\"4a2078e7e0e0cd8655625b43b91662fb\", element=\"de1c7178-cf11-4763-9595-a456723efba4\")>,\n",
       " <selenium.webdriver.remote.webelement.WebElement (session=\"4a2078e7e0e0cd8655625b43b91662fb\", element=\"daaba0bf-919b-4ef0-885e-a8c059e114d9\")>,\n",
       " <selenium.webdriver.remote.webelement.WebElement (session=\"4a2078e7e0e0cd8655625b43b91662fb\", element=\"38febc81-b3a7-48cb-8a99-5925e079e365\")>,\n",
       " <selenium.webdriver.remote.webelement.WebElement (session=\"4a2078e7e0e0cd8655625b43b91662fb\", element=\"78bd1407-e817-4455-8b17-b8805b337ec5\")>,\n",
       " <selenium.webdriver.remote.webelement.WebElement (session=\"4a2078e7e0e0cd8655625b43b91662fb\", element=\"6471902d-a802-404a-aaa8-c07e5d3bd778\")>,\n",
       " <selenium.webdriver.remote.webelement.WebElement (session=\"4a2078e7e0e0cd8655625b43b91662fb\", element=\"3177e1d4-0282-471b-9d5f-6f3259ca8f8c\")>,\n",
       " <selenium.webdriver.remote.webelement.WebElement (session=\"4a2078e7e0e0cd8655625b43b91662fb\", element=\"54af70b9-3cbd-4f77-ad68-1eac4fb1e715\")>,\n",
       " <selenium.webdriver.remote.webelement.WebElement (session=\"4a2078e7e0e0cd8655625b43b91662fb\", element=\"fd5a2cb3-53cb-4414-aee0-1669b8f4ce43\")>,\n",
       " <selenium.webdriver.remote.webelement.WebElement (session=\"4a2078e7e0e0cd8655625b43b91662fb\", element=\"0222b314-15fb-46ed-8f7d-62b37c94c5be\")>,\n",
       " <selenium.webdriver.remote.webelement.WebElement (session=\"4a2078e7e0e0cd8655625b43b91662fb\", element=\"9f33ce41-23d9-40e5-8bdd-93556d5a953b\")>,\n",
       " <selenium.webdriver.remote.webelement.WebElement (session=\"4a2078e7e0e0cd8655625b43b91662fb\", element=\"f1b9358f-6c28-4a2b-8401-7d8d4e613ba6\")>,\n",
       " <selenium.webdriver.remote.webelement.WebElement (session=\"4a2078e7e0e0cd8655625b43b91662fb\", element=\"fb59f58f-292c-43e7-b859-dceaae80770c\")>,\n",
       " <selenium.webdriver.remote.webelement.WebElement (session=\"4a2078e7e0e0cd8655625b43b91662fb\", element=\"dec31c24-52cc-4c03-a12e-2d6a0840eab2\")>,\n",
       " <selenium.webdriver.remote.webelement.WebElement (session=\"4a2078e7e0e0cd8655625b43b91662fb\", element=\"90d4b155-f768-47e7-a8a7-eb148a3cb940\")>,\n",
       " <selenium.webdriver.remote.webelement.WebElement (session=\"4a2078e7e0e0cd8655625b43b91662fb\", element=\"46153ed2-c101-4d0a-ac50-502b8e0dd9ee\")>,\n",
       " <selenium.webdriver.remote.webelement.WebElement (session=\"4a2078e7e0e0cd8655625b43b91662fb\", element=\"10d15445-0b8c-4834-a31c-50ca9aca3e3a\")>,\n",
       " <selenium.webdriver.remote.webelement.WebElement (session=\"4a2078e7e0e0cd8655625b43b91662fb\", element=\"00b43ed4-2d25-450d-bafa-c98f05955e36\")>]"
      ]
     },
     "execution_count": 33,
     "metadata": {},
     "output_type": "execute_result"
    }
   ],
   "source": [
    "experience=driver.find_elements_by_xpath('//li[@class=\"fleft grey-text br2 placeHolderLi experience\"]')\n",
    "experience"
   ]
  },
  {
   "cell_type": "code",
   "execution_count": 34,
   "metadata": {},
   "outputs": [
    {
     "data": {
      "text/plain": [
       "['6-10 Yrs',\n",
       " '5-10 Yrs',\n",
       " '10-17 Yrs',\n",
       " '12-15 Yrs',\n",
       " '8-13 Yrs',\n",
       " '6-11 Yrs',\n",
       " '1-6 Yrs',\n",
       " '5-10 Yrs',\n",
       " '5-10 Yrs',\n",
       " '5-10 Yrs']"
      ]
     },
     "execution_count": 34,
     "metadata": {},
     "output_type": "execute_result"
    }
   ],
   "source": [
    "EXPERIENCE=[]\n",
    "for i in experience:\n",
    "    EXPERIENCE.append(i.text)\n",
    "EXPERIENCE[0:10]"
   ]
  },
  {
   "cell_type": "code",
   "execution_count": 35,
   "metadata": {},
   "outputs": [
    {
     "data": {
      "text/plain": [
       "[<selenium.webdriver.remote.webelement.WebElement (session=\"4a2078e7e0e0cd8655625b43b91662fb\", element=\"948b233e-6801-45bd-9f41-e6d823cd6779\")>,\n",
       " <selenium.webdriver.remote.webelement.WebElement (session=\"4a2078e7e0e0cd8655625b43b91662fb\", element=\"2d0af3ed-b341-4fc1-89ad-daef55cd04e9\")>,\n",
       " <selenium.webdriver.remote.webelement.WebElement (session=\"4a2078e7e0e0cd8655625b43b91662fb\", element=\"acefa64b-bcd9-493f-9c9a-9e59fd0eb475\")>,\n",
       " <selenium.webdriver.remote.webelement.WebElement (session=\"4a2078e7e0e0cd8655625b43b91662fb\", element=\"57c2abb9-fe48-41af-84d3-8bd04b2cf3a2\")>,\n",
       " <selenium.webdriver.remote.webelement.WebElement (session=\"4a2078e7e0e0cd8655625b43b91662fb\", element=\"d57c53e3-8533-4d8b-95d1-09d79330f89f\")>,\n",
       " <selenium.webdriver.remote.webelement.WebElement (session=\"4a2078e7e0e0cd8655625b43b91662fb\", element=\"6861ada5-b540-4322-a52e-f7a78a01358b\")>,\n",
       " <selenium.webdriver.remote.webelement.WebElement (session=\"4a2078e7e0e0cd8655625b43b91662fb\", element=\"d5148887-abe7-4d68-8c59-f8a684c76897\")>,\n",
       " <selenium.webdriver.remote.webelement.WebElement (session=\"4a2078e7e0e0cd8655625b43b91662fb\", element=\"35c4ae0c-46e7-4155-9219-616fcaf72596\")>,\n",
       " <selenium.webdriver.remote.webelement.WebElement (session=\"4a2078e7e0e0cd8655625b43b91662fb\", element=\"d1fa296a-bf6e-4eb6-b222-2e40987da595\")>,\n",
       " <selenium.webdriver.remote.webelement.WebElement (session=\"4a2078e7e0e0cd8655625b43b91662fb\", element=\"7724fa04-c044-4c82-b7d0-f2d144a3af2c\")>,\n",
       " <selenium.webdriver.remote.webelement.WebElement (session=\"4a2078e7e0e0cd8655625b43b91662fb\", element=\"a7386dce-7016-4afb-9ee3-503943c06d5e\")>,\n",
       " <selenium.webdriver.remote.webelement.WebElement (session=\"4a2078e7e0e0cd8655625b43b91662fb\", element=\"7bc03dd0-f325-4498-92d5-7927f4a341e4\")>,\n",
       " <selenium.webdriver.remote.webelement.WebElement (session=\"4a2078e7e0e0cd8655625b43b91662fb\", element=\"cddd4bb3-c4d4-4316-aba3-466f7cacfa7b\")>,\n",
       " <selenium.webdriver.remote.webelement.WebElement (session=\"4a2078e7e0e0cd8655625b43b91662fb\", element=\"908b41b6-31fe-4f73-bf9f-4eaf6f1e5d71\")>,\n",
       " <selenium.webdriver.remote.webelement.WebElement (session=\"4a2078e7e0e0cd8655625b43b91662fb\", element=\"06eb8775-74da-4250-afb7-c0f2fd19b151\")>,\n",
       " <selenium.webdriver.remote.webelement.WebElement (session=\"4a2078e7e0e0cd8655625b43b91662fb\", element=\"054d207d-4939-4d86-b20b-6a5ac6a2578a\")>,\n",
       " <selenium.webdriver.remote.webelement.WebElement (session=\"4a2078e7e0e0cd8655625b43b91662fb\", element=\"7ebc2c49-43b5-4f43-bdc7-7fc0ff268b3b\")>,\n",
       " <selenium.webdriver.remote.webelement.WebElement (session=\"4a2078e7e0e0cd8655625b43b91662fb\", element=\"3b6105d1-d30a-4e14-85eb-ebede8629789\")>,\n",
       " <selenium.webdriver.remote.webelement.WebElement (session=\"4a2078e7e0e0cd8655625b43b91662fb\", element=\"07213a5e-2eef-4744-b14c-79954970ee36\")>,\n",
       " <selenium.webdriver.remote.webelement.WebElement (session=\"4a2078e7e0e0cd8655625b43b91662fb\", element=\"9358e490-1d49-4e7a-b9d0-ead30d735db9\")>]"
      ]
     },
     "execution_count": 35,
     "metadata": {},
     "output_type": "execute_result"
    }
   ],
   "source": [
    "company_name=driver.find_elements_by_xpath('//a[@class=\"subTitle ellipsis fleft\"]')\n",
    "company_name"
   ]
  },
  {
   "cell_type": "code",
   "execution_count": 36,
   "metadata": {},
   "outputs": [
    {
     "data": {
      "text/plain": [
       "['Flipkart',\n",
       " 'Shell',\n",
       " 'Oracle',\n",
       " 'IBM',\n",
       " 'Dell Technologies',\n",
       " 'Dell Technologies',\n",
       " 'Siemens',\n",
       " 'Vision Beyond Resources India Private Limited',\n",
       " 'Northface Consultancy Services Private Limited',\n",
       " 'Anicalls']"
      ]
     },
     "execution_count": 36,
     "metadata": {},
     "output_type": "execute_result"
    }
   ],
   "source": [
    "COMPANY_NAME=[]\n",
    "for i in company_name:\n",
    "    COMPANY_NAME.append(i.text)\n",
    "COMPANY_NAME[0:10]"
   ]
  },
  {
   "cell_type": "code",
   "execution_count": 37,
   "metadata": {},
   "outputs": [],
   "source": [
    "NAME=COMPANY_NAME[0:10]\n",
    "EXPERIENCE=EXPERIENCE[0:10]\n",
    "TITLE=JOB_TITLE[0:10]\n",
    "LOCATION=JOB_LOCATION[0:10]"
   ]
  },
  {
   "cell_type": "code",
   "execution_count": 38,
   "metadata": {},
   "outputs": [],
   "source": [
    "COMPANY=pd.DataFrame()\n",
    "COMPANY[\"NAME\"]=NAME\n",
    "COMPANY[\"EXPERIENCE\"]=EXPERIENCE\n",
    "COMPANY[\"TITLE\"]=TITLE\n",
    "COMPANY[\"LOCATION\"]=LOCATION"
   ]
  },
  {
   "cell_type": "code",
   "execution_count": 39,
   "metadata": {},
   "outputs": [
    {
     "data": {
      "text/html": [
       "<div>\n",
       "<style scoped>\n",
       "    .dataframe tbody tr th:only-of-type {\n",
       "        vertical-align: middle;\n",
       "    }\n",
       "\n",
       "    .dataframe tbody tr th {\n",
       "        vertical-align: top;\n",
       "    }\n",
       "\n",
       "    .dataframe thead th {\n",
       "        text-align: right;\n",
       "    }\n",
       "</style>\n",
       "<table border=\"1\" class=\"dataframe\">\n",
       "  <thead>\n",
       "    <tr style=\"text-align: right;\">\n",
       "      <th></th>\n",
       "      <th>NAME</th>\n",
       "      <th>EXPERIENCE</th>\n",
       "      <th>TITLE</th>\n",
       "      <th>LOCATION</th>\n",
       "    </tr>\n",
       "  </thead>\n",
       "  <tbody>\n",
       "    <tr>\n",
       "      <th>0</th>\n",
       "      <td>Flipkart</td>\n",
       "      <td>6-10 Yrs</td>\n",
       "      <td>Senior Data Scientist Opportunity with Flipkar...</td>\n",
       "      <td>Bangalore/Bengaluru</td>\n",
       "    </tr>\n",
       "    <tr>\n",
       "      <th>1</th>\n",
       "      <td>Shell</td>\n",
       "      <td>5-10 Yrs</td>\n",
       "      <td>Senior NLP Data Scientist</td>\n",
       "      <td>Bangalore/Bengaluru</td>\n",
       "    </tr>\n",
       "    <tr>\n",
       "      <th>2</th>\n",
       "      <td>Oracle</td>\n",
       "      <td>10-17 Yrs</td>\n",
       "      <td>Principal Data Scientist</td>\n",
       "      <td>Hyderabad/Secunderabad, Bangalore/Bengaluru</td>\n",
       "    </tr>\n",
       "    <tr>\n",
       "      <th>3</th>\n",
       "      <td>IBM</td>\n",
       "      <td>12-15 Yrs</td>\n",
       "      <td>Data Scientist: Artificial Intelligence</td>\n",
       "      <td>Bangalore/Bengaluru</td>\n",
       "    </tr>\n",
       "    <tr>\n",
       "      <th>4</th>\n",
       "      <td>Dell Technologies</td>\n",
       "      <td>8-13 Yrs</td>\n",
       "      <td>Data Scientist</td>\n",
       "      <td>Bangalore/Bengaluru</td>\n",
       "    </tr>\n",
       "    <tr>\n",
       "      <th>5</th>\n",
       "      <td>Dell Technologies</td>\n",
       "      <td>6-11 Yrs</td>\n",
       "      <td>Data Scientist</td>\n",
       "      <td>Bangalore/Bengaluru</td>\n",
       "    </tr>\n",
       "    <tr>\n",
       "      <th>6</th>\n",
       "      <td>Siemens</td>\n",
       "      <td>1-6 Yrs</td>\n",
       "      <td>Data Scientist/Software Developer</td>\n",
       "      <td>Bangalore/Bengaluru</td>\n",
       "    </tr>\n",
       "    <tr>\n",
       "      <th>7</th>\n",
       "      <td>Vision Beyond Resources India Private Limited</td>\n",
       "      <td>5-10 Yrs</td>\n",
       "      <td>Sr. Data Scientist</td>\n",
       "      <td>Remote</td>\n",
       "    </tr>\n",
       "    <tr>\n",
       "      <th>8</th>\n",
       "      <td>Northface Consultancy Services Private Limited</td>\n",
       "      <td>5-10 Yrs</td>\n",
       "      <td>Senior / Principal Data Scientist</td>\n",
       "      <td>Bangalore/Bengaluru(Whitefield)</td>\n",
       "    </tr>\n",
       "    <tr>\n",
       "      <th>9</th>\n",
       "      <td>Anicalls</td>\n",
       "      <td>5-10 Yrs</td>\n",
       "      <td>Senior Data Scientist - Speech &amp; Text analytics</td>\n",
       "      <td>Bangalore/Bengaluru</td>\n",
       "    </tr>\n",
       "  </tbody>\n",
       "</table>\n",
       "</div>"
      ],
      "text/plain": [
       "                                             NAME EXPERIENCE  \\\n",
       "0                                        Flipkart   6-10 Yrs   \n",
       "1                                           Shell   5-10 Yrs   \n",
       "2                                          Oracle  10-17 Yrs   \n",
       "3                                             IBM  12-15 Yrs   \n",
       "4                               Dell Technologies   8-13 Yrs   \n",
       "5                               Dell Technologies   6-11 Yrs   \n",
       "6                                         Siemens    1-6 Yrs   \n",
       "7   Vision Beyond Resources India Private Limited   5-10 Yrs   \n",
       "8  Northface Consultancy Services Private Limited   5-10 Yrs   \n",
       "9                                        Anicalls   5-10 Yrs   \n",
       "\n",
       "                                               TITLE  \\\n",
       "0  Senior Data Scientist Opportunity with Flipkar...   \n",
       "1                          Senior NLP Data Scientist   \n",
       "2                           Principal Data Scientist   \n",
       "3            Data Scientist: Artificial Intelligence   \n",
       "4                                     Data Scientist   \n",
       "5                                     Data Scientist   \n",
       "6                  Data Scientist/Software Developer   \n",
       "7                                 Sr. Data Scientist   \n",
       "8                  Senior / Principal Data Scientist   \n",
       "9    Senior Data Scientist - Speech & Text analytics   \n",
       "\n",
       "                                      LOCATION  \n",
       "0                          Bangalore/Bengaluru  \n",
       "1                          Bangalore/Bengaluru  \n",
       "2  Hyderabad/Secunderabad, Bangalore/Bengaluru  \n",
       "3                          Bangalore/Bengaluru  \n",
       "4                          Bangalore/Bengaluru  \n",
       "5                          Bangalore/Bengaluru  \n",
       "6                          Bangalore/Bengaluru  \n",
       "7                                       Remote  \n",
       "8              Bangalore/Bengaluru(Whitefield)  \n",
       "9                          Bangalore/Bengaluru  "
      ]
     },
     "execution_count": 39,
     "metadata": {},
     "output_type": "execute_result"
    }
   ],
   "source": [
    "COMPANY"
   ]
  },
  {
   "cell_type": "markdown",
   "metadata": {},
   "source": [
    "# ANS.3-"
   ]
  },
  {
   "cell_type": "code",
   "execution_count": 58,
   "metadata": {},
   "outputs": [
    {
     "data": {
      "text/plain": [
       "<selenium.webdriver.chrome.webdriver.WebDriver (session=\"c7343a24f58744b336420a440ef0a5f3\")>"
      ]
     },
     "execution_count": 58,
     "metadata": {},
     "output_type": "execute_result"
    }
   ],
   "source": [
    "driver=webdriver.Chrome(r\"C:/Users/sumit/Downloads/chromedriver_win32/chromedriver\")\n",
    "driver"
   ]
  },
  {
   "cell_type": "code",
   "execution_count": 59,
   "metadata": {},
   "outputs": [
    {
     "data": {
      "text/plain": [
       "<selenium.webdriver.chrome.webdriver.WebDriver (session=\"28a72affaa97b0fee92e2fe3298e14d0\")>"
      ]
     },
     "execution_count": 59,
     "metadata": {},
     "output_type": "execute_result"
    }
   ],
   "source": [
    "driver=webdriver.Chrome(\"chromedriver\")\n",
    "driver"
   ]
  },
  {
   "cell_type": "code",
   "execution_count": 60,
   "metadata": {},
   "outputs": [],
   "source": [
    "url=\"https://www.naukri.com/\"\n",
    "driver.get(url)"
   ]
  },
  {
   "cell_type": "code",
   "execution_count": 61,
   "metadata": {},
   "outputs": [],
   "source": [
    "search_job=driver.find_element_by_class_name(\"suggestor-input \")"
   ]
  },
  {
   "cell_type": "code",
   "execution_count": 62,
   "metadata": {},
   "outputs": [],
   "source": [
    "search_job.send_keys(\"DATA SCIENTIST\")"
   ]
  },
  {
   "cell_type": "code",
   "execution_count": 63,
   "metadata": {},
   "outputs": [
    {
     "data": {
      "text/plain": [
       "<selenium.webdriver.remote.webelement.WebElement (session=\"28a72affaa97b0fee92e2fe3298e14d0\", element=\"7681bcdc-d622-468b-9277-7b4da2565aa5\")>"
      ]
     },
     "execution_count": 63,
     "metadata": {},
     "output_type": "execute_result"
    }
   ],
   "source": [
    "search_buton=driver.find_element_by_xpath('//div[@class=\"qsbSubmit\"]')\n",
    "search_buton"
   ]
  },
  {
   "cell_type": "code",
   "execution_count": 64,
   "metadata": {},
   "outputs": [],
   "source": [
    "search_buton.click()"
   ]
  },
  {
   "cell_type": "code",
   "execution_count": 65,
   "metadata": {},
   "outputs": [
    {
     "data": {
      "text/plain": [
       "<selenium.webdriver.remote.webelement.WebElement (session=\"28a72affaa97b0fee92e2fe3298e14d0\", element=\"23b8917d-756d-4097-aa25-39382a3295ca\")>"
      ]
     },
     "execution_count": 65,
     "metadata": {},
     "output_type": "execute_result"
    }
   ],
   "source": [
    "search_loctn=driver.find_element_by_xpath(\"/html/body/div[1]/div[3]/div[2]/section[1]/div[2]/div[3]/div[2]/div[3]/label/p/span[1]\")\n",
    "search_loctn"
   ]
  },
  {
   "cell_type": "code",
   "execution_count": 66,
   "metadata": {},
   "outputs": [],
   "source": [
    "search_loctn.click()"
   ]
  },
  {
   "cell_type": "code",
   "execution_count": 67,
   "metadata": {},
   "outputs": [],
   "source": [
    "search_salary=driver.find_element_by_xpath(\"/html/body/div[1]/div[3]/div[2]/section[1]/div[2]/div[4]/div[2]/div[2]/label/p/span[1]\")\n",
    "search_salary.click()"
   ]
  },
  {
   "cell_type": "code",
   "execution_count": 77,
   "metadata": {},
   "outputs": [
    {
     "data": {
      "text/plain": [
       "[<selenium.webdriver.remote.webelement.WebElement (session=\"28a72affaa97b0fee92e2fe3298e14d0\", element=\"5b8cfd07-3256-45bd-ac81-09cc590a1120\")>,\n",
       " <selenium.webdriver.remote.webelement.WebElement (session=\"28a72affaa97b0fee92e2fe3298e14d0\", element=\"5f3cde50-a6e6-439a-9f8f-059c98645929\")>,\n",
       " <selenium.webdriver.remote.webelement.WebElement (session=\"28a72affaa97b0fee92e2fe3298e14d0\", element=\"4fc3c1df-caf2-4219-b134-6c9879ebdaa3\")>,\n",
       " <selenium.webdriver.remote.webelement.WebElement (session=\"28a72affaa97b0fee92e2fe3298e14d0\", element=\"900d4db3-1c04-4c86-826d-8b72142698bd\")>,\n",
       " <selenium.webdriver.remote.webelement.WebElement (session=\"28a72affaa97b0fee92e2fe3298e14d0\", element=\"7220e5a3-81cc-4d4a-bd4c-5fcc3fed1db9\")>,\n",
       " <selenium.webdriver.remote.webelement.WebElement (session=\"28a72affaa97b0fee92e2fe3298e14d0\", element=\"5e4de425-58d1-4fc8-bd21-51944c07478c\")>,\n",
       " <selenium.webdriver.remote.webelement.WebElement (session=\"28a72affaa97b0fee92e2fe3298e14d0\", element=\"fe964de4-3a09-49e3-b097-52f9fc0ae794\")>,\n",
       " <selenium.webdriver.remote.webelement.WebElement (session=\"28a72affaa97b0fee92e2fe3298e14d0\", element=\"b416c5af-eeb0-45c6-8ad2-92e3f1aab779\")>,\n",
       " <selenium.webdriver.remote.webelement.WebElement (session=\"28a72affaa97b0fee92e2fe3298e14d0\", element=\"febdc152-a60b-4b54-bb40-f15be8d8bf75\")>,\n",
       " <selenium.webdriver.remote.webelement.WebElement (session=\"28a72affaa97b0fee92e2fe3298e14d0\", element=\"72af7f65-297d-4575-a162-73bcb92a25e9\")>,\n",
       " <selenium.webdriver.remote.webelement.WebElement (session=\"28a72affaa97b0fee92e2fe3298e14d0\", element=\"dc3232dc-9429-4817-b289-451052bba7b5\")>,\n",
       " <selenium.webdriver.remote.webelement.WebElement (session=\"28a72affaa97b0fee92e2fe3298e14d0\", element=\"15bb1506-bb24-45b5-b477-c8c0c28e6fb0\")>,\n",
       " <selenium.webdriver.remote.webelement.WebElement (session=\"28a72affaa97b0fee92e2fe3298e14d0\", element=\"7c0a464d-f455-45a3-940c-40ebccad8ce9\")>,\n",
       " <selenium.webdriver.remote.webelement.WebElement (session=\"28a72affaa97b0fee92e2fe3298e14d0\", element=\"16ac2675-5480-409c-9e03-1741104e8e1c\")>,\n",
       " <selenium.webdriver.remote.webelement.WebElement (session=\"28a72affaa97b0fee92e2fe3298e14d0\", element=\"0cc7497c-97c0-46c1-8aa7-b4bce9276066\")>,\n",
       " <selenium.webdriver.remote.webelement.WebElement (session=\"28a72affaa97b0fee92e2fe3298e14d0\", element=\"5c4578c5-4e2e-4d33-a80a-7351fe8cdcc1\")>,\n",
       " <selenium.webdriver.remote.webelement.WebElement (session=\"28a72affaa97b0fee92e2fe3298e14d0\", element=\"8e0464e7-1172-478a-8aad-824945bb6514\")>,\n",
       " <selenium.webdriver.remote.webelement.WebElement (session=\"28a72affaa97b0fee92e2fe3298e14d0\", element=\"2743c9f0-18a1-41e8-be05-15a2549f512e\")>,\n",
       " <selenium.webdriver.remote.webelement.WebElement (session=\"28a72affaa97b0fee92e2fe3298e14d0\", element=\"8815232e-dcce-4027-bca6-725fd598f794\")>,\n",
       " <selenium.webdriver.remote.webelement.WebElement (session=\"28a72affaa97b0fee92e2fe3298e14d0\", element=\"fc369c81-fc45-4c68-9237-98991f904ce4\")>]"
      ]
     },
     "execution_count": 77,
     "metadata": {},
     "output_type": "execute_result"
    }
   ],
   "source": [
    "tiitle=driver.find_elements_by_xpath('//a[@class=\"title fw500 ellipsis\"]')\n",
    "tiitle"
   ]
  },
  {
   "cell_type": "code",
   "execution_count": 78,
   "metadata": {},
   "outputs": [
    {
     "data": {
      "text/plain": [
       "['Data Analyst / Data Scientist / Business Analytics / Fresher - MNC',\n",
       " 'Associate Data Scientist - Java/ Scala/ Apache Server',\n",
       " 'Data Scientist(Python|Machine Learning)',\n",
       " 'Hiring For Senior Data Scientist-Noida',\n",
       " 'Data scientist- Python',\n",
       " 'Excellent Opportunity For Freshers For AI/ML, Data Scientist, BI, QA',\n",
       " 'Data Scientist _NLP',\n",
       " 'Only Fresher / Python Data Scientist / Trainee / Analytics - MNC Jobs',\n",
       " 'Data Scientist (freelance)',\n",
       " 'Junior Data Analyst/ Scientist- Fresher Position']"
      ]
     },
     "execution_count": 78,
     "metadata": {},
     "output_type": "execute_result"
    }
   ],
   "source": [
    "TIITLE=[]\n",
    "for i in tiitle:\n",
    "    TIITLE.append(i.text)\n",
    "TIITLE[0:10]"
   ]
  },
  {
   "cell_type": "code",
   "execution_count": 79,
   "metadata": {},
   "outputs": [
    {
     "data": {
      "text/plain": [
       "[<selenium.webdriver.remote.webelement.WebElement (session=\"28a72affaa97b0fee92e2fe3298e14d0\", element=\"3e34b62d-b9ad-4d46-98b5-d826726e857a\")>,\n",
       " <selenium.webdriver.remote.webelement.WebElement (session=\"28a72affaa97b0fee92e2fe3298e14d0\", element=\"b5f45c93-c348-4d39-a31c-9da757259f85\")>,\n",
       " <selenium.webdriver.remote.webelement.WebElement (session=\"28a72affaa97b0fee92e2fe3298e14d0\", element=\"dc7ff42a-9665-475f-82af-abecf708e026\")>,\n",
       " <selenium.webdriver.remote.webelement.WebElement (session=\"28a72affaa97b0fee92e2fe3298e14d0\", element=\"4a28668f-c31a-48a9-9f26-498723c82041\")>,\n",
       " <selenium.webdriver.remote.webelement.WebElement (session=\"28a72affaa97b0fee92e2fe3298e14d0\", element=\"60a064f9-926a-477f-8e78-fe9d738ba8d6\")>,\n",
       " <selenium.webdriver.remote.webelement.WebElement (session=\"28a72affaa97b0fee92e2fe3298e14d0\", element=\"83a89260-1b77-49e5-80ec-25221136e0d4\")>,\n",
       " <selenium.webdriver.remote.webelement.WebElement (session=\"28a72affaa97b0fee92e2fe3298e14d0\", element=\"4294cc40-ea51-4e95-a093-593745cff95f\")>,\n",
       " <selenium.webdriver.remote.webelement.WebElement (session=\"28a72affaa97b0fee92e2fe3298e14d0\", element=\"ecd7c441-2004-4f88-98d4-4b0fc61e63cf\")>,\n",
       " <selenium.webdriver.remote.webelement.WebElement (session=\"28a72affaa97b0fee92e2fe3298e14d0\", element=\"6e7ffdcd-fe75-4b43-87dc-05fd12c0507e\")>,\n",
       " <selenium.webdriver.remote.webelement.WebElement (session=\"28a72affaa97b0fee92e2fe3298e14d0\", element=\"98a81c40-adfc-46f3-829e-e3438278c4e2\")>,\n",
       " <selenium.webdriver.remote.webelement.WebElement (session=\"28a72affaa97b0fee92e2fe3298e14d0\", element=\"2a07a020-4034-49a9-8ce5-2d4d76c0744b\")>,\n",
       " <selenium.webdriver.remote.webelement.WebElement (session=\"28a72affaa97b0fee92e2fe3298e14d0\", element=\"64fc63de-98e4-4c2f-881a-b435d90e1425\")>,\n",
       " <selenium.webdriver.remote.webelement.WebElement (session=\"28a72affaa97b0fee92e2fe3298e14d0\", element=\"9b15e714-dd59-4279-b823-bc0e3eace444\")>,\n",
       " <selenium.webdriver.remote.webelement.WebElement (session=\"28a72affaa97b0fee92e2fe3298e14d0\", element=\"adc30faa-3154-4d39-bb12-7b1abc16f70c\")>,\n",
       " <selenium.webdriver.remote.webelement.WebElement (session=\"28a72affaa97b0fee92e2fe3298e14d0\", element=\"1b155764-f605-499d-8b78-bbe8da3bdb85\")>,\n",
       " <selenium.webdriver.remote.webelement.WebElement (session=\"28a72affaa97b0fee92e2fe3298e14d0\", element=\"6be6acad-ecc1-4ac7-85c4-628aad8a02e4\")>,\n",
       " <selenium.webdriver.remote.webelement.WebElement (session=\"28a72affaa97b0fee92e2fe3298e14d0\", element=\"056b66e9-5fce-4871-a6ea-e714b985b0ff\")>,\n",
       " <selenium.webdriver.remote.webelement.WebElement (session=\"28a72affaa97b0fee92e2fe3298e14d0\", element=\"b32ab0ac-56fd-4c81-8eaf-0b126c11c4b3\")>,\n",
       " <selenium.webdriver.remote.webelement.WebElement (session=\"28a72affaa97b0fee92e2fe3298e14d0\", element=\"fdd39288-93ad-4761-877c-270c98d5242b\")>,\n",
       " <selenium.webdriver.remote.webelement.WebElement (session=\"28a72affaa97b0fee92e2fe3298e14d0\", element=\"defe186e-7cd2-4522-a751-9bc88a11f5ea\")>]"
      ]
     },
     "execution_count": 79,
     "metadata": {},
     "output_type": "execute_result"
    }
   ],
   "source": [
    "loocation=driver.find_elements_by_xpath('//li[@class=\"fleft grey-text br2 placeHolderLi location\"]')\n",
    "loocation"
   ]
  },
  {
   "cell_type": "code",
   "execution_count": 80,
   "metadata": {},
   "outputs": [
    {
     "data": {
      "text/plain": [
       "['Noida, New Delhi, Delhi / NCR',\n",
       " 'Noida',\n",
       " 'Noida',\n",
       " 'Noida, New Delhi, Greater Noida',\n",
       " 'Gurgaon/Gurugram',\n",
       " 'Noida, Kolkata, Hyderabad/Secunderabad, Pune, Chennai, Bangalore/Bengaluru, Delhi / NCR, Mumbai (All Areas)\\n(WFH during Covid)',\n",
       " 'Bangalore/Bengaluru, Delhi / NCR\\n(WFH during Covid)',\n",
       " 'Noida, New Delhi, Gurgaon/Gurugram',\n",
       " 'New Delhi, Delhi',\n",
       " 'Kolkata, Hyderabad/Secunderabad, Pune, Ahmedabad, Chennai, Bangalore/Bengaluru, Delhi / NCR, Mumbai (All Areas)\\n(WFH during Covid)']"
      ]
     },
     "execution_count": 80,
     "metadata": {},
     "output_type": "execute_result"
    }
   ],
   "source": [
    "LOOCATION=[]\n",
    "for i in loocation:\n",
    "    LOOCATION.append(i.text)\n",
    "LOOCATION[0:10]"
   ]
  },
  {
   "cell_type": "code",
   "execution_count": 81,
   "metadata": {},
   "outputs": [
    {
     "data": {
      "text/plain": [
       "[<selenium.webdriver.remote.webelement.WebElement (session=\"28a72affaa97b0fee92e2fe3298e14d0\", element=\"e7a6566e-0b4d-403a-87f7-a0eadd05e3fb\")>,\n",
       " <selenium.webdriver.remote.webelement.WebElement (session=\"28a72affaa97b0fee92e2fe3298e14d0\", element=\"1fd9b61b-8acc-4208-865f-f1717efc71d6\")>,\n",
       " <selenium.webdriver.remote.webelement.WebElement (session=\"28a72affaa97b0fee92e2fe3298e14d0\", element=\"fb68b238-e613-4688-a0d4-24c12c8f1601\")>,\n",
       " <selenium.webdriver.remote.webelement.WebElement (session=\"28a72affaa97b0fee92e2fe3298e14d0\", element=\"ab9e8b6c-7f69-44ce-a92e-f2185dbf87bd\")>,\n",
       " <selenium.webdriver.remote.webelement.WebElement (session=\"28a72affaa97b0fee92e2fe3298e14d0\", element=\"73434124-7c64-4334-b186-2352b3f9abbe\")>,\n",
       " <selenium.webdriver.remote.webelement.WebElement (session=\"28a72affaa97b0fee92e2fe3298e14d0\", element=\"42ba017c-c3af-441a-a4a3-9cd22925743c\")>,\n",
       " <selenium.webdriver.remote.webelement.WebElement (session=\"28a72affaa97b0fee92e2fe3298e14d0\", element=\"5096caef-de14-428a-9c01-211ed0bdc7ce\")>,\n",
       " <selenium.webdriver.remote.webelement.WebElement (session=\"28a72affaa97b0fee92e2fe3298e14d0\", element=\"739b2a0f-d093-416f-8067-2e91d77a5b8d\")>,\n",
       " <selenium.webdriver.remote.webelement.WebElement (session=\"28a72affaa97b0fee92e2fe3298e14d0\", element=\"dbca6e3a-0da5-4144-8644-f390567e472a\")>,\n",
       " <selenium.webdriver.remote.webelement.WebElement (session=\"28a72affaa97b0fee92e2fe3298e14d0\", element=\"0fca41a5-e8fd-4082-a695-c3469bf2b550\")>,\n",
       " <selenium.webdriver.remote.webelement.WebElement (session=\"28a72affaa97b0fee92e2fe3298e14d0\", element=\"b7c0f04a-2049-44b5-967a-9d6932dc9021\")>,\n",
       " <selenium.webdriver.remote.webelement.WebElement (session=\"28a72affaa97b0fee92e2fe3298e14d0\", element=\"12c08095-61e1-49fb-b3cd-999f0bde4e37\")>,\n",
       " <selenium.webdriver.remote.webelement.WebElement (session=\"28a72affaa97b0fee92e2fe3298e14d0\", element=\"ff2bdcc9-f905-447c-9669-b737dc1ba44e\")>,\n",
       " <selenium.webdriver.remote.webelement.WebElement (session=\"28a72affaa97b0fee92e2fe3298e14d0\", element=\"878bcb8d-abfd-43bb-aa29-7387110a0389\")>,\n",
       " <selenium.webdriver.remote.webelement.WebElement (session=\"28a72affaa97b0fee92e2fe3298e14d0\", element=\"f688c00a-5688-490b-8b28-8c32ccc43948\")>,\n",
       " <selenium.webdriver.remote.webelement.WebElement (session=\"28a72affaa97b0fee92e2fe3298e14d0\", element=\"2e04c441-d608-457b-af85-9d290e1ea843\")>,\n",
       " <selenium.webdriver.remote.webelement.WebElement (session=\"28a72affaa97b0fee92e2fe3298e14d0\", element=\"2e8a6089-ca32-4ac4-8120-1f1829dee10f\")>,\n",
       " <selenium.webdriver.remote.webelement.WebElement (session=\"28a72affaa97b0fee92e2fe3298e14d0\", element=\"6bda6656-8296-403d-95eb-868b2cf3637c\")>,\n",
       " <selenium.webdriver.remote.webelement.WebElement (session=\"28a72affaa97b0fee92e2fe3298e14d0\", element=\"451b1ad4-5930-43fb-b348-1dfc139b52b2\")>,\n",
       " <selenium.webdriver.remote.webelement.WebElement (session=\"28a72affaa97b0fee92e2fe3298e14d0\", element=\"d6930a36-b680-47b1-9264-e22467b873a7\")>]"
      ]
     },
     "execution_count": 81,
     "metadata": {},
     "output_type": "execute_result"
    }
   ],
   "source": [
    "expeerience=driver.find_elements_by_xpath('//li[@class=\"fleft grey-text br2 placeHolderLi experience\"]')\n",
    "expeerience"
   ]
  },
  {
   "cell_type": "code",
   "execution_count": 83,
   "metadata": {},
   "outputs": [
    {
     "data": {
      "text/plain": [
       "['0-0 Yrs',\n",
       " '1-4 Yrs',\n",
       " '4-7 Yrs',\n",
       " '2-6 Yrs',\n",
       " '3-6 Yrs',\n",
       " '0-0 Yrs',\n",
       " '3-8 Yrs',\n",
       " '0-0 Yrs',\n",
       " '2-7 Yrs',\n",
       " '0-3 Yrs']"
      ]
     },
     "execution_count": 83,
     "metadata": {},
     "output_type": "execute_result"
    }
   ],
   "source": [
    "EXPEERIENCE=[]\n",
    "for i in expeerience:\n",
    "    EXPEERIENCE.append(i.text)\n",
    "EXPEERIENCE[0:10]\n",
    "    "
   ]
  },
  {
   "cell_type": "code",
   "execution_count": 84,
   "metadata": {},
   "outputs": [
    {
     "data": {
      "text/plain": [
       "[<selenium.webdriver.remote.webelement.WebElement (session=\"28a72affaa97b0fee92e2fe3298e14d0\", element=\"fbf1e4fc-eb3d-4647-85d2-d1b293af78bb\")>,\n",
       " <selenium.webdriver.remote.webelement.WebElement (session=\"28a72affaa97b0fee92e2fe3298e14d0\", element=\"199f0d22-b892-41cc-9edb-c630dfd6f6ed\")>,\n",
       " <selenium.webdriver.remote.webelement.WebElement (session=\"28a72affaa97b0fee92e2fe3298e14d0\", element=\"330cdb78-23dd-4b09-97aa-fadc55f8a705\")>,\n",
       " <selenium.webdriver.remote.webelement.WebElement (session=\"28a72affaa97b0fee92e2fe3298e14d0\", element=\"54268e4f-9590-4192-b8d8-b24b23f00aa7\")>,\n",
       " <selenium.webdriver.remote.webelement.WebElement (session=\"28a72affaa97b0fee92e2fe3298e14d0\", element=\"873b8c34-e185-426c-9e04-1fbb31a4b107\")>,\n",
       " <selenium.webdriver.remote.webelement.WebElement (session=\"28a72affaa97b0fee92e2fe3298e14d0\", element=\"da5a1239-c5aa-4c33-a02d-c26296304653\")>,\n",
       " <selenium.webdriver.remote.webelement.WebElement (session=\"28a72affaa97b0fee92e2fe3298e14d0\", element=\"621e1960-3f53-423b-aced-49f3e2281897\")>,\n",
       " <selenium.webdriver.remote.webelement.WebElement (session=\"28a72affaa97b0fee92e2fe3298e14d0\", element=\"4e3a5f18-2a63-4f41-a7d6-9b67f6f4928f\")>,\n",
       " <selenium.webdriver.remote.webelement.WebElement (session=\"28a72affaa97b0fee92e2fe3298e14d0\", element=\"13f76f6d-a39c-43b4-8384-861013e08fd6\")>,\n",
       " <selenium.webdriver.remote.webelement.WebElement (session=\"28a72affaa97b0fee92e2fe3298e14d0\", element=\"16ddc458-4062-495d-9be9-a2a93d7cbc29\")>,\n",
       " <selenium.webdriver.remote.webelement.WebElement (session=\"28a72affaa97b0fee92e2fe3298e14d0\", element=\"42d0a43c-7baf-4b50-8daa-8664fe325aa8\")>,\n",
       " <selenium.webdriver.remote.webelement.WebElement (session=\"28a72affaa97b0fee92e2fe3298e14d0\", element=\"84f65d8c-0a85-4d93-bf03-7bdde11e7783\")>,\n",
       " <selenium.webdriver.remote.webelement.WebElement (session=\"28a72affaa97b0fee92e2fe3298e14d0\", element=\"1076a2ae-a336-4c38-a269-52642cf03117\")>,\n",
       " <selenium.webdriver.remote.webelement.WebElement (session=\"28a72affaa97b0fee92e2fe3298e14d0\", element=\"c142e6f8-4b9a-4b71-931c-59cb8f14294d\")>,\n",
       " <selenium.webdriver.remote.webelement.WebElement (session=\"28a72affaa97b0fee92e2fe3298e14d0\", element=\"78c732c1-3dcf-4a80-81ba-80b1d6fa0881\")>,\n",
       " <selenium.webdriver.remote.webelement.WebElement (session=\"28a72affaa97b0fee92e2fe3298e14d0\", element=\"4415789f-895b-4b85-88cb-4b1df85b04ac\")>,\n",
       " <selenium.webdriver.remote.webelement.WebElement (session=\"28a72affaa97b0fee92e2fe3298e14d0\", element=\"5c648648-497b-4767-ba5a-c04b3f1bf2cf\")>,\n",
       " <selenium.webdriver.remote.webelement.WebElement (session=\"28a72affaa97b0fee92e2fe3298e14d0\", element=\"88b884ba-5f4f-422e-9af3-2d6945ea338d\")>,\n",
       " <selenium.webdriver.remote.webelement.WebElement (session=\"28a72affaa97b0fee92e2fe3298e14d0\", element=\"141110a0-29af-49b7-bcdf-86309b7c41f2\")>,\n",
       " <selenium.webdriver.remote.webelement.WebElement (session=\"28a72affaa97b0fee92e2fe3298e14d0\", element=\"8e8f5261-25dc-4342-9fda-4cbd73b9f113\")>]"
      ]
     },
     "execution_count": 84,
     "metadata": {},
     "output_type": "execute_result"
    }
   ],
   "source": [
    "naame=driver.find_elements_by_xpath('//a[@class=\"subTitle ellipsis fleft\"]')\n",
    "naame"
   ]
  },
  {
   "cell_type": "code",
   "execution_count": 85,
   "metadata": {},
   "outputs": [
    {
     "data": {
      "text/plain": [
       "['GABA Consultancy services',\n",
       " 'Smart work Consultants',\n",
       " 'Jubna',\n",
       " 'Lumiq.ai',\n",
       " 'TeamPlus Staffing Solution Pvt Ltd',\n",
       " 'NTT Data',\n",
       " 'EXL',\n",
       " 'GABA Consultancy services',\n",
       " '2Coms',\n",
       " 'Sejal Consulting Hub']"
      ]
     },
     "execution_count": 85,
     "metadata": {},
     "output_type": "execute_result"
    }
   ],
   "source": [
    "NAAME=[]\n",
    "for i in naame:\n",
    "    NAAME.append(i.text)\n",
    "NAAME[0:10]"
   ]
  },
  {
   "cell_type": "code",
   "execution_count": 86,
   "metadata": {},
   "outputs": [],
   "source": [
    "NAAME=NAAME[0:10]\n",
    "EXPEERIENCE=EXPEERIENCE[0:10]\n",
    "LOOCATION=LOOCATION[0:10]\n",
    "TIITLE=TIITLE[0:10]"
   ]
  },
  {
   "cell_type": "code",
   "execution_count": 87,
   "metadata": {},
   "outputs": [],
   "source": [
    "A=pd.DataFrame()\n",
    "A[\"NAME\"]=NAAME\n",
    "A[\"EXPERIENCE\"]=EXPEERIENCE\n",
    "A['LOCATION']=LOOCATION\n",
    "A[\"TITLE\"]=TIITLE"
   ]
  },
  {
   "cell_type": "code",
   "execution_count": 88,
   "metadata": {},
   "outputs": [
    {
     "data": {
      "text/html": [
       "<div>\n",
       "<style scoped>\n",
       "    .dataframe tbody tr th:only-of-type {\n",
       "        vertical-align: middle;\n",
       "    }\n",
       "\n",
       "    .dataframe tbody tr th {\n",
       "        vertical-align: top;\n",
       "    }\n",
       "\n",
       "    .dataframe thead th {\n",
       "        text-align: right;\n",
       "    }\n",
       "</style>\n",
       "<table border=\"1\" class=\"dataframe\">\n",
       "  <thead>\n",
       "    <tr style=\"text-align: right;\">\n",
       "      <th></th>\n",
       "      <th>NAME</th>\n",
       "      <th>EXPERIENCE</th>\n",
       "      <th>LOCATION</th>\n",
       "      <th>TITLE</th>\n",
       "    </tr>\n",
       "  </thead>\n",
       "  <tbody>\n",
       "    <tr>\n",
       "      <th>0</th>\n",
       "      <td>GABA Consultancy services</td>\n",
       "      <td>0-0 Yrs</td>\n",
       "      <td>Noida, New Delhi, Delhi / NCR</td>\n",
       "      <td>Data Analyst / Data Scientist / Business Analy...</td>\n",
       "    </tr>\n",
       "    <tr>\n",
       "      <th>1</th>\n",
       "      <td>Smart work Consultants</td>\n",
       "      <td>1-4 Yrs</td>\n",
       "      <td>Noida</td>\n",
       "      <td>Associate Data Scientist - Java/ Scala/ Apache...</td>\n",
       "    </tr>\n",
       "    <tr>\n",
       "      <th>2</th>\n",
       "      <td>Jubna</td>\n",
       "      <td>4-7 Yrs</td>\n",
       "      <td>Noida</td>\n",
       "      <td>Data Scientist(Python|Machine Learning)</td>\n",
       "    </tr>\n",
       "    <tr>\n",
       "      <th>3</th>\n",
       "      <td>Lumiq.ai</td>\n",
       "      <td>2-6 Yrs</td>\n",
       "      <td>Noida, New Delhi, Greater Noida</td>\n",
       "      <td>Hiring For Senior Data Scientist-Noida</td>\n",
       "    </tr>\n",
       "    <tr>\n",
       "      <th>4</th>\n",
       "      <td>TeamPlus Staffing Solution Pvt Ltd</td>\n",
       "      <td>3-6 Yrs</td>\n",
       "      <td>Gurgaon/Gurugram</td>\n",
       "      <td>Data scientist- Python</td>\n",
       "    </tr>\n",
       "    <tr>\n",
       "      <th>5</th>\n",
       "      <td>NTT Data</td>\n",
       "      <td>0-0 Yrs</td>\n",
       "      <td>Noida, Kolkata, Hyderabad/Secunderabad, Pune, ...</td>\n",
       "      <td>Excellent Opportunity For Freshers For AI/ML, ...</td>\n",
       "    </tr>\n",
       "    <tr>\n",
       "      <th>6</th>\n",
       "      <td>EXL</td>\n",
       "      <td>3-8 Yrs</td>\n",
       "      <td>Bangalore/Bengaluru, Delhi / NCR\\n(WFH during ...</td>\n",
       "      <td>Data Scientist _NLP</td>\n",
       "    </tr>\n",
       "    <tr>\n",
       "      <th>7</th>\n",
       "      <td>GABA Consultancy services</td>\n",
       "      <td>0-0 Yrs</td>\n",
       "      <td>Noida, New Delhi, Gurgaon/Gurugram</td>\n",
       "      <td>Only Fresher / Python Data Scientist / Trainee...</td>\n",
       "    </tr>\n",
       "    <tr>\n",
       "      <th>8</th>\n",
       "      <td>2Coms</td>\n",
       "      <td>2-7 Yrs</td>\n",
       "      <td>New Delhi, Delhi</td>\n",
       "      <td>Data Scientist (freelance)</td>\n",
       "    </tr>\n",
       "    <tr>\n",
       "      <th>9</th>\n",
       "      <td>Sejal Consulting Hub</td>\n",
       "      <td>0-3 Yrs</td>\n",
       "      <td>Kolkata, Hyderabad/Secunderabad, Pune, Ahmedab...</td>\n",
       "      <td>Junior Data Analyst/ Scientist- Fresher Position</td>\n",
       "    </tr>\n",
       "  </tbody>\n",
       "</table>\n",
       "</div>"
      ],
      "text/plain": [
       "                                 NAME EXPERIENCE  \\\n",
       "0           GABA Consultancy services    0-0 Yrs   \n",
       "1              Smart work Consultants    1-4 Yrs   \n",
       "2                               Jubna    4-7 Yrs   \n",
       "3                            Lumiq.ai    2-6 Yrs   \n",
       "4  TeamPlus Staffing Solution Pvt Ltd    3-6 Yrs   \n",
       "5                            NTT Data    0-0 Yrs   \n",
       "6                                 EXL    3-8 Yrs   \n",
       "7           GABA Consultancy services    0-0 Yrs   \n",
       "8                               2Coms    2-7 Yrs   \n",
       "9                Sejal Consulting Hub    0-3 Yrs   \n",
       "\n",
       "                                            LOCATION  \\\n",
       "0                      Noida, New Delhi, Delhi / NCR   \n",
       "1                                              Noida   \n",
       "2                                              Noida   \n",
       "3                    Noida, New Delhi, Greater Noida   \n",
       "4                                   Gurgaon/Gurugram   \n",
       "5  Noida, Kolkata, Hyderabad/Secunderabad, Pune, ...   \n",
       "6  Bangalore/Bengaluru, Delhi / NCR\\n(WFH during ...   \n",
       "7                 Noida, New Delhi, Gurgaon/Gurugram   \n",
       "8                                   New Delhi, Delhi   \n",
       "9  Kolkata, Hyderabad/Secunderabad, Pune, Ahmedab...   \n",
       "\n",
       "                                               TITLE  \n",
       "0  Data Analyst / Data Scientist / Business Analy...  \n",
       "1  Associate Data Scientist - Java/ Scala/ Apache...  \n",
       "2            Data Scientist(Python|Machine Learning)  \n",
       "3             Hiring For Senior Data Scientist-Noida  \n",
       "4                             Data scientist- Python  \n",
       "5  Excellent Opportunity For Freshers For AI/ML, ...  \n",
       "6                                Data Scientist _NLP  \n",
       "7  Only Fresher / Python Data Scientist / Trainee...  \n",
       "8                         Data Scientist (freelance)  \n",
       "9   Junior Data Analyst/ Scientist- Fresher Position  "
      ]
     },
     "execution_count": 88,
     "metadata": {},
     "output_type": "execute_result"
    }
   ],
   "source": [
    "A"
   ]
  },
  {
   "cell_type": "markdown",
   "metadata": {},
   "source": [
    "# ANS.4-"
   ]
  },
  {
   "cell_type": "code",
   "execution_count": 4,
   "metadata": {},
   "outputs": [
    {
     "data": {
      "text/plain": [
       "<selenium.webdriver.chrome.webdriver.WebDriver (session=\"3b8ffc657b0bae070afa84ffee872b30\")>"
      ]
     },
     "execution_count": 4,
     "metadata": {},
     "output_type": "execute_result"
    }
   ],
   "source": [
    "driver=webdriver.Chrome(r\"C:/Users/sumit/Downloads/chromedriver_win32/chromedriver\")\n",
    "driver"
   ]
  },
  {
   "cell_type": "code",
   "execution_count": 6,
   "metadata": {},
   "outputs": [
    {
     "data": {
      "text/plain": [
       "<selenium.webdriver.chrome.webdriver.WebDriver (session=\"9148f257906269522daae78b32d235ba\")>"
      ]
     },
     "execution_count": 6,
     "metadata": {},
     "output_type": "execute_result"
    }
   ],
   "source": [
    "driver=webdriver.Chrome(\"chromedriver\")\n",
    "driver"
   ]
  },
  {
   "cell_type": "code",
   "execution_count": 7,
   "metadata": {},
   "outputs": [],
   "source": [
    "url=\"https://www.flipkart.com/\"\n",
    "driver.get(url)"
   ]
  },
  {
   "cell_type": "code",
   "execution_count": 8,
   "metadata": {},
   "outputs": [
    {
     "data": {
      "text/plain": [
       "<selenium.webdriver.remote.webelement.WebElement (session=\"9148f257906269522daae78b32d235ba\", element=\"11b4dfe2-6956-47ba-9bdc-e2c9aae00a5b\")>"
      ]
     },
     "execution_count": 8,
     "metadata": {},
     "output_type": "execute_result"
    }
   ],
   "source": [
    "search=driver.find_element_by_xpath(\"/html/body/div[1]/div/div[1]/div[1]/div[2]/div[2]/form/div/div/input\")\n",
    "search"
   ]
  },
  {
   "cell_type": "code",
   "execution_count": 9,
   "metadata": {},
   "outputs": [],
   "source": [
    "search.send_keys(\"sunglasses\")"
   ]
  },
  {
   "cell_type": "code",
   "execution_count": 12,
   "metadata": {},
   "outputs": [
    {
     "data": {
      "text/plain": [
       "<selenium.webdriver.remote.webelement.WebElement (session=\"9148f257906269522daae78b32d235ba\", element=\"814dbc14-75f0-4563-a651-5e801e40b3bc\")>"
      ]
     },
     "execution_count": 12,
     "metadata": {},
     "output_type": "execute_result"
    }
   ],
   "source": [
    "search1=driver.find_element_by_xpath(\"/html/body/div[1]/div/div[1]/div[1]/div[2]/div[2]/form/div/button\")\n",
    "search1"
   ]
  },
  {
   "cell_type": "code",
   "execution_count": 13,
   "metadata": {},
   "outputs": [],
   "source": [
    "search1.click()"
   ]
  },
  {
   "cell_type": "code",
   "execution_count": 16,
   "metadata": {},
   "outputs": [
    {
     "data": {
      "text/plain": [
       "[<selenium.webdriver.remote.webelement.WebElement (session=\"9148f257906269522daae78b32d235ba\", element=\"ffeb8fe2-7e62-47ef-962c-d51ef9376b74\")>,\n",
       " <selenium.webdriver.remote.webelement.WebElement (session=\"9148f257906269522daae78b32d235ba\", element=\"ffb856d4-daee-4037-99fc-c1f783946e87\")>,\n",
       " <selenium.webdriver.remote.webelement.WebElement (session=\"9148f257906269522daae78b32d235ba\", element=\"d40150c5-b3e9-4474-b4b3-8bc183cdb312\")>,\n",
       " <selenium.webdriver.remote.webelement.WebElement (session=\"9148f257906269522daae78b32d235ba\", element=\"c9d84a3e-b9c0-4d06-866d-807185710d28\")>,\n",
       " <selenium.webdriver.remote.webelement.WebElement (session=\"9148f257906269522daae78b32d235ba\", element=\"8e6e77ae-0242-4495-a698-84a5e2c78721\")>,\n",
       " <selenium.webdriver.remote.webelement.WebElement (session=\"9148f257906269522daae78b32d235ba\", element=\"ef58c02d-42ec-4e17-93c7-38f7d494f2f1\")>,\n",
       " <selenium.webdriver.remote.webelement.WebElement (session=\"9148f257906269522daae78b32d235ba\", element=\"5930ef59-4210-439f-92e6-648223511352\")>,\n",
       " <selenium.webdriver.remote.webelement.WebElement (session=\"9148f257906269522daae78b32d235ba\", element=\"f5e1b837-0661-4965-9832-b0f390bd21c8\")>,\n",
       " <selenium.webdriver.remote.webelement.WebElement (session=\"9148f257906269522daae78b32d235ba\", element=\"3989b482-4ab2-43e2-b414-0c6cc9dc036b\")>,\n",
       " <selenium.webdriver.remote.webelement.WebElement (session=\"9148f257906269522daae78b32d235ba\", element=\"883455d1-24e7-4449-aced-b08a94483e5e\")>,\n",
       " <selenium.webdriver.remote.webelement.WebElement (session=\"9148f257906269522daae78b32d235ba\", element=\"b34ee597-1531-40f4-bed9-8f4be430fbd7\")>,\n",
       " <selenium.webdriver.remote.webelement.WebElement (session=\"9148f257906269522daae78b32d235ba\", element=\"504d7ba1-3136-4e2f-aeb0-cccc0576e9b2\")>,\n",
       " <selenium.webdriver.remote.webelement.WebElement (session=\"9148f257906269522daae78b32d235ba\", element=\"4362c124-a46d-4986-82fb-c994580c77ee\")>,\n",
       " <selenium.webdriver.remote.webelement.WebElement (session=\"9148f257906269522daae78b32d235ba\", element=\"155d4873-0450-4706-9982-06a554ff9d77\")>,\n",
       " <selenium.webdriver.remote.webelement.WebElement (session=\"9148f257906269522daae78b32d235ba\", element=\"cc07d7d9-057b-41e2-be30-48c2a1172811\")>,\n",
       " <selenium.webdriver.remote.webelement.WebElement (session=\"9148f257906269522daae78b32d235ba\", element=\"3cae7d79-3104-4c2e-9185-1bd124fd733f\")>,\n",
       " <selenium.webdriver.remote.webelement.WebElement (session=\"9148f257906269522daae78b32d235ba\", element=\"fddf81ba-2b41-4f22-beb1-b8d22dddac67\")>,\n",
       " <selenium.webdriver.remote.webelement.WebElement (session=\"9148f257906269522daae78b32d235ba\", element=\"5fc69d0e-9518-4d42-b535-03824de5001f\")>,\n",
       " <selenium.webdriver.remote.webelement.WebElement (session=\"9148f257906269522daae78b32d235ba\", element=\"8625785e-6ecb-47c6-9313-bd5feccdde84\")>,\n",
       " <selenium.webdriver.remote.webelement.WebElement (session=\"9148f257906269522daae78b32d235ba\", element=\"fa2ecf2b-3e42-426b-9948-02de221dbd4e\")>,\n",
       " <selenium.webdriver.remote.webelement.WebElement (session=\"9148f257906269522daae78b32d235ba\", element=\"9eba14e9-ac07-486a-9f6f-5c0d03a7ff23\")>,\n",
       " <selenium.webdriver.remote.webelement.WebElement (session=\"9148f257906269522daae78b32d235ba\", element=\"36831048-3b80-4142-9d4f-83c4021e9811\")>,\n",
       " <selenium.webdriver.remote.webelement.WebElement (session=\"9148f257906269522daae78b32d235ba\", element=\"8d936539-8f6a-4e3a-9b3d-66de652f9ce8\")>,\n",
       " <selenium.webdriver.remote.webelement.WebElement (session=\"9148f257906269522daae78b32d235ba\", element=\"23560c2d-8d9c-4060-9d2b-25cef5d5eb8a\")>,\n",
       " <selenium.webdriver.remote.webelement.WebElement (session=\"9148f257906269522daae78b32d235ba\", element=\"8d23f09b-46bb-449b-875c-510ceed94abe\")>,\n",
       " <selenium.webdriver.remote.webelement.WebElement (session=\"9148f257906269522daae78b32d235ba\", element=\"62a7ceef-7872-4243-9947-15015d4faddd\")>,\n",
       " <selenium.webdriver.remote.webelement.WebElement (session=\"9148f257906269522daae78b32d235ba\", element=\"23b96676-ba0a-4776-a833-0779a5563394\")>,\n",
       " <selenium.webdriver.remote.webelement.WebElement (session=\"9148f257906269522daae78b32d235ba\", element=\"cc42e4a8-1a4a-4bcc-8063-3e600ea05458\")>,\n",
       " <selenium.webdriver.remote.webelement.WebElement (session=\"9148f257906269522daae78b32d235ba\", element=\"fd75a2d6-ef16-40b4-9cd8-473a2905e205\")>,\n",
       " <selenium.webdriver.remote.webelement.WebElement (session=\"9148f257906269522daae78b32d235ba\", element=\"82c60282-03d1-4a77-9633-036b2eb43221\")>,\n",
       " <selenium.webdriver.remote.webelement.WebElement (session=\"9148f257906269522daae78b32d235ba\", element=\"0af646c9-649a-4fe7-922d-2d77cf262600\")>,\n",
       " <selenium.webdriver.remote.webelement.WebElement (session=\"9148f257906269522daae78b32d235ba\", element=\"207d9a14-7271-4c92-98b3-d109f49af4a4\")>,\n",
       " <selenium.webdriver.remote.webelement.WebElement (session=\"9148f257906269522daae78b32d235ba\", element=\"ecceac2f-115a-44d4-a455-a99ba2ab5154\")>,\n",
       " <selenium.webdriver.remote.webelement.WebElement (session=\"9148f257906269522daae78b32d235ba\", element=\"6d14d70c-0b31-4431-ac13-19bfc67bc637\")>,\n",
       " <selenium.webdriver.remote.webelement.WebElement (session=\"9148f257906269522daae78b32d235ba\", element=\"13c0bdbb-813f-4414-b532-916cb759bf24\")>,\n",
       " <selenium.webdriver.remote.webelement.WebElement (session=\"9148f257906269522daae78b32d235ba\", element=\"382d738f-89ad-4539-813b-4883e98f482e\")>,\n",
       " <selenium.webdriver.remote.webelement.WebElement (session=\"9148f257906269522daae78b32d235ba\", element=\"1d802061-cd8e-4902-b62f-73e0bc037756\")>,\n",
       " <selenium.webdriver.remote.webelement.WebElement (session=\"9148f257906269522daae78b32d235ba\", element=\"6320bca6-15c5-4591-84b9-f586ccfe78c9\")>,\n",
       " <selenium.webdriver.remote.webelement.WebElement (session=\"9148f257906269522daae78b32d235ba\", element=\"14fcffa9-3a7f-4c92-85d1-a8326599ed50\")>,\n",
       " <selenium.webdriver.remote.webelement.WebElement (session=\"9148f257906269522daae78b32d235ba\", element=\"0a8e84ff-c059-4548-b5a1-a88055eb6277\")>]"
      ]
     },
     "execution_count": 16,
     "metadata": {},
     "output_type": "execute_result"
    }
   ],
   "source": [
    "brand=driver.find_elements_by_xpath('//div[@class=\"_2WkVRV\"]')\n",
    "brand"
   ]
  },
  {
   "cell_type": "code",
   "execution_count": 21,
   "metadata": {},
   "outputs": [
    {
     "data": {
      "text/plain": [
       "['PIRASO',\n",
       " 'chawla fashion',\n",
       " 'SRPM',\n",
       " 'Elligator',\n",
       " 'SUNBEE',\n",
       " 'PIRASO',\n",
       " 'Lee Topper',\n",
       " 'PIRASO',\n",
       " 'ROZZETTA CRAFT',\n",
       " 'SHAAH COLLECTIONS',\n",
       " 'DEIXELS',\n",
       " 'chawla fashion',\n",
       " 'PIRASO',\n",
       " 'SRPM',\n",
       " 'GANSTA',\n",
       " 'povty',\n",
       " 'kingsunglasses',\n",
       " 'Fastrack',\n",
       " 'hipe',\n",
       " 'ROYAL SON',\n",
       " 'PIRASO',\n",
       " 'GANSTA',\n",
       " 'Silver Kartz',\n",
       " 'PIRASO',\n",
       " 'PHENOMENAL',\n",
       " 'kingsunglasses',\n",
       " 'SUNBEE',\n",
       " 'PIRASO',\n",
       " 'Elligator',\n",
       " 'ROZZETTA CRAFT',\n",
       " 'ROZZETTA CRAFT',\n",
       " 'ROYAL SON',\n",
       " 'New Specs',\n",
       " 'Lee Topper',\n",
       " 'Fastrack',\n",
       " 'VINCENT CHASE',\n",
       " 'hipe',\n",
       " 'hipe',\n",
       " 'PIRASO',\n",
       " 'ROYAL SON']"
      ]
     },
     "execution_count": 21,
     "metadata": {},
     "output_type": "execute_result"
    }
   ],
   "source": [
    "BRAND=[]\n",
    "for i in brand:\n",
    "    BRAND.append(i.text)\n",
    "BRAND"
   ]
  },
  {
   "cell_type": "code",
   "execution_count": 22,
   "metadata": {},
   "outputs": [
    {
     "data": {
      "text/plain": [
       "[<selenium.webdriver.remote.webelement.WebElement (session=\"9148f257906269522daae78b32d235ba\", element=\"dffee536-bd80-4565-9f6b-c1a2d383cb45\")>,\n",
       " <selenium.webdriver.remote.webelement.WebElement (session=\"9148f257906269522daae78b32d235ba\", element=\"e51ec4eb-3744-4dd7-8677-5aac8bbf2d76\")>,\n",
       " <selenium.webdriver.remote.webelement.WebElement (session=\"9148f257906269522daae78b32d235ba\", element=\"4b42bfe3-d2bb-4fb7-b756-86cdefef8f0d\")>,\n",
       " <selenium.webdriver.remote.webelement.WebElement (session=\"9148f257906269522daae78b32d235ba\", element=\"38d69f37-a8ac-4cb0-9600-3394cf9eb04e\")>,\n",
       " <selenium.webdriver.remote.webelement.WebElement (session=\"9148f257906269522daae78b32d235ba\", element=\"d280c0ec-74c2-48af-bd21-1d4fe1d68323\")>,\n",
       " <selenium.webdriver.remote.webelement.WebElement (session=\"9148f257906269522daae78b32d235ba\", element=\"aa86590c-5e58-4828-b7d5-33ada1b2551b\")>,\n",
       " <selenium.webdriver.remote.webelement.WebElement (session=\"9148f257906269522daae78b32d235ba\", element=\"ba1337af-16bf-46e4-afa9-2b204aabe3a6\")>,\n",
       " <selenium.webdriver.remote.webelement.WebElement (session=\"9148f257906269522daae78b32d235ba\", element=\"9c81d1d9-d29a-4343-b0ae-3380a7352065\")>,\n",
       " <selenium.webdriver.remote.webelement.WebElement (session=\"9148f257906269522daae78b32d235ba\", element=\"7dd14c92-bfab-4f44-938a-28ca7866bbb5\")>,\n",
       " <selenium.webdriver.remote.webelement.WebElement (session=\"9148f257906269522daae78b32d235ba\", element=\"4d134eea-0d4a-4093-8ba9-df783aa99998\")>,\n",
       " <selenium.webdriver.remote.webelement.WebElement (session=\"9148f257906269522daae78b32d235ba\", element=\"198e102f-28df-4be4-a845-ae9a70657339\")>,\n",
       " <selenium.webdriver.remote.webelement.WebElement (session=\"9148f257906269522daae78b32d235ba\", element=\"3d75a9ae-d4e8-4171-bef7-bcc51e685a01\")>,\n",
       " <selenium.webdriver.remote.webelement.WebElement (session=\"9148f257906269522daae78b32d235ba\", element=\"dc066eeb-029c-4d4c-bbc6-4d90b26c764a\")>,\n",
       " <selenium.webdriver.remote.webelement.WebElement (session=\"9148f257906269522daae78b32d235ba\", element=\"f51058f3-0e37-4b6a-961b-63d4f0e8d94c\")>,\n",
       " <selenium.webdriver.remote.webelement.WebElement (session=\"9148f257906269522daae78b32d235ba\", element=\"ee252f70-c9cd-4ee3-8a09-c29c1a62a246\")>,\n",
       " <selenium.webdriver.remote.webelement.WebElement (session=\"9148f257906269522daae78b32d235ba\", element=\"0d5b376c-7b45-4d3b-8d2a-bd66a7813c52\")>,\n",
       " <selenium.webdriver.remote.webelement.WebElement (session=\"9148f257906269522daae78b32d235ba\", element=\"1eadda19-41b0-4d92-9c5d-4cf8ce739742\")>,\n",
       " <selenium.webdriver.remote.webelement.WebElement (session=\"9148f257906269522daae78b32d235ba\", element=\"57df6c29-584b-4ae8-986a-6ab8ebd2b91b\")>,\n",
       " <selenium.webdriver.remote.webelement.WebElement (session=\"9148f257906269522daae78b32d235ba\", element=\"76a123a3-9e5a-4827-8bf0-d5534059bd98\")>,\n",
       " <selenium.webdriver.remote.webelement.WebElement (session=\"9148f257906269522daae78b32d235ba\", element=\"b063c111-c5dd-4a54-8c4b-bbe1f9307867\")>,\n",
       " <selenium.webdriver.remote.webelement.WebElement (session=\"9148f257906269522daae78b32d235ba\", element=\"82aad142-c79e-499e-bf3f-28a16de89869\")>,\n",
       " <selenium.webdriver.remote.webelement.WebElement (session=\"9148f257906269522daae78b32d235ba\", element=\"74c91bf4-2cbd-432b-868f-99c6aaaf2b03\")>,\n",
       " <selenium.webdriver.remote.webelement.WebElement (session=\"9148f257906269522daae78b32d235ba\", element=\"4f5a6566-9ad6-4641-8f7b-bb24a7300e22\")>,\n",
       " <selenium.webdriver.remote.webelement.WebElement (session=\"9148f257906269522daae78b32d235ba\", element=\"cd8d27f7-873f-4af1-8fae-ec84be3dba98\")>,\n",
       " <selenium.webdriver.remote.webelement.WebElement (session=\"9148f257906269522daae78b32d235ba\", element=\"970cea57-41a8-478b-96ae-ab01fa6974aa\")>,\n",
       " <selenium.webdriver.remote.webelement.WebElement (session=\"9148f257906269522daae78b32d235ba\", element=\"fd4ad9f0-9ff9-46ed-a06b-daeecec15c2c\")>,\n",
       " <selenium.webdriver.remote.webelement.WebElement (session=\"9148f257906269522daae78b32d235ba\", element=\"5595f6de-8018-4ba1-8708-f2a631e80894\")>,\n",
       " <selenium.webdriver.remote.webelement.WebElement (session=\"9148f257906269522daae78b32d235ba\", element=\"56953e4f-4f41-4bd7-996b-eec590fe04eb\")>,\n",
       " <selenium.webdriver.remote.webelement.WebElement (session=\"9148f257906269522daae78b32d235ba\", element=\"52dc2647-0e17-46da-8386-cf4cac431878\")>,\n",
       " <selenium.webdriver.remote.webelement.WebElement (session=\"9148f257906269522daae78b32d235ba\", element=\"0bcbed23-152d-4781-957d-5b6d8287db3c\")>,\n",
       " <selenium.webdriver.remote.webelement.WebElement (session=\"9148f257906269522daae78b32d235ba\", element=\"a79e6530-42a9-424a-a014-df1e1148ff06\")>,\n",
       " <selenium.webdriver.remote.webelement.WebElement (session=\"9148f257906269522daae78b32d235ba\", element=\"64ac3752-ee89-4cc9-8bc2-fd50d4b60a46\")>,\n",
       " <selenium.webdriver.remote.webelement.WebElement (session=\"9148f257906269522daae78b32d235ba\", element=\"dd8be1c5-5cf6-44d7-bd03-65a6f9204811\")>,\n",
       " <selenium.webdriver.remote.webelement.WebElement (session=\"9148f257906269522daae78b32d235ba\", element=\"d9a8c914-dce6-4379-98f3-6e95f8abaf11\")>,\n",
       " <selenium.webdriver.remote.webelement.WebElement (session=\"9148f257906269522daae78b32d235ba\", element=\"59de0885-388d-4011-b363-f2dd7d938858\")>,\n",
       " <selenium.webdriver.remote.webelement.WebElement (session=\"9148f257906269522daae78b32d235ba\", element=\"7ff4515c-12e3-4925-bd6e-3d34d43afe5c\")>,\n",
       " <selenium.webdriver.remote.webelement.WebElement (session=\"9148f257906269522daae78b32d235ba\", element=\"23110305-6251-4468-ab1e-ecabe2b3b388\")>,\n",
       " <selenium.webdriver.remote.webelement.WebElement (session=\"9148f257906269522daae78b32d235ba\", element=\"0b576d23-122d-4b98-ad16-337f03daebf7\")>,\n",
       " <selenium.webdriver.remote.webelement.WebElement (session=\"9148f257906269522daae78b32d235ba\", element=\"5989eee0-475c-46a4-8f4f-cd6894223fbd\")>]"
      ]
     },
     "execution_count": 22,
     "metadata": {},
     "output_type": "execute_result"
    }
   ],
   "source": [
    "description=driver.find_elements_by_xpath('//a[@class=\"IRpwTa\"]')\n",
    "description"
   ]
  },
  {
   "cell_type": "code",
   "execution_count": 23,
   "metadata": {},
   "outputs": [
    {
     "data": {
      "text/plain": [
       "['UV Protection Aviator Sunglasses (54)',\n",
       " 'UV Protection Wayfarer Sunglasses (50)',\n",
       " 'UV Protection Round Sunglasses (54)',\n",
       " 'UV Protection, Polarized Wayfarer Sunglasses (Free Size...',\n",
       " 'UV Protection Aviator Sunglasses (54)',\n",
       " 'Riding Glasses Wrap-around Sunglasses (Free Size)',\n",
       " 'UV Protection Aviator Sunglasses (55)',\n",
       " 'Polarized, Night Vision, Riding Glasses Sports, Wrap-ar...',\n",
       " 'UV Protection, Polarized, Mirrored Rectangular Sunglass...',\n",
       " 'UV Protection Aviator, Wayfarer Sunglasses (Free Size)',\n",
       " 'UV Protection Round Sunglasses (Free Size)',\n",
       " 'UV Protection Aviator Sunglasses (58)',\n",
       " 'UV Protection Wayfarer Sunglasses (53)',\n",
       " 'UV Protection Aviator Sunglasses (57)',\n",
       " 'UV Protection Retro Square Sunglasses (Free Size)',\n",
       " 'UV Protection, Riding Glasses, Mirrored Wayfarer Sungla...',\n",
       " 'UV Protection Rectangular Sunglasses (Free Size)',\n",
       " 'UV Protection Sports Sunglasses (Free Size)',\n",
       " 'Polarized, UV Protection Round Sunglasses (52)',\n",
       " 'UV Protection Aviator Sunglasses (54)',\n",
       " 'UV Protection, Riding Glasses Wayfarer Sunglasses (53)',\n",
       " 'UV Protection Wayfarer Sunglasses (Free Size)',\n",
       " 'UV Protection Rectangular, Over-sized Sunglasses (Free ...',\n",
       " 'UV Protection Retro Square Sunglasses (53)',\n",
       " 'UV Protection Round Sunglasses (Free Size)',\n",
       " 'UV Protection, Polarized, Mirrored Round Sunglasses (Fr...',\n",
       " 'UV Protection Butterfly Sunglasses (60)',\n",
       " 'UV Protection Round Sunglasses (53)',\n",
       " 'UV Protection, Gradient Rectangular Sunglasses (Free Si...',\n",
       " 'UV Protection Retro Square Sunglasses (Free Size)',\n",
       " 'UV Protection Retro Square Sunglasses (60)',\n",
       " 'UV Protection, Mirrored Sports Sunglasses (Free Size)',\n",
       " 'UV Protection Rectangular Sunglasses (Free Size)',\n",
       " 'Gradient, UV Protection Wayfarer Sunglasses (Free Size)',\n",
       " 'UV Protection Wayfarer Sunglasses (55)',\n",
       " 'UV Protection, Gradient, Riding Glasses Wayfarer Sungla...',\n",
       " 'UV Protection, Gradient, Mirrored, Riding Glasses Aviat...',\n",
       " 'UV Protection Wayfarer Sunglasses (32)',\n",
       " 'Polarized Retro Square Sunglasses (61)']"
      ]
     },
     "execution_count": 23,
     "metadata": {},
     "output_type": "execute_result"
    }
   ],
   "source": [
    "DESCRIPTION=[]\n",
    "for i in description:\n",
    "    DESCRIPTION.append(i.text)\n",
    "DESCRIPTION"
   ]
  },
  {
   "cell_type": "code",
   "execution_count": 24,
   "metadata": {},
   "outputs": [
    {
     "data": {
      "text/plain": [
       "[<selenium.webdriver.remote.webelement.WebElement (session=\"9148f257906269522daae78b32d235ba\", element=\"b2bc2e9f-2a1e-45de-8068-4854b19c7608\")>,\n",
       " <selenium.webdriver.remote.webelement.WebElement (session=\"9148f257906269522daae78b32d235ba\", element=\"3f5954ac-73ce-4c46-abad-bac1f46f829a\")>,\n",
       " <selenium.webdriver.remote.webelement.WebElement (session=\"9148f257906269522daae78b32d235ba\", element=\"15f1f676-70e3-46a7-84bc-8bfcbe2187e3\")>,\n",
       " <selenium.webdriver.remote.webelement.WebElement (session=\"9148f257906269522daae78b32d235ba\", element=\"30c089ef-0853-4767-be88-4e8a1eeccf66\")>,\n",
       " <selenium.webdriver.remote.webelement.WebElement (session=\"9148f257906269522daae78b32d235ba\", element=\"83857162-22e1-4ba4-9bad-05e0115dad01\")>,\n",
       " <selenium.webdriver.remote.webelement.WebElement (session=\"9148f257906269522daae78b32d235ba\", element=\"7c072e9c-08f4-4290-95f7-b25e5149c6e6\")>,\n",
       " <selenium.webdriver.remote.webelement.WebElement (session=\"9148f257906269522daae78b32d235ba\", element=\"a50df7e0-2d16-46ed-a6ff-095e38aa0f4c\")>,\n",
       " <selenium.webdriver.remote.webelement.WebElement (session=\"9148f257906269522daae78b32d235ba\", element=\"81f4c541-206a-4606-b9ba-828267bdf0d6\")>,\n",
       " <selenium.webdriver.remote.webelement.WebElement (session=\"9148f257906269522daae78b32d235ba\", element=\"402ab71e-42fe-4373-bb89-5afa6f357871\")>,\n",
       " <selenium.webdriver.remote.webelement.WebElement (session=\"9148f257906269522daae78b32d235ba\", element=\"4ea40eff-395e-473a-92ab-10af7d8bbc28\")>,\n",
       " <selenium.webdriver.remote.webelement.WebElement (session=\"9148f257906269522daae78b32d235ba\", element=\"84b8f43f-091b-46ae-9f96-fb5de21c8bf4\")>,\n",
       " <selenium.webdriver.remote.webelement.WebElement (session=\"9148f257906269522daae78b32d235ba\", element=\"ea338fca-4604-4112-9a8d-b00cbac8a157\")>,\n",
       " <selenium.webdriver.remote.webelement.WebElement (session=\"9148f257906269522daae78b32d235ba\", element=\"cf1e8cfd-211b-4e1f-a907-f14f7666dddd\")>,\n",
       " <selenium.webdriver.remote.webelement.WebElement (session=\"9148f257906269522daae78b32d235ba\", element=\"54a23795-3411-468a-9701-c351fef14629\")>,\n",
       " <selenium.webdriver.remote.webelement.WebElement (session=\"9148f257906269522daae78b32d235ba\", element=\"22732d01-79aa-49d4-917d-9a88c2a4dddb\")>,\n",
       " <selenium.webdriver.remote.webelement.WebElement (session=\"9148f257906269522daae78b32d235ba\", element=\"c9856374-0c6d-4720-99ff-c4179f860bab\")>,\n",
       " <selenium.webdriver.remote.webelement.WebElement (session=\"9148f257906269522daae78b32d235ba\", element=\"2f1b27bf-6684-492e-8fc7-757cd2dd73e4\")>,\n",
       " <selenium.webdriver.remote.webelement.WebElement (session=\"9148f257906269522daae78b32d235ba\", element=\"cc008fdd-92b7-41f6-99ec-4a11f92e58b4\")>,\n",
       " <selenium.webdriver.remote.webelement.WebElement (session=\"9148f257906269522daae78b32d235ba\", element=\"723c9c04-2938-4caa-8f09-3bf80c07c2d5\")>,\n",
       " <selenium.webdriver.remote.webelement.WebElement (session=\"9148f257906269522daae78b32d235ba\", element=\"133ddc52-71b6-4789-a2bb-1a91e98d4700\")>,\n",
       " <selenium.webdriver.remote.webelement.WebElement (session=\"9148f257906269522daae78b32d235ba\", element=\"b384522d-4157-469d-8687-2e36e101c0f8\")>,\n",
       " <selenium.webdriver.remote.webelement.WebElement (session=\"9148f257906269522daae78b32d235ba\", element=\"7cf16ef6-4079-4b9e-802f-f8646824b6ae\")>,\n",
       " <selenium.webdriver.remote.webelement.WebElement (session=\"9148f257906269522daae78b32d235ba\", element=\"142ec942-8603-43eb-ac37-b65cdffe2782\")>,\n",
       " <selenium.webdriver.remote.webelement.WebElement (session=\"9148f257906269522daae78b32d235ba\", element=\"51c4c2cd-0712-49a0-9c79-0e66e0372b1e\")>,\n",
       " <selenium.webdriver.remote.webelement.WebElement (session=\"9148f257906269522daae78b32d235ba\", element=\"0229036c-a8b7-4d39-9d19-d5c1db69f16f\")>,\n",
       " <selenium.webdriver.remote.webelement.WebElement (session=\"9148f257906269522daae78b32d235ba\", element=\"cea8e1c7-7206-40e4-a98d-a52bf99ec521\")>,\n",
       " <selenium.webdriver.remote.webelement.WebElement (session=\"9148f257906269522daae78b32d235ba\", element=\"a7936047-5116-4981-bc95-470532af9d56\")>,\n",
       " <selenium.webdriver.remote.webelement.WebElement (session=\"9148f257906269522daae78b32d235ba\", element=\"64464c96-1b01-4ec1-af57-299cb0e55471\")>,\n",
       " <selenium.webdriver.remote.webelement.WebElement (session=\"9148f257906269522daae78b32d235ba\", element=\"9f262c82-a398-4b7b-8d32-56eb86e35a7d\")>,\n",
       " <selenium.webdriver.remote.webelement.WebElement (session=\"9148f257906269522daae78b32d235ba\", element=\"1314e8cf-7cb9-4aaa-b51a-f4a705f59711\")>,\n",
       " <selenium.webdriver.remote.webelement.WebElement (session=\"9148f257906269522daae78b32d235ba\", element=\"02847eca-15d2-4562-84b7-53f68a86a9dd\")>,\n",
       " <selenium.webdriver.remote.webelement.WebElement (session=\"9148f257906269522daae78b32d235ba\", element=\"6fd762a7-8db4-4b39-90f5-3e50872de42b\")>,\n",
       " <selenium.webdriver.remote.webelement.WebElement (session=\"9148f257906269522daae78b32d235ba\", element=\"fa4655fd-077f-4148-bdb7-4abe848537c6\")>,\n",
       " <selenium.webdriver.remote.webelement.WebElement (session=\"9148f257906269522daae78b32d235ba\", element=\"247f2fca-5035-4a2e-bf15-91b7aafc74fc\")>,\n",
       " <selenium.webdriver.remote.webelement.WebElement (session=\"9148f257906269522daae78b32d235ba\", element=\"a1e67e86-deb2-4320-828b-e7ad8607d7ba\")>,\n",
       " <selenium.webdriver.remote.webelement.WebElement (session=\"9148f257906269522daae78b32d235ba\", element=\"49c7852f-ef7f-421e-a0f5-13774a40dbc9\")>,\n",
       " <selenium.webdriver.remote.webelement.WebElement (session=\"9148f257906269522daae78b32d235ba\", element=\"90cf239e-eebb-43e3-95cf-0262f224c9f3\")>,\n",
       " <selenium.webdriver.remote.webelement.WebElement (session=\"9148f257906269522daae78b32d235ba\", element=\"021532bb-4f69-4799-b7d4-e0db7f95350f\")>,\n",
       " <selenium.webdriver.remote.webelement.WebElement (session=\"9148f257906269522daae78b32d235ba\", element=\"5b594cb8-fa9d-46f3-84dd-43cb13cb98dc\")>,\n",
       " <selenium.webdriver.remote.webelement.WebElement (session=\"9148f257906269522daae78b32d235ba\", element=\"77ebba65-d57b-4820-8a86-4b92f4c36f48\")>]"
      ]
     },
     "execution_count": 24,
     "metadata": {},
     "output_type": "execute_result"
    }
   ],
   "source": [
    "price=driver.find_elements_by_xpath('//div[@class=\"_30jeq3\"]')\n",
    "price"
   ]
  },
  {
   "cell_type": "code",
   "execution_count": 25,
   "metadata": {},
   "outputs": [
    {
     "data": {
      "text/plain": [
       "['₹175',\n",
       " '₹108',\n",
       " '₹148',\n",
       " '₹208',\n",
       " '₹203',\n",
       " '₹179',\n",
       " '₹225',\n",
       " '₹200',\n",
       " '₹424',\n",
       " '₹115',\n",
       " '₹152',\n",
       " '₹135',\n",
       " '₹299',\n",
       " '₹170',\n",
       " '₹234',\n",
       " '₹249',\n",
       " '₹134',\n",
       " '₹669',\n",
       " '₹208',\n",
       " '₹709',\n",
       " '₹175',\n",
       " '₹148',\n",
       " '₹196',\n",
       " '₹275',\n",
       " '₹239',\n",
       " '₹239',\n",
       " '₹234',\n",
       " '₹325',\n",
       " '₹139',\n",
       " '₹329',\n",
       " '₹424',\n",
       " '₹614',\n",
       " '₹108',\n",
       " '₹149',\n",
       " '₹669',\n",
       " '₹699',\n",
       " '₹159',\n",
       " '₹154',\n",
       " '₹175',\n",
       " '₹649']"
      ]
     },
     "execution_count": 25,
     "metadata": {},
     "output_type": "execute_result"
    }
   ],
   "source": [
    "PRICE=[]\n",
    "for i in price:\n",
    "    PRICE.append(i.text)\n",
    "PRICE"
   ]
  },
  {
   "cell_type": "code",
   "execution_count": 26,
   "metadata": {},
   "outputs": [
    {
     "data": {
      "text/plain": [
       "[<selenium.webdriver.remote.webelement.WebElement (session=\"9148f257906269522daae78b32d235ba\", element=\"c212aa4d-e1fb-49a1-a493-71ba7e0c1da8\")>,\n",
       " <selenium.webdriver.remote.webelement.WebElement (session=\"9148f257906269522daae78b32d235ba\", element=\"0fd53930-b6cc-443e-ae44-9cd7d216ec02\")>,\n",
       " <selenium.webdriver.remote.webelement.WebElement (session=\"9148f257906269522daae78b32d235ba\", element=\"7734b598-778e-431b-b638-a12570d20946\")>,\n",
       " <selenium.webdriver.remote.webelement.WebElement (session=\"9148f257906269522daae78b32d235ba\", element=\"b803c5ae-79e6-4dee-abe3-90c10a67d8e5\")>,\n",
       " <selenium.webdriver.remote.webelement.WebElement (session=\"9148f257906269522daae78b32d235ba\", element=\"fd8127e7-0802-49ed-aabb-257951aba1c6\")>,\n",
       " <selenium.webdriver.remote.webelement.WebElement (session=\"9148f257906269522daae78b32d235ba\", element=\"52adac5c-b604-4ffc-ac9b-d16371646228\")>,\n",
       " <selenium.webdriver.remote.webelement.WebElement (session=\"9148f257906269522daae78b32d235ba\", element=\"822d56b9-a64b-4d7a-bae7-8153b5e174e1\")>,\n",
       " <selenium.webdriver.remote.webelement.WebElement (session=\"9148f257906269522daae78b32d235ba\", element=\"1c03fab1-dbfd-48b2-a6ec-4964ff766dc7\")>,\n",
       " <selenium.webdriver.remote.webelement.WebElement (session=\"9148f257906269522daae78b32d235ba\", element=\"02239293-1c8f-4523-b232-166efd281cb4\")>,\n",
       " <selenium.webdriver.remote.webelement.WebElement (session=\"9148f257906269522daae78b32d235ba\", element=\"dd35afe5-4219-4c73-8163-6284fa7b912a\")>,\n",
       " <selenium.webdriver.remote.webelement.WebElement (session=\"9148f257906269522daae78b32d235ba\", element=\"0c3670cc-032d-4d58-8ca1-5194a63382db\")>,\n",
       " <selenium.webdriver.remote.webelement.WebElement (session=\"9148f257906269522daae78b32d235ba\", element=\"da495e90-4fa5-46a8-8305-062556c68dde\")>,\n",
       " <selenium.webdriver.remote.webelement.WebElement (session=\"9148f257906269522daae78b32d235ba\", element=\"3f2a1bf0-0f3a-4b82-a007-d15bd922359c\")>,\n",
       " <selenium.webdriver.remote.webelement.WebElement (session=\"9148f257906269522daae78b32d235ba\", element=\"63294a96-a611-42ef-8ec9-9490149db606\")>,\n",
       " <selenium.webdriver.remote.webelement.WebElement (session=\"9148f257906269522daae78b32d235ba\", element=\"48ec9d1e-5c56-4f0c-a48a-40ef4432385d\")>,\n",
       " <selenium.webdriver.remote.webelement.WebElement (session=\"9148f257906269522daae78b32d235ba\", element=\"4a0783a2-56f5-4ee9-be60-11b5e77ebf98\")>,\n",
       " <selenium.webdriver.remote.webelement.WebElement (session=\"9148f257906269522daae78b32d235ba\", element=\"facc2f41-075b-4ca1-826b-590f321cbd6f\")>,\n",
       " <selenium.webdriver.remote.webelement.WebElement (session=\"9148f257906269522daae78b32d235ba\", element=\"f9c16b97-3c49-4498-b47a-5a23626609be\")>,\n",
       " <selenium.webdriver.remote.webelement.WebElement (session=\"9148f257906269522daae78b32d235ba\", element=\"5dca0ad9-2feb-4d6e-8f5e-0176cb088fe5\")>,\n",
       " <selenium.webdriver.remote.webelement.WebElement (session=\"9148f257906269522daae78b32d235ba\", element=\"5efcf96e-4cac-4f8e-897e-424e51ffbe63\")>,\n",
       " <selenium.webdriver.remote.webelement.WebElement (session=\"9148f257906269522daae78b32d235ba\", element=\"c5e9a828-5433-4168-8c19-a7e6483ae2a3\")>,\n",
       " <selenium.webdriver.remote.webelement.WebElement (session=\"9148f257906269522daae78b32d235ba\", element=\"6e40f4c9-3c81-4257-bcf6-e3772b8831a8\")>,\n",
       " <selenium.webdriver.remote.webelement.WebElement (session=\"9148f257906269522daae78b32d235ba\", element=\"2f71da7d-9546-43aa-aa94-2443d1ee3be4\")>,\n",
       " <selenium.webdriver.remote.webelement.WebElement (session=\"9148f257906269522daae78b32d235ba\", element=\"24ae0d06-1e7e-48ce-9451-dd83a8f5419f\")>,\n",
       " <selenium.webdriver.remote.webelement.WebElement (session=\"9148f257906269522daae78b32d235ba\", element=\"637f7e1d-0ca9-4572-b83a-4707bcedbe37\")>,\n",
       " <selenium.webdriver.remote.webelement.WebElement (session=\"9148f257906269522daae78b32d235ba\", element=\"1de5e361-29a4-47e7-918a-2d0d9f5d5857\")>,\n",
       " <selenium.webdriver.remote.webelement.WebElement (session=\"9148f257906269522daae78b32d235ba\", element=\"2044a4f5-decf-4720-8239-9daa69478f70\")>,\n",
       " <selenium.webdriver.remote.webelement.WebElement (session=\"9148f257906269522daae78b32d235ba\", element=\"bcafbae5-c9b8-415a-b2c9-5b8f6191dfa2\")>,\n",
       " <selenium.webdriver.remote.webelement.WebElement (session=\"9148f257906269522daae78b32d235ba\", element=\"53b3bcfb-553e-4c87-ac76-caa8a80d84ce\")>,\n",
       " <selenium.webdriver.remote.webelement.WebElement (session=\"9148f257906269522daae78b32d235ba\", element=\"df425ac8-4c5d-424d-8aa6-8739aadc972f\")>,\n",
       " <selenium.webdriver.remote.webelement.WebElement (session=\"9148f257906269522daae78b32d235ba\", element=\"e1137af0-d900-44c2-9968-637686fa808b\")>,\n",
       " <selenium.webdriver.remote.webelement.WebElement (session=\"9148f257906269522daae78b32d235ba\", element=\"a1f1c7ff-34d2-48ff-9d47-d207629d9e0a\")>,\n",
       " <selenium.webdriver.remote.webelement.WebElement (session=\"9148f257906269522daae78b32d235ba\", element=\"3f246d12-ee88-41b4-97d8-2375373aaa90\")>,\n",
       " <selenium.webdriver.remote.webelement.WebElement (session=\"9148f257906269522daae78b32d235ba\", element=\"179f6a36-8024-40af-b726-0d06631655a3\")>,\n",
       " <selenium.webdriver.remote.webelement.WebElement (session=\"9148f257906269522daae78b32d235ba\", element=\"f79c57d6-aa77-4677-8c28-5102f3bf8d99\")>,\n",
       " <selenium.webdriver.remote.webelement.WebElement (session=\"9148f257906269522daae78b32d235ba\", element=\"3e99aed3-b60a-4d94-88c2-596d5f65e569\")>,\n",
       " <selenium.webdriver.remote.webelement.WebElement (session=\"9148f257906269522daae78b32d235ba\", element=\"93f9cd7b-afac-4da2-a865-0a5501b7f990\")>,\n",
       " <selenium.webdriver.remote.webelement.WebElement (session=\"9148f257906269522daae78b32d235ba\", element=\"deed1dd2-1fd2-415a-b953-76f392c0f7be\")>,\n",
       " <selenium.webdriver.remote.webelement.WebElement (session=\"9148f257906269522daae78b32d235ba\", element=\"415096cf-1bad-43bc-9100-0ca6a21a895d\")>,\n",
       " <selenium.webdriver.remote.webelement.WebElement (session=\"9148f257906269522daae78b32d235ba\", element=\"0ee4f2b6-af1a-4f40-aa60-068d646055b4\")>]"
      ]
     },
     "execution_count": 26,
     "metadata": {},
     "output_type": "execute_result"
    }
   ],
   "source": [
    "discount=driver.find_elements_by_xpath('//div[@class=\"_3Ay6Sb\"]')\n",
    "discount"
   ]
  },
  {
   "cell_type": "code",
   "execution_count": 27,
   "metadata": {},
   "outputs": [
    {
     "data": {
      "text/plain": [
       "['89% off',\n",
       " '91% off',\n",
       " '88% off',\n",
       " '91% off',\n",
       " '84% off',\n",
       " '88% off',\n",
       " '90% off',\n",
       " '87% off',\n",
       " '78% off',\n",
       " '93% off',\n",
       " '87% off',\n",
       " '86% off',\n",
       " '88% off',\n",
       " '82% off',\n",
       " '88% off',\n",
       " '75% off',\n",
       " '88% off',\n",
       " '16% off',\n",
       " '89% off',\n",
       " '64% off',\n",
       " '89% off',\n",
       " '91% off',\n",
       " '86% off',\n",
       " '90% off',\n",
       " '76% off',\n",
       " '85% off',\n",
       " '86% off',\n",
       " '87% off',\n",
       " '86% off',\n",
       " '83% off',\n",
       " '80% off',\n",
       " '69% off',\n",
       " '91% off',\n",
       " '85% off',\n",
       " '25% off',\n",
       " '65% off',\n",
       " '84% off',\n",
       " '84% off',\n",
       " '89% off',\n",
       " '56% off']"
      ]
     },
     "execution_count": 27,
     "metadata": {},
     "output_type": "execute_result"
    }
   ],
   "source": [
    "DISCOUNT=[]\n",
    "for i in discount:\n",
    "    DISCOUNT.append(i.text)\n",
    "DISCOUNT"
   ]
  },
  {
   "cell_type": "code",
   "execution_count": 28,
   "metadata": {},
   "outputs": [
    {
     "data": {
      "text/plain": [
       "<selenium.webdriver.remote.webelement.WebElement (session=\"9148f257906269522daae78b32d235ba\", element=\"1e3fc3dd-1599-43a3-ac23-576b112d6410\")>"
      ]
     },
     "execution_count": 28,
     "metadata": {},
     "output_type": "execute_result"
    }
   ],
   "source": [
    "NEXT=driver.find_element_by_xpath('//a[@class=\"_1LKTO3\"]')\n",
    "NEXT"
   ]
  },
  {
   "cell_type": "code",
   "execution_count": 30,
   "metadata": {},
   "outputs": [],
   "source": [
    "NEXT.click()"
   ]
  },
  {
   "cell_type": "code",
   "execution_count": 31,
   "metadata": {},
   "outputs": [
    {
     "data": {
      "text/plain": [
       "[<selenium.webdriver.remote.webelement.WebElement (session=\"9148f257906269522daae78b32d235ba\", element=\"6fd8597c-94b5-4d1a-bf0c-693f559bdf0b\")>,\n",
       " <selenium.webdriver.remote.webelement.WebElement (session=\"9148f257906269522daae78b32d235ba\", element=\"247ae361-e1aa-40ff-82b3-42d908cd80aa\")>,\n",
       " <selenium.webdriver.remote.webelement.WebElement (session=\"9148f257906269522daae78b32d235ba\", element=\"a3fd9935-4fad-4d76-b274-0054c898c5b4\")>,\n",
       " <selenium.webdriver.remote.webelement.WebElement (session=\"9148f257906269522daae78b32d235ba\", element=\"ed4c0316-824e-4896-8323-00111857c5c5\")>,\n",
       " <selenium.webdriver.remote.webelement.WebElement (session=\"9148f257906269522daae78b32d235ba\", element=\"7e8fee25-bee4-4bfe-b2cb-64d049bdc952\")>,\n",
       " <selenium.webdriver.remote.webelement.WebElement (session=\"9148f257906269522daae78b32d235ba\", element=\"4f797c0a-8dd2-47b0-ac9f-7b28d4f38c81\")>,\n",
       " <selenium.webdriver.remote.webelement.WebElement (session=\"9148f257906269522daae78b32d235ba\", element=\"6cc22398-4a5f-4346-82af-7fa2e6d116d2\")>,\n",
       " <selenium.webdriver.remote.webelement.WebElement (session=\"9148f257906269522daae78b32d235ba\", element=\"952f38f9-1f70-4b72-83c1-e432104e7216\")>,\n",
       " <selenium.webdriver.remote.webelement.WebElement (session=\"9148f257906269522daae78b32d235ba\", element=\"afce65eb-7424-48bf-aea6-7772acbd5c95\")>,\n",
       " <selenium.webdriver.remote.webelement.WebElement (session=\"9148f257906269522daae78b32d235ba\", element=\"90c79d1f-4aeb-47c7-a999-07e7ace16fd1\")>,\n",
       " <selenium.webdriver.remote.webelement.WebElement (session=\"9148f257906269522daae78b32d235ba\", element=\"ed56b334-dc51-4cf6-a00c-06b791dd87e0\")>,\n",
       " <selenium.webdriver.remote.webelement.WebElement (session=\"9148f257906269522daae78b32d235ba\", element=\"ee0bd510-a3d9-477d-96dd-5f7cf845458e\")>,\n",
       " <selenium.webdriver.remote.webelement.WebElement (session=\"9148f257906269522daae78b32d235ba\", element=\"b24e6783-8446-469f-8a66-66181eb723ed\")>,\n",
       " <selenium.webdriver.remote.webelement.WebElement (session=\"9148f257906269522daae78b32d235ba\", element=\"c029ca4d-4c4f-4068-af32-163b95969ef2\")>,\n",
       " <selenium.webdriver.remote.webelement.WebElement (session=\"9148f257906269522daae78b32d235ba\", element=\"e989278f-7be4-4bca-8fe3-97698c7f6aad\")>,\n",
       " <selenium.webdriver.remote.webelement.WebElement (session=\"9148f257906269522daae78b32d235ba\", element=\"096ae11f-df68-4af0-80f2-86a043559acb\")>,\n",
       " <selenium.webdriver.remote.webelement.WebElement (session=\"9148f257906269522daae78b32d235ba\", element=\"0b9566c5-d5b7-4c4d-a400-ea69b8d1b9ca\")>,\n",
       " <selenium.webdriver.remote.webelement.WebElement (session=\"9148f257906269522daae78b32d235ba\", element=\"e1b365bb-2344-441c-8e41-b166999e0010\")>,\n",
       " <selenium.webdriver.remote.webelement.WebElement (session=\"9148f257906269522daae78b32d235ba\", element=\"df7e6ad9-8605-43b3-ba5b-30712484ee22\")>,\n",
       " <selenium.webdriver.remote.webelement.WebElement (session=\"9148f257906269522daae78b32d235ba\", element=\"0820128e-3181-4a1c-9bdb-79ca7239069f\")>,\n",
       " <selenium.webdriver.remote.webelement.WebElement (session=\"9148f257906269522daae78b32d235ba\", element=\"9c4e087c-7e3b-4a31-8d82-e446389465a4\")>,\n",
       " <selenium.webdriver.remote.webelement.WebElement (session=\"9148f257906269522daae78b32d235ba\", element=\"83f59ea4-345c-4148-9a15-bb17784e78f9\")>,\n",
       " <selenium.webdriver.remote.webelement.WebElement (session=\"9148f257906269522daae78b32d235ba\", element=\"9a3f9691-44ab-41bf-90a2-a153b077bd48\")>,\n",
       " <selenium.webdriver.remote.webelement.WebElement (session=\"9148f257906269522daae78b32d235ba\", element=\"a2c0ea78-20a1-4b76-ad68-0ab1bdf5726e\")>,\n",
       " <selenium.webdriver.remote.webelement.WebElement (session=\"9148f257906269522daae78b32d235ba\", element=\"4cbb4dc8-60ea-4715-aa1b-d7d0b03ed964\")>,\n",
       " <selenium.webdriver.remote.webelement.WebElement (session=\"9148f257906269522daae78b32d235ba\", element=\"9d91367f-460d-41bc-a030-c352f0d87244\")>,\n",
       " <selenium.webdriver.remote.webelement.WebElement (session=\"9148f257906269522daae78b32d235ba\", element=\"0b3b8abe-8371-4a65-8444-e341a4d32600\")>,\n",
       " <selenium.webdriver.remote.webelement.WebElement (session=\"9148f257906269522daae78b32d235ba\", element=\"b29cda66-7b34-473d-b123-69bf062a4b05\")>,\n",
       " <selenium.webdriver.remote.webelement.WebElement (session=\"9148f257906269522daae78b32d235ba\", element=\"86b7c9cc-5ef2-4342-b941-07974eec1fc1\")>,\n",
       " <selenium.webdriver.remote.webelement.WebElement (session=\"9148f257906269522daae78b32d235ba\", element=\"56de7292-324b-452e-bae4-93dfb44a9497\")>,\n",
       " <selenium.webdriver.remote.webelement.WebElement (session=\"9148f257906269522daae78b32d235ba\", element=\"ad95444b-0001-4d09-81ae-c1cd74411fec\")>,\n",
       " <selenium.webdriver.remote.webelement.WebElement (session=\"9148f257906269522daae78b32d235ba\", element=\"2ac9c0fa-a5b2-417f-a16b-d9d23856c569\")>,\n",
       " <selenium.webdriver.remote.webelement.WebElement (session=\"9148f257906269522daae78b32d235ba\", element=\"6eb94d45-9d30-4c64-a082-3cca1d80ba43\")>,\n",
       " <selenium.webdriver.remote.webelement.WebElement (session=\"9148f257906269522daae78b32d235ba\", element=\"88a2e930-833b-407d-bd47-afda3e3b2b5e\")>,\n",
       " <selenium.webdriver.remote.webelement.WebElement (session=\"9148f257906269522daae78b32d235ba\", element=\"d4590d49-b21d-41c6-ad21-5d5789a50797\")>,\n",
       " <selenium.webdriver.remote.webelement.WebElement (session=\"9148f257906269522daae78b32d235ba\", element=\"61f4cd9d-dc1b-4672-94bc-92ce0f81cb6e\")>,\n",
       " <selenium.webdriver.remote.webelement.WebElement (session=\"9148f257906269522daae78b32d235ba\", element=\"6badede7-c872-436b-9acb-d445058c12c3\")>,\n",
       " <selenium.webdriver.remote.webelement.WebElement (session=\"9148f257906269522daae78b32d235ba\", element=\"ac01c5a7-e28d-4611-9bd8-96e0baa92760\")>,\n",
       " <selenium.webdriver.remote.webelement.WebElement (session=\"9148f257906269522daae78b32d235ba\", element=\"462ef2c5-cb23-4988-9546-3ece07ceaa35\")>,\n",
       " <selenium.webdriver.remote.webelement.WebElement (session=\"9148f257906269522daae78b32d235ba\", element=\"95b9595e-c3f4-4c6b-82ae-bcd93fe997e6\")>]"
      ]
     },
     "execution_count": 31,
     "metadata": {},
     "output_type": "execute_result"
    }
   ],
   "source": [
    "brand1=driver.find_elements_by_xpath('//div[@class=\"_2WkVRV\"]')\n",
    "brand1"
   ]
  },
  {
   "cell_type": "code",
   "execution_count": 32,
   "metadata": {},
   "outputs": [
    {
     "data": {
      "text/plain": [
       "['SRPM',\n",
       " 'SHAAH COLLECTIONS',\n",
       " 'ROYAL SON',\n",
       " 'PIRASO',\n",
       " 'PHENOMENAL',\n",
       " 'ROYAL SON',\n",
       " 'Elligator',\n",
       " 'chawla fashion',\n",
       " 'kingsunglasses',\n",
       " 'Rich Club',\n",
       " 'kingsunglasses',\n",
       " 'PIRASO',\n",
       " 'SRPM',\n",
       " 'Silver Kartz',\n",
       " 'Singco India',\n",
       " 'chawla fashion',\n",
       " 'GANSTA',\n",
       " 'New Specs',\n",
       " 'PIRASO',\n",
       " 'povty',\n",
       " 'GANSTA',\n",
       " 'PHENOMENAL',\n",
       " 'Elligator',\n",
       " 'VINCENT CHASE',\n",
       " 'ROZZETTA CRAFT',\n",
       " 'SHAAH COLLECTIONS',\n",
       " 'hipe',\n",
       " 'VINCENT CHASE',\n",
       " 'PHENOMENAL',\n",
       " 'ROYAL SON',\n",
       " 'Fastrack',\n",
       " 'PIRASO',\n",
       " 'VINCENT CHASE',\n",
       " 'Fastrack',\n",
       " 'PIRASO',\n",
       " 'ROYAL SON',\n",
       " 'ROYAL SON',\n",
       " 'PIRASO',\n",
       " 'NuVew',\n",
       " 'PIRASO']"
      ]
     },
     "execution_count": 32,
     "metadata": {},
     "output_type": "execute_result"
    }
   ],
   "source": [
    "BRAND1=[]\n",
    "for i in brand1:\n",
    "    BRAND1.append(i.text)\n",
    "BRAND1"
   ]
  },
  {
   "cell_type": "code",
   "execution_count": 33,
   "metadata": {},
   "outputs": [
    {
     "data": {
      "text/plain": [
       "[<selenium.webdriver.remote.webelement.WebElement (session=\"9148f257906269522daae78b32d235ba\", element=\"bc77c095-8a9f-4914-b624-a49f308356cf\")>,\n",
       " <selenium.webdriver.remote.webelement.WebElement (session=\"9148f257906269522daae78b32d235ba\", element=\"09c8825c-c55f-4cd6-a694-76c358541df4\")>,\n",
       " <selenium.webdriver.remote.webelement.WebElement (session=\"9148f257906269522daae78b32d235ba\", element=\"73635e56-cddf-47c4-92ca-d2b75040a93a\")>,\n",
       " <selenium.webdriver.remote.webelement.WebElement (session=\"9148f257906269522daae78b32d235ba\", element=\"4f62f1b1-cc48-497c-8758-cad41636d33a\")>,\n",
       " <selenium.webdriver.remote.webelement.WebElement (session=\"9148f257906269522daae78b32d235ba\", element=\"752e2daf-270a-4eda-a0b2-979e60e16d93\")>,\n",
       " <selenium.webdriver.remote.webelement.WebElement (session=\"9148f257906269522daae78b32d235ba\", element=\"331420d6-b209-48c4-8d23-487390d5b046\")>,\n",
       " <selenium.webdriver.remote.webelement.WebElement (session=\"9148f257906269522daae78b32d235ba\", element=\"105373f2-dd9a-4981-9e08-065dd2f376a3\")>,\n",
       " <selenium.webdriver.remote.webelement.WebElement (session=\"9148f257906269522daae78b32d235ba\", element=\"fef5a65b-2020-4ec2-b5b0-c34b4d940d87\")>,\n",
       " <selenium.webdriver.remote.webelement.WebElement (session=\"9148f257906269522daae78b32d235ba\", element=\"9c61c040-961a-44cc-9e62-300dad744cb2\")>,\n",
       " <selenium.webdriver.remote.webelement.WebElement (session=\"9148f257906269522daae78b32d235ba\", element=\"324c3639-e34d-4e75-9e0e-04e99e681148\")>,\n",
       " <selenium.webdriver.remote.webelement.WebElement (session=\"9148f257906269522daae78b32d235ba\", element=\"9aca9e3f-9c8c-4fb9-82d6-4a7772acc445\")>,\n",
       " <selenium.webdriver.remote.webelement.WebElement (session=\"9148f257906269522daae78b32d235ba\", element=\"9f07e915-29d9-4b4c-b77c-7acaf7fb1da5\")>,\n",
       " <selenium.webdriver.remote.webelement.WebElement (session=\"9148f257906269522daae78b32d235ba\", element=\"08d3ee03-55de-4aa1-bdde-b55cde4fce57\")>,\n",
       " <selenium.webdriver.remote.webelement.WebElement (session=\"9148f257906269522daae78b32d235ba\", element=\"c1685f8d-58cf-4ef3-84ad-ad0296328a86\")>,\n",
       " <selenium.webdriver.remote.webelement.WebElement (session=\"9148f257906269522daae78b32d235ba\", element=\"b211ccb5-cda1-45dc-b394-04c4f07c9310\")>,\n",
       " <selenium.webdriver.remote.webelement.WebElement (session=\"9148f257906269522daae78b32d235ba\", element=\"2c16d24d-2c20-4263-9c16-978dd02e8d38\")>,\n",
       " <selenium.webdriver.remote.webelement.WebElement (session=\"9148f257906269522daae78b32d235ba\", element=\"658c244a-044f-4e24-9ac9-f0c304152374\")>,\n",
       " <selenium.webdriver.remote.webelement.WebElement (session=\"9148f257906269522daae78b32d235ba\", element=\"cd601f1e-86b7-4f4c-976c-fc187fb8c3f0\")>,\n",
       " <selenium.webdriver.remote.webelement.WebElement (session=\"9148f257906269522daae78b32d235ba\", element=\"74064ba2-554a-40b2-91ff-a42449327a06\")>,\n",
       " <selenium.webdriver.remote.webelement.WebElement (session=\"9148f257906269522daae78b32d235ba\", element=\"f4af866c-73ea-4113-8c97-3424457aa271\")>,\n",
       " <selenium.webdriver.remote.webelement.WebElement (session=\"9148f257906269522daae78b32d235ba\", element=\"e372254a-5098-4c34-9e10-d5ad201a46b8\")>,\n",
       " <selenium.webdriver.remote.webelement.WebElement (session=\"9148f257906269522daae78b32d235ba\", element=\"962e30b3-7c87-484c-8b1c-9cc9c4efdbe3\")>,\n",
       " <selenium.webdriver.remote.webelement.WebElement (session=\"9148f257906269522daae78b32d235ba\", element=\"ac8f14fa-71b6-4965-9ab3-65eb9c382762\")>,\n",
       " <selenium.webdriver.remote.webelement.WebElement (session=\"9148f257906269522daae78b32d235ba\", element=\"4beed5f5-a774-43db-be96-f79c0621981e\")>,\n",
       " <selenium.webdriver.remote.webelement.WebElement (session=\"9148f257906269522daae78b32d235ba\", element=\"893378fa-8940-4323-b087-5846d6ec4747\")>,\n",
       " <selenium.webdriver.remote.webelement.WebElement (session=\"9148f257906269522daae78b32d235ba\", element=\"5f17b531-ae9e-40b4-8a34-5b802ae41148\")>,\n",
       " <selenium.webdriver.remote.webelement.WebElement (session=\"9148f257906269522daae78b32d235ba\", element=\"6588f52a-5199-4d24-867a-9f8ac7dc7acd\")>,\n",
       " <selenium.webdriver.remote.webelement.WebElement (session=\"9148f257906269522daae78b32d235ba\", element=\"8be93b7f-c328-4c20-888c-dcb157be9fbd\")>,\n",
       " <selenium.webdriver.remote.webelement.WebElement (session=\"9148f257906269522daae78b32d235ba\", element=\"af0c96a7-305e-4fec-a372-cc77b285a300\")>,\n",
       " <selenium.webdriver.remote.webelement.WebElement (session=\"9148f257906269522daae78b32d235ba\", element=\"381b4330-fbba-4db7-bf4b-d9ae661cce16\")>,\n",
       " <selenium.webdriver.remote.webelement.WebElement (session=\"9148f257906269522daae78b32d235ba\", element=\"03b62164-48cf-42b2-873a-1c998208e96b\")>,\n",
       " <selenium.webdriver.remote.webelement.WebElement (session=\"9148f257906269522daae78b32d235ba\", element=\"a75bf7da-6d71-4aa2-91c0-68439d650c84\")>,\n",
       " <selenium.webdriver.remote.webelement.WebElement (session=\"9148f257906269522daae78b32d235ba\", element=\"06abbc2c-62d3-46e4-ab11-4d6543d36f04\")>,\n",
       " <selenium.webdriver.remote.webelement.WebElement (session=\"9148f257906269522daae78b32d235ba\", element=\"d4db43e8-155f-4d74-8a27-22910966c311\")>,\n",
       " <selenium.webdriver.remote.webelement.WebElement (session=\"9148f257906269522daae78b32d235ba\", element=\"58796caf-6f48-458d-8887-6ca9d49ca2bf\")>,\n",
       " <selenium.webdriver.remote.webelement.WebElement (session=\"9148f257906269522daae78b32d235ba\", element=\"415bdba4-afff-4f49-915b-971aef3e406f\")>,\n",
       " <selenium.webdriver.remote.webelement.WebElement (session=\"9148f257906269522daae78b32d235ba\", element=\"746e6683-3c0e-45c7-a329-71b1cdb39464\")>,\n",
       " <selenium.webdriver.remote.webelement.WebElement (session=\"9148f257906269522daae78b32d235ba\", element=\"d3b48edf-04bd-4f7d-84b9-e3d809463736\")>,\n",
       " <selenium.webdriver.remote.webelement.WebElement (session=\"9148f257906269522daae78b32d235ba\", element=\"aa809261-fe7e-4a7d-97d3-40580c99c583\")>]"
      ]
     },
     "execution_count": 33,
     "metadata": {},
     "output_type": "execute_result"
    }
   ],
   "source": [
    "description1=driver.find_elements_by_xpath('//a[@class=\"IRpwTa\"]')\n",
    "description1"
   ]
  },
  {
   "cell_type": "code",
   "execution_count": 34,
   "metadata": {},
   "outputs": [
    {
     "data": {
      "text/plain": [
       "['Others Wayfarer, Retro Square Sunglasses (50)',\n",
       " 'UV Protection, Polarized, Mirrored Rectangular Sunglass...',\n",
       " 'Mirrored Aviator Sunglasses (55)',\n",
       " 'UV Protection Aviator Sunglasses (54)',\n",
       " 'UV Protection Retro Square Sunglasses (Free Size)',\n",
       " 'Mirrored Aviator Sunglasses (Free Size)',\n",
       " 'UV Protection Aviator Sunglasses (55)',\n",
       " 'UV Protection Round Sunglasses (Free Size)',\n",
       " 'UV Protection Round Sunglasses (54)',\n",
       " 'Polarized Round Sunglasses (48)',\n",
       " 'UV Protection, Night Vision Wayfarer Sunglasses (Free S...',\n",
       " 'UV Protection Aviator Sunglasses (55)',\n",
       " 'Night Vision, UV Protection Round Sunglasses (54)',\n",
       " 'UV Protection Aviator Sunglasses (88)',\n",
       " 'Riding Glasses, UV Protection, Others Aviator Sunglasse...',\n",
       " 'UV Protection Aviator Sunglasses (57)',\n",
       " 'Mirrored, UV Protection, Riding Glasses, Others Round S...',\n",
       " 'UV Protection Aviator Sunglasses (Free Size)',\n",
       " 'UV Protection Retro Square Sunglasses (Free Size)',\n",
       " 'UV Protection, Gradient Wayfarer Sunglasses (54)',\n",
       " 'UV Protection, Mirrored Retro Square Sunglasses (53)',\n",
       " 'UV Protection Wayfarer Sunglasses (53)',\n",
       " 'UV Protection Wayfarer Sunglasses (55)',\n",
       " 'UV Protection, Gradient Retro Square Sunglasses (Free S...',\n",
       " 'UV Protection Round Sunglasses (Free Size)',\n",
       " 'Mirrored, Gradient, Riding Glasses Round Sunglasses (55...',\n",
       " 'UV Protection Wayfarer Sunglasses (55)',\n",
       " 'UV Protection, Mirrored Retro Square Sunglasses (53)',\n",
       " 'UV Protection Rectangular Sunglasses (58)',\n",
       " 'Gradient, UV Protection Wayfarer Sunglasses (Free Size)',\n",
       " 'UV Protection Rectangular, Over-sized Sunglasses (Free ...',\n",
       " 'by Lenskart Polarized, UV Protection Rectangular Sungla...',\n",
       " 'UV Protection Round Sunglasses (55)',\n",
       " 'UV Protection Aviator Sunglasses (54)',\n",
       " 'Polarized Retro Square Sunglasses (61)',\n",
       " 'Mirrored Aviator Sunglasses (55)',\n",
       " 'UV Protection Butterfly Sunglasses (65)',\n",
       " 'UV Protection Sports Sunglasses (62)',\n",
       " 'UV Protection Aviator Sunglasses (58)']"
      ]
     },
     "execution_count": 34,
     "metadata": {},
     "output_type": "execute_result"
    }
   ],
   "source": [
    "DESCRIPTION1=[]\n",
    "for i in description1:\n",
    "    DESCRIPTION1.append(i.text)\n",
    "DESCRIPTION1"
   ]
  },
  {
   "cell_type": "code",
   "execution_count": 35,
   "metadata": {},
   "outputs": [
    {
     "data": {
      "text/plain": [
       "[<selenium.webdriver.remote.webelement.WebElement (session=\"9148f257906269522daae78b32d235ba\", element=\"a8d363c9-f0c3-472b-adcc-fb2fcd0f3ba8\")>,\n",
       " <selenium.webdriver.remote.webelement.WebElement (session=\"9148f257906269522daae78b32d235ba\", element=\"8afedce1-8a49-4467-a5c5-fb64f8856aef\")>,\n",
       " <selenium.webdriver.remote.webelement.WebElement (session=\"9148f257906269522daae78b32d235ba\", element=\"e8665dc6-35f5-4594-b637-3c10eeb80042\")>,\n",
       " <selenium.webdriver.remote.webelement.WebElement (session=\"9148f257906269522daae78b32d235ba\", element=\"d874f673-a322-498c-bee5-a1d43d444ba9\")>,\n",
       " <selenium.webdriver.remote.webelement.WebElement (session=\"9148f257906269522daae78b32d235ba\", element=\"df18ccf7-a061-4290-9794-2c75d553da62\")>,\n",
       " <selenium.webdriver.remote.webelement.WebElement (session=\"9148f257906269522daae78b32d235ba\", element=\"72c76ec8-05cf-4da3-b781-25fb92f7dfe8\")>,\n",
       " <selenium.webdriver.remote.webelement.WebElement (session=\"9148f257906269522daae78b32d235ba\", element=\"43d0ec32-03b7-47fe-b54f-45212169b30d\")>,\n",
       " <selenium.webdriver.remote.webelement.WebElement (session=\"9148f257906269522daae78b32d235ba\", element=\"b59c32ba-0b2c-40bc-9da2-a4faa491e9da\")>,\n",
       " <selenium.webdriver.remote.webelement.WebElement (session=\"9148f257906269522daae78b32d235ba\", element=\"a9e44bed-e7cd-42b5-9668-0f45bde8d171\")>,\n",
       " <selenium.webdriver.remote.webelement.WebElement (session=\"9148f257906269522daae78b32d235ba\", element=\"21314c05-5c48-4449-bc50-038b38d68b91\")>,\n",
       " <selenium.webdriver.remote.webelement.WebElement (session=\"9148f257906269522daae78b32d235ba\", element=\"56112d0d-4509-414c-a94e-2bb00e6dedb6\")>,\n",
       " <selenium.webdriver.remote.webelement.WebElement (session=\"9148f257906269522daae78b32d235ba\", element=\"3105e68b-5c7b-4948-8359-b5bd6fac91e6\")>,\n",
       " <selenium.webdriver.remote.webelement.WebElement (session=\"9148f257906269522daae78b32d235ba\", element=\"24dc7e8a-e92f-4527-95d4-0cccde38db6d\")>,\n",
       " <selenium.webdriver.remote.webelement.WebElement (session=\"9148f257906269522daae78b32d235ba\", element=\"6914d1b3-caee-4762-b7ca-f71be28fdead\")>,\n",
       " <selenium.webdriver.remote.webelement.WebElement (session=\"9148f257906269522daae78b32d235ba\", element=\"7e0aabea-cc6f-4f6c-aafe-c9b6716eadb9\")>,\n",
       " <selenium.webdriver.remote.webelement.WebElement (session=\"9148f257906269522daae78b32d235ba\", element=\"8baf3fc1-132f-4942-a327-ad098e4ea6b5\")>,\n",
       " <selenium.webdriver.remote.webelement.WebElement (session=\"9148f257906269522daae78b32d235ba\", element=\"7ba612da-56ae-4b98-8314-909634dd8e93\")>,\n",
       " <selenium.webdriver.remote.webelement.WebElement (session=\"9148f257906269522daae78b32d235ba\", element=\"1ea023b2-7edb-427b-a6c2-30f9dfbadd9d\")>,\n",
       " <selenium.webdriver.remote.webelement.WebElement (session=\"9148f257906269522daae78b32d235ba\", element=\"f18e94e4-abbd-4f1f-834b-18bfd76838fd\")>,\n",
       " <selenium.webdriver.remote.webelement.WebElement (session=\"9148f257906269522daae78b32d235ba\", element=\"be70a575-42b4-48af-9d37-406ebfa35475\")>,\n",
       " <selenium.webdriver.remote.webelement.WebElement (session=\"9148f257906269522daae78b32d235ba\", element=\"ce30fde0-6046-4992-8e95-8f750b484a54\")>,\n",
       " <selenium.webdriver.remote.webelement.WebElement (session=\"9148f257906269522daae78b32d235ba\", element=\"9f6f0d1f-7b91-4a4d-a2de-1c210c326845\")>,\n",
       " <selenium.webdriver.remote.webelement.WebElement (session=\"9148f257906269522daae78b32d235ba\", element=\"e4e41726-591a-4191-acf1-35a097cf8013\")>,\n",
       " <selenium.webdriver.remote.webelement.WebElement (session=\"9148f257906269522daae78b32d235ba\", element=\"1ed6103c-1a86-461b-a64f-3e87386d6fdd\")>,\n",
       " <selenium.webdriver.remote.webelement.WebElement (session=\"9148f257906269522daae78b32d235ba\", element=\"f030cf14-3db8-4998-84b0-605ab7a97ba1\")>,\n",
       " <selenium.webdriver.remote.webelement.WebElement (session=\"9148f257906269522daae78b32d235ba\", element=\"173c7e08-fc43-4fea-9ed7-b18977d95b5b\")>,\n",
       " <selenium.webdriver.remote.webelement.WebElement (session=\"9148f257906269522daae78b32d235ba\", element=\"7f6d669d-ab75-4f10-9c09-2aeac8b4aea7\")>,\n",
       " <selenium.webdriver.remote.webelement.WebElement (session=\"9148f257906269522daae78b32d235ba\", element=\"35bbab4f-f582-4b0f-86d6-4a5b7dd495e7\")>,\n",
       " <selenium.webdriver.remote.webelement.WebElement (session=\"9148f257906269522daae78b32d235ba\", element=\"ad22290a-6ba1-4e76-9ea9-58871426ecb8\")>,\n",
       " <selenium.webdriver.remote.webelement.WebElement (session=\"9148f257906269522daae78b32d235ba\", element=\"3a5e34f2-f8e9-4fbd-bff1-1df555d70ff3\")>,\n",
       " <selenium.webdriver.remote.webelement.WebElement (session=\"9148f257906269522daae78b32d235ba\", element=\"f8dba4fc-1656-450a-88bf-7187f94feafd\")>,\n",
       " <selenium.webdriver.remote.webelement.WebElement (session=\"9148f257906269522daae78b32d235ba\", element=\"b1390a36-088a-4050-8cd2-f8e1fb72f630\")>,\n",
       " <selenium.webdriver.remote.webelement.WebElement (session=\"9148f257906269522daae78b32d235ba\", element=\"082fc001-56bc-468e-99f4-b24436d58772\")>,\n",
       " <selenium.webdriver.remote.webelement.WebElement (session=\"9148f257906269522daae78b32d235ba\", element=\"137a22b8-301f-4c2a-9883-ff0df7d39a36\")>,\n",
       " <selenium.webdriver.remote.webelement.WebElement (session=\"9148f257906269522daae78b32d235ba\", element=\"993b92e5-95bc-421b-9af1-3fd49dc1e245\")>,\n",
       " <selenium.webdriver.remote.webelement.WebElement (session=\"9148f257906269522daae78b32d235ba\", element=\"9e4112de-6cbd-424e-8871-a83d02008a47\")>,\n",
       " <selenium.webdriver.remote.webelement.WebElement (session=\"9148f257906269522daae78b32d235ba\", element=\"2057abe1-b4a1-4b1f-97c2-6f699dcb1675\")>,\n",
       " <selenium.webdriver.remote.webelement.WebElement (session=\"9148f257906269522daae78b32d235ba\", element=\"35856c09-5791-4fa7-a423-6e121f23d222\")>,\n",
       " <selenium.webdriver.remote.webelement.WebElement (session=\"9148f257906269522daae78b32d235ba\", element=\"a6f11f7a-fae2-459c-ba99-2e9aad3d0c29\")>,\n",
       " <selenium.webdriver.remote.webelement.WebElement (session=\"9148f257906269522daae78b32d235ba\", element=\"ab5cd43d-62eb-40dd-b01a-ab295569b211\")>]"
      ]
     },
     "execution_count": 35,
     "metadata": {},
     "output_type": "execute_result"
    }
   ],
   "source": [
    "price1=driver.find_elements_by_xpath('//div[@class=\"_30jeq3\"]')\n",
    "price1"
   ]
  },
  {
   "cell_type": "code",
   "execution_count": 36,
   "metadata": {},
   "outputs": [
    {
     "data": {
      "text/plain": [
       "['₹128',\n",
       " '₹131',\n",
       " '₹329',\n",
       " '₹175',\n",
       " '₹278',\n",
       " '₹329',\n",
       " '₹228',\n",
       " '₹135',\n",
       " '₹137',\n",
       " '₹119',\n",
       " '₹209',\n",
       " '₹200',\n",
       " '₹149',\n",
       " '₹205',\n",
       " '₹149',\n",
       " '₹108',\n",
       " '₹234',\n",
       " '₹213',\n",
       " '₹249',\n",
       " '₹249',\n",
       " '₹104',\n",
       " '₹267',\n",
       " '₹126',\n",
       " '₹709',\n",
       " '₹257',\n",
       " '₹234',\n",
       " '₹135',\n",
       " '₹699',\n",
       " '₹267',\n",
       " '₹424',\n",
       " '₹669',\n",
       " '₹275',\n",
       " '₹698',\n",
       " '₹884',\n",
       " '₹175',\n",
       " '₹649',\n",
       " '₹329',\n",
       " '₹325',\n",
       " '₹277',\n",
       " '₹299']"
      ]
     },
     "execution_count": 36,
     "metadata": {},
     "output_type": "execute_result"
    }
   ],
   "source": [
    "PRICE1=[]\n",
    "for i in price1:\n",
    "    PRICE1.append(i.text)\n",
    "PRICE1"
   ]
  },
  {
   "cell_type": "code",
   "execution_count": 38,
   "metadata": {},
   "outputs": [
    {
     "data": {
      "text/plain": [
       "[<selenium.webdriver.remote.webelement.WebElement (session=\"9148f257906269522daae78b32d235ba\", element=\"c67a0854-5e57-469b-9e59-4837de8a6f3a\")>,\n",
       " <selenium.webdriver.remote.webelement.WebElement (session=\"9148f257906269522daae78b32d235ba\", element=\"aa3fabcc-6829-4a18-8ec9-c4648a4bc611\")>,\n",
       " <selenium.webdriver.remote.webelement.WebElement (session=\"9148f257906269522daae78b32d235ba\", element=\"580d484d-9787-4130-a5ea-c3ba1fe155d1\")>,\n",
       " <selenium.webdriver.remote.webelement.WebElement (session=\"9148f257906269522daae78b32d235ba\", element=\"30d6213d-2f0e-440d-924d-179c73456818\")>,\n",
       " <selenium.webdriver.remote.webelement.WebElement (session=\"9148f257906269522daae78b32d235ba\", element=\"1a148093-b47b-4e89-9a7e-c23a9135efe4\")>,\n",
       " <selenium.webdriver.remote.webelement.WebElement (session=\"9148f257906269522daae78b32d235ba\", element=\"c3de62fc-0ea4-43ab-9654-c01b034465a9\")>,\n",
       " <selenium.webdriver.remote.webelement.WebElement (session=\"9148f257906269522daae78b32d235ba\", element=\"81661b9f-dcc0-49a8-8b9f-5406800c23cc\")>,\n",
       " <selenium.webdriver.remote.webelement.WebElement (session=\"9148f257906269522daae78b32d235ba\", element=\"90d5ba43-be27-4508-a521-ac2fba1732a0\")>,\n",
       " <selenium.webdriver.remote.webelement.WebElement (session=\"9148f257906269522daae78b32d235ba\", element=\"834f6a83-b825-4d71-b9e9-2055dcef36eb\")>,\n",
       " <selenium.webdriver.remote.webelement.WebElement (session=\"9148f257906269522daae78b32d235ba\", element=\"a1933668-c5f8-4306-a4d1-eeadf1069e81\")>,\n",
       " <selenium.webdriver.remote.webelement.WebElement (session=\"9148f257906269522daae78b32d235ba\", element=\"b4d8c930-6667-4512-8e2d-715ab2e98d76\")>,\n",
       " <selenium.webdriver.remote.webelement.WebElement (session=\"9148f257906269522daae78b32d235ba\", element=\"6bca5374-f2bc-4db5-b5cd-c362623ea779\")>,\n",
       " <selenium.webdriver.remote.webelement.WebElement (session=\"9148f257906269522daae78b32d235ba\", element=\"1d2efbc4-6500-473a-bb99-14a81f7651e0\")>,\n",
       " <selenium.webdriver.remote.webelement.WebElement (session=\"9148f257906269522daae78b32d235ba\", element=\"5836db8a-3dbc-4022-8056-0fde726eac4b\")>,\n",
       " <selenium.webdriver.remote.webelement.WebElement (session=\"9148f257906269522daae78b32d235ba\", element=\"93ef11c5-0c34-47c9-9300-68d1d1b1991a\")>,\n",
       " <selenium.webdriver.remote.webelement.WebElement (session=\"9148f257906269522daae78b32d235ba\", element=\"1c38dbf7-6fd1-4a42-aba6-7326750835ea\")>,\n",
       " <selenium.webdriver.remote.webelement.WebElement (session=\"9148f257906269522daae78b32d235ba\", element=\"0ea18897-7f88-43b7-8f50-13765e4aabda\")>,\n",
       " <selenium.webdriver.remote.webelement.WebElement (session=\"9148f257906269522daae78b32d235ba\", element=\"f44a7cd2-076b-468f-89ea-1cb6bfd2bb29\")>,\n",
       " <selenium.webdriver.remote.webelement.WebElement (session=\"9148f257906269522daae78b32d235ba\", element=\"67bba0a5-72c1-4692-9458-475c3765c584\")>,\n",
       " <selenium.webdriver.remote.webelement.WebElement (session=\"9148f257906269522daae78b32d235ba\", element=\"1238f771-91da-48f0-8e26-97d99e72f38f\")>,\n",
       " <selenium.webdriver.remote.webelement.WebElement (session=\"9148f257906269522daae78b32d235ba\", element=\"afcfc233-4104-4efd-ae6b-01db020cd632\")>,\n",
       " <selenium.webdriver.remote.webelement.WebElement (session=\"9148f257906269522daae78b32d235ba\", element=\"c661353f-828c-4f68-9331-9e555575c89c\")>,\n",
       " <selenium.webdriver.remote.webelement.WebElement (session=\"9148f257906269522daae78b32d235ba\", element=\"7d138b73-bb95-437a-bfe9-82499af504f7\")>,\n",
       " <selenium.webdriver.remote.webelement.WebElement (session=\"9148f257906269522daae78b32d235ba\", element=\"8b47c432-4f9f-452b-abbd-7e75a5a0030e\")>,\n",
       " <selenium.webdriver.remote.webelement.WebElement (session=\"9148f257906269522daae78b32d235ba\", element=\"169d66ae-9763-4e0f-b188-ec32920479a6\")>,\n",
       " <selenium.webdriver.remote.webelement.WebElement (session=\"9148f257906269522daae78b32d235ba\", element=\"8dd75f31-542c-43ba-b054-555406a1a20c\")>,\n",
       " <selenium.webdriver.remote.webelement.WebElement (session=\"9148f257906269522daae78b32d235ba\", element=\"05061b17-4c9e-4e1b-a431-08424ba86f98\")>,\n",
       " <selenium.webdriver.remote.webelement.WebElement (session=\"9148f257906269522daae78b32d235ba\", element=\"15fd2fee-fc1c-4e76-8b06-91d1a9fa385b\")>,\n",
       " <selenium.webdriver.remote.webelement.WebElement (session=\"9148f257906269522daae78b32d235ba\", element=\"fbc54928-e12b-4b37-9ea8-fd2a5dd12e3f\")>,\n",
       " <selenium.webdriver.remote.webelement.WebElement (session=\"9148f257906269522daae78b32d235ba\", element=\"d23613e6-e4f2-47f7-b87f-d6b3dbb9510d\")>,\n",
       " <selenium.webdriver.remote.webelement.WebElement (session=\"9148f257906269522daae78b32d235ba\", element=\"b6cee7ed-3020-4034-afd2-ffec0bd2db60\")>,\n",
       " <selenium.webdriver.remote.webelement.WebElement (session=\"9148f257906269522daae78b32d235ba\", element=\"e4d23125-4145-420b-b6ac-ce9650a0b59a\")>,\n",
       " <selenium.webdriver.remote.webelement.WebElement (session=\"9148f257906269522daae78b32d235ba\", element=\"92d715ec-2eb9-4663-b090-a6509880a24c\")>,\n",
       " <selenium.webdriver.remote.webelement.WebElement (session=\"9148f257906269522daae78b32d235ba\", element=\"79fd1870-8af5-4c8c-a515-87d9644ba0f1\")>,\n",
       " <selenium.webdriver.remote.webelement.WebElement (session=\"9148f257906269522daae78b32d235ba\", element=\"f7c88596-2c80-4349-bf2c-a2782999b839\")>,\n",
       " <selenium.webdriver.remote.webelement.WebElement (session=\"9148f257906269522daae78b32d235ba\", element=\"0a9d93e0-864d-4f8c-8922-5cc337e6517b\")>,\n",
       " <selenium.webdriver.remote.webelement.WebElement (session=\"9148f257906269522daae78b32d235ba\", element=\"2c9c12c7-f374-4342-afa2-8e9f108074d2\")>,\n",
       " <selenium.webdriver.remote.webelement.WebElement (session=\"9148f257906269522daae78b32d235ba\", element=\"29f407e7-a337-4577-9fa1-e083253a7462\")>,\n",
       " <selenium.webdriver.remote.webelement.WebElement (session=\"9148f257906269522daae78b32d235ba\", element=\"75279972-287e-446d-a910-39bf05a14e18\")>,\n",
       " <selenium.webdriver.remote.webelement.WebElement (session=\"9148f257906269522daae78b32d235ba\", element=\"a9a1eda3-16c9-4dbf-b5ba-e6ef1affd21b\")>]"
      ]
     },
     "execution_count": 38,
     "metadata": {},
     "output_type": "execute_result"
    }
   ],
   "source": [
    "discount1=driver.find_elements_by_xpath('//div[@class=\"_3Ay6Sb\"]')\n",
    "discount1"
   ]
  },
  {
   "cell_type": "code",
   "execution_count": 39,
   "metadata": {},
   "outputs": [
    {
     "data": {
      "text/plain": [
       "['87% off',\n",
       " '86% off',\n",
       " '78% off',\n",
       " '89% off',\n",
       " '86% off',\n",
       " '78% off',\n",
       " '90% off',\n",
       " '86% off',\n",
       " '87% off',\n",
       " '76% off',\n",
       " '87% off',\n",
       " '87% off',\n",
       " '85% off',\n",
       " '82% off',\n",
       " '90% off',\n",
       " '91% off',\n",
       " '88% off',\n",
       " '86% off',\n",
       " '84% off',\n",
       " '75% off',\n",
       " '90% off',\n",
       " '86% off',\n",
       " '91% off',\n",
       " '64% off',\n",
       " '87% off',\n",
       " '86% off',\n",
       " '90% off',\n",
       " '65% off',\n",
       " '86% off',\n",
       " '71% off',\n",
       " '16% off',\n",
       " '90% off',\n",
       " '65% off',\n",
       " '11% off',\n",
       " '89% off',\n",
       " '56% off',\n",
       " '78% off',\n",
       " '87% off',\n",
       " '77% off',\n",
       " '88% off']"
      ]
     },
     "execution_count": 39,
     "metadata": {},
     "output_type": "execute_result"
    }
   ],
   "source": [
    "DISCOUNT1=[]\n",
    "for i in discount1:\n",
    "    DISCOUNT1.append(i.text)\n",
    "DISCOUNT1"
   ]
  },
  {
   "cell_type": "code",
   "execution_count": 44,
   "metadata": {},
   "outputs": [
    {
     "data": {
      "text/plain": [
       "<selenium.webdriver.remote.webelement.WebElement (session=\"9148f257906269522daae78b32d235ba\", element=\"6a203d66-e90f-421f-95af-75ae9f74c26f\")>"
      ]
     },
     "execution_count": 44,
     "metadata": {},
     "output_type": "execute_result"
    }
   ],
   "source": [
    "next1=driver.find_element_by_xpath('/html/body/div[1]/div/div[3]/div[1]/div[2]/div[12]/div/div/nav/a[4]')\n",
    "next1"
   ]
  },
  {
   "cell_type": "code",
   "execution_count": 45,
   "metadata": {},
   "outputs": [],
   "source": [
    "next1.click()"
   ]
  },
  {
   "cell_type": "code",
   "execution_count": 48,
   "metadata": {},
   "outputs": [
    {
     "data": {
      "text/plain": [
       "[<selenium.webdriver.remote.webelement.WebElement (session=\"9148f257906269522daae78b32d235ba\", element=\"7a26a00f-f3f8-4fc0-b6fd-40d53a0f9dc8\")>,\n",
       " <selenium.webdriver.remote.webelement.WebElement (session=\"9148f257906269522daae78b32d235ba\", element=\"69932db6-684e-405c-bd73-a475014d9b5e\")>,\n",
       " <selenium.webdriver.remote.webelement.WebElement (session=\"9148f257906269522daae78b32d235ba\", element=\"94920574-3a0f-47ed-8dd8-05ebd43d6719\")>,\n",
       " <selenium.webdriver.remote.webelement.WebElement (session=\"9148f257906269522daae78b32d235ba\", element=\"99c6e9b9-7e47-49df-9f80-7206dff18ad0\")>,\n",
       " <selenium.webdriver.remote.webelement.WebElement (session=\"9148f257906269522daae78b32d235ba\", element=\"f4feaefe-40a5-46d9-b38f-aa7e33663b3f\")>,\n",
       " <selenium.webdriver.remote.webelement.WebElement (session=\"9148f257906269522daae78b32d235ba\", element=\"684de6c9-85b4-4701-8a4d-6babfeace727\")>,\n",
       " <selenium.webdriver.remote.webelement.WebElement (session=\"9148f257906269522daae78b32d235ba\", element=\"733e43a3-b838-465f-b54e-05213d6a3413\")>,\n",
       " <selenium.webdriver.remote.webelement.WebElement (session=\"9148f257906269522daae78b32d235ba\", element=\"631c1a19-3d7e-4370-a5e6-24c1183fc9cc\")>,\n",
       " <selenium.webdriver.remote.webelement.WebElement (session=\"9148f257906269522daae78b32d235ba\", element=\"4aeedfb5-c01c-4495-985e-47922cb53347\")>,\n",
       " <selenium.webdriver.remote.webelement.WebElement (session=\"9148f257906269522daae78b32d235ba\", element=\"b7322102-a90b-4074-82c4-140cb7123e55\")>,\n",
       " <selenium.webdriver.remote.webelement.WebElement (session=\"9148f257906269522daae78b32d235ba\", element=\"cd80f4d7-fe01-4d74-9ba6-a7c33ed1ad41\")>,\n",
       " <selenium.webdriver.remote.webelement.WebElement (session=\"9148f257906269522daae78b32d235ba\", element=\"0c5d684b-704f-47f2-8bca-7a30de1aee3d\")>,\n",
       " <selenium.webdriver.remote.webelement.WebElement (session=\"9148f257906269522daae78b32d235ba\", element=\"abefa1a9-c788-40f1-af02-9263f832e470\")>,\n",
       " <selenium.webdriver.remote.webelement.WebElement (session=\"9148f257906269522daae78b32d235ba\", element=\"a4af2ad3-1707-4e51-a61f-2f2460f71ff9\")>,\n",
       " <selenium.webdriver.remote.webelement.WebElement (session=\"9148f257906269522daae78b32d235ba\", element=\"3cb3d7da-2cab-4adf-b06f-e761d4bc2d32\")>,\n",
       " <selenium.webdriver.remote.webelement.WebElement (session=\"9148f257906269522daae78b32d235ba\", element=\"20135daf-3e3a-4715-9e3b-1b126e71276e\")>,\n",
       " <selenium.webdriver.remote.webelement.WebElement (session=\"9148f257906269522daae78b32d235ba\", element=\"15725a2e-a81a-429a-bd94-c5ccdd199ef1\")>,\n",
       " <selenium.webdriver.remote.webelement.WebElement (session=\"9148f257906269522daae78b32d235ba\", element=\"d0ee6ee6-3993-409b-9643-201bd0b678c5\")>,\n",
       " <selenium.webdriver.remote.webelement.WebElement (session=\"9148f257906269522daae78b32d235ba\", element=\"f91d82c3-2662-4683-bd83-2d5da6b1d5ce\")>,\n",
       " <selenium.webdriver.remote.webelement.WebElement (session=\"9148f257906269522daae78b32d235ba\", element=\"8d617c33-defb-40ae-95d7-4d206bbbef1a\")>,\n",
       " <selenium.webdriver.remote.webelement.WebElement (session=\"9148f257906269522daae78b32d235ba\", element=\"df766676-21d2-4f52-8e67-184da1a0bd5e\")>,\n",
       " <selenium.webdriver.remote.webelement.WebElement (session=\"9148f257906269522daae78b32d235ba\", element=\"ee50e732-ab05-4035-be27-e2251370d31a\")>,\n",
       " <selenium.webdriver.remote.webelement.WebElement (session=\"9148f257906269522daae78b32d235ba\", element=\"a7788f09-5a57-4e86-aa7b-5846172de0f7\")>,\n",
       " <selenium.webdriver.remote.webelement.WebElement (session=\"9148f257906269522daae78b32d235ba\", element=\"05fc9b05-deb7-4a30-8f08-c1a58936092f\")>,\n",
       " <selenium.webdriver.remote.webelement.WebElement (session=\"9148f257906269522daae78b32d235ba\", element=\"4a27ea9c-0e2c-42ed-bd49-573c2a59312b\")>,\n",
       " <selenium.webdriver.remote.webelement.WebElement (session=\"9148f257906269522daae78b32d235ba\", element=\"46ffe0bf-c8c7-4686-9f9b-d8e37d9be16e\")>,\n",
       " <selenium.webdriver.remote.webelement.WebElement (session=\"9148f257906269522daae78b32d235ba\", element=\"87e30a7d-8ebc-4dc0-9c56-1d1645fa36fa\")>,\n",
       " <selenium.webdriver.remote.webelement.WebElement (session=\"9148f257906269522daae78b32d235ba\", element=\"eb3d96b6-e564-4fbc-b4c3-d4c7ef08c9e2\")>,\n",
       " <selenium.webdriver.remote.webelement.WebElement (session=\"9148f257906269522daae78b32d235ba\", element=\"b0c4e907-f95d-4bb4-8216-17de8167e127\")>,\n",
       " <selenium.webdriver.remote.webelement.WebElement (session=\"9148f257906269522daae78b32d235ba\", element=\"470a6e74-d6a2-4c38-b9a7-1eb649c4dd6e\")>,\n",
       " <selenium.webdriver.remote.webelement.WebElement (session=\"9148f257906269522daae78b32d235ba\", element=\"5e21d8de-a9b1-433a-97d1-52255613ad9d\")>,\n",
       " <selenium.webdriver.remote.webelement.WebElement (session=\"9148f257906269522daae78b32d235ba\", element=\"87de1711-0032-4973-a57e-f16c5c242bc1\")>,\n",
       " <selenium.webdriver.remote.webelement.WebElement (session=\"9148f257906269522daae78b32d235ba\", element=\"116eac21-9dd4-4e04-93f2-64554a186826\")>,\n",
       " <selenium.webdriver.remote.webelement.WebElement (session=\"9148f257906269522daae78b32d235ba\", element=\"ae3ace2c-587c-470e-8ce9-8a373c58e183\")>,\n",
       " <selenium.webdriver.remote.webelement.WebElement (session=\"9148f257906269522daae78b32d235ba\", element=\"6f199ded-e0d5-454a-9f88-5eccda87fc01\")>,\n",
       " <selenium.webdriver.remote.webelement.WebElement (session=\"9148f257906269522daae78b32d235ba\", element=\"779ca9f9-73bf-4d45-b025-e87727ea9df1\")>,\n",
       " <selenium.webdriver.remote.webelement.WebElement (session=\"9148f257906269522daae78b32d235ba\", element=\"7af69164-a719-470a-ad7e-dd3b55c73222\")>,\n",
       " <selenium.webdriver.remote.webelement.WebElement (session=\"9148f257906269522daae78b32d235ba\", element=\"605c6616-f4ee-4fe2-8c2d-36a309a6c714\")>,\n",
       " <selenium.webdriver.remote.webelement.WebElement (session=\"9148f257906269522daae78b32d235ba\", element=\"ab41fa25-9554-4196-a4e8-d2c0838294ce\")>,\n",
       " <selenium.webdriver.remote.webelement.WebElement (session=\"9148f257906269522daae78b32d235ba\", element=\"909b5723-bf73-4893-a6c0-59cf5247eb72\")>]"
      ]
     },
     "execution_count": 48,
     "metadata": {},
     "output_type": "execute_result"
    }
   ],
   "source": [
    "brand11=driver.find_elements_by_xpath('//div[@class=\"_2WkVRV\"]')\n",
    "brand11"
   ]
  },
  {
   "cell_type": "code",
   "execution_count": 49,
   "metadata": {},
   "outputs": [
    {
     "data": {
      "text/plain": [
       "['Fastrack',\n",
       " 'PIRASO',\n",
       " 'Rich Club',\n",
       " 'VINCENT CHASE',\n",
       " 'kingsunglasses',\n",
       " 'PIRASO',\n",
       " 'Rich Club',\n",
       " 'LOUIS KOUROS',\n",
       " 'SUNBEE',\n",
       " 'Fastrack',\n",
       " 'Elligator',\n",
       " 'ROYAL SON',\n",
       " 'elegante',\n",
       " 'ROYAL SON',\n",
       " 'elegante',\n",
       " 'Arnette',\n",
       " 'New Specs',\n",
       " 'Rich Club',\n",
       " 'SUNBEE',\n",
       " 'LOUIS KOUROS']"
      ]
     },
     "execution_count": 49,
     "metadata": {},
     "output_type": "execute_result"
    }
   ],
   "source": [
    "BRAND11=[]\n",
    "for i in brand11:\n",
    "    BRAND11.append(i.text)\n",
    "BRAND11[0:20]\n",
    "\n"
   ]
  },
  {
   "cell_type": "code",
   "execution_count": 50,
   "metadata": {},
   "outputs": [
    {
     "data": {
      "text/plain": [
       "[<selenium.webdriver.remote.webelement.WebElement (session=\"9148f257906269522daae78b32d235ba\", element=\"77d2f10c-33f3-4ba0-9ce5-7778604d901f\")>,\n",
       " <selenium.webdriver.remote.webelement.WebElement (session=\"9148f257906269522daae78b32d235ba\", element=\"403544cd-80de-4fbf-9c2e-d4ffe4ec8caf\")>,\n",
       " <selenium.webdriver.remote.webelement.WebElement (session=\"9148f257906269522daae78b32d235ba\", element=\"1054be8a-865c-440d-9d1a-a33f99638264\")>,\n",
       " <selenium.webdriver.remote.webelement.WebElement (session=\"9148f257906269522daae78b32d235ba\", element=\"72ed8ba0-3f63-49d7-838f-7e00b6e3f630\")>,\n",
       " <selenium.webdriver.remote.webelement.WebElement (session=\"9148f257906269522daae78b32d235ba\", element=\"662e1823-5228-4bf2-9c69-5e4844f76163\")>,\n",
       " <selenium.webdriver.remote.webelement.WebElement (session=\"9148f257906269522daae78b32d235ba\", element=\"11e60c0e-40a4-493f-a60d-954f91736a21\")>,\n",
       " <selenium.webdriver.remote.webelement.WebElement (session=\"9148f257906269522daae78b32d235ba\", element=\"90ed687e-7c8c-4fa7-b195-95b9e42bf1d1\")>,\n",
       " <selenium.webdriver.remote.webelement.WebElement (session=\"9148f257906269522daae78b32d235ba\", element=\"81257187-29a7-4ec8-a879-b00de388ec1a\")>,\n",
       " <selenium.webdriver.remote.webelement.WebElement (session=\"9148f257906269522daae78b32d235ba\", element=\"2cebf483-8510-41d5-ada6-a8f50fae4507\")>,\n",
       " <selenium.webdriver.remote.webelement.WebElement (session=\"9148f257906269522daae78b32d235ba\", element=\"42638e50-9479-4330-95de-674b7c12a5de\")>,\n",
       " <selenium.webdriver.remote.webelement.WebElement (session=\"9148f257906269522daae78b32d235ba\", element=\"937f72ff-f20b-4eea-b534-25407705b1a0\")>,\n",
       " <selenium.webdriver.remote.webelement.WebElement (session=\"9148f257906269522daae78b32d235ba\", element=\"c22aeef4-3365-4f1e-ac8a-8cbfd9e3fc3b\")>,\n",
       " <selenium.webdriver.remote.webelement.WebElement (session=\"9148f257906269522daae78b32d235ba\", element=\"d0035e1d-e6d1-4305-8c12-83c49a62000a\")>,\n",
       " <selenium.webdriver.remote.webelement.WebElement (session=\"9148f257906269522daae78b32d235ba\", element=\"7637041b-7fc5-4732-b570-a4275f27c332\")>,\n",
       " <selenium.webdriver.remote.webelement.WebElement (session=\"9148f257906269522daae78b32d235ba\", element=\"2bc335b8-b2ca-467e-91af-7ca2a9321636\")>,\n",
       " <selenium.webdriver.remote.webelement.WebElement (session=\"9148f257906269522daae78b32d235ba\", element=\"9d4acb13-8bb8-4f0d-b03e-843e76c69acf\")>,\n",
       " <selenium.webdriver.remote.webelement.WebElement (session=\"9148f257906269522daae78b32d235ba\", element=\"cfd3a8fa-61c7-4116-ad2e-42b7948c0387\")>,\n",
       " <selenium.webdriver.remote.webelement.WebElement (session=\"9148f257906269522daae78b32d235ba\", element=\"e268dfcc-5d50-479f-a205-7201ebc688c9\")>,\n",
       " <selenium.webdriver.remote.webelement.WebElement (session=\"9148f257906269522daae78b32d235ba\", element=\"58e5997f-e2bb-474e-81a2-d501454aef40\")>,\n",
       " <selenium.webdriver.remote.webelement.WebElement (session=\"9148f257906269522daae78b32d235ba\", element=\"0a006b5b-cfae-4d4f-b286-0224f90f2712\")>,\n",
       " <selenium.webdriver.remote.webelement.WebElement (session=\"9148f257906269522daae78b32d235ba\", element=\"8a4236ec-4c5d-4758-bb20-73cdf1336e7e\")>,\n",
       " <selenium.webdriver.remote.webelement.WebElement (session=\"9148f257906269522daae78b32d235ba\", element=\"0d417181-0223-4baf-aae0-82312b5cfba9\")>,\n",
       " <selenium.webdriver.remote.webelement.WebElement (session=\"9148f257906269522daae78b32d235ba\", element=\"714e8cb0-aa18-4fae-809d-695385cd92c2\")>,\n",
       " <selenium.webdriver.remote.webelement.WebElement (session=\"9148f257906269522daae78b32d235ba\", element=\"ca7f3e1c-a427-4559-a4df-06176fdd1f8c\")>,\n",
       " <selenium.webdriver.remote.webelement.WebElement (session=\"9148f257906269522daae78b32d235ba\", element=\"1339036f-ef4c-4d10-b496-c0ed78af7b61\")>,\n",
       " <selenium.webdriver.remote.webelement.WebElement (session=\"9148f257906269522daae78b32d235ba\", element=\"12a311c9-dedf-4d2c-9bfe-bacab8b560a8\")>,\n",
       " <selenium.webdriver.remote.webelement.WebElement (session=\"9148f257906269522daae78b32d235ba\", element=\"f5bf75c1-bbfa-44c8-8919-1afd308d4367\")>,\n",
       " <selenium.webdriver.remote.webelement.WebElement (session=\"9148f257906269522daae78b32d235ba\", element=\"729f419c-0ac3-49c5-9314-ae852026106e\")>,\n",
       " <selenium.webdriver.remote.webelement.WebElement (session=\"9148f257906269522daae78b32d235ba\", element=\"b2b09507-9fe5-49c3-9b7d-5e57fd981374\")>,\n",
       " <selenium.webdriver.remote.webelement.WebElement (session=\"9148f257906269522daae78b32d235ba\", element=\"19a4bdc5-5a58-4e6f-bfea-f85612930859\")>,\n",
       " <selenium.webdriver.remote.webelement.WebElement (session=\"9148f257906269522daae78b32d235ba\", element=\"45df12e1-c5e0-4f2c-be75-986237c86fb2\")>,\n",
       " <selenium.webdriver.remote.webelement.WebElement (session=\"9148f257906269522daae78b32d235ba\", element=\"1693b45b-d5fe-4ff8-a817-f61459ec141d\")>,\n",
       " <selenium.webdriver.remote.webelement.WebElement (session=\"9148f257906269522daae78b32d235ba\", element=\"8679e4ef-6e4f-4a12-9467-c8bb1f4585a2\")>,\n",
       " <selenium.webdriver.remote.webelement.WebElement (session=\"9148f257906269522daae78b32d235ba\", element=\"f3e5e77c-d6bd-4a18-9767-277b888f6a20\")>,\n",
       " <selenium.webdriver.remote.webelement.WebElement (session=\"9148f257906269522daae78b32d235ba\", element=\"0d6794b9-017b-48c1-944d-0dd3448a4a47\")>,\n",
       " <selenium.webdriver.remote.webelement.WebElement (session=\"9148f257906269522daae78b32d235ba\", element=\"193d07bc-b806-4cfe-8bc4-a446866e4174\")>,\n",
       " <selenium.webdriver.remote.webelement.WebElement (session=\"9148f257906269522daae78b32d235ba\", element=\"9e48785b-b5b4-4a28-89cb-9c81a5b3c1a0\")>,\n",
       " <selenium.webdriver.remote.webelement.WebElement (session=\"9148f257906269522daae78b32d235ba\", element=\"eaee616b-8891-412d-bbc2-f72f21e24261\")>,\n",
       " <selenium.webdriver.remote.webelement.WebElement (session=\"9148f257906269522daae78b32d235ba\", element=\"80b89000-9483-4ec5-b82c-908392d2bcf3\")>,\n",
       " <selenium.webdriver.remote.webelement.WebElement (session=\"9148f257906269522daae78b32d235ba\", element=\"71ac452f-ac1c-4353-b25b-62264e8fc0c5\")>]"
      ]
     },
     "execution_count": 50,
     "metadata": {},
     "output_type": "execute_result"
    }
   ],
   "source": [
    "description11=driver.find_elements_by_xpath('//a[@class=\"IRpwTa\"]')\n",
    "description11"
   ]
  },
  {
   "cell_type": "code",
   "execution_count": 51,
   "metadata": {},
   "outputs": [
    {
     "data": {
      "text/plain": [
       "['UV Protection Wayfarer Sunglasses (Free Size)',\n",
       " 'UV Protection Butterfly Sunglasses (60)',\n",
       " 'UV Protection Round Sunglasses (48)',\n",
       " 'UV Protection Wayfarer Sunglasses (55)',\n",
       " 'Mirrored, UV Protection Wayfarer, Rectangular Sunglasse...',\n",
       " 'UV Protection Aviator Sunglasses (58)',\n",
       " 'Polarized Round Sunglasses (48)',\n",
       " 'UV Protection Aviator Sunglasses (60)',\n",
       " 'UV Protection, Polarized, Mirrored Retro Square Sunglas...',\n",
       " 'UV Protection Wayfarer Sunglasses (55)',\n",
       " 'Others Cat-eye, Retro Square, Wayfarer Sunglasses (54)',\n",
       " 'Polarized, UV Protection Wrap-around Sunglasses (62)',\n",
       " 'UV Protection Oval Sunglasses (Free Size)',\n",
       " 'Polarized Rectangular Sunglasses (60)',\n",
       " 'UV Protection Wayfarer Sunglasses (Free Size)',\n",
       " 'Mirrored Retro Square Sunglasses (56)',\n",
       " 'UV Protection Round Sunglasses (Free Size)',\n",
       " 'UV Protection, Polarized Oval, Retro Square Sunglasses ...',\n",
       " 'UV Protection, Polarized, Mirrored Wayfarer Sunglasses ...',\n",
       " 'UV Protection Aviator Sunglasses (60)']"
      ]
     },
     "execution_count": 51,
     "metadata": {},
     "output_type": "execute_result"
    }
   ],
   "source": [
    "DESCRIPTION11=[]\n",
    "for i in description11:\n",
    "    DESCRIPTION11.append(i.text)\n",
    "DESCRIPTION11[0:20]"
   ]
  },
  {
   "cell_type": "code",
   "execution_count": 52,
   "metadata": {},
   "outputs": [
    {
     "data": {
      "text/plain": [
       "[<selenium.webdriver.remote.webelement.WebElement (session=\"9148f257906269522daae78b32d235ba\", element=\"0f1ace70-7e0e-48f4-97a1-936faac3f1c8\")>,\n",
       " <selenium.webdriver.remote.webelement.WebElement (session=\"9148f257906269522daae78b32d235ba\", element=\"90ce2544-3e12-4974-8abf-8a7d52905d26\")>,\n",
       " <selenium.webdriver.remote.webelement.WebElement (session=\"9148f257906269522daae78b32d235ba\", element=\"9d653d8a-3539-49ba-a116-2ee97bf4c368\")>,\n",
       " <selenium.webdriver.remote.webelement.WebElement (session=\"9148f257906269522daae78b32d235ba\", element=\"24a3de88-98e4-469d-b0b9-5def66ae660f\")>,\n",
       " <selenium.webdriver.remote.webelement.WebElement (session=\"9148f257906269522daae78b32d235ba\", element=\"879a05c8-73b9-43e4-af3d-8660163d9934\")>,\n",
       " <selenium.webdriver.remote.webelement.WebElement (session=\"9148f257906269522daae78b32d235ba\", element=\"d8529534-fa77-49d9-a474-0aba0fb9ff8e\")>,\n",
       " <selenium.webdriver.remote.webelement.WebElement (session=\"9148f257906269522daae78b32d235ba\", element=\"a5302d0e-a525-43f9-af43-49f2881c269d\")>,\n",
       " <selenium.webdriver.remote.webelement.WebElement (session=\"9148f257906269522daae78b32d235ba\", element=\"c3fcd8c8-1600-4b49-a214-8ad038a97073\")>,\n",
       " <selenium.webdriver.remote.webelement.WebElement (session=\"9148f257906269522daae78b32d235ba\", element=\"a6c09303-1a75-4eab-87b0-8c03dcd078a9\")>,\n",
       " <selenium.webdriver.remote.webelement.WebElement (session=\"9148f257906269522daae78b32d235ba\", element=\"8e4eef73-3c5c-434e-836f-bccdd3c3c8ef\")>,\n",
       " <selenium.webdriver.remote.webelement.WebElement (session=\"9148f257906269522daae78b32d235ba\", element=\"fcf117e8-f92d-48f9-addf-f61fa5ff5c8e\")>,\n",
       " <selenium.webdriver.remote.webelement.WebElement (session=\"9148f257906269522daae78b32d235ba\", element=\"9f0c637a-6c3b-4fa8-92b3-7a602543e871\")>,\n",
       " <selenium.webdriver.remote.webelement.WebElement (session=\"9148f257906269522daae78b32d235ba\", element=\"b3438b23-4e53-4f14-af9d-89321ffe86c0\")>,\n",
       " <selenium.webdriver.remote.webelement.WebElement (session=\"9148f257906269522daae78b32d235ba\", element=\"515c6edf-2f9e-43a0-a31e-67309741bff3\")>,\n",
       " <selenium.webdriver.remote.webelement.WebElement (session=\"9148f257906269522daae78b32d235ba\", element=\"b10b787b-4a5a-4844-8926-180bd53fafd7\")>,\n",
       " <selenium.webdriver.remote.webelement.WebElement (session=\"9148f257906269522daae78b32d235ba\", element=\"ac1b25f2-e418-48f5-97f7-1baf070c0267\")>,\n",
       " <selenium.webdriver.remote.webelement.WebElement (session=\"9148f257906269522daae78b32d235ba\", element=\"4ff82935-df07-45bd-b01c-9f59ce3f74b6\")>,\n",
       " <selenium.webdriver.remote.webelement.WebElement (session=\"9148f257906269522daae78b32d235ba\", element=\"51110d85-1a06-489a-bf64-4b0329040719\")>,\n",
       " <selenium.webdriver.remote.webelement.WebElement (session=\"9148f257906269522daae78b32d235ba\", element=\"1e0f9210-3014-4c39-82c7-4da950c1d8eb\")>,\n",
       " <selenium.webdriver.remote.webelement.WebElement (session=\"9148f257906269522daae78b32d235ba\", element=\"ca11fe9a-c7e3-4136-abfa-3c6f514d5509\")>,\n",
       " <selenium.webdriver.remote.webelement.WebElement (session=\"9148f257906269522daae78b32d235ba\", element=\"a0074bc7-48ae-45d9-94ec-9b324244ce8b\")>,\n",
       " <selenium.webdriver.remote.webelement.WebElement (session=\"9148f257906269522daae78b32d235ba\", element=\"ac842933-c2f6-473d-8e85-7a94b315327a\")>,\n",
       " <selenium.webdriver.remote.webelement.WebElement (session=\"9148f257906269522daae78b32d235ba\", element=\"20b2112a-098c-458b-aba4-514451d77ced\")>,\n",
       " <selenium.webdriver.remote.webelement.WebElement (session=\"9148f257906269522daae78b32d235ba\", element=\"b948f529-a7c8-4473-8228-c1596d37a028\")>,\n",
       " <selenium.webdriver.remote.webelement.WebElement (session=\"9148f257906269522daae78b32d235ba\", element=\"10304255-ccd3-4cc8-9d11-502846cc06c3\")>,\n",
       " <selenium.webdriver.remote.webelement.WebElement (session=\"9148f257906269522daae78b32d235ba\", element=\"5016d250-748a-49b3-8bea-d6fccede9114\")>,\n",
       " <selenium.webdriver.remote.webelement.WebElement (session=\"9148f257906269522daae78b32d235ba\", element=\"5aaad993-aaeb-4d2a-a0f7-e134e48fd99f\")>,\n",
       " <selenium.webdriver.remote.webelement.WebElement (session=\"9148f257906269522daae78b32d235ba\", element=\"35b67a47-0804-484a-b83d-b2cffed9a9f2\")>,\n",
       " <selenium.webdriver.remote.webelement.WebElement (session=\"9148f257906269522daae78b32d235ba\", element=\"38fd378b-dcce-4b50-bd18-170d3701a27b\")>,\n",
       " <selenium.webdriver.remote.webelement.WebElement (session=\"9148f257906269522daae78b32d235ba\", element=\"ec927ecf-ee1b-490f-a6a0-a45c1f7057fd\")>,\n",
       " <selenium.webdriver.remote.webelement.WebElement (session=\"9148f257906269522daae78b32d235ba\", element=\"d62be537-1b61-4316-97b0-fd4391771c6d\")>,\n",
       " <selenium.webdriver.remote.webelement.WebElement (session=\"9148f257906269522daae78b32d235ba\", element=\"8367e073-d1cc-42d0-8212-70ad3c757b54\")>,\n",
       " <selenium.webdriver.remote.webelement.WebElement (session=\"9148f257906269522daae78b32d235ba\", element=\"0133cfee-0f2d-4f40-a261-e0c2bb7a16e9\")>,\n",
       " <selenium.webdriver.remote.webelement.WebElement (session=\"9148f257906269522daae78b32d235ba\", element=\"2251c4a8-d36d-4796-bcd9-3e6e2ea53746\")>,\n",
       " <selenium.webdriver.remote.webelement.WebElement (session=\"9148f257906269522daae78b32d235ba\", element=\"c22a95bf-e37d-4bce-9c9f-5e3739e1ddfc\")>,\n",
       " <selenium.webdriver.remote.webelement.WebElement (session=\"9148f257906269522daae78b32d235ba\", element=\"ba6edd81-e591-43ad-a679-a8c74f36c6d1\")>,\n",
       " <selenium.webdriver.remote.webelement.WebElement (session=\"9148f257906269522daae78b32d235ba\", element=\"afc0a8fc-56c0-4ef6-8eaf-ff2330512ce7\")>,\n",
       " <selenium.webdriver.remote.webelement.WebElement (session=\"9148f257906269522daae78b32d235ba\", element=\"75c37fb0-e7a8-46b4-adcb-a6d2b277d930\")>,\n",
       " <selenium.webdriver.remote.webelement.WebElement (session=\"9148f257906269522daae78b32d235ba\", element=\"027a71c7-9e28-4382-bea6-948a937f82e0\")>,\n",
       " <selenium.webdriver.remote.webelement.WebElement (session=\"9148f257906269522daae78b32d235ba\", element=\"1faa7e9e-694f-4c83-8b38-c1ae75bfa3b1\")>]"
      ]
     },
     "execution_count": 52,
     "metadata": {},
     "output_type": "execute_result"
    }
   ],
   "source": [
    "price11=driver.find_elements_by_xpath('//div[@class=\"_30jeq3\"]')\n",
    "price11"
   ]
  },
  {
   "cell_type": "code",
   "execution_count": 53,
   "metadata": {},
   "outputs": [
    {
     "data": {
      "text/plain": [
       "['₹589',\n",
       " '₹325',\n",
       " '₹210',\n",
       " '₹709',\n",
       " '₹208',\n",
       " '₹249',\n",
       " '₹115',\n",
       " '₹1,299',\n",
       " '₹180',\n",
       " '₹709',\n",
       " '₹114',\n",
       " '₹709',\n",
       " '₹339',\n",
       " '₹614',\n",
       " '₹349',\n",
       " '₹2,499',\n",
       " '₹188',\n",
       " '₹118',\n",
       " '₹197',\n",
       " '₹1,299']"
      ]
     },
     "execution_count": 53,
     "metadata": {},
     "output_type": "execute_result"
    }
   ],
   "source": [
    "PRICE11=[]\n",
    "for i in price11:\n",
    "    PRICE11.append(i.text)\n",
    "PRICE11[0:20]"
   ]
  },
  {
   "cell_type": "code",
   "execution_count": 54,
   "metadata": {},
   "outputs": [
    {
     "data": {
      "text/plain": [
       "[<selenium.webdriver.remote.webelement.WebElement (session=\"9148f257906269522daae78b32d235ba\", element=\"cf030388-169f-4f51-977d-e8e52205d5ae\")>,\n",
       " <selenium.webdriver.remote.webelement.WebElement (session=\"9148f257906269522daae78b32d235ba\", element=\"3e21c28c-514c-4942-9ef0-0196741c66dc\")>,\n",
       " <selenium.webdriver.remote.webelement.WebElement (session=\"9148f257906269522daae78b32d235ba\", element=\"a7176d31-cdfe-4380-b266-ba26372dafed\")>,\n",
       " <selenium.webdriver.remote.webelement.WebElement (session=\"9148f257906269522daae78b32d235ba\", element=\"6f268285-a284-4ea1-9f84-b2036589030d\")>,\n",
       " <selenium.webdriver.remote.webelement.WebElement (session=\"9148f257906269522daae78b32d235ba\", element=\"dfd3584e-313d-4f0b-908a-0c6dad171ae5\")>,\n",
       " <selenium.webdriver.remote.webelement.WebElement (session=\"9148f257906269522daae78b32d235ba\", element=\"119ee4dd-5766-40f7-bc61-5feb9be9ea43\")>,\n",
       " <selenium.webdriver.remote.webelement.WebElement (session=\"9148f257906269522daae78b32d235ba\", element=\"baf71172-09a8-44d9-a82a-c69824ff13cd\")>,\n",
       " <selenium.webdriver.remote.webelement.WebElement (session=\"9148f257906269522daae78b32d235ba\", element=\"a195c10a-7c6e-48ae-8085-be33bd0029c6\")>,\n",
       " <selenium.webdriver.remote.webelement.WebElement (session=\"9148f257906269522daae78b32d235ba\", element=\"b08d5953-d4d6-4a8d-8dca-c34d31d38413\")>,\n",
       " <selenium.webdriver.remote.webelement.WebElement (session=\"9148f257906269522daae78b32d235ba\", element=\"09a9ea62-661b-41f6-85a9-dceae629ddcf\")>,\n",
       " <selenium.webdriver.remote.webelement.WebElement (session=\"9148f257906269522daae78b32d235ba\", element=\"f73fe4b2-cc1c-4c14-b230-5ca5c45a9137\")>,\n",
       " <selenium.webdriver.remote.webelement.WebElement (session=\"9148f257906269522daae78b32d235ba\", element=\"713c9f38-b6ed-40d7-9ed0-d3226cd924da\")>,\n",
       " <selenium.webdriver.remote.webelement.WebElement (session=\"9148f257906269522daae78b32d235ba\", element=\"869fecdd-1323-4f75-ac28-91b3e6a97c9f\")>,\n",
       " <selenium.webdriver.remote.webelement.WebElement (session=\"9148f257906269522daae78b32d235ba\", element=\"20d29fc1-3fb5-436a-86c0-48a9785a0ef3\")>,\n",
       " <selenium.webdriver.remote.webelement.WebElement (session=\"9148f257906269522daae78b32d235ba\", element=\"dccc23ee-215a-4600-9f07-8a5bfb47f074\")>,\n",
       " <selenium.webdriver.remote.webelement.WebElement (session=\"9148f257906269522daae78b32d235ba\", element=\"80ae7fe5-1756-4aa8-a4ee-77f13ecb6dce\")>,\n",
       " <selenium.webdriver.remote.webelement.WebElement (session=\"9148f257906269522daae78b32d235ba\", element=\"4b370290-b32e-4918-a177-04c7c1216f40\")>,\n",
       " <selenium.webdriver.remote.webelement.WebElement (session=\"9148f257906269522daae78b32d235ba\", element=\"0247f838-1b54-4ce5-9474-6eafb26f32d9\")>,\n",
       " <selenium.webdriver.remote.webelement.WebElement (session=\"9148f257906269522daae78b32d235ba\", element=\"afb04e90-590d-4288-a66a-02ab95e07d57\")>,\n",
       " <selenium.webdriver.remote.webelement.WebElement (session=\"9148f257906269522daae78b32d235ba\", element=\"b68eb1e4-84f9-4607-93ee-a4263f3ba71f\")>,\n",
       " <selenium.webdriver.remote.webelement.WebElement (session=\"9148f257906269522daae78b32d235ba\", element=\"75efdb98-af70-46b4-95cb-b6be22a75b04\")>,\n",
       " <selenium.webdriver.remote.webelement.WebElement (session=\"9148f257906269522daae78b32d235ba\", element=\"b8a43c84-6937-4a3c-9ed5-7563eee51b80\")>,\n",
       " <selenium.webdriver.remote.webelement.WebElement (session=\"9148f257906269522daae78b32d235ba\", element=\"2074a0b7-fadf-4ec3-80e9-accbedbaf2a0\")>,\n",
       " <selenium.webdriver.remote.webelement.WebElement (session=\"9148f257906269522daae78b32d235ba\", element=\"d0c1b9fc-d286-4441-abd7-837714a94a27\")>,\n",
       " <selenium.webdriver.remote.webelement.WebElement (session=\"9148f257906269522daae78b32d235ba\", element=\"58082844-c77d-4809-9a40-f1fe2ae77e6f\")>,\n",
       " <selenium.webdriver.remote.webelement.WebElement (session=\"9148f257906269522daae78b32d235ba\", element=\"9ab7a2f9-cb73-4a16-a3f8-88d2c3d9d341\")>,\n",
       " <selenium.webdriver.remote.webelement.WebElement (session=\"9148f257906269522daae78b32d235ba\", element=\"13c4304a-e53c-4175-ab24-332c3c53ecf7\")>,\n",
       " <selenium.webdriver.remote.webelement.WebElement (session=\"9148f257906269522daae78b32d235ba\", element=\"5632f657-2172-4f8a-8ad7-3462ebd03321\")>,\n",
       " <selenium.webdriver.remote.webelement.WebElement (session=\"9148f257906269522daae78b32d235ba\", element=\"5fc61954-c693-4b2a-9506-9d1d6da02e37\")>,\n",
       " <selenium.webdriver.remote.webelement.WebElement (session=\"9148f257906269522daae78b32d235ba\", element=\"24638e9a-02db-4220-9bd7-e4c2d54d6e3c\")>,\n",
       " <selenium.webdriver.remote.webelement.WebElement (session=\"9148f257906269522daae78b32d235ba\", element=\"ad086ddc-192d-483d-81ab-536cc988d33d\")>,\n",
       " <selenium.webdriver.remote.webelement.WebElement (session=\"9148f257906269522daae78b32d235ba\", element=\"7491e89a-c638-462e-969d-0d6263a957b8\")>,\n",
       " <selenium.webdriver.remote.webelement.WebElement (session=\"9148f257906269522daae78b32d235ba\", element=\"10dd4677-9b6d-48c8-a9ef-93986d7d2d3b\")>,\n",
       " <selenium.webdriver.remote.webelement.WebElement (session=\"9148f257906269522daae78b32d235ba\", element=\"40c50aa4-9e09-4aea-8ba5-837f8a9072ff\")>,\n",
       " <selenium.webdriver.remote.webelement.WebElement (session=\"9148f257906269522daae78b32d235ba\", element=\"d26fcd6b-67be-4280-aaea-571e615ef8a2\")>,\n",
       " <selenium.webdriver.remote.webelement.WebElement (session=\"9148f257906269522daae78b32d235ba\", element=\"afb5817a-7627-4c85-b436-dea45b9992ca\")>,\n",
       " <selenium.webdriver.remote.webelement.WebElement (session=\"9148f257906269522daae78b32d235ba\", element=\"bac02d9e-cf91-4acf-9a7a-f5bb4740ad1a\")>,\n",
       " <selenium.webdriver.remote.webelement.WebElement (session=\"9148f257906269522daae78b32d235ba\", element=\"dcb1f485-675a-47b0-98ec-006a602d5e21\")>,\n",
       " <selenium.webdriver.remote.webelement.WebElement (session=\"9148f257906269522daae78b32d235ba\", element=\"e9ceeb51-3ffb-4dfb-a3f2-6b3de4d212f3\")>,\n",
       " <selenium.webdriver.remote.webelement.WebElement (session=\"9148f257906269522daae78b32d235ba\", element=\"3b28f3c4-d3d7-43cf-99eb-9f9ff2122955\")>]"
      ]
     },
     "execution_count": 54,
     "metadata": {},
     "output_type": "execute_result"
    }
   ],
   "source": [
    "discount11=driver.find_elements_by_xpath('//div[@class=\"_3Ay6Sb\"]')\n",
    "discount11"
   ]
  },
  {
   "cell_type": "code",
   "execution_count": 57,
   "metadata": {},
   "outputs": [
    {
     "data": {
      "text/plain": [
       "['26% off',\n",
       " '87% off',\n",
       " '73% off',\n",
       " '64% off',\n",
       " '89% off',\n",
       " '90% off',\n",
       " '76% off',\n",
       " '83% off',\n",
       " '86% off',\n",
       " '11% off',\n",
       " '90% off',\n",
       " '64% off',\n",
       " '77% off',\n",
       " '69% off',\n",
       " '76% off',\n",
       " '50% off',\n",
       " '85% off',\n",
       " '76% off',\n",
       " '84% off',\n",
       " '83% off']"
      ]
     },
     "execution_count": 57,
     "metadata": {},
     "output_type": "execute_result"
    }
   ],
   "source": [
    "DISCOUNT11=[]\n",
    "for i in discount11:\n",
    "    DISCOUNT11.append(i.text)\n",
    "DISCOUNT11[0:20]"
   ]
  },
  {
   "cell_type": "markdown",
   "metadata": {},
   "source": [
    "# ANS.5"
   ]
  },
  {
   "cell_type": "code",
   "execution_count": 68,
   "metadata": {},
   "outputs": [],
   "source": [
    "url='https://www.flipkart.com/apple-iphone-11-black-64-gb/product-reviews/itm4e5041ba101fd?pid=MOBFWQ6BXGJCEYNY&lid=LSTMOBFWQ6BXGJCEYNYL0BETT&marketplace=FLIPKART'\n",
    "driver.get(url)"
   ]
  },
  {
   "cell_type": "code",
   "execution_count": 69,
   "metadata": {},
   "outputs": [
    {
     "data": {
      "text/plain": [
       "[<selenium.webdriver.remote.webelement.WebElement (session=\"9148f257906269522daae78b32d235ba\", element=\"68f1fefd-7864-4301-bc68-9a5b5f782631\")>,\n",
       " <selenium.webdriver.remote.webelement.WebElement (session=\"9148f257906269522daae78b32d235ba\", element=\"20573c51-e8ff-4267-a56a-2290f9ba2fde\")>,\n",
       " <selenium.webdriver.remote.webelement.WebElement (session=\"9148f257906269522daae78b32d235ba\", element=\"77d55bc5-150d-472e-9288-e1c4c6e77eb1\")>,\n",
       " <selenium.webdriver.remote.webelement.WebElement (session=\"9148f257906269522daae78b32d235ba\", element=\"f69e8ce8-0fbb-4337-9b30-73e81b02e9c2\")>,\n",
       " <selenium.webdriver.remote.webelement.WebElement (session=\"9148f257906269522daae78b32d235ba\", element=\"18a46f75-0269-41de-8dc6-99cbea35d9a1\")>,\n",
       " <selenium.webdriver.remote.webelement.WebElement (session=\"9148f257906269522daae78b32d235ba\", element=\"e6f00457-d164-4f78-98ba-61e4af43c65d\")>,\n",
       " <selenium.webdriver.remote.webelement.WebElement (session=\"9148f257906269522daae78b32d235ba\", element=\"aaabac4d-8484-45b6-9478-0e7a592589be\")>,\n",
       " <selenium.webdriver.remote.webelement.WebElement (session=\"9148f257906269522daae78b32d235ba\", element=\"4b75b15f-6011-4b38-9d31-3729f4ca7a83\")>,\n",
       " <selenium.webdriver.remote.webelement.WebElement (session=\"9148f257906269522daae78b32d235ba\", element=\"55ac924d-532f-4b7b-a09d-f10f46a9ad2f\")>,\n",
       " <selenium.webdriver.remote.webelement.WebElement (session=\"9148f257906269522daae78b32d235ba\", element=\"45e3a352-d870-4173-9393-4856122ed30c\")>]"
      ]
     },
     "execution_count": 69,
     "metadata": {},
     "output_type": "execute_result"
    }
   ],
   "source": [
    "rating=driver.find_elements_by_xpath('//div[@class=\"_3LWZlK _1BLPMq\"]')\n",
    "rating"
   ]
  },
  {
   "cell_type": "code",
   "execution_count": 70,
   "metadata": {},
   "outputs": [
    {
     "data": {
      "text/plain": [
       "['5', '5', '5', '5', '5', '5', '5', '4', '5', '5']"
      ]
     },
     "execution_count": 70,
     "metadata": {},
     "output_type": "execute_result"
    }
   ],
   "source": [
    "RATING=[]\n",
    "for i in rating:\n",
    "    RATING.append(i.text)\n",
    "RATING"
   ]
  },
  {
   "cell_type": "code",
   "execution_count": 71,
   "metadata": {},
   "outputs": [
    {
     "data": {
      "text/plain": [
       "[<selenium.webdriver.remote.webelement.WebElement (session=\"9148f257906269522daae78b32d235ba\", element=\"4f8f534e-9e2b-4832-ad0d-35d4bf378e95\")>,\n",
       " <selenium.webdriver.remote.webelement.WebElement (session=\"9148f257906269522daae78b32d235ba\", element=\"1a705ef1-e1c7-4f50-a9a9-2f8865924fdc\")>,\n",
       " <selenium.webdriver.remote.webelement.WebElement (session=\"9148f257906269522daae78b32d235ba\", element=\"40e278c6-db3b-41ce-b7a3-a3d446ae69e5\")>,\n",
       " <selenium.webdriver.remote.webelement.WebElement (session=\"9148f257906269522daae78b32d235ba\", element=\"09f97e66-74c3-43e1-b8e4-8364910b017d\")>,\n",
       " <selenium.webdriver.remote.webelement.WebElement (session=\"9148f257906269522daae78b32d235ba\", element=\"23f3996e-6740-43f8-b9f5-e5196dfbf62e\")>,\n",
       " <selenium.webdriver.remote.webelement.WebElement (session=\"9148f257906269522daae78b32d235ba\", element=\"f3ee584c-f3ae-461a-a5c9-894d0b8a9dc7\")>,\n",
       " <selenium.webdriver.remote.webelement.WebElement (session=\"9148f257906269522daae78b32d235ba\", element=\"9fe1c95f-cde9-4199-9968-e1be9af411b2\")>,\n",
       " <selenium.webdriver.remote.webelement.WebElement (session=\"9148f257906269522daae78b32d235ba\", element=\"23bb83f0-7857-4d4d-ac14-7e8c20a4a4ad\")>,\n",
       " <selenium.webdriver.remote.webelement.WebElement (session=\"9148f257906269522daae78b32d235ba\", element=\"68d91a8b-4f43-400c-892a-e1c4ba8da0a7\")>,\n",
       " <selenium.webdriver.remote.webelement.WebElement (session=\"9148f257906269522daae78b32d235ba\", element=\"5fc882b9-f395-45d4-b208-22e2ca7a996d\")>]"
      ]
     },
     "execution_count": 71,
     "metadata": {},
     "output_type": "execute_result"
    }
   ],
   "source": [
    "review=driver.find_elements_by_xpath('//p[@class=\"_2-N8zT\"]')\n",
    "review"
   ]
  },
  {
   "cell_type": "code",
   "execution_count": 72,
   "metadata": {},
   "outputs": [
    {
     "data": {
      "text/plain": [
       "['Brilliant',\n",
       " 'Simply awesome',\n",
       " 'Best in the market!',\n",
       " 'Perfect product!',\n",
       " 'Fabulous!',\n",
       " 'Worth every penny',\n",
       " 'Great product',\n",
       " 'Good choice',\n",
       " 'Highly recommended',\n",
       " 'Worth every penny']"
      ]
     },
     "execution_count": 72,
     "metadata": {},
     "output_type": "execute_result"
    }
   ],
   "source": [
    "REVIEW=[]\n",
    "for i in review:\n",
    "    REVIEW.append(i.text)\n",
    "REVIEW"
   ]
  },
  {
   "cell_type": "code",
   "execution_count": 73,
   "metadata": {},
   "outputs": [
    {
     "data": {
      "text/plain": [
       "[<selenium.webdriver.remote.webelement.WebElement (session=\"9148f257906269522daae78b32d235ba\", element=\"8665788d-4af2-4a62-8c24-4ac747391275\")>,\n",
       " <selenium.webdriver.remote.webelement.WebElement (session=\"9148f257906269522daae78b32d235ba\", element=\"06e6f622-d9ed-4385-bcd1-dfa4a641f2eb\")>,\n",
       " <selenium.webdriver.remote.webelement.WebElement (session=\"9148f257906269522daae78b32d235ba\", element=\"631cd1f4-d121-47e0-941f-ef401d3b38ec\")>,\n",
       " <selenium.webdriver.remote.webelement.WebElement (session=\"9148f257906269522daae78b32d235ba\", element=\"9494bb9f-8cdc-4404-b512-17f5d567790a\")>,\n",
       " <selenium.webdriver.remote.webelement.WebElement (session=\"9148f257906269522daae78b32d235ba\", element=\"7d259ae2-0592-49ca-bfec-abc28481bc8d\")>,\n",
       " <selenium.webdriver.remote.webelement.WebElement (session=\"9148f257906269522daae78b32d235ba\", element=\"bc8920ae-1067-4b2f-8a78-2b83f91173bc\")>,\n",
       " <selenium.webdriver.remote.webelement.WebElement (session=\"9148f257906269522daae78b32d235ba\", element=\"a7a9a314-d4a1-443e-8473-6eded6a1e39a\")>,\n",
       " <selenium.webdriver.remote.webelement.WebElement (session=\"9148f257906269522daae78b32d235ba\", element=\"cf2b6efd-b455-485f-a23e-51b47dc2f661\")>,\n",
       " <selenium.webdriver.remote.webelement.WebElement (session=\"9148f257906269522daae78b32d235ba\", element=\"7d216ada-601d-4703-bd00-b95fa1541420\")>,\n",
       " <selenium.webdriver.remote.webelement.WebElement (session=\"9148f257906269522daae78b32d235ba\", element=\"fa36dde6-67a0-451b-807b-febf8f9f8b94\")>]"
      ]
     },
     "execution_count": 73,
     "metadata": {},
     "output_type": "execute_result"
    }
   ],
   "source": [
    "full_review=driver.find_elements_by_xpath('//div[@class=\"t-ZTKy\"]')\n",
    "full_review"
   ]
  },
  {
   "cell_type": "code",
   "execution_count": 74,
   "metadata": {},
   "outputs": [
    {
     "data": {
      "text/plain": [
       "['The Best Phone for the Money\\n\\nThe iPhone 11 offers superb cameras, a more durable design and excellent battery life for an affordable price.\\n\\nCompelling ultra-wide camera\\nNew Night mode is excellent\\nLong battery life',\n",
       " 'Really satisfied with the Product I received... It’s totally genuine and the packaging was also really good so if ur planning to buy just go for it.',\n",
       " 'Great iPhone very snappy experience as apple kind. Upgraded from iPhone 7.\\nPros\\n-Camera top class\\n- Battery top performed\\n-Chipset no need to say as apple kind\\n-Security as you expect from apple\\n- Display super bright industry leading colour\\naccuracy and super responsive\\n-Build quality as expect from apple sturdy\\npremium durable beautiful stylish.\\n-Os most stable os in smartphone industry\\n\\nCons\\n-No 5G\\n-Display is not based on OLED technology\\n-Charger headphones and 1 apple stic...\\nREAD MORE',\n",
       " 'Amazing phone with great cameras and better battery which gives you the best performance. I just love the camera .',\n",
       " 'This is my first iOS phone. I am very happy with this product. Very much satisfied with this. I love this phone.',\n",
       " 'Previously I was using one plus 3t it was a great phone\\nAnd then I decided to upgrade I am stuck between Samsung s10 plus or iPhone 11\\nI have seen the specs and everything were good except the display it’s somewhere between 720-1080 and it’s not even an amoled it’s an LCD display\\nBut I decided to go with iPhone because I have never used an IOS device I have Been an android user from the past 9 years I ordered IPhone 11 (128gb) product red\\nMy experience after using 3 weeks\\n1. The delivery ...\\nREAD MORE',\n",
       " 'Amazing Powerful and Durable Gadget.\\n\\nI’m am very happy with the camera picture quality, Amazing face id unlocked in dark room, Strong battery with perfect screen size as you can carry easily in pocket. This is my third iPhone.\\n\\nI shifted from android Samsung Note series to iPhone because of the strong build quality and peace of mind for next 3-4 years.\\n\\nDon’t think to much just go for it and I suggest you to go for minimum 128gb variant or more 256gb.\\n\\nI’ve attached my puppy pics and no fi...\\nREAD MORE',\n",
       " 'So far it’s been an AMAZING experience coming back to iOS after nearly a decade but it’s not as versatile as android though phone is sturdy dropped it accidentally a couple of times and nothing happened fortunately camera is awesome',\n",
       " 'What a camera .....just awesome ..you can feel this iPhone just awesome . Good for gaming also ...try pubg in hd it’s just wow',\n",
       " 'i11 is worthy to buy, too much happy with the product. Thank u flipkart I received the item on time..loved it..']"
      ]
     },
     "execution_count": 74,
     "metadata": {},
     "output_type": "execute_result"
    }
   ],
   "source": [
    "FULL_REVIEW=[]\n",
    "for i in full_review:\n",
    "    FULL_REVIEW.append(i.text)\n",
    "FULL_REVIEW"
   ]
  },
  {
   "cell_type": "code",
   "execution_count": 75,
   "metadata": {},
   "outputs": [],
   "source": [
    "NEXT=driver.find_element_by_xpath('//a[@class=\"ge-49M\"]')\n",
    "NEXT.click()"
   ]
  },
  {
   "cell_type": "code",
   "execution_count": 76,
   "metadata": {},
   "outputs": [
    {
     "data": {
      "text/plain": [
       "[<selenium.webdriver.remote.webelement.WebElement (session=\"9148f257906269522daae78b32d235ba\", element=\"d780d97f-eb5b-4ca9-90f0-48ef76c0e4f4\")>,\n",
       " <selenium.webdriver.remote.webelement.WebElement (session=\"9148f257906269522daae78b32d235ba\", element=\"4f9025a6-6432-4ce2-96ec-8bf04a1b7d8c\")>,\n",
       " <selenium.webdriver.remote.webelement.WebElement (session=\"9148f257906269522daae78b32d235ba\", element=\"1ae12ab7-3e71-4f41-a5aa-61aa4bb42446\")>,\n",
       " <selenium.webdriver.remote.webelement.WebElement (session=\"9148f257906269522daae78b32d235ba\", element=\"dc8e0a6e-01d9-4740-8569-7f2f26105539\")>,\n",
       " <selenium.webdriver.remote.webelement.WebElement (session=\"9148f257906269522daae78b32d235ba\", element=\"157eb2e3-c680-458c-b188-68c6b74be6aa\")>,\n",
       " <selenium.webdriver.remote.webelement.WebElement (session=\"9148f257906269522daae78b32d235ba\", element=\"92846b88-f91d-493c-9b6f-02dc9456f913\")>,\n",
       " <selenium.webdriver.remote.webelement.WebElement (session=\"9148f257906269522daae78b32d235ba\", element=\"861170a6-c071-41fc-93dc-e6ed22e5bf22\")>,\n",
       " <selenium.webdriver.remote.webelement.WebElement (session=\"9148f257906269522daae78b32d235ba\", element=\"4a1ed36b-3691-45cb-896f-f55fd6e6bf3f\")>,\n",
       " <selenium.webdriver.remote.webelement.WebElement (session=\"9148f257906269522daae78b32d235ba\", element=\"3b0e0cab-f127-4501-8efc-dc943c8339f7\")>,\n",
       " <selenium.webdriver.remote.webelement.WebElement (session=\"9148f257906269522daae78b32d235ba\", element=\"a742b4f8-c991-41c6-a054-825c4bae8fc7\")>]"
      ]
     },
     "execution_count": 76,
     "metadata": {},
     "output_type": "execute_result"
    }
   ],
   "source": [
    "rating=driver.find_elements_by_xpath('//div[@class=\"_3LWZlK _1BLPMq\"]')\n",
    "rating"
   ]
  },
  {
   "cell_type": "code",
   "execution_count": 77,
   "metadata": {},
   "outputs": [
    {
     "data": {
      "text/plain": [
       "['5', '5', '5', '5', '5', '5', '5', '5', '5', '5']"
      ]
     },
     "execution_count": 77,
     "metadata": {},
     "output_type": "execute_result"
    }
   ],
   "source": [
    "RATING=[]\n",
    "for i in rating:\n",
    "    RATING.append(i.text)\n",
    "RATING"
   ]
  },
  {
   "cell_type": "code",
   "execution_count": 79,
   "metadata": {},
   "outputs": [
    {
     "data": {
      "text/plain": [
       "[<selenium.webdriver.remote.webelement.WebElement (session=\"9148f257906269522daae78b32d235ba\", element=\"35f14d6e-6b2b-4399-9179-6686d30c0d99\")>,\n",
       " <selenium.webdriver.remote.webelement.WebElement (session=\"9148f257906269522daae78b32d235ba\", element=\"8f5db1a7-05da-4ab2-9c72-21f3a7b36ff1\")>,\n",
       " <selenium.webdriver.remote.webelement.WebElement (session=\"9148f257906269522daae78b32d235ba\", element=\"e1125169-1a68-4106-b675-2b30cfe1b28c\")>,\n",
       " <selenium.webdriver.remote.webelement.WebElement (session=\"9148f257906269522daae78b32d235ba\", element=\"1ec005f0-9bd7-48fc-833e-da6259be0c05\")>,\n",
       " <selenium.webdriver.remote.webelement.WebElement (session=\"9148f257906269522daae78b32d235ba\", element=\"97fca5bf-b82d-4ad5-8af4-5080918e39ed\")>,\n",
       " <selenium.webdriver.remote.webelement.WebElement (session=\"9148f257906269522daae78b32d235ba\", element=\"4f65d4d0-3822-493f-924d-95d542070f6b\")>,\n",
       " <selenium.webdriver.remote.webelement.WebElement (session=\"9148f257906269522daae78b32d235ba\", element=\"86cb8972-ea0e-4683-9c87-e912bb22eaea\")>,\n",
       " <selenium.webdriver.remote.webelement.WebElement (session=\"9148f257906269522daae78b32d235ba\", element=\"81246300-e1b2-4c55-9edb-5c0992446641\")>,\n",
       " <selenium.webdriver.remote.webelement.WebElement (session=\"9148f257906269522daae78b32d235ba\", element=\"415a6d81-a1f9-4821-89e0-d20f466fabff\")>,\n",
       " <selenium.webdriver.remote.webelement.WebElement (session=\"9148f257906269522daae78b32d235ba\", element=\"7614b3ca-de30-4a7e-83f7-448a7ef0d60f\")>]"
      ]
     },
     "execution_count": 79,
     "metadata": {},
     "output_type": "execute_result"
    }
   ],
   "source": [
    "review=driver.find_elements_by_xpath('//p[@class=\"_2-N8zT\"]')\n",
    "review"
   ]
  },
  {
   "cell_type": "code",
   "execution_count": 80,
   "metadata": {},
   "outputs": [
    {
     "data": {
      "text/plain": [
       "['Highly recommended',\n",
       " 'Perfect product!',\n",
       " 'Perfect product!',\n",
       " 'Highly recommended',\n",
       " 'Perfect product!',\n",
       " 'Worth every penny',\n",
       " 'Classy product',\n",
       " 'Worth every penny',\n",
       " 'Terrific',\n",
       " 'Wonderful']"
      ]
     },
     "execution_count": 80,
     "metadata": {},
     "output_type": "execute_result"
    }
   ],
   "source": [
    "REVIEW=[]\n",
    "for i in review:\n",
    "    REVIEW.append(i.text)\n",
    "REVIEW"
   ]
  },
  {
   "cell_type": "code",
   "execution_count": 81,
   "metadata": {},
   "outputs": [
    {
     "data": {
      "text/plain": [
       "[<selenium.webdriver.remote.webelement.WebElement (session=\"9148f257906269522daae78b32d235ba\", element=\"33ec959b-4f7f-4f3f-8b73-55caf87917ba\")>,\n",
       " <selenium.webdriver.remote.webelement.WebElement (session=\"9148f257906269522daae78b32d235ba\", element=\"f68f7d52-b010-4549-8388-321435c6c81a\")>,\n",
       " <selenium.webdriver.remote.webelement.WebElement (session=\"9148f257906269522daae78b32d235ba\", element=\"85cd4faf-7f3a-487e-9d06-25a97d4b0ccf\")>,\n",
       " <selenium.webdriver.remote.webelement.WebElement (session=\"9148f257906269522daae78b32d235ba\", element=\"78dd4cee-b1b9-447b-b094-94dac63a9ab9\")>,\n",
       " <selenium.webdriver.remote.webelement.WebElement (session=\"9148f257906269522daae78b32d235ba\", element=\"a39bb57c-1bd7-4bfd-9f2c-41ce25f602d2\")>,\n",
       " <selenium.webdriver.remote.webelement.WebElement (session=\"9148f257906269522daae78b32d235ba\", element=\"13f4a20e-6bcb-4bb6-b0d4-8db9943b401f\")>,\n",
       " <selenium.webdriver.remote.webelement.WebElement (session=\"9148f257906269522daae78b32d235ba\", element=\"4e5fb9f9-b6a1-464c-bf25-71e830e24315\")>,\n",
       " <selenium.webdriver.remote.webelement.WebElement (session=\"9148f257906269522daae78b32d235ba\", element=\"9a0f306a-b0ba-4e5b-9cac-ebefa5907444\")>,\n",
       " <selenium.webdriver.remote.webelement.WebElement (session=\"9148f257906269522daae78b32d235ba\", element=\"92a5ec24-c661-48e9-8939-342931e355e1\")>,\n",
       " <selenium.webdriver.remote.webelement.WebElement (session=\"9148f257906269522daae78b32d235ba\", element=\"5c2c6879-a113-4074-b361-4caaf8a3ed06\")>]"
      ]
     },
     "execution_count": 81,
     "metadata": {},
     "output_type": "execute_result"
    }
   ],
   "source": [
    "full_review=driver.find_elements_by_xpath('//div[@class=\"t-ZTKy\"]')\n",
    "full_review"
   ]
  },
  {
   "cell_type": "code",
   "execution_count": 83,
   "metadata": {},
   "outputs": [
    {
     "data": {
      "text/plain": [
       "['iphone 11 is a very good phone to buy only if you can compromise for the display. The display on this is device is pretty good but you can get other options with better displays in this price segment.\\nIf you can survive with an HD+ LCD panel with thicker bezels and a notch up top then this is a very good phone for you.\\nCameras are awesome, battery backup excellent, great performance and a decent premium look. Good job Apple !',\n",
       " 'It’s a must buy who is looking for an upgrade from previous generation of iPhones. If you are using XR then still you can hold on for sometime and upgrade to 2020 model else this phone is a must buy . Camera quality is amazing and wide angle is something to count upon. Performance wise it’s amazing and feels premium while holding in hand. So a big YES for this device. Go for 128 GB variant as the 4K videos will occupy lots of space and the storage can get over very quickly. Try to buy it with...\\nREAD MORE',\n",
       " 'Value for money❤️❤️\\nIts awesome mobile phone in the world ...\\nDisplay was very good and bright ..\\nTrust me freinds you r never regret after Buying..\\nJust go for it....\\nI love this phone and i switch to iphone x to 11',\n",
       " \"It's my first time to use iOS phone and I am loving my upgradation 😍😍 I love the color, I love the assebility of the phone....I need to learn more about its functionality, but as far as I have seen, it's quite easy and it has a lot of functions to work on, specially if you are a content writer or a blogger you get a lot of content creation platforms and they are really amazing.\\n\\nThis phone not only for good quality photography but a lot of other task too.😍💯\",\n",
       " \"Iphone is just awesome.. battery backup is very very nice.. continuously for 10 hours we can use it.camera is just awesome.. display is just fab.i love it alot..i had to wait 15 days for it as i pre ordered it..overalll it's worth the price..these all images are clicked by my iPhone..and i love it.\",\n",
       " 'Best budget Iphone till date ❤️ go for it guys without second thought. Let me explain you guys about Camera, Display, battery, and performance.\\n\\nCamera: at this price range there is no comparison of camera, you’ll love the picture quality as well as video quality. I am a Vlogger I wanted an iPhone with 4k video by front camera and I got this phone and I am more than happy 😃\\n\\nBattery: I use this phone roughly as I am active social media person and I have a youtube channel. so the battery ba...\\nREAD MORE',\n",
       " 'Totally in love with this ❤ the camera quality is amazing just love it 😘😘😘 itsss dammnnnnnn amazing... Must buy iPhone 11 this is my best experience ever ☀👌👌🧡🧡🧡🧡🧡 thanku apple ❤',\n",
       " 'It’s been almost a month since I have been using this phone. I upgraded from an iPhone 8. The main issue with my 8 was battery and this phone is just awesome when it comes to battery. It lasts a day and a half for me with my regular use , internet connected always with 4g\\nCan’t move forward without saying this. Battery of this phone is a life saver when I am traveling or at work when I don’t get the option to charge\\nCamera is superb. Front cam selfies and back cam photos are just awesome.\\n...\\nREAD MORE',\n",
       " 'Really worth of money. i just love it. It is the best phone ever.',\n",
       " 'This is my first ever I phone. Before this I was using my google nexus 5. But moving from android to iOS is a great experience. It’s worth at this price. I will highly recommend it if you want to move to iOS. The best part of this phone is it’s camera and it’s battery life. This two things have won my heart. I loved it. Happy to have it in my hand. Still exploring its features. And can’t forget to mention Flipkart service. Very prompt service and fast delivery.']"
      ]
     },
     "execution_count": 83,
     "metadata": {},
     "output_type": "execute_result"
    }
   ],
   "source": [
    "FULL_REVIEW=[]\n",
    "for i in full_review:\n",
    "    FULL_REVIEW.append(i.text)\n",
    "FULL_REVIEW"
   ]
  },
  {
   "cell_type": "code",
   "execution_count": 88,
   "metadata": {},
   "outputs": [],
   "source": [
    "NEEXT=driver.find_element_by_xpath('/html/body/div/div/div[3]/div/div/div[2]/div[13]/div/div/nav/a[3]')\n",
    "NEEXT.click()"
   ]
  },
  {
   "cell_type": "code",
   "execution_count": 89,
   "metadata": {},
   "outputs": [
    {
     "data": {
      "text/plain": [
       "[<selenium.webdriver.remote.webelement.WebElement (session=\"9148f257906269522daae78b32d235ba\", element=\"5ca2cceb-c8ab-4caf-b9a5-61049c52727d\")>,\n",
       " <selenium.webdriver.remote.webelement.WebElement (session=\"9148f257906269522daae78b32d235ba\", element=\"5b647dbc-3a47-4dd7-8e6a-43d8c9ef065c\")>,\n",
       " <selenium.webdriver.remote.webelement.WebElement (session=\"9148f257906269522daae78b32d235ba\", element=\"f4900e56-58a9-48d4-a18a-f33f98402dc1\")>,\n",
       " <selenium.webdriver.remote.webelement.WebElement (session=\"9148f257906269522daae78b32d235ba\", element=\"c1155d2f-10f4-47ef-a94f-8340f408b3d8\")>,\n",
       " <selenium.webdriver.remote.webelement.WebElement (session=\"9148f257906269522daae78b32d235ba\", element=\"7956b9eb-e8ba-4306-9cc4-6fd601a1305d\")>,\n",
       " <selenium.webdriver.remote.webelement.WebElement (session=\"9148f257906269522daae78b32d235ba\", element=\"dfa77682-ae7e-4214-8d6a-9b2ec746d6c5\")>,\n",
       " <selenium.webdriver.remote.webelement.WebElement (session=\"9148f257906269522daae78b32d235ba\", element=\"6384d24e-5454-4195-be3a-9348b07810fd\")>,\n",
       " <selenium.webdriver.remote.webelement.WebElement (session=\"9148f257906269522daae78b32d235ba\", element=\"470ec77b-84b4-49da-bc8c-7a7887316d21\")>,\n",
       " <selenium.webdriver.remote.webelement.WebElement (session=\"9148f257906269522daae78b32d235ba\", element=\"bb108305-fe8d-4f1e-bd89-ab77b80bb0d0\")>,\n",
       " <selenium.webdriver.remote.webelement.WebElement (session=\"9148f257906269522daae78b32d235ba\", element=\"62f132ba-0465-4a4d-85a7-fa9ef8e1402a\")>]"
      ]
     },
     "execution_count": 89,
     "metadata": {},
     "output_type": "execute_result"
    }
   ],
   "source": [
    "raating=driver.find_elements_by_xpath('//div[@class=\"_3LWZlK _1BLPMq\"]')\n",
    "raating"
   ]
  },
  {
   "cell_type": "code",
   "execution_count": 90,
   "metadata": {},
   "outputs": [
    {
     "data": {
      "text/plain": [
       "['5', '4', '5', '5', '5', '4', '5', '5', '5', '5']"
      ]
     },
     "execution_count": 90,
     "metadata": {},
     "output_type": "execute_result"
    }
   ],
   "source": [
    "RAATING=[]\n",
    "for  i in raating:\n",
    "    RAATING.append(i.text)\n",
    "RAATING"
   ]
  },
  {
   "cell_type": "code",
   "execution_count": 91,
   "metadata": {},
   "outputs": [
    {
     "data": {
      "text/plain": [
       "[<selenium.webdriver.remote.webelement.WebElement (session=\"9148f257906269522daae78b32d235ba\", element=\"b095695f-5749-4b2c-99cb-e16afc2c07fd\")>,\n",
       " <selenium.webdriver.remote.webelement.WebElement (session=\"9148f257906269522daae78b32d235ba\", element=\"f6d93eab-27b4-461a-9f75-dc3331b7338d\")>,\n",
       " <selenium.webdriver.remote.webelement.WebElement (session=\"9148f257906269522daae78b32d235ba\", element=\"a03d2ce8-9c7b-4ae0-98df-bbcbb206a9cd\")>,\n",
       " <selenium.webdriver.remote.webelement.WebElement (session=\"9148f257906269522daae78b32d235ba\", element=\"fa3a229b-6259-439a-acd6-2eef9671ebf4\")>,\n",
       " <selenium.webdriver.remote.webelement.WebElement (session=\"9148f257906269522daae78b32d235ba\", element=\"fc1f0e7d-b604-4c2f-9fd4-11d801ffb331\")>,\n",
       " <selenium.webdriver.remote.webelement.WebElement (session=\"9148f257906269522daae78b32d235ba\", element=\"bd2ef5d4-67a2-4080-8a00-a8c18e84a6df\")>,\n",
       " <selenium.webdriver.remote.webelement.WebElement (session=\"9148f257906269522daae78b32d235ba\", element=\"68ad21a5-aeac-4640-9c01-cca9a54b52a1\")>,\n",
       " <selenium.webdriver.remote.webelement.WebElement (session=\"9148f257906269522daae78b32d235ba\", element=\"613862c3-943c-4dd8-b0e4-80373d2e6331\")>,\n",
       " <selenium.webdriver.remote.webelement.WebElement (session=\"9148f257906269522daae78b32d235ba\", element=\"20e22cbc-72be-43c8-a1e3-132fea492a8a\")>,\n",
       " <selenium.webdriver.remote.webelement.WebElement (session=\"9148f257906269522daae78b32d235ba\", element=\"b6958fa8-440c-445f-b380-12ac680161c9\")>]"
      ]
     },
     "execution_count": 91,
     "metadata": {},
     "output_type": "execute_result"
    }
   ],
   "source": [
    "reeview=driver.find_elements_by_xpath('//p[@class=\"_2-N8zT\"]')\n",
    "reeview"
   ]
  },
  {
   "cell_type": "code",
   "execution_count": 92,
   "metadata": {},
   "outputs": [
    {
     "data": {
      "text/plain": [
       "['Worth every penny',\n",
       " 'Nice product',\n",
       " 'Perfect product!',\n",
       " 'Classy product',\n",
       " 'Brilliant',\n",
       " 'Good choice',\n",
       " 'Must buy!',\n",
       " 'Perfect product!',\n",
       " 'Wonderful',\n",
       " 'Terrific purchase']"
      ]
     },
     "execution_count": 92,
     "metadata": {},
     "output_type": "execute_result"
    }
   ],
   "source": [
    "REEVIEW=[]\n",
    "for i in reeview:\n",
    "    REEVIEW.append(i.text)\n",
    "REEVIEW"
   ]
  },
  {
   "cell_type": "code",
   "execution_count": 93,
   "metadata": {},
   "outputs": [
    {
     "data": {
      "text/plain": [
       "[<selenium.webdriver.remote.webelement.WebElement (session=\"9148f257906269522daae78b32d235ba\", element=\"1e2877dc-9d2a-4af0-a521-3b79c5ebbd9c\")>,\n",
       " <selenium.webdriver.remote.webelement.WebElement (session=\"9148f257906269522daae78b32d235ba\", element=\"119ee03f-bb28-4d98-8bfc-9006061e0bc8\")>,\n",
       " <selenium.webdriver.remote.webelement.WebElement (session=\"9148f257906269522daae78b32d235ba\", element=\"491a9bd5-2e7b-4e5a-91a2-7daddaa21687\")>,\n",
       " <selenium.webdriver.remote.webelement.WebElement (session=\"9148f257906269522daae78b32d235ba\", element=\"d7cd1270-1e31-4339-873a-92c82b80a855\")>,\n",
       " <selenium.webdriver.remote.webelement.WebElement (session=\"9148f257906269522daae78b32d235ba\", element=\"a6946462-90d2-4d4c-8f91-4495ec9b7655\")>,\n",
       " <selenium.webdriver.remote.webelement.WebElement (session=\"9148f257906269522daae78b32d235ba\", element=\"a7f6880e-d7cd-440a-91cc-d43cc6af4562\")>,\n",
       " <selenium.webdriver.remote.webelement.WebElement (session=\"9148f257906269522daae78b32d235ba\", element=\"116ffb72-da7f-4cdc-96c6-47c39608bef1\")>,\n",
       " <selenium.webdriver.remote.webelement.WebElement (session=\"9148f257906269522daae78b32d235ba\", element=\"08d6c1ee-4b5c-450b-85dd-e3517ac06698\")>,\n",
       " <selenium.webdriver.remote.webelement.WebElement (session=\"9148f257906269522daae78b32d235ba\", element=\"b7bc562a-0bea-41e8-8e6a-3e463ccbe170\")>,\n",
       " <selenium.webdriver.remote.webelement.WebElement (session=\"9148f257906269522daae78b32d235ba\", element=\"1b2a2a49-da2b-4cd1-b43c-b15e8450b61a\")>]"
      ]
     },
     "execution_count": 93,
     "metadata": {},
     "output_type": "execute_result"
    }
   ],
   "source": [
    "fuull_review=driver.find_elements_by_xpath('//div[@class=\"t-ZTKy\"]')\n",
    "fuull_review"
   ]
  },
  {
   "cell_type": "code",
   "execution_count": 94,
   "metadata": {},
   "outputs": [
    {
     "data": {
      "text/plain": [
       "['Smooth like butter, camera like fantabulous, sound is crystal clear & its red color is damn attractive, i am just loving it. Must buy if you love photography.\\n\\nLucky to get it in sale, thank you Flipkart.',\n",
       " 'Awesome Phone. Slightly high price but worth. Better than iPhone XR.\\nCamera is superb and wide angle camera is very clear.\\n12MP selfie camera is also very good.\\nA13 Chip gives a very good and smooth performance.',\n",
       " 'Battery backup is extraordinary, camera is decent & performance offered by A13 bionic is awsome. The display is good in practical usage like the visibility of display is very good in direct sun light compare to pro models. Iam extremely satisfied for the money I spent.',\n",
       " 'Superb Product !!!\\nA big and worthy upgrade from mi 3S to iphone 11 .\\nTotally loved it !',\n",
       " 'I have migrated from OP 7pro... and trust me, iPhone 11 is totally worth it.. following are the reasons:-\\n1)there is ABSOLUTELY NO ISSUE WITH THE DISPLAY... its crisp, sharp and I found it to be much much better than OP7 pro. Netflix, Prime video all run crisply... you won’t miss a thing. True Tone works flawlessly...the display brightness is perfect. OP have not calibrated their screens properly.\\n2) iPhone 11 series have really good cameras... others have spoken in depth about them.\\n3) bat...\\nREAD MORE',\n",
       " 'Looking so good 👍 😍 super 👌 stylish 😎 phone\\nClean box 📦 good 👍 delivery 👌 fast delivery\\nOriginal box Original iphone 📱 👌 😍😍😍',\n",
       " 'It’s an amazing product from apple and the camera is simply superb. Phone is faster.Night shot is simply superb and detailing and colour differentiation from camera is an added advantage\\n\\nThis review I have written from iPhone 11 only and I am glad to say outside.\\n\\nCons wise if we see HD+ display only, no battery percentage indicator as in older iPhone 8.\\nNo assistive touch control button in it\\nNo oleophobic coating on back panel glass and finger prints are visible but since I bought mint gr...\\nREAD MORE',\n",
       " 'After 1 month use I found camera quality best compared to my previous Samsung note 10+.Display not good as note 10 also charging too slow.Apple should add fast charger like 11 plus and pro.Best phone for daily use',\n",
       " 'I just directly switch from iphone 6s to iphone 11 .The best premium smartphone I recommend to everyone. Excellent quality and colors the iphone have in 11 series.\\nCamera quality is just awesome and the major feel when we hold in our hands. The sound quality and volume is also higher then the previous models.\\nI will recommend to buy iphone 11 instead of pro models , there is nothing much difference as this model contains everything which fulfill our needs.\\n\\nOnly one thing that I dislike abo...\\nREAD MORE',\n",
       " 'Upgraded from iphone 6 to 11 best phone for iphone users battery is much better than other iphones camera is awesome love to use it.camera is so clear in night.']"
      ]
     },
     "execution_count": 94,
     "metadata": {},
     "output_type": "execute_result"
    }
   ],
   "source": [
    "FUULL_REVIEW=[]\n",
    "for i in fuull_review:\n",
    "    FUULL_REVIEW.append(i.text)\n",
    "FUULL_REVIEW"
   ]
  },
  {
   "cell_type": "code",
   "execution_count": 97,
   "metadata": {},
   "outputs": [],
   "source": [
    "naxt=driver.find_element_by_xpath('/html/body/div/div/div[3]/div/div/div[2]/div[13]/div/div/nav/a[5]')\n",
    "naxt.click()"
   ]
  },
  {
   "cell_type": "code",
   "execution_count": 98,
   "metadata": {},
   "outputs": [
    {
     "data": {
      "text/plain": [
       "[<selenium.webdriver.remote.webelement.WebElement (session=\"9148f257906269522daae78b32d235ba\", element=\"6ff314cd-60bf-4e93-9986-c6e9a11bd99b\")>,\n",
       " <selenium.webdriver.remote.webelement.WebElement (session=\"9148f257906269522daae78b32d235ba\", element=\"67819d15-fded-4e0f-84b0-1371a92e17ae\")>,\n",
       " <selenium.webdriver.remote.webelement.WebElement (session=\"9148f257906269522daae78b32d235ba\", element=\"ebf8ad75-8ac5-4175-b349-34e210cdecf2\")>,\n",
       " <selenium.webdriver.remote.webelement.WebElement (session=\"9148f257906269522daae78b32d235ba\", element=\"c8d6c380-d6ed-45a9-9a48-21534187e682\")>,\n",
       " <selenium.webdriver.remote.webelement.WebElement (session=\"9148f257906269522daae78b32d235ba\", element=\"8d0667dc-02a9-42a9-969d-053b293fef89\")>,\n",
       " <selenium.webdriver.remote.webelement.WebElement (session=\"9148f257906269522daae78b32d235ba\", element=\"71d50497-6024-4ec4-8b22-09574bd8765e\")>,\n",
       " <selenium.webdriver.remote.webelement.WebElement (session=\"9148f257906269522daae78b32d235ba\", element=\"606364ce-4fa6-482f-924b-13af8258d35c\")>,\n",
       " <selenium.webdriver.remote.webelement.WebElement (session=\"9148f257906269522daae78b32d235ba\", element=\"92ad1bac-ad92-4abf-8e8a-efabe071d077\")>,\n",
       " <selenium.webdriver.remote.webelement.WebElement (session=\"9148f257906269522daae78b32d235ba\", element=\"66271d5e-bf6e-465e-a59c-0ff3b72d405b\")>]"
      ]
     },
     "execution_count": 98,
     "metadata": {},
     "output_type": "execute_result"
    }
   ],
   "source": [
    "ratings=driver.find_elements_by_xpath('//div[@class=\"_3LWZlK _1BLPMq\"]')\n",
    "ratings"
   ]
  },
  {
   "cell_type": "code",
   "execution_count": 99,
   "metadata": {},
   "outputs": [
    {
     "data": {
      "text/plain": [
       "['5', '5', '4', '5', '5', '5', '5', '5', '5']"
      ]
     },
     "execution_count": 99,
     "metadata": {},
     "output_type": "execute_result"
    }
   ],
   "source": [
    "RATINGS=[]\n",
    "for i in ratings:\n",
    "    RATINGS.append(i.text)\n",
    "RATINGS"
   ]
  },
  {
   "cell_type": "code",
   "execution_count": 100,
   "metadata": {},
   "outputs": [
    {
     "data": {
      "text/plain": [
       "[<selenium.webdriver.remote.webelement.WebElement (session=\"9148f257906269522daae78b32d235ba\", element=\"a4e0778e-6089-4207-a4a8-e7a3830507d1\")>,\n",
       " <selenium.webdriver.remote.webelement.WebElement (session=\"9148f257906269522daae78b32d235ba\", element=\"12e06ff4-1c43-41a5-bef8-80d3d61acd55\")>,\n",
       " <selenium.webdriver.remote.webelement.WebElement (session=\"9148f257906269522daae78b32d235ba\", element=\"de05efda-ffd7-4ca2-8075-8a8ddf2ac7f8\")>,\n",
       " <selenium.webdriver.remote.webelement.WebElement (session=\"9148f257906269522daae78b32d235ba\", element=\"9a693f9a-3048-4d4c-89af-259276d1ee96\")>,\n",
       " <selenium.webdriver.remote.webelement.WebElement (session=\"9148f257906269522daae78b32d235ba\", element=\"c7bb57ba-6fcf-45da-be1c-3b2cb60e4180\")>,\n",
       " <selenium.webdriver.remote.webelement.WebElement (session=\"9148f257906269522daae78b32d235ba\", element=\"b7f73be5-9a57-49ef-85f5-0eda4e8b2f5a\")>,\n",
       " <selenium.webdriver.remote.webelement.WebElement (session=\"9148f257906269522daae78b32d235ba\", element=\"6040a99f-b6f3-4ad7-a551-9ebc20b283ae\")>,\n",
       " <selenium.webdriver.remote.webelement.WebElement (session=\"9148f257906269522daae78b32d235ba\", element=\"85e6bde0-9fa1-4dd8-93d4-cf224145430d\")>,\n",
       " <selenium.webdriver.remote.webelement.WebElement (session=\"9148f257906269522daae78b32d235ba\", element=\"c50c3e48-945e-4e29-863c-46a317bd6a3c\")>,\n",
       " <selenium.webdriver.remote.webelement.WebElement (session=\"9148f257906269522daae78b32d235ba\", element=\"daaeedde-2106-4f22-a96f-9464621c694f\")>]"
      ]
     },
     "execution_count": 100,
     "metadata": {},
     "output_type": "execute_result"
    }
   ],
   "source": [
    "reviews=driver.find_elements_by_xpath('//p[@class=\"_2-N8zT\"]')\n",
    "reviews"
   ]
  },
  {
   "cell_type": "code",
   "execution_count": 101,
   "metadata": {},
   "outputs": [
    {
     "data": {
      "text/plain": [
       "['Terrific purchase',\n",
       " 'Simply awesome',\n",
       " 'Good quality product',\n",
       " 'Very poor',\n",
       " 'Perfect product!',\n",
       " 'Classy product',\n",
       " 'Fabulous!',\n",
       " 'Perfect product!',\n",
       " 'Must buy!',\n",
       " 'Mind-blowing purchase']"
      ]
     },
     "execution_count": 101,
     "metadata": {},
     "output_type": "execute_result"
    }
   ],
   "source": [
    "REVIEWS=[]\n",
    "for i in reviews:\n",
    "    REVIEWS.append(i.text)\n",
    "REVIEWS"
   ]
  },
  {
   "cell_type": "code",
   "execution_count": 103,
   "metadata": {},
   "outputs": [
    {
     "data": {
      "text/plain": [
       "[<selenium.webdriver.remote.webelement.WebElement (session=\"9148f257906269522daae78b32d235ba\", element=\"0c931ffc-62df-4faf-bfb9-490511a67e60\")>,\n",
       " <selenium.webdriver.remote.webelement.WebElement (session=\"9148f257906269522daae78b32d235ba\", element=\"52407933-883a-422e-9a24-f9f9318001cc\")>,\n",
       " <selenium.webdriver.remote.webelement.WebElement (session=\"9148f257906269522daae78b32d235ba\", element=\"d3cd5722-b3d4-4969-b6a8-f30e8eaa009e\")>,\n",
       " <selenium.webdriver.remote.webelement.WebElement (session=\"9148f257906269522daae78b32d235ba\", element=\"fbfefce4-a0c9-403a-b709-597b62fe5831\")>,\n",
       " <selenium.webdriver.remote.webelement.WebElement (session=\"9148f257906269522daae78b32d235ba\", element=\"c8d33586-3ae4-4bdd-90cc-32ff73ad77a1\")>,\n",
       " <selenium.webdriver.remote.webelement.WebElement (session=\"9148f257906269522daae78b32d235ba\", element=\"b5ecb3ec-02f1-46ee-8210-32b13757f33b\")>,\n",
       " <selenium.webdriver.remote.webelement.WebElement (session=\"9148f257906269522daae78b32d235ba\", element=\"80f118e8-850a-4b41-8a51-52d79f6fb296\")>,\n",
       " <selenium.webdriver.remote.webelement.WebElement (session=\"9148f257906269522daae78b32d235ba\", element=\"309f26e1-45f0-4968-a82f-b6aeebb8357d\")>,\n",
       " <selenium.webdriver.remote.webelement.WebElement (session=\"9148f257906269522daae78b32d235ba\", element=\"0df4ca50-5a2b-4419-b453-7e3e0ba2a063\")>,\n",
       " <selenium.webdriver.remote.webelement.WebElement (session=\"9148f257906269522daae78b32d235ba\", element=\"aa424b2d-ab11-471d-8c11-b46547e0b9de\")>]"
      ]
     },
     "execution_count": 103,
     "metadata": {},
     "output_type": "execute_result"
    }
   ],
   "source": [
    "full_reviews=driver.find_elements_by_xpath('//div[@class=\"t-ZTKy\"]')\n",
    "full_reviews"
   ]
  },
  {
   "cell_type": "code",
   "execution_count": 104,
   "metadata": {},
   "outputs": [
    {
     "data": {
      "text/plain": [
       "['The built quality is not very premium.\\nThe battery back is great .\\nThe LCD panel is not so sharp but the brightness level is very High .\\nCamera is super duper awesome.\\nThe red colour which people think is bright is actually very soothing and excellent colour to choose from .\\nThe A13 Bionic chip is really a flagship processor and can beat any phone which even has 12 gb ram .\\nCamera module is very great and looks very stylish.',\n",
       " 'Really good actually this is my first apple product am using its really awesome performance wise excellent. Am really happy with this iphone11',\n",
       " 'it is very good at performance. Camera is best like before and very smooth response even in water. Don’t buy 12 mini buy iPhone 11 , it is far better than 12 mini believe me ! Have a nice day \\uf8ff ☺️',\n",
       " 'Reviewing again after 5 months. At the beginning the battery and performance was good but it degraded soon. Also I was facing heating issues. The mobile will heat up like a stove sometimes. You cannot even play Pubg even in low settings properly, performance is not a problem but heating is. Also if you play that game for 10 mins the brightness will be automatically down due to over heating even when the auto brightness is set to off. This will not be solved even if u manually increase the bri...\\nREAD MORE',\n",
       " 'In love with this iphone great performance,camera ,battery everything. Go for it have a uncompareble battery backup, no doubts in iPhone camera here You can see the picture which is shot on my iPhone In love with this iphone great performance,camera ,battery everything. Go for it have a uncompareble battery backup, no doubts in iPhone camera here You can see the picture which is shot on my iPhone In love with this iphone great performance,camera ,battery everything. Go for it have a uncompare...\\nREAD MORE',\n",
       " 'We are on apple ecosystem for almost eight years now with couple of iPads and iPhones, including Xr.\\n\\nBought iPhone 11 as a gift to my daughter who loves it. We chose for a purple coloured one. Believe me it is gorgeous and towards the lighter shade. Dazzling and brilliant!\\n\\nThe phone is great and does excellent RAM management like any other Apple device.\\n\\nThe screen, though a LCD and lesser ppi as compared to other flagship phones of competitor brands, is a delight to watch with perfect re...\\nREAD MORE',\n",
       " 'Everything is perfect pictures come out so clearly and at first I wasn’t sure when I got it then when I started to use it and get the hang of it it was amazing!! I can’t wait to see what the next future phones will be like. The screen display on this bad boy are unbelievable they are so clear and never fail me. The performance is super cool there is a lot of cool features as well I like this phone because I feel that it is easy to use and one of my favorite things about this phone is the Face...\\nREAD MORE',\n",
       " 'It is just awesome mobile for this price from Apple,\\n\\nAfter 10 days review\\n\\nBattery enough for 1 day even 24*7 Internet will be on and mostly internet usage\\n\\nCamera is just awesome cool , android 64 MP is equal to this just 12 MP\\n\\nA13 Bionic chip will give more high performance without hanging\\n\\nAudio stereo speakers will give Dolby atoms sound with crystal clear\\n\\nVideo recording is like cinematic shots of every sec can be a 4K 60fps. Just awesome this phone\\niPhone 11 loved one',\n",
       " 'Best Apple iPhone that i have bought at a very reasonable price, camera quality is next level just awesome n of superior quality android phones not even close(RIP) to that and also battery is really good but packaging by Flipkart of iPhone was very poor of such a expensive product, firstly im bit worried about the quality of product if i purchased it through online how was the product but i think now this was mine best decision to bought it through Flipkart online because i got genuine Apple...\\nREAD MORE',\n",
       " 'Best Quality Product OF iPhone Series , Sound Quality & Camera quality is very awesome, Battery Life is very Sufficient for 24 hr Backup With Full Internet Access , I love this this Product too much , It is very fast & making me Very fast in all my daily Routine\\nHighlights;\\n1.Camera: 5 STAR\\n2.Video Recording: 5 star\\n3.Night mODE sHOOTING & Camera:4 star\\n4. Audio Quality: Awesome\\n5. Battery : 5 Star\\n6. Touch:5 Star\\n7. Processor: Very Fast\\nThe M...\\nREAD MORE']"
      ]
     },
     "execution_count": 104,
     "metadata": {},
     "output_type": "execute_result"
    }
   ],
   "source": [
    "FULL_REVIEWS=[]\n",
    "for i in full_reviews:\n",
    "    FULL_REVIEWS.append(i.text)\n",
    "FULL_REVIEWS"
   ]
  },
  {
   "cell_type": "markdown",
   "metadata": {},
   "source": [
    "# ANS.6"
   ]
  },
  {
   "cell_type": "code",
   "execution_count": 3,
   "metadata": {},
   "outputs": [
    {
     "data": {
      "text/plain": [
       "<selenium.webdriver.chrome.webdriver.WebDriver (session=\"7aea9bdc8dd471f129676b19d2028c05\")>"
      ]
     },
     "execution_count": 3,
     "metadata": {},
     "output_type": "execute_result"
    }
   ],
   "source": [
    "driver=webdriver.Chrome(r\"C:/Users/sumit/Downloads/chromedriver_win32/chromedriver\")\n",
    "driver"
   ]
  },
  {
   "cell_type": "code",
   "execution_count": 4,
   "metadata": {},
   "outputs": [
    {
     "data": {
      "text/plain": [
       "<selenium.webdriver.chrome.webdriver.WebDriver (session=\"b1509320db996ca658d8bac3a87ff149\")>"
      ]
     },
     "execution_count": 4,
     "metadata": {},
     "output_type": "execute_result"
    }
   ],
   "source": [
    "driver=webdriver.Chrome(\"chromedriver\")\n",
    "driver"
   ]
  },
  {
   "cell_type": "code",
   "execution_count": 5,
   "metadata": {},
   "outputs": [],
   "source": [
    "urll=\"https://www.flipkart.com/\"\n",
    "driver.get(urll)"
   ]
  },
  {
   "cell_type": "code",
   "execution_count": 9,
   "metadata": {},
   "outputs": [
    {
     "data": {
      "text/plain": [
       "<selenium.webdriver.remote.webelement.WebElement (session=\"b1509320db996ca658d8bac3a87ff149\", element=\"fc78599f-d53f-459d-979d-9918164b4f31\")>"
      ]
     },
     "execution_count": 9,
     "metadata": {},
     "output_type": "execute_result"
    }
   ],
   "source": [
    "searchh=driver.find_element_by_xpath('/html/body/div[1]/div/div[1]/div[1]/div[2]/div[2]/form/div/div/input')\n",
    "searchh"
   ]
  },
  {
   "cell_type": "code",
   "execution_count": 10,
   "metadata": {},
   "outputs": [],
   "source": [
    "searchh.send_keys(\"SNEAKERS\")"
   ]
  },
  {
   "cell_type": "code",
   "execution_count": 12,
   "metadata": {},
   "outputs": [
    {
     "data": {
      "text/plain": [
       "<selenium.webdriver.remote.webelement.WebElement (session=\"b1509320db996ca658d8bac3a87ff149\", element=\"ce09cb29-6663-4585-876e-5bd36e1eb369\")>"
      ]
     },
     "execution_count": 12,
     "metadata": {},
     "output_type": "execute_result"
    }
   ],
   "source": [
    "SRCH_BUTON=driver.find_element_by_class_name(\"L0Z3Pu\")\n",
    "SRCH_BUTON"
   ]
  },
  {
   "cell_type": "code",
   "execution_count": 13,
   "metadata": {},
   "outputs": [],
   "source": [
    "SRCH_BUTON.click()"
   ]
  },
  {
   "cell_type": "code",
   "execution_count": 14,
   "metadata": {},
   "outputs": [
    {
     "data": {
      "text/plain": [
       "[<selenium.webdriver.remote.webelement.WebElement (session=\"b1509320db996ca658d8bac3a87ff149\", element=\"f8db1c47-2c67-4de4-8a8c-a8e912ee58ab\")>,\n",
       " <selenium.webdriver.remote.webelement.WebElement (session=\"b1509320db996ca658d8bac3a87ff149\", element=\"37600706-f148-4ba1-92e4-c76f59ee4b7a\")>,\n",
       " <selenium.webdriver.remote.webelement.WebElement (session=\"b1509320db996ca658d8bac3a87ff149\", element=\"5cff4417-a667-401b-993c-63327b6109e4\")>,\n",
       " <selenium.webdriver.remote.webelement.WebElement (session=\"b1509320db996ca658d8bac3a87ff149\", element=\"315cce5f-face-4397-8080-c51b39158b73\")>,\n",
       " <selenium.webdriver.remote.webelement.WebElement (session=\"b1509320db996ca658d8bac3a87ff149\", element=\"696aa00d-8c31-427a-9c4d-84c6ed803a60\")>,\n",
       " <selenium.webdriver.remote.webelement.WebElement (session=\"b1509320db996ca658d8bac3a87ff149\", element=\"d8df8d1e-05df-4808-b669-43af4d416eda\")>,\n",
       " <selenium.webdriver.remote.webelement.WebElement (session=\"b1509320db996ca658d8bac3a87ff149\", element=\"bc03be8e-6c73-4657-a17b-3406289d1e16\")>,\n",
       " <selenium.webdriver.remote.webelement.WebElement (session=\"b1509320db996ca658d8bac3a87ff149\", element=\"b36960bc-1b9a-4ef3-8e92-d544414b49ba\")>,\n",
       " <selenium.webdriver.remote.webelement.WebElement (session=\"b1509320db996ca658d8bac3a87ff149\", element=\"71eaac9e-3d10-4c79-aa80-29518ccf7fd9\")>,\n",
       " <selenium.webdriver.remote.webelement.WebElement (session=\"b1509320db996ca658d8bac3a87ff149\", element=\"efad8b32-f5ad-41da-acf7-cb90152d8a1a\")>,\n",
       " <selenium.webdriver.remote.webelement.WebElement (session=\"b1509320db996ca658d8bac3a87ff149\", element=\"220519c7-7a9a-490e-8e45-9fc5f1ee6f79\")>,\n",
       " <selenium.webdriver.remote.webelement.WebElement (session=\"b1509320db996ca658d8bac3a87ff149\", element=\"4a78095b-2534-44e0-b71e-394779ee91a5\")>,\n",
       " <selenium.webdriver.remote.webelement.WebElement (session=\"b1509320db996ca658d8bac3a87ff149\", element=\"227349f3-3b5a-46a5-af98-df96210dda02\")>,\n",
       " <selenium.webdriver.remote.webelement.WebElement (session=\"b1509320db996ca658d8bac3a87ff149\", element=\"560f1348-964c-424f-b902-3a90bafe40a9\")>,\n",
       " <selenium.webdriver.remote.webelement.WebElement (session=\"b1509320db996ca658d8bac3a87ff149\", element=\"76fce435-ac95-43bf-9f51-e59578bd4806\")>,\n",
       " <selenium.webdriver.remote.webelement.WebElement (session=\"b1509320db996ca658d8bac3a87ff149\", element=\"d8554669-3402-4e92-b560-5234c6f2b51b\")>,\n",
       " <selenium.webdriver.remote.webelement.WebElement (session=\"b1509320db996ca658d8bac3a87ff149\", element=\"9b4e6512-b777-4365-8c4c-c0e12ccb82bd\")>,\n",
       " <selenium.webdriver.remote.webelement.WebElement (session=\"b1509320db996ca658d8bac3a87ff149\", element=\"8f59660c-aeb3-4110-8dea-c1ac6c7f4cee\")>,\n",
       " <selenium.webdriver.remote.webelement.WebElement (session=\"b1509320db996ca658d8bac3a87ff149\", element=\"fb7c12f1-6cb3-4c76-ae4a-50f5fdbadf81\")>,\n",
       " <selenium.webdriver.remote.webelement.WebElement (session=\"b1509320db996ca658d8bac3a87ff149\", element=\"3c99adc4-9218-446c-8869-6742567383c1\")>,\n",
       " <selenium.webdriver.remote.webelement.WebElement (session=\"b1509320db996ca658d8bac3a87ff149\", element=\"ea5d8f2a-5231-43a9-98a9-733ca4d0ccca\")>,\n",
       " <selenium.webdriver.remote.webelement.WebElement (session=\"b1509320db996ca658d8bac3a87ff149\", element=\"c15fdd72-f254-43ce-ac0d-35b7a8974b72\")>,\n",
       " <selenium.webdriver.remote.webelement.WebElement (session=\"b1509320db996ca658d8bac3a87ff149\", element=\"e99e970f-70e2-4930-ab81-e0931a803f4f\")>,\n",
       " <selenium.webdriver.remote.webelement.WebElement (session=\"b1509320db996ca658d8bac3a87ff149\", element=\"f7e0029d-6248-43b9-b698-15fa3a04c7ac\")>,\n",
       " <selenium.webdriver.remote.webelement.WebElement (session=\"b1509320db996ca658d8bac3a87ff149\", element=\"4e581dae-8299-4358-a438-333cf70797bb\")>,\n",
       " <selenium.webdriver.remote.webelement.WebElement (session=\"b1509320db996ca658d8bac3a87ff149\", element=\"27dda424-0e64-4c82-b698-9e30babe35d9\")>,\n",
       " <selenium.webdriver.remote.webelement.WebElement (session=\"b1509320db996ca658d8bac3a87ff149\", element=\"8e31b0bc-d716-454b-bea6-ca3789145c65\")>,\n",
       " <selenium.webdriver.remote.webelement.WebElement (session=\"b1509320db996ca658d8bac3a87ff149\", element=\"adeec908-231c-4eee-a916-573381478d4b\")>,\n",
       " <selenium.webdriver.remote.webelement.WebElement (session=\"b1509320db996ca658d8bac3a87ff149\", element=\"d2927114-429d-4ec1-9b8b-677e5c51b1fd\")>,\n",
       " <selenium.webdriver.remote.webelement.WebElement (session=\"b1509320db996ca658d8bac3a87ff149\", element=\"b7af6d84-0184-4876-874a-510f4f607159\")>,\n",
       " <selenium.webdriver.remote.webelement.WebElement (session=\"b1509320db996ca658d8bac3a87ff149\", element=\"6eedd08a-3518-46c9-abec-0e6c73286983\")>,\n",
       " <selenium.webdriver.remote.webelement.WebElement (session=\"b1509320db996ca658d8bac3a87ff149\", element=\"885e2d29-5a81-4f1a-8ed9-ccb7e1af8f65\")>,\n",
       " <selenium.webdriver.remote.webelement.WebElement (session=\"b1509320db996ca658d8bac3a87ff149\", element=\"b22dc198-27f6-4ed5-b4df-e34f4fb660ef\")>,\n",
       " <selenium.webdriver.remote.webelement.WebElement (session=\"b1509320db996ca658d8bac3a87ff149\", element=\"30868b7a-7352-4244-8eeb-8bd2718aff39\")>,\n",
       " <selenium.webdriver.remote.webelement.WebElement (session=\"b1509320db996ca658d8bac3a87ff149\", element=\"c8e44d90-17ff-4079-a042-e333916d85f8\")>,\n",
       " <selenium.webdriver.remote.webelement.WebElement (session=\"b1509320db996ca658d8bac3a87ff149\", element=\"028f5c90-aedc-49fb-bbe0-ecd1be1ec871\")>,\n",
       " <selenium.webdriver.remote.webelement.WebElement (session=\"b1509320db996ca658d8bac3a87ff149\", element=\"f169b1f4-d0c8-4a47-a517-e699acdaae39\")>,\n",
       " <selenium.webdriver.remote.webelement.WebElement (session=\"b1509320db996ca658d8bac3a87ff149\", element=\"921bc033-d935-41a0-9b71-7766ea0c8d56\")>,\n",
       " <selenium.webdriver.remote.webelement.WebElement (session=\"b1509320db996ca658d8bac3a87ff149\", element=\"0f7af57a-197c-46ed-b8f0-eccdffe31946\")>,\n",
       " <selenium.webdriver.remote.webelement.WebElement (session=\"b1509320db996ca658d8bac3a87ff149\", element=\"66482807-04d1-49e1-8188-a241a965ae3a\")>]"
      ]
     },
     "execution_count": 14,
     "metadata": {},
     "output_type": "execute_result"
    }
   ],
   "source": [
    "brnd=driver.find_elements_by_xpath('//div[@class=\"_2WkVRV\"]')\n",
    "brnd"
   ]
  },
  {
   "cell_type": "code",
   "execution_count": 15,
   "metadata": {},
   "outputs": [
    {
     "data": {
      "text/plain": [
       "['Elevarse',\n",
       " 'HOTSTYLE',\n",
       " 'URBANBOX',\n",
       " 'BRUTON',\n",
       " 'Shoes Bank',\n",
       " 'Magnolia',\n",
       " 'T-ROCK',\n",
       " 'BAUCHHAAR',\n",
       " 'World Wear Footwear',\n",
       " 'World Wear Footwear',\n",
       " 'ASTEROID',\n",
       " 'Numenzo',\n",
       " 'corsac',\n",
       " 'Magnolia',\n",
       " 'Labbin',\n",
       " 'Hot & Knot',\n",
       " 'Kraasa',\n",
       " 'Rzisbo',\n",
       " 'CLYMB',\n",
       " 'HOTSTYLE',\n",
       " 'SCATCHITE',\n",
       " 'Echor',\n",
       " 'BRUTON',\n",
       " 'Numenzo',\n",
       " 'aadi',\n",
       " 'World Wear Footwear',\n",
       " 'Airland',\n",
       " 'RapidBox',\n",
       " 'BIRDE',\n",
       " 'RapidBox',\n",
       " 'Chevit',\n",
       " 'Brucharm',\n",
       " 'aadi',\n",
       " 'Trendmode',\n",
       " 'LE GREEM',\n",
       " 'RapidBox',\n",
       " 'Stefano Rads',\n",
       " 'D-SNEAKERZ',\n",
       " 'Hida',\n",
       " 'RapidBox']"
      ]
     },
     "execution_count": 15,
     "metadata": {},
     "output_type": "execute_result"
    }
   ],
   "source": [
    "BRND=[]\n",
    "for i in brnd:\n",
    "    BRND.append(i.text)\n",
    "BRND"
   ]
  },
  {
   "cell_type": "code",
   "execution_count": 16,
   "metadata": {},
   "outputs": [
    {
     "data": {
      "text/plain": [
       "[<selenium.webdriver.remote.webelement.WebElement (session=\"b1509320db996ca658d8bac3a87ff149\", element=\"737154ed-a286-4f7f-ae68-625b894df424\")>,\n",
       " <selenium.webdriver.remote.webelement.WebElement (session=\"b1509320db996ca658d8bac3a87ff149\", element=\"74386474-226b-4906-b68b-b7bc30f63537\")>,\n",
       " <selenium.webdriver.remote.webelement.WebElement (session=\"b1509320db996ca658d8bac3a87ff149\", element=\"e840435a-883e-4fd4-bf72-2d2844d45fb7\")>,\n",
       " <selenium.webdriver.remote.webelement.WebElement (session=\"b1509320db996ca658d8bac3a87ff149\", element=\"0d09e1d4-feba-48e7-a922-06206197d2a0\")>,\n",
       " <selenium.webdriver.remote.webelement.WebElement (session=\"b1509320db996ca658d8bac3a87ff149\", element=\"5cc6cb45-d324-46a9-813e-55c2f4c6226a\")>,\n",
       " <selenium.webdriver.remote.webelement.WebElement (session=\"b1509320db996ca658d8bac3a87ff149\", element=\"986c36fe-88ba-476a-9543-7e405cbddc93\")>,\n",
       " <selenium.webdriver.remote.webelement.WebElement (session=\"b1509320db996ca658d8bac3a87ff149\", element=\"43d83742-101b-4124-a77a-853f6fdcccd4\")>,\n",
       " <selenium.webdriver.remote.webelement.WebElement (session=\"b1509320db996ca658d8bac3a87ff149\", element=\"763f7f06-37f5-499e-a373-3429b81b0502\")>,\n",
       " <selenium.webdriver.remote.webelement.WebElement (session=\"b1509320db996ca658d8bac3a87ff149\", element=\"ae1984b9-ac39-41a8-a945-ca34ee7fccfb\")>,\n",
       " <selenium.webdriver.remote.webelement.WebElement (session=\"b1509320db996ca658d8bac3a87ff149\", element=\"9e1f3e89-3a6d-442a-bc83-13587f042a5f\")>,\n",
       " <selenium.webdriver.remote.webelement.WebElement (session=\"b1509320db996ca658d8bac3a87ff149\", element=\"76fdb563-2e7a-433a-bf81-a733e3293a9f\")>,\n",
       " <selenium.webdriver.remote.webelement.WebElement (session=\"b1509320db996ca658d8bac3a87ff149\", element=\"c75ebb82-0f68-4ec7-8ad7-26256c714efb\")>,\n",
       " <selenium.webdriver.remote.webelement.WebElement (session=\"b1509320db996ca658d8bac3a87ff149\", element=\"f250f06a-37ff-4c3a-b8f8-6e1afdbe3574\")>,\n",
       " <selenium.webdriver.remote.webelement.WebElement (session=\"b1509320db996ca658d8bac3a87ff149\", element=\"e6233665-2eed-4d4e-8d69-946a9a96cad1\")>,\n",
       " <selenium.webdriver.remote.webelement.WebElement (session=\"b1509320db996ca658d8bac3a87ff149\", element=\"a393a830-6064-4000-aa36-7c2d0984ab70\")>,\n",
       " <selenium.webdriver.remote.webelement.WebElement (session=\"b1509320db996ca658d8bac3a87ff149\", element=\"ede216ee-e4af-4b4f-af4f-9e251036ded6\")>,\n",
       " <selenium.webdriver.remote.webelement.WebElement (session=\"b1509320db996ca658d8bac3a87ff149\", element=\"cd603e01-098d-44a4-b791-4b4a3a3595a2\")>,\n",
       " <selenium.webdriver.remote.webelement.WebElement (session=\"b1509320db996ca658d8bac3a87ff149\", element=\"faff4f38-4e76-4d79-b7be-bf94b1540578\")>,\n",
       " <selenium.webdriver.remote.webelement.WebElement (session=\"b1509320db996ca658d8bac3a87ff149\", element=\"2aaf7b2b-21ee-4911-95c3-621813fd3250\")>,\n",
       " <selenium.webdriver.remote.webelement.WebElement (session=\"b1509320db996ca658d8bac3a87ff149\", element=\"75b4a913-d559-4ad1-9ae0-e46f7d4f2665\")>,\n",
       " <selenium.webdriver.remote.webelement.WebElement (session=\"b1509320db996ca658d8bac3a87ff149\", element=\"5bf51e33-6aa4-408e-ace5-15fe2d7e163e\")>,\n",
       " <selenium.webdriver.remote.webelement.WebElement (session=\"b1509320db996ca658d8bac3a87ff149\", element=\"bdad8513-65f7-4f2b-8830-6c1e7eabbb9b\")>,\n",
       " <selenium.webdriver.remote.webelement.WebElement (session=\"b1509320db996ca658d8bac3a87ff149\", element=\"c712f384-d193-4648-9209-49f755154d83\")>,\n",
       " <selenium.webdriver.remote.webelement.WebElement (session=\"b1509320db996ca658d8bac3a87ff149\", element=\"8661336f-2b3f-454c-bd13-42024e1136ff\")>,\n",
       " <selenium.webdriver.remote.webelement.WebElement (session=\"b1509320db996ca658d8bac3a87ff149\", element=\"4ec52533-8a14-46af-8ce9-48e3c260cdbd\")>,\n",
       " <selenium.webdriver.remote.webelement.WebElement (session=\"b1509320db996ca658d8bac3a87ff149\", element=\"c410049f-f1fb-4446-ad4e-2d951dbdf916\")>,\n",
       " <selenium.webdriver.remote.webelement.WebElement (session=\"b1509320db996ca658d8bac3a87ff149\", element=\"b37ecf70-c614-4eee-822a-140d78683dbf\")>,\n",
       " <selenium.webdriver.remote.webelement.WebElement (session=\"b1509320db996ca658d8bac3a87ff149\", element=\"f80408a6-8b86-4f56-8896-0918764afbc1\")>,\n",
       " <selenium.webdriver.remote.webelement.WebElement (session=\"b1509320db996ca658d8bac3a87ff149\", element=\"8fafa3ba-e45f-4973-a355-96cfa3142c43\")>,\n",
       " <selenium.webdriver.remote.webelement.WebElement (session=\"b1509320db996ca658d8bac3a87ff149\", element=\"0703ff46-71d5-49cf-bb49-0691c87c4c6f\")>,\n",
       " <selenium.webdriver.remote.webelement.WebElement (session=\"b1509320db996ca658d8bac3a87ff149\", element=\"4f8ee4f1-a280-4a4b-bdd3-e7eff1b72042\")>,\n",
       " <selenium.webdriver.remote.webelement.WebElement (session=\"b1509320db996ca658d8bac3a87ff149\", element=\"97eb3ca9-ce26-467b-ac14-fdd30d435abe\")>]"
      ]
     },
     "execution_count": 16,
     "metadata": {},
     "output_type": "execute_result"
    }
   ],
   "source": [
    "desc=driver.find_elements_by_xpath('//a[@class=\"IRpwTa\"]')\n",
    "desc"
   ]
  },
  {
   "cell_type": "code",
   "execution_count": 17,
   "metadata": {},
   "outputs": [
    {
     "data": {
      "text/plain": [
       "['Stylish Comfortable shoes Sneakers For Men',\n",
       " 'CR-1 Sneakers For Men',\n",
       " 'Modern Trendy Sneakers Shoes Sneakers For Men',\n",
       " \"White Sneaker For Men's/Boy's Sneakers For Men\",\n",
       " 'Sneakers For Men',\n",
       " 'Stylish White Casual Sneakers shoes Men and Boys Sneake...',\n",
       " 'sports shoes for men | Latest Stylish Casual sneakers f...',\n",
       " '5013-Latest Collection Stylish & Trendy of casuals Snea...',\n",
       " '5011-Latest Collection Stylish & Trendy Casual Sneakers...',\n",
       " \"Original Luxury Branded Fashionable Men's Casual Walkin...\",\n",
       " '411 Casual Sneakers For Men',\n",
       " 'STYLISH MENS BLACK AND WHITE SNEAKER Sneakers For Men',\n",
       " 'Sneakers For Men',\n",
       " 'Sneakers For Men',\n",
       " 'High Top Casual Party Wear Boot Stylish Sneakers For Me...',\n",
       " 'Casuals, Canvas, Partywear Sneakers For Men',\n",
       " 'Sneakers For Men',\n",
       " 'CR-1 Sneakers For Men',\n",
       " 'Sneakers Sneakers For Men',\n",
       " \"Men's Sneakers Fashion Lightweight Running Shoes Tennis...\",\n",
       " 'Combo Pack Of 4 Casual Shoes Loafer Shoes Sneakers For ...',\n",
       " 'Sneakers For Men',\n",
       " 'Sneakers For Men',\n",
       " 'Men 5014 Latest Collection Stylish Casual Sports Loafer...',\n",
       " 'sneaker men red 1258 - 9 Sneakers For Men',\n",
       " 'Sports Running Shoes Sneakers For Men',\n",
       " '516 Trendy Star Perfect Sneakers For Men',\n",
       " 'White Comfortable Outdoors/Gym&Workout/Running Shoes/At...',\n",
       " 'Sneakers For Men',\n",
       " 'Sneakers For Men',\n",
       " 'Comfortable & Ultra Light Weight Sneaker Sneakers For M...',\n",
       " \"Casual , Partywear Sneakers Shoes For Men's And Boys Wh...\"]"
      ]
     },
     "execution_count": 17,
     "metadata": {},
     "output_type": "execute_result"
    }
   ],
   "source": [
    "DESC=[]\n",
    "for i in desc:\n",
    "    DESC.append(i.text)\n",
    "DESC"
   ]
  },
  {
   "cell_type": "code",
   "execution_count": 18,
   "metadata": {},
   "outputs": [
    {
     "data": {
      "text/plain": [
       "[<selenium.webdriver.remote.webelement.WebElement (session=\"b1509320db996ca658d8bac3a87ff149\", element=\"802f178f-b1f2-466d-8b3d-4ac685e97ca8\")>,\n",
       " <selenium.webdriver.remote.webelement.WebElement (session=\"b1509320db996ca658d8bac3a87ff149\", element=\"3e17acc7-0c3f-4222-8eb4-03bd422a8fe7\")>,\n",
       " <selenium.webdriver.remote.webelement.WebElement (session=\"b1509320db996ca658d8bac3a87ff149\", element=\"5a0c0a91-3dc4-446f-8774-e49907479f40\")>,\n",
       " <selenium.webdriver.remote.webelement.WebElement (session=\"b1509320db996ca658d8bac3a87ff149\", element=\"93f6c074-bbc8-40d8-81f4-c8a9706b81ca\")>,\n",
       " <selenium.webdriver.remote.webelement.WebElement (session=\"b1509320db996ca658d8bac3a87ff149\", element=\"1e3687da-1894-4e65-b68b-b28a2393870c\")>,\n",
       " <selenium.webdriver.remote.webelement.WebElement (session=\"b1509320db996ca658d8bac3a87ff149\", element=\"cd8d569e-7126-4a01-b689-5fdae3853520\")>,\n",
       " <selenium.webdriver.remote.webelement.WebElement (session=\"b1509320db996ca658d8bac3a87ff149\", element=\"1afa2555-460b-4cd3-b52c-a2ed40c232da\")>,\n",
       " <selenium.webdriver.remote.webelement.WebElement (session=\"b1509320db996ca658d8bac3a87ff149\", element=\"61a59fa8-1c3b-499a-bb7d-50799ccdf2b2\")>,\n",
       " <selenium.webdriver.remote.webelement.WebElement (session=\"b1509320db996ca658d8bac3a87ff149\", element=\"6075ce5f-9509-4752-bf2c-836270601628\")>,\n",
       " <selenium.webdriver.remote.webelement.WebElement (session=\"b1509320db996ca658d8bac3a87ff149\", element=\"f5db6eb7-cde0-48e7-aac2-9b51ddab743c\")>,\n",
       " <selenium.webdriver.remote.webelement.WebElement (session=\"b1509320db996ca658d8bac3a87ff149\", element=\"d6fcc443-82b7-4c10-ae60-a889a7993917\")>,\n",
       " <selenium.webdriver.remote.webelement.WebElement (session=\"b1509320db996ca658d8bac3a87ff149\", element=\"2949f51f-6503-43cc-818c-0c2f1b81f4ae\")>,\n",
       " <selenium.webdriver.remote.webelement.WebElement (session=\"b1509320db996ca658d8bac3a87ff149\", element=\"0616269f-dd11-4ba3-b7d7-f389a7367f7b\")>,\n",
       " <selenium.webdriver.remote.webelement.WebElement (session=\"b1509320db996ca658d8bac3a87ff149\", element=\"bd812eaa-ae59-4134-b048-6f9dec0a3c22\")>,\n",
       " <selenium.webdriver.remote.webelement.WebElement (session=\"b1509320db996ca658d8bac3a87ff149\", element=\"8bee76d7-10ec-4bb0-bdd0-b1ad6b891a28\")>,\n",
       " <selenium.webdriver.remote.webelement.WebElement (session=\"b1509320db996ca658d8bac3a87ff149\", element=\"e49556a8-e945-4e7c-a623-a2ead277be74\")>,\n",
       " <selenium.webdriver.remote.webelement.WebElement (session=\"b1509320db996ca658d8bac3a87ff149\", element=\"2fad69a1-39c6-4ab2-8e81-19b109879e73\")>,\n",
       " <selenium.webdriver.remote.webelement.WebElement (session=\"b1509320db996ca658d8bac3a87ff149\", element=\"85f5206a-9d40-4669-87c6-a455653e1ab5\")>,\n",
       " <selenium.webdriver.remote.webelement.WebElement (session=\"b1509320db996ca658d8bac3a87ff149\", element=\"c5445543-fe9f-4cda-bb23-e6a5cc9acf8c\")>,\n",
       " <selenium.webdriver.remote.webelement.WebElement (session=\"b1509320db996ca658d8bac3a87ff149\", element=\"af1b39d0-cd7d-4c4e-a6bf-9b178faa027a\")>,\n",
       " <selenium.webdriver.remote.webelement.WebElement (session=\"b1509320db996ca658d8bac3a87ff149\", element=\"c4246ec1-ab47-4945-8f70-be3fb3c85ec9\")>,\n",
       " <selenium.webdriver.remote.webelement.WebElement (session=\"b1509320db996ca658d8bac3a87ff149\", element=\"0faa7665-34f6-4668-b1dc-c777a2f8c014\")>,\n",
       " <selenium.webdriver.remote.webelement.WebElement (session=\"b1509320db996ca658d8bac3a87ff149\", element=\"5d1a3c49-141c-4390-99dc-9c5d55daa089\")>,\n",
       " <selenium.webdriver.remote.webelement.WebElement (session=\"b1509320db996ca658d8bac3a87ff149\", element=\"ee48c1ef-f8ea-46e5-b186-1d7c597e48de\")>,\n",
       " <selenium.webdriver.remote.webelement.WebElement (session=\"b1509320db996ca658d8bac3a87ff149\", element=\"18b70f25-8811-4bbf-97fa-9f89bdc89e45\")>,\n",
       " <selenium.webdriver.remote.webelement.WebElement (session=\"b1509320db996ca658d8bac3a87ff149\", element=\"140c03e8-cbb3-4ac4-9c33-f0d77672692a\")>,\n",
       " <selenium.webdriver.remote.webelement.WebElement (session=\"b1509320db996ca658d8bac3a87ff149\", element=\"3ef36a8d-000d-4ae9-9237-305af2689fd5\")>,\n",
       " <selenium.webdriver.remote.webelement.WebElement (session=\"b1509320db996ca658d8bac3a87ff149\", element=\"1cd25529-4b98-416c-86d3-840cc42d4734\")>,\n",
       " <selenium.webdriver.remote.webelement.WebElement (session=\"b1509320db996ca658d8bac3a87ff149\", element=\"3a022404-dfdb-41e4-824a-357b2a2c65e5\")>,\n",
       " <selenium.webdriver.remote.webelement.WebElement (session=\"b1509320db996ca658d8bac3a87ff149\", element=\"0a5f83b2-c5c7-40d0-a93c-60de77f2fbb0\")>,\n",
       " <selenium.webdriver.remote.webelement.WebElement (session=\"b1509320db996ca658d8bac3a87ff149\", element=\"76b354e9-e97b-4ce9-b1db-61370ef6af65\")>,\n",
       " <selenium.webdriver.remote.webelement.WebElement (session=\"b1509320db996ca658d8bac3a87ff149\", element=\"740b5397-4613-4110-a224-7b4ef182bfb6\")>,\n",
       " <selenium.webdriver.remote.webelement.WebElement (session=\"b1509320db996ca658d8bac3a87ff149\", element=\"4f6f6899-e8de-4ba9-9a4b-a31aa8d2b9bb\")>,\n",
       " <selenium.webdriver.remote.webelement.WebElement (session=\"b1509320db996ca658d8bac3a87ff149\", element=\"1d5df1c4-1f45-4059-82bd-a3df44761ab0\")>,\n",
       " <selenium.webdriver.remote.webelement.WebElement (session=\"b1509320db996ca658d8bac3a87ff149\", element=\"b823a9cf-a907-4c9b-8ad5-671ba531f544\")>,\n",
       " <selenium.webdriver.remote.webelement.WebElement (session=\"b1509320db996ca658d8bac3a87ff149\", element=\"c1d6c3a0-ac15-44c3-8e98-5b31af279049\")>,\n",
       " <selenium.webdriver.remote.webelement.WebElement (session=\"b1509320db996ca658d8bac3a87ff149\", element=\"e489725b-162b-4e68-bf6e-e8d77140c31f\")>,\n",
       " <selenium.webdriver.remote.webelement.WebElement (session=\"b1509320db996ca658d8bac3a87ff149\", element=\"dac2e951-8bf4-4f39-83b7-7905fe6e4146\")>,\n",
       " <selenium.webdriver.remote.webelement.WebElement (session=\"b1509320db996ca658d8bac3a87ff149\", element=\"b098c62e-8903-435c-8884-bbbb10d28a61\")>,\n",
       " <selenium.webdriver.remote.webelement.WebElement (session=\"b1509320db996ca658d8bac3a87ff149\", element=\"f4cd4f10-3f50-495a-81d8-0b6208a9e420\")>]"
      ]
     },
     "execution_count": 18,
     "metadata": {},
     "output_type": "execute_result"
    }
   ],
   "source": [
    "prc=driver.find_elements_by_xpath('//div[@class=\"_30jeq3\"]')\n",
    "prc"
   ]
  },
  {
   "cell_type": "code",
   "execution_count": 19,
   "metadata": {},
   "outputs": [
    {
     "data": {
      "text/plain": [
       "['₹349',\n",
       " '₹199',\n",
       " '₹148',\n",
       " '₹209',\n",
       " '₹248',\n",
       " '₹327',\n",
       " '₹289',\n",
       " '₹349',\n",
       " '₹149',\n",
       " '₹149',\n",
       " '₹424',\n",
       " '₹424',\n",
       " '₹399',\n",
       " '₹349',\n",
       " '₹449',\n",
       " '₹509',\n",
       " '₹444',\n",
       " '₹499',\n",
       " '₹534',\n",
       " '₹202',\n",
       " '₹348',\n",
       " '₹424',\n",
       " '₹449',\n",
       " '₹379',\n",
       " '₹269',\n",
       " '₹209',\n",
       " '₹163',\n",
       " '₹590',\n",
       " '₹289',\n",
       " '₹630',\n",
       " '₹209',\n",
       " '₹586',\n",
       " '₹249',\n",
       " '₹319',\n",
       " '₹376',\n",
       " '₹570',\n",
       " '₹190',\n",
       " '₹249',\n",
       " '₹566',\n",
       " '₹580']"
      ]
     },
     "execution_count": 19,
     "metadata": {},
     "output_type": "execute_result"
    }
   ],
   "source": [
    "PRC=[]\n",
    "for i in prc:\n",
    "    PRC.append(i.text)\n",
    "PRC"
   ]
  },
  {
   "cell_type": "code",
   "execution_count": 20,
   "metadata": {},
   "outputs": [
    {
     "data": {
      "text/plain": [
       "[<selenium.webdriver.remote.webelement.WebElement (session=\"b1509320db996ca658d8bac3a87ff149\", element=\"21f8160a-8548-47e0-8876-6b183ece3050\")>,\n",
       " <selenium.webdriver.remote.webelement.WebElement (session=\"b1509320db996ca658d8bac3a87ff149\", element=\"aef0f99f-21cd-4085-991d-be500d7cbbf1\")>,\n",
       " <selenium.webdriver.remote.webelement.WebElement (session=\"b1509320db996ca658d8bac3a87ff149\", element=\"f1763a31-78ed-4df6-b13b-88890e66b47e\")>,\n",
       " <selenium.webdriver.remote.webelement.WebElement (session=\"b1509320db996ca658d8bac3a87ff149\", element=\"857b2b68-e929-43d4-a6c3-00d90064f83a\")>,\n",
       " <selenium.webdriver.remote.webelement.WebElement (session=\"b1509320db996ca658d8bac3a87ff149\", element=\"da54f419-f9a8-4f12-8759-291f3acca01f\")>,\n",
       " <selenium.webdriver.remote.webelement.WebElement (session=\"b1509320db996ca658d8bac3a87ff149\", element=\"74fbdafb-47f9-4163-baaa-3a57ccf8f1f0\")>,\n",
       " <selenium.webdriver.remote.webelement.WebElement (session=\"b1509320db996ca658d8bac3a87ff149\", element=\"44a1c30e-0ec4-43f2-a57b-54ae066d9295\")>,\n",
       " <selenium.webdriver.remote.webelement.WebElement (session=\"b1509320db996ca658d8bac3a87ff149\", element=\"8301715f-c7fa-484b-b1f8-5d7d2910a0f3\")>,\n",
       " <selenium.webdriver.remote.webelement.WebElement (session=\"b1509320db996ca658d8bac3a87ff149\", element=\"faad08f2-f7a8-4aa7-93bf-27a7e38011a8\")>,\n",
       " <selenium.webdriver.remote.webelement.WebElement (session=\"b1509320db996ca658d8bac3a87ff149\", element=\"fb2069e5-1da5-4639-bce3-20fdbaf7cfd4\")>,\n",
       " <selenium.webdriver.remote.webelement.WebElement (session=\"b1509320db996ca658d8bac3a87ff149\", element=\"62389c5d-1b3f-45af-ac95-2ed7044c38bb\")>,\n",
       " <selenium.webdriver.remote.webelement.WebElement (session=\"b1509320db996ca658d8bac3a87ff149\", element=\"ff66b87b-97ec-4f6f-ab9d-c725232008d2\")>,\n",
       " <selenium.webdriver.remote.webelement.WebElement (session=\"b1509320db996ca658d8bac3a87ff149\", element=\"795bce2a-098f-49f7-adad-40b22f78eaf4\")>,\n",
       " <selenium.webdriver.remote.webelement.WebElement (session=\"b1509320db996ca658d8bac3a87ff149\", element=\"574d89e3-9d54-4aee-abc6-7092464d0fe2\")>,\n",
       " <selenium.webdriver.remote.webelement.WebElement (session=\"b1509320db996ca658d8bac3a87ff149\", element=\"55235af6-e984-4360-864c-ad899505be1d\")>,\n",
       " <selenium.webdriver.remote.webelement.WebElement (session=\"b1509320db996ca658d8bac3a87ff149\", element=\"b4590d4a-9336-48ca-8e4a-820aac239d48\")>,\n",
       " <selenium.webdriver.remote.webelement.WebElement (session=\"b1509320db996ca658d8bac3a87ff149\", element=\"448ffafd-c90e-4fc2-86de-5696f5f1850c\")>,\n",
       " <selenium.webdriver.remote.webelement.WebElement (session=\"b1509320db996ca658d8bac3a87ff149\", element=\"5347819f-f15a-45c7-9ad1-8726609cb420\")>,\n",
       " <selenium.webdriver.remote.webelement.WebElement (session=\"b1509320db996ca658d8bac3a87ff149\", element=\"89abdd8c-1476-49ea-aed5-a00486b738a1\")>,\n",
       " <selenium.webdriver.remote.webelement.WebElement (session=\"b1509320db996ca658d8bac3a87ff149\", element=\"b1a24f16-f38e-4c22-800b-e08af6b6f62c\")>,\n",
       " <selenium.webdriver.remote.webelement.WebElement (session=\"b1509320db996ca658d8bac3a87ff149\", element=\"95d6a7cf-4d0e-4fb6-aec8-81ed3f38e92e\")>,\n",
       " <selenium.webdriver.remote.webelement.WebElement (session=\"b1509320db996ca658d8bac3a87ff149\", element=\"c093dc3f-05d3-4af3-9784-ba33ee2492a1\")>,\n",
       " <selenium.webdriver.remote.webelement.WebElement (session=\"b1509320db996ca658d8bac3a87ff149\", element=\"9d6bdad4-5751-492b-bd54-d065022ef133\")>,\n",
       " <selenium.webdriver.remote.webelement.WebElement (session=\"b1509320db996ca658d8bac3a87ff149\", element=\"0fb97d7c-4a97-4905-aadb-799d697a7986\")>,\n",
       " <selenium.webdriver.remote.webelement.WebElement (session=\"b1509320db996ca658d8bac3a87ff149\", element=\"67ed6a84-6a85-4c53-b643-f39dea79ab01\")>,\n",
       " <selenium.webdriver.remote.webelement.WebElement (session=\"b1509320db996ca658d8bac3a87ff149\", element=\"585f8cd5-9f62-4d96-8331-37bd0d6d1953\")>,\n",
       " <selenium.webdriver.remote.webelement.WebElement (session=\"b1509320db996ca658d8bac3a87ff149\", element=\"d121db8e-0873-4173-bac1-270271b9f905\")>,\n",
       " <selenium.webdriver.remote.webelement.WebElement (session=\"b1509320db996ca658d8bac3a87ff149\", element=\"8b7e263b-3022-485a-ba4e-567e8b4b3a78\")>,\n",
       " <selenium.webdriver.remote.webelement.WebElement (session=\"b1509320db996ca658d8bac3a87ff149\", element=\"d28b469f-69e1-402d-a591-c56babc5a90a\")>,\n",
       " <selenium.webdriver.remote.webelement.WebElement (session=\"b1509320db996ca658d8bac3a87ff149\", element=\"ae7ddbe1-a082-4481-97a9-4c27f04a93bd\")>,\n",
       " <selenium.webdriver.remote.webelement.WebElement (session=\"b1509320db996ca658d8bac3a87ff149\", element=\"5265c40d-5325-4d66-80a2-d5f333845256\")>,\n",
       " <selenium.webdriver.remote.webelement.WebElement (session=\"b1509320db996ca658d8bac3a87ff149\", element=\"787da448-376c-424e-b8de-8c79545ec9cf\")>,\n",
       " <selenium.webdriver.remote.webelement.WebElement (session=\"b1509320db996ca658d8bac3a87ff149\", element=\"b6abf7ce-a957-4ee1-b315-79e528b30da9\")>,\n",
       " <selenium.webdriver.remote.webelement.WebElement (session=\"b1509320db996ca658d8bac3a87ff149\", element=\"7280f0c6-74bb-49a4-99a0-31d7c77431ae\")>,\n",
       " <selenium.webdriver.remote.webelement.WebElement (session=\"b1509320db996ca658d8bac3a87ff149\", element=\"8e22c825-a71a-4f47-b29f-a0ee997192ae\")>,\n",
       " <selenium.webdriver.remote.webelement.WebElement (session=\"b1509320db996ca658d8bac3a87ff149\", element=\"4f40d932-f775-4acd-8718-25a2f7907a9d\")>,\n",
       " <selenium.webdriver.remote.webelement.WebElement (session=\"b1509320db996ca658d8bac3a87ff149\", element=\"3b76dea6-8d58-4b34-a539-4322f25b4227\")>,\n",
       " <selenium.webdriver.remote.webelement.WebElement (session=\"b1509320db996ca658d8bac3a87ff149\", element=\"a5e430fc-9944-45aa-807a-27edaf14b94f\")>,\n",
       " <selenium.webdriver.remote.webelement.WebElement (session=\"b1509320db996ca658d8bac3a87ff149\", element=\"1cfdc2e8-06d4-413a-8949-8922b9152050\")>,\n",
       " <selenium.webdriver.remote.webelement.WebElement (session=\"b1509320db996ca658d8bac3a87ff149\", element=\"dd6dabd4-2be9-43f6-8c35-fca1b95d9464\")>]"
      ]
     },
     "execution_count": 20,
     "metadata": {},
     "output_type": "execute_result"
    }
   ],
   "source": [
    "dscnt=driver.find_elements_by_xpath('//div[@class=\"_3Ay6Sb\"]')\n",
    "dscnt"
   ]
  },
  {
   "cell_type": "code",
   "execution_count": 21,
   "metadata": {},
   "outputs": [
    {
     "data": {
      "text/plain": [
       "['65% off',\n",
       " '60% off',\n",
       " '85% off',\n",
       " '83% off',\n",
       " '75% off',\n",
       " '67% off',\n",
       " '71% off',\n",
       " '65% off',\n",
       " '70% off',\n",
       " '70% off',\n",
       " '78% off',\n",
       " '78% off',\n",
       " '73% off',\n",
       " '65% off',\n",
       " '55% off',\n",
       " '49% off',\n",
       " '55% off',\n",
       " '50% off',\n",
       " '64% off',\n",
       " '59% off',\n",
       " '65% off',\n",
       " '57% off',\n",
       " '87% off',\n",
       " '70% off',\n",
       " '73% off',\n",
       " '58% off',\n",
       " '67% off',\n",
       " '40% off',\n",
       " '71% off',\n",
       " '36% off',\n",
       " '73% off',\n",
       " '51% off',\n",
       " '87% off',\n",
       " '54% off',\n",
       " '62% off',\n",
       " '42% off',\n",
       " '72% off',\n",
       " '62% off',\n",
       " '43% off',\n",
       " '41% off']"
      ]
     },
     "execution_count": 21,
     "metadata": {},
     "output_type": "execute_result"
    }
   ],
   "source": [
    "DSCNT=[]\n",
    "for i in dscnt:\n",
    "    DSCNT.append(i.text)\n",
    "DSCNT"
   ]
  },
  {
   "cell_type": "code",
   "execution_count": 22,
   "metadata": {},
   "outputs": [
    {
     "data": {
      "text/plain": [
       "<selenium.webdriver.remote.webelement.WebElement (session=\"b1509320db996ca658d8bac3a87ff149\", element=\"024127af-38b7-4386-a4fc-a34e7f772ed3\")>"
      ]
     },
     "execution_count": 22,
     "metadata": {},
     "output_type": "execute_result"
    }
   ],
   "source": [
    "nxt=driver.find_element_by_xpath(\"/html/body/div[1]/div/div[3]/div[1]/div[2]/div[12]/div/div/nav/a[2]\")\n",
    "nxt"
   ]
  },
  {
   "cell_type": "code",
   "execution_count": 23,
   "metadata": {},
   "outputs": [],
   "source": [
    "nxt.click()"
   ]
  },
  {
   "cell_type": "code",
   "execution_count": 35,
   "metadata": {},
   "outputs": [
    {
     "data": {
      "text/plain": [
       "[<selenium.webdriver.remote.webelement.WebElement (session=\"b1509320db996ca658d8bac3a87ff149\", element=\"073aa3a0-1bfc-47e1-9299-104586b2ff77\")>,\n",
       " <selenium.webdriver.remote.webelement.WebElement (session=\"b1509320db996ca658d8bac3a87ff149\", element=\"ea544d7a-08d3-441a-abba-1ebe4316f64d\")>,\n",
       " <selenium.webdriver.remote.webelement.WebElement (session=\"b1509320db996ca658d8bac3a87ff149\", element=\"2acc3634-5d7b-4e0b-b79f-273b5ec6fd9a\")>,\n",
       " <selenium.webdriver.remote.webelement.WebElement (session=\"b1509320db996ca658d8bac3a87ff149\", element=\"1b37b16a-fd55-4a40-871d-ceabf3a139b4\")>,\n",
       " <selenium.webdriver.remote.webelement.WebElement (session=\"b1509320db996ca658d8bac3a87ff149\", element=\"17f67f99-6e03-4e51-afaa-396009a0184c\")>,\n",
       " <selenium.webdriver.remote.webelement.WebElement (session=\"b1509320db996ca658d8bac3a87ff149\", element=\"4f19e38e-710c-402d-9ae3-6ec057044ccf\")>,\n",
       " <selenium.webdriver.remote.webelement.WebElement (session=\"b1509320db996ca658d8bac3a87ff149\", element=\"4ff69a54-0284-4bbf-9ef8-0eb3213d8155\")>,\n",
       " <selenium.webdriver.remote.webelement.WebElement (session=\"b1509320db996ca658d8bac3a87ff149\", element=\"6a23c745-edda-427c-a2c3-4280008a08db\")>,\n",
       " <selenium.webdriver.remote.webelement.WebElement (session=\"b1509320db996ca658d8bac3a87ff149\", element=\"d95bfb2c-5d8a-4b33-af40-c43b8f167cd6\")>,\n",
       " <selenium.webdriver.remote.webelement.WebElement (session=\"b1509320db996ca658d8bac3a87ff149\", element=\"d492dd5c-64ce-421a-8a79-11215e7d17b6\")>,\n",
       " <selenium.webdriver.remote.webelement.WebElement (session=\"b1509320db996ca658d8bac3a87ff149\", element=\"1728bce3-7304-4935-b820-90bc189cffb0\")>,\n",
       " <selenium.webdriver.remote.webelement.WebElement (session=\"b1509320db996ca658d8bac3a87ff149\", element=\"4c5fc507-1ecf-4e0d-9622-66769550202a\")>,\n",
       " <selenium.webdriver.remote.webelement.WebElement (session=\"b1509320db996ca658d8bac3a87ff149\", element=\"b277e787-c6fc-45c9-8fba-a55d7fccca44\")>,\n",
       " <selenium.webdriver.remote.webelement.WebElement (session=\"b1509320db996ca658d8bac3a87ff149\", element=\"b44ba1be-ec25-4eff-93ff-f23b51f1f69b\")>,\n",
       " <selenium.webdriver.remote.webelement.WebElement (session=\"b1509320db996ca658d8bac3a87ff149\", element=\"cf11bdbb-308f-43a9-b299-b833221f3751\")>,\n",
       " <selenium.webdriver.remote.webelement.WebElement (session=\"b1509320db996ca658d8bac3a87ff149\", element=\"bb18a0c8-f4e3-4a1e-81f1-171183169277\")>,\n",
       " <selenium.webdriver.remote.webelement.WebElement (session=\"b1509320db996ca658d8bac3a87ff149\", element=\"8b7b626e-52be-488e-93f1-976b8785ac66\")>,\n",
       " <selenium.webdriver.remote.webelement.WebElement (session=\"b1509320db996ca658d8bac3a87ff149\", element=\"34223974-a5e5-4559-86cc-64975dd83831\")>,\n",
       " <selenium.webdriver.remote.webelement.WebElement (session=\"b1509320db996ca658d8bac3a87ff149\", element=\"06273808-84c0-4a6d-9891-75d4834250c4\")>,\n",
       " <selenium.webdriver.remote.webelement.WebElement (session=\"b1509320db996ca658d8bac3a87ff149\", element=\"4508878a-303a-4119-b9da-923b93521f03\")>,\n",
       " <selenium.webdriver.remote.webelement.WebElement (session=\"b1509320db996ca658d8bac3a87ff149\", element=\"d27051cc-2feb-4353-a49b-e36f99da2f92\")>,\n",
       " <selenium.webdriver.remote.webelement.WebElement (session=\"b1509320db996ca658d8bac3a87ff149\", element=\"e8cd1950-6054-47e2-b95a-b72130a309af\")>,\n",
       " <selenium.webdriver.remote.webelement.WebElement (session=\"b1509320db996ca658d8bac3a87ff149\", element=\"f4b7e133-0350-4e20-8f4e-63e8adbe96ff\")>,\n",
       " <selenium.webdriver.remote.webelement.WebElement (session=\"b1509320db996ca658d8bac3a87ff149\", element=\"343bcc40-1f2c-4355-a153-a7c664774e87\")>,\n",
       " <selenium.webdriver.remote.webelement.WebElement (session=\"b1509320db996ca658d8bac3a87ff149\", element=\"9de1a7da-fe8e-4224-b1b8-c84f331af52c\")>,\n",
       " <selenium.webdriver.remote.webelement.WebElement (session=\"b1509320db996ca658d8bac3a87ff149\", element=\"1d4a188a-5fca-4caa-b1ed-0d456c1e96bd\")>,\n",
       " <selenium.webdriver.remote.webelement.WebElement (session=\"b1509320db996ca658d8bac3a87ff149\", element=\"3849c0c9-ca8a-4e64-a805-d1e4d5b77e09\")>,\n",
       " <selenium.webdriver.remote.webelement.WebElement (session=\"b1509320db996ca658d8bac3a87ff149\", element=\"350e3176-acad-42ab-bf2f-636596f51fa8\")>,\n",
       " <selenium.webdriver.remote.webelement.WebElement (session=\"b1509320db996ca658d8bac3a87ff149\", element=\"e5a03302-a9b0-4282-a696-fbeb29494993\")>,\n",
       " <selenium.webdriver.remote.webelement.WebElement (session=\"b1509320db996ca658d8bac3a87ff149\", element=\"1b742500-727b-438e-9553-ef3f3e8d17e2\")>]"
      ]
     },
     "execution_count": 35,
     "metadata": {},
     "output_type": "execute_result"
    }
   ],
   "source": [
    "brnnnd=driver.find_elements_by_class_name(\"_2WkVRV\")\n",
    "brndd"
   ]
  },
  {
   "cell_type": "code",
   "execution_count": 38,
   "metadata": {},
   "outputs": [
    {
     "data": {
      "text/plain": [
       "['Chevit',\n",
       " 'luxury fashion',\n",
       " 'Chevit',\n",
       " 'RapidBox',\n",
       " 'BRUTON',\n",
       " 'World Wear Footwear',\n",
       " 'BRUTON',\n",
       " 'Brucharm',\n",
       " 'Vellinto',\n",
       " 'Kraasa',\n",
       " 'CLYMB',\n",
       " 'RapidBox',\n",
       " 'India hub',\n",
       " 'Stinson',\n",
       " 'Elevarse',\n",
       " 'RapidBox',\n",
       " 'BRUTON',\n",
       " 'HOTSTYLE',\n",
       " 'Extoes',\n",
       " 'U.S. POLO ASSN.',\n",
       " 'Dizzler',\n",
       " 'Xtoon',\n",
       " 'Chevit',\n",
       " 'U.S. POLO ASSN.',\n",
       " 'RAFTAR FASHION',\n",
       " 'Absolute comfort',\n",
       " 'Brainer',\n",
       " 'Blackberrys',\n",
       " 'RANZAG',\n",
       " 'ASIAN',\n",
       " 'luxury fashion',\n",
       " 'Brucharm',\n",
       " 'Airland',\n",
       " 'ASTEROID',\n",
       " 'Jimnastic shoes',\n",
       " 'RapidBox',\n",
       " 'Robbie jones',\n",
       " 'BRUTON',\n",
       " 'BIRDE',\n",
       " 'JYOTIFED FOOTWEARS']"
      ]
     },
     "execution_count": 38,
     "metadata": {},
     "output_type": "execute_result"
    }
   ],
   "source": [
    "BRNNDD=[]\n",
    "for i in brnnnd:\n",
    "    BRNNDD.append(i.text)\n",
    "BRNNDD"
   ]
  },
  {
   "cell_type": "code",
   "execution_count": 37,
   "metadata": {},
   "outputs": [
    {
     "data": {
      "text/plain": [
       "[<selenium.webdriver.remote.webelement.WebElement (session=\"b1509320db996ca658d8bac3a87ff149\", element=\"073aa3a0-1bfc-47e1-9299-104586b2ff77\")>,\n",
       " <selenium.webdriver.remote.webelement.WebElement (session=\"b1509320db996ca658d8bac3a87ff149\", element=\"ea544d7a-08d3-441a-abba-1ebe4316f64d\")>,\n",
       " <selenium.webdriver.remote.webelement.WebElement (session=\"b1509320db996ca658d8bac3a87ff149\", element=\"2acc3634-5d7b-4e0b-b79f-273b5ec6fd9a\")>,\n",
       " <selenium.webdriver.remote.webelement.WebElement (session=\"b1509320db996ca658d8bac3a87ff149\", element=\"1b37b16a-fd55-4a40-871d-ceabf3a139b4\")>,\n",
       " <selenium.webdriver.remote.webelement.WebElement (session=\"b1509320db996ca658d8bac3a87ff149\", element=\"17f67f99-6e03-4e51-afaa-396009a0184c\")>,\n",
       " <selenium.webdriver.remote.webelement.WebElement (session=\"b1509320db996ca658d8bac3a87ff149\", element=\"4f19e38e-710c-402d-9ae3-6ec057044ccf\")>,\n",
       " <selenium.webdriver.remote.webelement.WebElement (session=\"b1509320db996ca658d8bac3a87ff149\", element=\"4ff69a54-0284-4bbf-9ef8-0eb3213d8155\")>,\n",
       " <selenium.webdriver.remote.webelement.WebElement (session=\"b1509320db996ca658d8bac3a87ff149\", element=\"6a23c745-edda-427c-a2c3-4280008a08db\")>,\n",
       " <selenium.webdriver.remote.webelement.WebElement (session=\"b1509320db996ca658d8bac3a87ff149\", element=\"d95bfb2c-5d8a-4b33-af40-c43b8f167cd6\")>,\n",
       " <selenium.webdriver.remote.webelement.WebElement (session=\"b1509320db996ca658d8bac3a87ff149\", element=\"d492dd5c-64ce-421a-8a79-11215e7d17b6\")>,\n",
       " <selenium.webdriver.remote.webelement.WebElement (session=\"b1509320db996ca658d8bac3a87ff149\", element=\"1728bce3-7304-4935-b820-90bc189cffb0\")>,\n",
       " <selenium.webdriver.remote.webelement.WebElement (session=\"b1509320db996ca658d8bac3a87ff149\", element=\"4c5fc507-1ecf-4e0d-9622-66769550202a\")>,\n",
       " <selenium.webdriver.remote.webelement.WebElement (session=\"b1509320db996ca658d8bac3a87ff149\", element=\"b277e787-c6fc-45c9-8fba-a55d7fccca44\")>,\n",
       " <selenium.webdriver.remote.webelement.WebElement (session=\"b1509320db996ca658d8bac3a87ff149\", element=\"b44ba1be-ec25-4eff-93ff-f23b51f1f69b\")>,\n",
       " <selenium.webdriver.remote.webelement.WebElement (session=\"b1509320db996ca658d8bac3a87ff149\", element=\"cf11bdbb-308f-43a9-b299-b833221f3751\")>,\n",
       " <selenium.webdriver.remote.webelement.WebElement (session=\"b1509320db996ca658d8bac3a87ff149\", element=\"bb18a0c8-f4e3-4a1e-81f1-171183169277\")>,\n",
       " <selenium.webdriver.remote.webelement.WebElement (session=\"b1509320db996ca658d8bac3a87ff149\", element=\"8b7b626e-52be-488e-93f1-976b8785ac66\")>,\n",
       " <selenium.webdriver.remote.webelement.WebElement (session=\"b1509320db996ca658d8bac3a87ff149\", element=\"34223974-a5e5-4559-86cc-64975dd83831\")>,\n",
       " <selenium.webdriver.remote.webelement.WebElement (session=\"b1509320db996ca658d8bac3a87ff149\", element=\"06273808-84c0-4a6d-9891-75d4834250c4\")>,\n",
       " <selenium.webdriver.remote.webelement.WebElement (session=\"b1509320db996ca658d8bac3a87ff149\", element=\"4508878a-303a-4119-b9da-923b93521f03\")>,\n",
       " <selenium.webdriver.remote.webelement.WebElement (session=\"b1509320db996ca658d8bac3a87ff149\", element=\"d27051cc-2feb-4353-a49b-e36f99da2f92\")>,\n",
       " <selenium.webdriver.remote.webelement.WebElement (session=\"b1509320db996ca658d8bac3a87ff149\", element=\"e8cd1950-6054-47e2-b95a-b72130a309af\")>,\n",
       " <selenium.webdriver.remote.webelement.WebElement (session=\"b1509320db996ca658d8bac3a87ff149\", element=\"f4b7e133-0350-4e20-8f4e-63e8adbe96ff\")>,\n",
       " <selenium.webdriver.remote.webelement.WebElement (session=\"b1509320db996ca658d8bac3a87ff149\", element=\"343bcc40-1f2c-4355-a153-a7c664774e87\")>,\n",
       " <selenium.webdriver.remote.webelement.WebElement (session=\"b1509320db996ca658d8bac3a87ff149\", element=\"9de1a7da-fe8e-4224-b1b8-c84f331af52c\")>,\n",
       " <selenium.webdriver.remote.webelement.WebElement (session=\"b1509320db996ca658d8bac3a87ff149\", element=\"1d4a188a-5fca-4caa-b1ed-0d456c1e96bd\")>,\n",
       " <selenium.webdriver.remote.webelement.WebElement (session=\"b1509320db996ca658d8bac3a87ff149\", element=\"3849c0c9-ca8a-4e64-a805-d1e4d5b77e09\")>,\n",
       " <selenium.webdriver.remote.webelement.WebElement (session=\"b1509320db996ca658d8bac3a87ff149\", element=\"350e3176-acad-42ab-bf2f-636596f51fa8\")>,\n",
       " <selenium.webdriver.remote.webelement.WebElement (session=\"b1509320db996ca658d8bac3a87ff149\", element=\"e5a03302-a9b0-4282-a696-fbeb29494993\")>,\n",
       " <selenium.webdriver.remote.webelement.WebElement (session=\"b1509320db996ca658d8bac3a87ff149\", element=\"1b742500-727b-438e-9553-ef3f3e8d17e2\")>]"
      ]
     },
     "execution_count": 37,
     "metadata": {},
     "output_type": "execute_result"
    }
   ],
   "source": [
    "descc=driver.find_elements_by_xpath('//a[@class=\"IRpwTa\"]')\n",
    "descc"
   ]
  },
  {
   "cell_type": "code",
   "execution_count": 27,
   "metadata": {},
   "outputs": [
    {
     "data": {
      "text/plain": [
       "['Super Stylish & Trendy Combo Pack of 02 Pairs Sneakers ...',\n",
       " 'Sneakers For Men',\n",
       " 'Modern & Trendy Collection Combo Pack of 02 Shoes for M...',\n",
       " 'Latest Collection-1227 Stylish Casual Sports Sneakers F...',\n",
       " 'Sneaker Sneakers For Men',\n",
       " 'White Comfortable Outdoors/Gym&Workout/Running Shoes/At...',\n",
       " 'Casual Sneakrs For Men Sneakers For Men',\n",
       " 'Series 7 Sneakers For Men',\n",
       " \"Perfect Sports Shoes for Men's Running ,Cycling & Trekk...\",\n",
       " 'Sneakers For Men',\n",
       " 'Sneakers For Men',\n",
       " 'Sneakers For Men',\n",
       " 'Lattest Sneakers Shoe Sneakers For Men',\n",
       " 'CR-1 Sneakers For Men',\n",
       " 'Sneakers For Men',\n",
       " 'LEBRON 2.0 Sneakers For Men',\n",
       " \"white Casual shoes,Sneakers for men's Sneakers For Men\",\n",
       " '494 Perfect Sports Shoes for Running Training Hikking &...',\n",
       " 'Sneakers For Men',\n",
       " 'Sneakers For Men',\n",
       " 'Sneakers For Men',\n",
       " 'Running Shoes Stylish Comfortable Shoes For Men Sneaker...',\n",
       " 'Skypy-31 Walking Shoes,Training Shoes,Sneakers,Loafers,...',\n",
       " 'Luxury Fashionable casual sneaker shoes Sneakers For Me...',\n",
       " 'AirFast Run-2 Casual Shoes/Outdoors/Running Shoes/Attra...',\n",
       " 'Sneakers For Men',\n",
       " 'Original Luxury Branded Black Fancy Casual Walking Part...',\n",
       " 'Sneakers For Men',\n",
       " 'Modern & Trendy Collection Combo Pack of 02 Shoes for M...',\n",
       " 'Stylish and Trendy New Design Lightweight,Casual shoes ...']"
      ]
     },
     "execution_count": 27,
     "metadata": {},
     "output_type": "execute_result"
    }
   ],
   "source": [
    "DESCC=[]\n",
    "for i in descc:\n",
    "    DESCC.append(i.text)\n",
    "DESCC"
   ]
  },
  {
   "cell_type": "code",
   "execution_count": 39,
   "metadata": {},
   "outputs": [
    {
     "data": {
      "text/plain": [
       "[<selenium.webdriver.remote.webelement.WebElement (session=\"b1509320db996ca658d8bac3a87ff149\", element=\"2635e157-d5c0-479e-8dbd-df058195614d\")>,\n",
       " <selenium.webdriver.remote.webelement.WebElement (session=\"b1509320db996ca658d8bac3a87ff149\", element=\"ac94799c-f511-4647-9e43-ad6b0d5cde31\")>,\n",
       " <selenium.webdriver.remote.webelement.WebElement (session=\"b1509320db996ca658d8bac3a87ff149\", element=\"d2ad81d6-60e6-4ad6-9e4b-32a73d811010\")>,\n",
       " <selenium.webdriver.remote.webelement.WebElement (session=\"b1509320db996ca658d8bac3a87ff149\", element=\"f630710c-9587-46ff-960d-2271131840f8\")>,\n",
       " <selenium.webdriver.remote.webelement.WebElement (session=\"b1509320db996ca658d8bac3a87ff149\", element=\"8e80dbd9-01b6-434f-a0a9-0edf1da3ba2e\")>,\n",
       " <selenium.webdriver.remote.webelement.WebElement (session=\"b1509320db996ca658d8bac3a87ff149\", element=\"0b206a6e-aeb7-4f23-93f0-bb9db783c8ba\")>,\n",
       " <selenium.webdriver.remote.webelement.WebElement (session=\"b1509320db996ca658d8bac3a87ff149\", element=\"fd9b3995-4129-4eb6-8d5f-b276ab4a881b\")>,\n",
       " <selenium.webdriver.remote.webelement.WebElement (session=\"b1509320db996ca658d8bac3a87ff149\", element=\"d722260a-6cfd-4195-997f-213a1dabcb26\")>,\n",
       " <selenium.webdriver.remote.webelement.WebElement (session=\"b1509320db996ca658d8bac3a87ff149\", element=\"d78e28c0-4ec6-4b56-ad54-73a2822dfe34\")>,\n",
       " <selenium.webdriver.remote.webelement.WebElement (session=\"b1509320db996ca658d8bac3a87ff149\", element=\"c2c9f47e-b6ec-4684-a4a4-ad83b5b3af8e\")>,\n",
       " <selenium.webdriver.remote.webelement.WebElement (session=\"b1509320db996ca658d8bac3a87ff149\", element=\"d3053f18-612c-4c44-b4fe-7e2a546ca3c3\")>,\n",
       " <selenium.webdriver.remote.webelement.WebElement (session=\"b1509320db996ca658d8bac3a87ff149\", element=\"c925d89e-8db1-42e8-a396-79eac6eb4bd1\")>,\n",
       " <selenium.webdriver.remote.webelement.WebElement (session=\"b1509320db996ca658d8bac3a87ff149\", element=\"f7aa4ad9-76cf-4901-a429-4ab331d6c007\")>,\n",
       " <selenium.webdriver.remote.webelement.WebElement (session=\"b1509320db996ca658d8bac3a87ff149\", element=\"562800ab-4377-4756-87f6-4dcf3fc45a12\")>,\n",
       " <selenium.webdriver.remote.webelement.WebElement (session=\"b1509320db996ca658d8bac3a87ff149\", element=\"6edcdfae-d427-4fc3-ade9-4e93ffd2cff3\")>,\n",
       " <selenium.webdriver.remote.webelement.WebElement (session=\"b1509320db996ca658d8bac3a87ff149\", element=\"48732029-4ae5-4410-b53f-acf366a1aaa6\")>,\n",
       " <selenium.webdriver.remote.webelement.WebElement (session=\"b1509320db996ca658d8bac3a87ff149\", element=\"5fda3a0c-0f19-407e-9dd9-7ae9936c69af\")>,\n",
       " <selenium.webdriver.remote.webelement.WebElement (session=\"b1509320db996ca658d8bac3a87ff149\", element=\"b130dd37-c075-477b-b704-d2783b957ade\")>,\n",
       " <selenium.webdriver.remote.webelement.WebElement (session=\"b1509320db996ca658d8bac3a87ff149\", element=\"c5ea61b3-9d42-4b06-a297-565742a2d180\")>,\n",
       " <selenium.webdriver.remote.webelement.WebElement (session=\"b1509320db996ca658d8bac3a87ff149\", element=\"42b2b8a3-22ba-45f8-9d18-99b8b0c44377\")>,\n",
       " <selenium.webdriver.remote.webelement.WebElement (session=\"b1509320db996ca658d8bac3a87ff149\", element=\"3aa7e1a5-9b59-4827-ac06-663947140598\")>,\n",
       " <selenium.webdriver.remote.webelement.WebElement (session=\"b1509320db996ca658d8bac3a87ff149\", element=\"978010b3-d3eb-4d66-b40e-c8fce4ed14c0\")>,\n",
       " <selenium.webdriver.remote.webelement.WebElement (session=\"b1509320db996ca658d8bac3a87ff149\", element=\"ef353268-25f1-44d6-aa64-97fcf204e420\")>,\n",
       " <selenium.webdriver.remote.webelement.WebElement (session=\"b1509320db996ca658d8bac3a87ff149\", element=\"3dd1234c-317c-4ca2-974c-f44c75fe66a0\")>,\n",
       " <selenium.webdriver.remote.webelement.WebElement (session=\"b1509320db996ca658d8bac3a87ff149\", element=\"61980b85-c831-4946-bb24-612de4378e2a\")>,\n",
       " <selenium.webdriver.remote.webelement.WebElement (session=\"b1509320db996ca658d8bac3a87ff149\", element=\"8567ab07-1d35-4ea2-afe6-cf1026418707\")>,\n",
       " <selenium.webdriver.remote.webelement.WebElement (session=\"b1509320db996ca658d8bac3a87ff149\", element=\"0870b2fe-958e-4f23-a0cd-8af283a8e2b1\")>,\n",
       " <selenium.webdriver.remote.webelement.WebElement (session=\"b1509320db996ca658d8bac3a87ff149\", element=\"1cf6ed56-cf17-4491-950b-4917fb3a9aa8\")>,\n",
       " <selenium.webdriver.remote.webelement.WebElement (session=\"b1509320db996ca658d8bac3a87ff149\", element=\"dc0e967e-1d0a-4368-80fc-d30a40874357\")>,\n",
       " <selenium.webdriver.remote.webelement.WebElement (session=\"b1509320db996ca658d8bac3a87ff149\", element=\"320f8d22-f58f-43aa-8c71-2ebb854397e4\")>,\n",
       " <selenium.webdriver.remote.webelement.WebElement (session=\"b1509320db996ca658d8bac3a87ff149\", element=\"72d0737d-53de-492d-b96e-a8f695e2f78f\")>,\n",
       " <selenium.webdriver.remote.webelement.WebElement (session=\"b1509320db996ca658d8bac3a87ff149\", element=\"d997a5e6-b751-420a-a5ad-ef25576f3970\")>,\n",
       " <selenium.webdriver.remote.webelement.WebElement (session=\"b1509320db996ca658d8bac3a87ff149\", element=\"2877e5a8-9e60-4929-a378-c4dbf9a2499b\")>,\n",
       " <selenium.webdriver.remote.webelement.WebElement (session=\"b1509320db996ca658d8bac3a87ff149\", element=\"26645e22-8c44-473a-99ab-31933c5b53e9\")>,\n",
       " <selenium.webdriver.remote.webelement.WebElement (session=\"b1509320db996ca658d8bac3a87ff149\", element=\"edb41e82-42df-4067-910e-40c3cc7a66e9\")>,\n",
       " <selenium.webdriver.remote.webelement.WebElement (session=\"b1509320db996ca658d8bac3a87ff149\", element=\"0b5ca44d-8968-4a92-929f-a3034c4fa4ba\")>,\n",
       " <selenium.webdriver.remote.webelement.WebElement (session=\"b1509320db996ca658d8bac3a87ff149\", element=\"178eab5e-0575-40ca-883d-c3309cb3d624\")>,\n",
       " <selenium.webdriver.remote.webelement.WebElement (session=\"b1509320db996ca658d8bac3a87ff149\", element=\"71d7bf56-5d87-4fee-88df-3102448781cc\")>,\n",
       " <selenium.webdriver.remote.webelement.WebElement (session=\"b1509320db996ca658d8bac3a87ff149\", element=\"25e404e8-debe-4e1a-a920-3faac1d6ebd6\")>,\n",
       " <selenium.webdriver.remote.webelement.WebElement (session=\"b1509320db996ca658d8bac3a87ff149\", element=\"bb13c3a0-9144-450d-9e07-23cb53feff0c\")>]"
      ]
     },
     "execution_count": 39,
     "metadata": {},
     "output_type": "execute_result"
    }
   ],
   "source": [
    "pprrice=driver.find_elements_by_xpath('//div[@class=\"_30jeq3\"]')\n",
    "pprrice"
   ]
  },
  {
   "cell_type": "code",
   "execution_count": 41,
   "metadata": {},
   "outputs": [
    {
     "data": {
      "text/plain": [
       "['₹538',\n",
       " '₹449',\n",
       " '₹538',\n",
       " '₹590',\n",
       " '₹486',\n",
       " '₹209',\n",
       " '₹249',\n",
       " '₹586',\n",
       " '₹549',\n",
       " '₹394',\n",
       " '₹199',\n",
       " '₹570',\n",
       " '₹354',\n",
       " '₹209',\n",
       " '₹349',\n",
       " '₹580',\n",
       " '₹249',\n",
       " '₹199',\n",
       " '₹178',\n",
       " '₹2,349',\n",
       " '₹445',\n",
       " '₹429',\n",
       " '₹248',\n",
       " '₹1,749',\n",
       " '₹649',\n",
       " '₹149',\n",
       " '₹424',\n",
       " '₹3,447',\n",
       " '₹349',\n",
       " '₹498',\n",
       " '₹348',\n",
       " '₹669',\n",
       " '₹176',\n",
       " '₹449',\n",
       " '₹347',\n",
       " '₹590',\n",
       " '₹449',\n",
       " '₹486',\n",
       " '₹289',\n",
       " '₹661']"
      ]
     },
     "execution_count": 41,
     "metadata": {},
     "output_type": "execute_result"
    }
   ],
   "source": [
    "PPRRICE=[]\n",
    "for i in pprrice:\n",
    "    PPRRICE.append(i.text)\n",
    "PPRRICE"
   ]
  },
  {
   "cell_type": "code",
   "execution_count": 42,
   "metadata": {},
   "outputs": [
    {
     "data": {
      "text/plain": [
       "[<selenium.webdriver.remote.webelement.WebElement (session=\"b1509320db996ca658d8bac3a87ff149\", element=\"c0a36be1-9c8a-4aad-b2b6-0d1eb686aa0e\")>,\n",
       " <selenium.webdriver.remote.webelement.WebElement (session=\"b1509320db996ca658d8bac3a87ff149\", element=\"c9342d48-c9ba-43a9-a1c7-c3115376f95d\")>,\n",
       " <selenium.webdriver.remote.webelement.WebElement (session=\"b1509320db996ca658d8bac3a87ff149\", element=\"e9268d78-0da3-491c-bfcc-61d627488113\")>,\n",
       " <selenium.webdriver.remote.webelement.WebElement (session=\"b1509320db996ca658d8bac3a87ff149\", element=\"f06ce5b5-cc18-4c0a-bdc7-9b977529c4b8\")>,\n",
       " <selenium.webdriver.remote.webelement.WebElement (session=\"b1509320db996ca658d8bac3a87ff149\", element=\"55003c62-3b3d-4b82-894e-64c76accfa25\")>,\n",
       " <selenium.webdriver.remote.webelement.WebElement (session=\"b1509320db996ca658d8bac3a87ff149\", element=\"78e027ad-094b-4bf4-afb3-ba1ffadeea1a\")>,\n",
       " <selenium.webdriver.remote.webelement.WebElement (session=\"b1509320db996ca658d8bac3a87ff149\", element=\"ebc61eef-fa3b-4dba-a59c-fa29d6c5ae6e\")>,\n",
       " <selenium.webdriver.remote.webelement.WebElement (session=\"b1509320db996ca658d8bac3a87ff149\", element=\"e7ac479b-9d76-4216-8d93-6aa419fdb5be\")>,\n",
       " <selenium.webdriver.remote.webelement.WebElement (session=\"b1509320db996ca658d8bac3a87ff149\", element=\"aafcee9f-9bc4-4704-9762-4d204eab5100\")>,\n",
       " <selenium.webdriver.remote.webelement.WebElement (session=\"b1509320db996ca658d8bac3a87ff149\", element=\"bdb5caa6-57aa-4117-aac7-38ca20512bda\")>,\n",
       " <selenium.webdriver.remote.webelement.WebElement (session=\"b1509320db996ca658d8bac3a87ff149\", element=\"161a3ac4-30cb-4f45-9119-c30091fbeb6e\")>,\n",
       " <selenium.webdriver.remote.webelement.WebElement (session=\"b1509320db996ca658d8bac3a87ff149\", element=\"34dc6b14-88a1-4242-9905-14d171791eaa\")>,\n",
       " <selenium.webdriver.remote.webelement.WebElement (session=\"b1509320db996ca658d8bac3a87ff149\", element=\"418a2462-e79d-4f2d-9983-e2f7f3c52a83\")>,\n",
       " <selenium.webdriver.remote.webelement.WebElement (session=\"b1509320db996ca658d8bac3a87ff149\", element=\"228900d1-bcae-43ba-8834-2077932cb13e\")>,\n",
       " <selenium.webdriver.remote.webelement.WebElement (session=\"b1509320db996ca658d8bac3a87ff149\", element=\"2ae9cd30-dc8c-4b68-9d62-40bac8dab524\")>,\n",
       " <selenium.webdriver.remote.webelement.WebElement (session=\"b1509320db996ca658d8bac3a87ff149\", element=\"33d908fd-3a49-4b55-ac5c-0f90eb7eb15f\")>,\n",
       " <selenium.webdriver.remote.webelement.WebElement (session=\"b1509320db996ca658d8bac3a87ff149\", element=\"e8a66026-5a92-44e1-8acf-f6de5793cbc8\")>,\n",
       " <selenium.webdriver.remote.webelement.WebElement (session=\"b1509320db996ca658d8bac3a87ff149\", element=\"3f28d0e7-4380-474b-b414-cd59edddc705\")>,\n",
       " <selenium.webdriver.remote.webelement.WebElement (session=\"b1509320db996ca658d8bac3a87ff149\", element=\"a635632a-3baf-44d0-8a8b-07cf769a69f5\")>,\n",
       " <selenium.webdriver.remote.webelement.WebElement (session=\"b1509320db996ca658d8bac3a87ff149\", element=\"f532f299-f422-4087-a8c4-c555dbb94cfe\")>,\n",
       " <selenium.webdriver.remote.webelement.WebElement (session=\"b1509320db996ca658d8bac3a87ff149\", element=\"4ccbb678-b582-4287-9a04-a6769950e5af\")>,\n",
       " <selenium.webdriver.remote.webelement.WebElement (session=\"b1509320db996ca658d8bac3a87ff149\", element=\"f11a6472-b5c2-47aa-9c13-dddaa4cff6d1\")>,\n",
       " <selenium.webdriver.remote.webelement.WebElement (session=\"b1509320db996ca658d8bac3a87ff149\", element=\"a3b2c709-e820-444c-a8d1-54a1ea103a06\")>,\n",
       " <selenium.webdriver.remote.webelement.WebElement (session=\"b1509320db996ca658d8bac3a87ff149\", element=\"dc8a7a44-3488-40a1-81df-3e3337b7e1c8\")>,\n",
       " <selenium.webdriver.remote.webelement.WebElement (session=\"b1509320db996ca658d8bac3a87ff149\", element=\"355c76ab-aaef-4780-9fc3-0a3f56a1ce87\")>,\n",
       " <selenium.webdriver.remote.webelement.WebElement (session=\"b1509320db996ca658d8bac3a87ff149\", element=\"349d1521-0e15-4922-992a-cb7e3ff20172\")>,\n",
       " <selenium.webdriver.remote.webelement.WebElement (session=\"b1509320db996ca658d8bac3a87ff149\", element=\"86ac7152-9fc4-4064-9bc6-56fad1b865ae\")>,\n",
       " <selenium.webdriver.remote.webelement.WebElement (session=\"b1509320db996ca658d8bac3a87ff149\", element=\"6c24197d-fcca-4f4f-8798-d6d990ddf12e\")>,\n",
       " <selenium.webdriver.remote.webelement.WebElement (session=\"b1509320db996ca658d8bac3a87ff149\", element=\"5cdd55f6-5729-41d8-a82d-8842053eb832\")>,\n",
       " <selenium.webdriver.remote.webelement.WebElement (session=\"b1509320db996ca658d8bac3a87ff149\", element=\"88d6143b-c8e3-4db0-894e-84707309a9e3\")>,\n",
       " <selenium.webdriver.remote.webelement.WebElement (session=\"b1509320db996ca658d8bac3a87ff149\", element=\"dc804b68-081a-454f-86c0-22e0fb07bad7\")>,\n",
       " <selenium.webdriver.remote.webelement.WebElement (session=\"b1509320db996ca658d8bac3a87ff149\", element=\"ba4e1a93-a94d-4544-8044-f869858a2e29\")>,\n",
       " <selenium.webdriver.remote.webelement.WebElement (session=\"b1509320db996ca658d8bac3a87ff149\", element=\"03a5eb80-e918-4dba-b510-3aed4ff03368\")>,\n",
       " <selenium.webdriver.remote.webelement.WebElement (session=\"b1509320db996ca658d8bac3a87ff149\", element=\"0f207c8a-7b23-4ab1-bfc1-eced475281e2\")>,\n",
       " <selenium.webdriver.remote.webelement.WebElement (session=\"b1509320db996ca658d8bac3a87ff149\", element=\"8210417d-38ae-4d83-99f7-72f7e7e2f220\")>,\n",
       " <selenium.webdriver.remote.webelement.WebElement (session=\"b1509320db996ca658d8bac3a87ff149\", element=\"222f934e-7a72-41f3-855f-3cd150887814\")>,\n",
       " <selenium.webdriver.remote.webelement.WebElement (session=\"b1509320db996ca658d8bac3a87ff149\", element=\"00d1762a-b3db-4d7f-aec4-e6446a828c7a\")>,\n",
       " <selenium.webdriver.remote.webelement.WebElement (session=\"b1509320db996ca658d8bac3a87ff149\", element=\"ad00ce82-7146-4b6b-b251-339b72fd6778\")>,\n",
       " <selenium.webdriver.remote.webelement.WebElement (session=\"b1509320db996ca658d8bac3a87ff149\", element=\"0aaa9f98-6586-450b-8d64-b21bb0539264\")>,\n",
       " <selenium.webdriver.remote.webelement.WebElement (session=\"b1509320db996ca658d8bac3a87ff149\", element=\"38d59545-2d94-47f7-842b-cb80509d41e1\")>]"
      ]
     },
     "execution_count": 42,
     "metadata": {},
     "output_type": "execute_result"
    }
   ],
   "source": [
    "ddiiscount=driver.find_elements_by_xpath('//div[@class=\"_3Ay6Sb\"]')\n",
    "ddiiscount"
   ]
  },
  {
   "cell_type": "code",
   "execution_count": 43,
   "metadata": {},
   "outputs": [
    {
     "data": {
      "text/plain": [
       "['66% off',\n",
       " '77% off',\n",
       " '77% off',\n",
       " '40% off',\n",
       " '80% off',\n",
       " '58% off',\n",
       " '80% off',\n",
       " '51% off',\n",
       " '57% off',\n",
       " '60% off',\n",
       " '80% off',\n",
       " '42% off',\n",
       " '82% off',\n",
       " '58% off',\n",
       " '65% off',\n",
       " '41% off',\n",
       " '80% off',\n",
       " '60% off',\n",
       " '64% off',\n",
       " '41% off',\n",
       " '38% off',\n",
       " '71% off',\n",
       " '75% off',\n",
       " '41% off',\n",
       " '35% off',\n",
       " '70% off',\n",
       " '67% off',\n",
       " '30% off',\n",
       " '65% off',\n",
       " '37% off',\n",
       " '73% off',\n",
       " '48% off',\n",
       " '64% off',\n",
       " '55% off',\n",
       " '76% off',\n",
       " '40% off',\n",
       " '55% off',\n",
       " '80% off',\n",
       " '42% off',\n",
       " '55% off']"
      ]
     },
     "execution_count": 43,
     "metadata": {},
     "output_type": "execute_result"
    }
   ],
   "source": [
    "DDIISCOUNT=[]\n",
    "for i in ddiiscount:\n",
    "    DDIISCOUNT.append(i.text)\n",
    "DDIISCOUNT"
   ]
  },
  {
   "cell_type": "code",
   "execution_count": 44,
   "metadata": {},
   "outputs": [],
   "source": [
    "nnxt=driver.find_element_by_xpath('/html/body/div[1]/div/div[3]/div[1]/div[2]/div[12]/div/div/nav/a[4]')\n",
    "nnxt.click()"
   ]
  },
  {
   "cell_type": "code",
   "execution_count": 47,
   "metadata": {},
   "outputs": [
    {
     "data": {
      "text/plain": [
       "[<selenium.webdriver.remote.webelement.WebElement (session=\"b1509320db996ca658d8bac3a87ff149\", element=\"c44887f5-97b8-48e4-9c10-013101c072ab\")>,\n",
       " <selenium.webdriver.remote.webelement.WebElement (session=\"b1509320db996ca658d8bac3a87ff149\", element=\"a03ee6ee-fc4e-4bea-acf2-8c892d540823\")>,\n",
       " <selenium.webdriver.remote.webelement.WebElement (session=\"b1509320db996ca658d8bac3a87ff149\", element=\"50696eba-c400-4718-889e-87326dd62350\")>,\n",
       " <selenium.webdriver.remote.webelement.WebElement (session=\"b1509320db996ca658d8bac3a87ff149\", element=\"043c3bbb-5dfe-4334-9fcb-e5d2882432bc\")>,\n",
       " <selenium.webdriver.remote.webelement.WebElement (session=\"b1509320db996ca658d8bac3a87ff149\", element=\"b71db8d6-521a-4fbd-9394-d622e44d7b90\")>,\n",
       " <selenium.webdriver.remote.webelement.WebElement (session=\"b1509320db996ca658d8bac3a87ff149\", element=\"f8c45f54-c684-4d7b-a81c-26a4dea45e5f\")>,\n",
       " <selenium.webdriver.remote.webelement.WebElement (session=\"b1509320db996ca658d8bac3a87ff149\", element=\"1375d36b-cdce-460c-b12a-24500b09e305\")>,\n",
       " <selenium.webdriver.remote.webelement.WebElement (session=\"b1509320db996ca658d8bac3a87ff149\", element=\"51de5f53-82c5-4eda-8a6f-ef135929f320\")>,\n",
       " <selenium.webdriver.remote.webelement.WebElement (session=\"b1509320db996ca658d8bac3a87ff149\", element=\"8e5cdb51-2ec3-4932-a133-5e942a95877b\")>,\n",
       " <selenium.webdriver.remote.webelement.WebElement (session=\"b1509320db996ca658d8bac3a87ff149\", element=\"e52dbd24-f412-4e89-aef6-8718f23010f5\")>,\n",
       " <selenium.webdriver.remote.webelement.WebElement (session=\"b1509320db996ca658d8bac3a87ff149\", element=\"634208c5-6d9f-45a3-8a7b-8c7a262344e9\")>,\n",
       " <selenium.webdriver.remote.webelement.WebElement (session=\"b1509320db996ca658d8bac3a87ff149\", element=\"4ae3d4cc-e72e-4202-9f9c-6723bcec8a67\")>,\n",
       " <selenium.webdriver.remote.webelement.WebElement (session=\"b1509320db996ca658d8bac3a87ff149\", element=\"23f27339-7fed-46e5-9100-2d466dec23e0\")>,\n",
       " <selenium.webdriver.remote.webelement.WebElement (session=\"b1509320db996ca658d8bac3a87ff149\", element=\"d3a9e2da-d622-44b0-a649-f8bb12813c60\")>,\n",
       " <selenium.webdriver.remote.webelement.WebElement (session=\"b1509320db996ca658d8bac3a87ff149\", element=\"bf8adbd1-fb6b-4464-a4e5-49abe97903d6\")>,\n",
       " <selenium.webdriver.remote.webelement.WebElement (session=\"b1509320db996ca658d8bac3a87ff149\", element=\"0366a468-08c1-4422-b010-a57cff1a7eed\")>,\n",
       " <selenium.webdriver.remote.webelement.WebElement (session=\"b1509320db996ca658d8bac3a87ff149\", element=\"226c00df-304f-419f-abe0-679f248eba2c\")>,\n",
       " <selenium.webdriver.remote.webelement.WebElement (session=\"b1509320db996ca658d8bac3a87ff149\", element=\"b3561e96-00b4-4b17-842c-40191a2ad355\")>,\n",
       " <selenium.webdriver.remote.webelement.WebElement (session=\"b1509320db996ca658d8bac3a87ff149\", element=\"ff1f8855-507a-410b-94e1-30d0f8ff66d1\")>,\n",
       " <selenium.webdriver.remote.webelement.WebElement (session=\"b1509320db996ca658d8bac3a87ff149\", element=\"a2d0a4f4-517c-4121-9d15-d39212aca690\")>,\n",
       " <selenium.webdriver.remote.webelement.WebElement (session=\"b1509320db996ca658d8bac3a87ff149\", element=\"6159c448-16b4-4c68-a38b-13ca8fed1b01\")>,\n",
       " <selenium.webdriver.remote.webelement.WebElement (session=\"b1509320db996ca658d8bac3a87ff149\", element=\"d1018d6e-5e87-4de4-a30a-4aa3f210e7c4\")>,\n",
       " <selenium.webdriver.remote.webelement.WebElement (session=\"b1509320db996ca658d8bac3a87ff149\", element=\"1dfae301-0672-4a63-9e29-d3281c206e23\")>,\n",
       " <selenium.webdriver.remote.webelement.WebElement (session=\"b1509320db996ca658d8bac3a87ff149\", element=\"71b5795a-a95d-4532-a13b-2af45ab8e2a4\")>,\n",
       " <selenium.webdriver.remote.webelement.WebElement (session=\"b1509320db996ca658d8bac3a87ff149\", element=\"fe3cdcf3-8514-4286-adf7-fb9844d499fd\")>,\n",
       " <selenium.webdriver.remote.webelement.WebElement (session=\"b1509320db996ca658d8bac3a87ff149\", element=\"c19c01bb-4406-4b71-b89f-33608c8bd639\")>,\n",
       " <selenium.webdriver.remote.webelement.WebElement (session=\"b1509320db996ca658d8bac3a87ff149\", element=\"07f43820-d2b0-4bee-8d89-8f3e7684d75c\")>,\n",
       " <selenium.webdriver.remote.webelement.WebElement (session=\"b1509320db996ca658d8bac3a87ff149\", element=\"baf98dac-ee3d-49c8-8fcc-019a9ee74695\")>,\n",
       " <selenium.webdriver.remote.webelement.WebElement (session=\"b1509320db996ca658d8bac3a87ff149\", element=\"b13253cf-0431-49ca-97e8-3468c88fdf4a\")>,\n",
       " <selenium.webdriver.remote.webelement.WebElement (session=\"b1509320db996ca658d8bac3a87ff149\", element=\"86708793-be59-475f-8911-89bb03a41a8e\")>,\n",
       " <selenium.webdriver.remote.webelement.WebElement (session=\"b1509320db996ca658d8bac3a87ff149\", element=\"0fc65adc-7120-41d8-9763-cfcee0201d1d\")>,\n",
       " <selenium.webdriver.remote.webelement.WebElement (session=\"b1509320db996ca658d8bac3a87ff149\", element=\"38f88dbd-6d51-4d63-bf64-205960c4942e\")>,\n",
       " <selenium.webdriver.remote.webelement.WebElement (session=\"b1509320db996ca658d8bac3a87ff149\", element=\"81bda80d-9b79-4e1a-aefa-c11ad01aafaf\")>,\n",
       " <selenium.webdriver.remote.webelement.WebElement (session=\"b1509320db996ca658d8bac3a87ff149\", element=\"03a6d0ef-a85c-4756-9a1b-fe12e6ace9cb\")>,\n",
       " <selenium.webdriver.remote.webelement.WebElement (session=\"b1509320db996ca658d8bac3a87ff149\", element=\"bc46c1dd-7112-48b6-afb6-2f8520bff380\")>,\n",
       " <selenium.webdriver.remote.webelement.WebElement (session=\"b1509320db996ca658d8bac3a87ff149\", element=\"4e01c6c3-d5dd-452b-bc18-86aa4648ad95\")>,\n",
       " <selenium.webdriver.remote.webelement.WebElement (session=\"b1509320db996ca658d8bac3a87ff149\", element=\"b5cf7da9-ed64-4be6-9652-ef8868d537c1\")>,\n",
       " <selenium.webdriver.remote.webelement.WebElement (session=\"b1509320db996ca658d8bac3a87ff149\", element=\"cea54fd3-7c19-445a-aee4-0ee1e578e336\")>,\n",
       " <selenium.webdriver.remote.webelement.WebElement (session=\"b1509320db996ca658d8bac3a87ff149\", element=\"1f80b4d0-ae4f-43cb-a1a7-6148f54e4b27\")>,\n",
       " <selenium.webdriver.remote.webelement.WebElement (session=\"b1509320db996ca658d8bac3a87ff149\", element=\"656ab0fa-7216-4aae-b923-25c39a49f4c4\")>]"
      ]
     },
     "execution_count": 47,
     "metadata": {},
     "output_type": "execute_result"
    }
   ],
   "source": [
    "b=driver.find_elements_by_xpath('//div[@class=\"_2WkVRV\"]')\n",
    "b"
   ]
  },
  {
   "cell_type": "code",
   "execution_count": 62,
   "metadata": {},
   "outputs": [
    {
     "data": {
      "text/plain": [
       "['WHITE WALKERS',\n",
       " 'HOTSTYLE',\n",
       " 'LE GREEM',\n",
       " 'RapidBox',\n",
       " 'Ktiz',\n",
       " 'Noztile',\n",
       " 'Bretton',\n",
       " 'CALCADOS',\n",
       " 'ESSENCE',\n",
       " 'Zorth',\n",
       " 'AMICO',\n",
       " 'BAUCHHAAR',\n",
       " 'Robbie jones',\n",
       " 'EMPTILE',\n",
       " 'Xtoon',\n",
       " 'Extoes',\n",
       " 'RANZAG',\n",
       " 'BIRDE',\n",
       " 'Numenzo',\n",
       " 'EZDEZARIO']"
      ]
     },
     "execution_count": 62,
     "metadata": {},
     "output_type": "execute_result"
    }
   ],
   "source": [
    "B=[]\n",
    "for i in b:\n",
    "    B.append(i.text)\n",
    "B[0:20]"
   ]
  },
  {
   "cell_type": "code",
   "execution_count": 49,
   "metadata": {},
   "outputs": [
    {
     "data": {
      "text/plain": [
       "[<selenium.webdriver.remote.webelement.WebElement (session=\"b1509320db996ca658d8bac3a87ff149\", element=\"4476b299-be81-4d80-900d-3dd435319ed0\")>,\n",
       " <selenium.webdriver.remote.webelement.WebElement (session=\"b1509320db996ca658d8bac3a87ff149\", element=\"b40d7fd5-e1d1-4578-afac-7f0ca9c6440d\")>,\n",
       " <selenium.webdriver.remote.webelement.WebElement (session=\"b1509320db996ca658d8bac3a87ff149\", element=\"420a77cf-6dc9-46eb-ba04-0746c4bd8d04\")>,\n",
       " <selenium.webdriver.remote.webelement.WebElement (session=\"b1509320db996ca658d8bac3a87ff149\", element=\"16b5db0c-900a-45f7-a7aa-ff6c8519ffd2\")>,\n",
       " <selenium.webdriver.remote.webelement.WebElement (session=\"b1509320db996ca658d8bac3a87ff149\", element=\"1303f271-97a6-4645-a306-3a66fb9e1620\")>,\n",
       " <selenium.webdriver.remote.webelement.WebElement (session=\"b1509320db996ca658d8bac3a87ff149\", element=\"4ef512f3-4330-4643-8e34-58a00a7945ce\")>,\n",
       " <selenium.webdriver.remote.webelement.WebElement (session=\"b1509320db996ca658d8bac3a87ff149\", element=\"da0b0c26-f208-4c4e-b52e-afc242e4d0ad\")>,\n",
       " <selenium.webdriver.remote.webelement.WebElement (session=\"b1509320db996ca658d8bac3a87ff149\", element=\"242f4214-f773-4d99-a21c-96e844e52f5a\")>,\n",
       " <selenium.webdriver.remote.webelement.WebElement (session=\"b1509320db996ca658d8bac3a87ff149\", element=\"4b3c0e6d-ab1f-4989-bfa8-4f8bd5abd45a\")>,\n",
       " <selenium.webdriver.remote.webelement.WebElement (session=\"b1509320db996ca658d8bac3a87ff149\", element=\"0cfc959e-160c-4a87-a31a-432517b0a185\")>,\n",
       " <selenium.webdriver.remote.webelement.WebElement (session=\"b1509320db996ca658d8bac3a87ff149\", element=\"5a75ffb4-1c55-4522-ac03-4ea809dca699\")>,\n",
       " <selenium.webdriver.remote.webelement.WebElement (session=\"b1509320db996ca658d8bac3a87ff149\", element=\"cd54039d-455d-404e-97e4-2b8406b4a1f7\")>,\n",
       " <selenium.webdriver.remote.webelement.WebElement (session=\"b1509320db996ca658d8bac3a87ff149\", element=\"8365c552-3666-4b47-9610-1dcfca187c17\")>,\n",
       " <selenium.webdriver.remote.webelement.WebElement (session=\"b1509320db996ca658d8bac3a87ff149\", element=\"756ee301-d928-4281-a496-a6f86fca7ee0\")>,\n",
       " <selenium.webdriver.remote.webelement.WebElement (session=\"b1509320db996ca658d8bac3a87ff149\", element=\"c3ea06cf-e9dd-4b86-aa94-884fec695750\")>,\n",
       " <selenium.webdriver.remote.webelement.WebElement (session=\"b1509320db996ca658d8bac3a87ff149\", element=\"7876d7b1-8964-4e92-a968-0611aaf4d57c\")>,\n",
       " <selenium.webdriver.remote.webelement.WebElement (session=\"b1509320db996ca658d8bac3a87ff149\", element=\"3eda4882-8641-4b6a-8777-5aedce76faf0\")>,\n",
       " <selenium.webdriver.remote.webelement.WebElement (session=\"b1509320db996ca658d8bac3a87ff149\", element=\"f2f00a96-71c2-4ea9-a8ad-5c4dd5b25d1f\")>,\n",
       " <selenium.webdriver.remote.webelement.WebElement (session=\"b1509320db996ca658d8bac3a87ff149\", element=\"5999b404-45d2-498c-843a-e84e81548a41\")>,\n",
       " <selenium.webdriver.remote.webelement.WebElement (session=\"b1509320db996ca658d8bac3a87ff149\", element=\"fb53a1e3-9814-4539-9823-4dcc5d41ad4b\")>,\n",
       " <selenium.webdriver.remote.webelement.WebElement (session=\"b1509320db996ca658d8bac3a87ff149\", element=\"cd7523e4-e144-44d9-a102-687a12044042\")>,\n",
       " <selenium.webdriver.remote.webelement.WebElement (session=\"b1509320db996ca658d8bac3a87ff149\", element=\"61fd3481-1331-4d0f-ae55-439a59c75763\")>,\n",
       " <selenium.webdriver.remote.webelement.WebElement (session=\"b1509320db996ca658d8bac3a87ff149\", element=\"0ea78042-491d-45bb-8fc2-5591b951ca5c\")>,\n",
       " <selenium.webdriver.remote.webelement.WebElement (session=\"b1509320db996ca658d8bac3a87ff149\", element=\"d1968d08-530a-4290-a26a-fd6f770015dc\")>,\n",
       " <selenium.webdriver.remote.webelement.WebElement (session=\"b1509320db996ca658d8bac3a87ff149\", element=\"f0f504c6-2a7d-4d53-824e-9b6b4848dc64\")>,\n",
       " <selenium.webdriver.remote.webelement.WebElement (session=\"b1509320db996ca658d8bac3a87ff149\", element=\"bea521bc-e0e9-4ef6-9d2f-f59174dc7ac0\")>,\n",
       " <selenium.webdriver.remote.webelement.WebElement (session=\"b1509320db996ca658d8bac3a87ff149\", element=\"3f7c349d-faae-4ae0-86a8-0e7dafb3d6f1\")>,\n",
       " <selenium.webdriver.remote.webelement.WebElement (session=\"b1509320db996ca658d8bac3a87ff149\", element=\"91c53fce-e689-439e-9d26-5916e0c3f361\")>,\n",
       " <selenium.webdriver.remote.webelement.WebElement (session=\"b1509320db996ca658d8bac3a87ff149\", element=\"085abe7d-79b5-4c18-a50f-612cf369a735\")>,\n",
       " <selenium.webdriver.remote.webelement.WebElement (session=\"b1509320db996ca658d8bac3a87ff149\", element=\"83932577-66ab-4e7e-b2fa-0571d1de60d4\")>,\n",
       " <selenium.webdriver.remote.webelement.WebElement (session=\"b1509320db996ca658d8bac3a87ff149\", element=\"365602bd-0e8a-46dc-a2e9-673765326cca\")>,\n",
       " <selenium.webdriver.remote.webelement.WebElement (session=\"b1509320db996ca658d8bac3a87ff149\", element=\"8bca256d-61b1-4433-a13e-b9a72424539c\")>,\n",
       " <selenium.webdriver.remote.webelement.WebElement (session=\"b1509320db996ca658d8bac3a87ff149\", element=\"3c58c9ec-2a3b-4c5f-a090-c0b0fb40d3ab\")>]"
      ]
     },
     "execution_count": 49,
     "metadata": {},
     "output_type": "execute_result"
    }
   ],
   "source": [
    "d=driver.find_elements_by_xpath('//a[@class=\"IRpwTa\"]')\n",
    "d"
   ]
  },
  {
   "cell_type": "code",
   "execution_count": 61,
   "metadata": {},
   "outputs": [
    {
     "data": {
      "text/plain": [
       "['Sneakers For Men',\n",
       " 'CR-1 Sneakers For Men',\n",
       " 'Comfortable & Ultra Light Weight Sneaker Sneakers For M...',\n",
       " 'Sneakers For Men',\n",
       " 'Sneakers For Men',\n",
       " 'Combo Pack Of 3 Sneakers For Men',\n",
       " 'Sneakers For Men',\n",
       " 'Sneakers For Men',\n",
       " 'Sneakers For Men',\n",
       " 'sports shoes for men | Latest Stylish Casual sneakers f...',\n",
       " 'Sneakers For Men',\n",
       " 'all white heartbeat casual shoe Sneakers For Men',\n",
       " \"white Casual shoes,Sneakers for men's Sneakers For Men\",\n",
       " 'Running Shoes Stylish Comfortable Shoes For Men Sneaker...',\n",
       " 'Stylish Comfortable Lightweight, Breathable Casual Walk...',\n",
       " 'Sneakers For Men',\n",
       " 'Casual Sneakers Shoes For Men Sneakers For Men Sneakers...',\n",
       " 'Trackracer 2.0 Sneakers For Men',\n",
       " 'Fashion Outdoor Canvas Casual Light Weight Lace-up Even...',\n",
       " 'Sneakers For Men']"
      ]
     },
     "execution_count": 61,
     "metadata": {},
     "output_type": "execute_result"
    }
   ],
   "source": [
    "D=[]\n",
    "for i in d:\n",
    "    D.append(i.text)\n",
    "D[0:20]"
   ]
  },
  {
   "cell_type": "code",
   "execution_count": 51,
   "metadata": {},
   "outputs": [
    {
     "data": {
      "text/plain": [
       "[<selenium.webdriver.remote.webelement.WebElement (session=\"b1509320db996ca658d8bac3a87ff149\", element=\"3afbf493-7103-421f-9f43-68015fdd4f6a\")>,\n",
       " <selenium.webdriver.remote.webelement.WebElement (session=\"b1509320db996ca658d8bac3a87ff149\", element=\"d31131c1-d288-4c53-88aa-ae350afb4820\")>,\n",
       " <selenium.webdriver.remote.webelement.WebElement (session=\"b1509320db996ca658d8bac3a87ff149\", element=\"9d525e4a-dfdc-413d-aab6-cd409ce98717\")>,\n",
       " <selenium.webdriver.remote.webelement.WebElement (session=\"b1509320db996ca658d8bac3a87ff149\", element=\"b85e2d3e-fd71-4836-8c5d-ab6444f35ba2\")>,\n",
       " <selenium.webdriver.remote.webelement.WebElement (session=\"b1509320db996ca658d8bac3a87ff149\", element=\"de91c269-eb8a-4e89-a862-cbad98c85e32\")>,\n",
       " <selenium.webdriver.remote.webelement.WebElement (session=\"b1509320db996ca658d8bac3a87ff149\", element=\"eae05ce5-55fb-4062-b4d8-f4bd89b5e073\")>,\n",
       " <selenium.webdriver.remote.webelement.WebElement (session=\"b1509320db996ca658d8bac3a87ff149\", element=\"84df0e30-cd34-4fa1-85f9-5cdc796eacb3\")>,\n",
       " <selenium.webdriver.remote.webelement.WebElement (session=\"b1509320db996ca658d8bac3a87ff149\", element=\"c2f03098-fc8f-4190-a6a2-9ece1a3e7b4d\")>,\n",
       " <selenium.webdriver.remote.webelement.WebElement (session=\"b1509320db996ca658d8bac3a87ff149\", element=\"54727655-31a3-4d09-9745-19c1549c345a\")>,\n",
       " <selenium.webdriver.remote.webelement.WebElement (session=\"b1509320db996ca658d8bac3a87ff149\", element=\"e4524702-18ce-497f-b6e9-cd0ad69e1981\")>,\n",
       " <selenium.webdriver.remote.webelement.WebElement (session=\"b1509320db996ca658d8bac3a87ff149\", element=\"7fa6d0de-b98a-4699-b22e-0765a3baf069\")>,\n",
       " <selenium.webdriver.remote.webelement.WebElement (session=\"b1509320db996ca658d8bac3a87ff149\", element=\"df515cd7-f729-4e70-add1-184372779188\")>,\n",
       " <selenium.webdriver.remote.webelement.WebElement (session=\"b1509320db996ca658d8bac3a87ff149\", element=\"b41fc352-4ffd-40b3-8193-efb8d0313078\")>,\n",
       " <selenium.webdriver.remote.webelement.WebElement (session=\"b1509320db996ca658d8bac3a87ff149\", element=\"264f3458-9c9d-4217-b0b2-023b1a990ba8\")>,\n",
       " <selenium.webdriver.remote.webelement.WebElement (session=\"b1509320db996ca658d8bac3a87ff149\", element=\"f5b4722d-a341-463f-b009-5072c8c99b97\")>,\n",
       " <selenium.webdriver.remote.webelement.WebElement (session=\"b1509320db996ca658d8bac3a87ff149\", element=\"3f571058-0481-4f47-8fd5-1087c084fb4b\")>,\n",
       " <selenium.webdriver.remote.webelement.WebElement (session=\"b1509320db996ca658d8bac3a87ff149\", element=\"8569af30-aebd-4978-8042-79f43bed9a5d\")>,\n",
       " <selenium.webdriver.remote.webelement.WebElement (session=\"b1509320db996ca658d8bac3a87ff149\", element=\"873ddc70-2685-4f91-9776-15279e12f557\")>,\n",
       " <selenium.webdriver.remote.webelement.WebElement (session=\"b1509320db996ca658d8bac3a87ff149\", element=\"bf6021fa-754a-4632-9b6f-491608e3bcb6\")>,\n",
       " <selenium.webdriver.remote.webelement.WebElement (session=\"b1509320db996ca658d8bac3a87ff149\", element=\"f0085934-f995-4659-8aee-ad9742a5114f\")>,\n",
       " <selenium.webdriver.remote.webelement.WebElement (session=\"b1509320db996ca658d8bac3a87ff149\", element=\"4cbb64f2-31b1-4b35-b3ef-109fc945be2e\")>,\n",
       " <selenium.webdriver.remote.webelement.WebElement (session=\"b1509320db996ca658d8bac3a87ff149\", element=\"79c423d6-f058-4292-a95d-670818629610\")>,\n",
       " <selenium.webdriver.remote.webelement.WebElement (session=\"b1509320db996ca658d8bac3a87ff149\", element=\"18d9c60b-31ff-482f-a345-489a824833da\")>,\n",
       " <selenium.webdriver.remote.webelement.WebElement (session=\"b1509320db996ca658d8bac3a87ff149\", element=\"70d05023-b786-4869-8e04-9461939ab23c\")>,\n",
       " <selenium.webdriver.remote.webelement.WebElement (session=\"b1509320db996ca658d8bac3a87ff149\", element=\"b08a4834-6800-46dd-979e-b3267e6dd6d1\")>,\n",
       " <selenium.webdriver.remote.webelement.WebElement (session=\"b1509320db996ca658d8bac3a87ff149\", element=\"e6fcbd71-6117-425c-9400-68fb563b42f9\")>,\n",
       " <selenium.webdriver.remote.webelement.WebElement (session=\"b1509320db996ca658d8bac3a87ff149\", element=\"10cdb323-ceee-4bc6-95ee-445708b16390\")>,\n",
       " <selenium.webdriver.remote.webelement.WebElement (session=\"b1509320db996ca658d8bac3a87ff149\", element=\"d6dca5c8-887a-4e03-b06a-ced2559782a8\")>,\n",
       " <selenium.webdriver.remote.webelement.WebElement (session=\"b1509320db996ca658d8bac3a87ff149\", element=\"8c66a669-e9f7-4e3f-a582-8d53c2c02cc7\")>,\n",
       " <selenium.webdriver.remote.webelement.WebElement (session=\"b1509320db996ca658d8bac3a87ff149\", element=\"6c941722-76fc-401b-8648-7fe4c2a016a7\")>,\n",
       " <selenium.webdriver.remote.webelement.WebElement (session=\"b1509320db996ca658d8bac3a87ff149\", element=\"001acf8f-b683-4bad-8beb-fb3bc497b546\")>,\n",
       " <selenium.webdriver.remote.webelement.WebElement (session=\"b1509320db996ca658d8bac3a87ff149\", element=\"4ec5da7f-488c-4d7c-93c0-2706ca58addc\")>,\n",
       " <selenium.webdriver.remote.webelement.WebElement (session=\"b1509320db996ca658d8bac3a87ff149\", element=\"59df4cbc-7f44-4122-9a2b-510a539cdcb5\")>,\n",
       " <selenium.webdriver.remote.webelement.WebElement (session=\"b1509320db996ca658d8bac3a87ff149\", element=\"f6515913-fb8a-47ac-988e-82a55964a498\")>,\n",
       " <selenium.webdriver.remote.webelement.WebElement (session=\"b1509320db996ca658d8bac3a87ff149\", element=\"41cce0e4-2e11-4109-9ce2-e868f58598e2\")>,\n",
       " <selenium.webdriver.remote.webelement.WebElement (session=\"b1509320db996ca658d8bac3a87ff149\", element=\"e0838b61-d226-4e64-a149-4cb395f16223\")>,\n",
       " <selenium.webdriver.remote.webelement.WebElement (session=\"b1509320db996ca658d8bac3a87ff149\", element=\"461018e7-b1f5-44d3-9dc3-9dcd7bf0359b\")>,\n",
       " <selenium.webdriver.remote.webelement.WebElement (session=\"b1509320db996ca658d8bac3a87ff149\", element=\"a6505199-2639-4dbd-8905-8f9230b1147f\")>,\n",
       " <selenium.webdriver.remote.webelement.WebElement (session=\"b1509320db996ca658d8bac3a87ff149\", element=\"b49427f1-d5d3-4e3d-8375-5172b9fc6ee6\")>,\n",
       " <selenium.webdriver.remote.webelement.WebElement (session=\"b1509320db996ca658d8bac3a87ff149\", element=\"7a6e57f0-83bb-41a9-8345-c90b5ab64161\")>]"
      ]
     },
     "execution_count": 51,
     "metadata": {},
     "output_type": "execute_result"
    }
   ],
   "source": [
    "p=driver.find_elements_by_xpath('//div[@class=\"_30jeq3\"]')\n",
    "p"
   ]
  },
  {
   "cell_type": "code",
   "execution_count": 60,
   "metadata": {},
   "outputs": [
    {
     "data": {
      "text/plain": [
       "['₹459',\n",
       " '₹202',\n",
       " '₹376',\n",
       " '₹630',\n",
       " '₹419',\n",
       " '₹349',\n",
       " '₹201',\n",
       " '₹649',\n",
       " '₹349',\n",
       " '₹397',\n",
       " '₹499',\n",
       " '₹349',\n",
       " '₹449',\n",
       " '₹347',\n",
       " '₹478',\n",
       " '₹799',\n",
       " '₹349',\n",
       " '₹349',\n",
       " '₹379',\n",
       " '₹349']"
      ]
     },
     "execution_count": 60,
     "metadata": {},
     "output_type": "execute_result"
    }
   ],
   "source": [
    "P=[]\n",
    "for i in p:\n",
    "    P.append(i.text)\n",
    "P[0:20]"
   ]
  },
  {
   "cell_type": "code",
   "execution_count": 58,
   "metadata": {},
   "outputs": [
    {
     "data": {
      "text/plain": [
       "[<selenium.webdriver.remote.webelement.WebElement (session=\"b1509320db996ca658d8bac3a87ff149\", element=\"49bfb901-2041-4604-aba9-9052142d1830\")>,\n",
       " <selenium.webdriver.remote.webelement.WebElement (session=\"b1509320db996ca658d8bac3a87ff149\", element=\"b8927e39-a8da-4aba-8528-b75749025726\")>,\n",
       " <selenium.webdriver.remote.webelement.WebElement (session=\"b1509320db996ca658d8bac3a87ff149\", element=\"0bf8451c-94d7-4c8c-8630-a3c4102d08d9\")>,\n",
       " <selenium.webdriver.remote.webelement.WebElement (session=\"b1509320db996ca658d8bac3a87ff149\", element=\"5ca41f1e-c952-484e-b2ff-9f97d75eb426\")>,\n",
       " <selenium.webdriver.remote.webelement.WebElement (session=\"b1509320db996ca658d8bac3a87ff149\", element=\"5eca9cf7-47e0-454e-b894-1aeb6d027136\")>,\n",
       " <selenium.webdriver.remote.webelement.WebElement (session=\"b1509320db996ca658d8bac3a87ff149\", element=\"e5aa80ad-ae69-4749-842b-b039e96e91e4\")>,\n",
       " <selenium.webdriver.remote.webelement.WebElement (session=\"b1509320db996ca658d8bac3a87ff149\", element=\"3cffb6e2-1efb-4249-9ced-224e8a47a659\")>,\n",
       " <selenium.webdriver.remote.webelement.WebElement (session=\"b1509320db996ca658d8bac3a87ff149\", element=\"c13c8556-54bd-4a74-b123-03d41b5a2698\")>,\n",
       " <selenium.webdriver.remote.webelement.WebElement (session=\"b1509320db996ca658d8bac3a87ff149\", element=\"0b5dd661-318c-4c09-9ce8-f8785d241bb6\")>,\n",
       " <selenium.webdriver.remote.webelement.WebElement (session=\"b1509320db996ca658d8bac3a87ff149\", element=\"e9c23fa0-304b-438f-8399-a46ce9a5a512\")>,\n",
       " <selenium.webdriver.remote.webelement.WebElement (session=\"b1509320db996ca658d8bac3a87ff149\", element=\"3666cf1a-bcc1-4a69-81b7-66bacd6ccdcb\")>,\n",
       " <selenium.webdriver.remote.webelement.WebElement (session=\"b1509320db996ca658d8bac3a87ff149\", element=\"a49db2f8-b5ee-4e83-9d97-9520c0fdeea8\")>,\n",
       " <selenium.webdriver.remote.webelement.WebElement (session=\"b1509320db996ca658d8bac3a87ff149\", element=\"ad9a064e-8464-49ed-ab4c-ff0d4e4b0c2d\")>,\n",
       " <selenium.webdriver.remote.webelement.WebElement (session=\"b1509320db996ca658d8bac3a87ff149\", element=\"656082ff-0b08-4033-9ef6-38ec5ed2cfeb\")>,\n",
       " <selenium.webdriver.remote.webelement.WebElement (session=\"b1509320db996ca658d8bac3a87ff149\", element=\"634879d3-c6f8-447c-8425-fcbc5e802e0b\")>,\n",
       " <selenium.webdriver.remote.webelement.WebElement (session=\"b1509320db996ca658d8bac3a87ff149\", element=\"2aeae13a-8a64-407e-80a8-fe0f44581dec\")>,\n",
       " <selenium.webdriver.remote.webelement.WebElement (session=\"b1509320db996ca658d8bac3a87ff149\", element=\"5f48723b-0020-4905-899e-cc09c3e1ec6a\")>,\n",
       " <selenium.webdriver.remote.webelement.WebElement (session=\"b1509320db996ca658d8bac3a87ff149\", element=\"a4296b8b-16ba-4a3d-8559-3e74eabbd7f6\")>,\n",
       " <selenium.webdriver.remote.webelement.WebElement (session=\"b1509320db996ca658d8bac3a87ff149\", element=\"d45bba1d-b829-4c4a-bc93-a7cbb501ae4b\")>,\n",
       " <selenium.webdriver.remote.webelement.WebElement (session=\"b1509320db996ca658d8bac3a87ff149\", element=\"1486a8fb-0280-49d2-9d20-749abd09375c\")>,\n",
       " <selenium.webdriver.remote.webelement.WebElement (session=\"b1509320db996ca658d8bac3a87ff149\", element=\"28460a0e-d42e-47e9-9812-10e4976e0e5c\")>,\n",
       " <selenium.webdriver.remote.webelement.WebElement (session=\"b1509320db996ca658d8bac3a87ff149\", element=\"698664af-baf3-4d80-aa9c-74847ede060b\")>,\n",
       " <selenium.webdriver.remote.webelement.WebElement (session=\"b1509320db996ca658d8bac3a87ff149\", element=\"8737aae3-b590-43e9-9dc6-2d017127b48f\")>,\n",
       " <selenium.webdriver.remote.webelement.WebElement (session=\"b1509320db996ca658d8bac3a87ff149\", element=\"4118fe3c-1884-496f-aeff-76d02936dcc9\")>,\n",
       " <selenium.webdriver.remote.webelement.WebElement (session=\"b1509320db996ca658d8bac3a87ff149\", element=\"a98f717f-ea55-49e6-a395-567a2d4752d4\")>,\n",
       " <selenium.webdriver.remote.webelement.WebElement (session=\"b1509320db996ca658d8bac3a87ff149\", element=\"75e84db7-d53b-4498-ab15-a0d45df47ba4\")>,\n",
       " <selenium.webdriver.remote.webelement.WebElement (session=\"b1509320db996ca658d8bac3a87ff149\", element=\"71ce7641-0919-47b4-8167-306a47378bd6\")>,\n",
       " <selenium.webdriver.remote.webelement.WebElement (session=\"b1509320db996ca658d8bac3a87ff149\", element=\"b021f595-1682-40ee-93a2-b9199b534cbe\")>,\n",
       " <selenium.webdriver.remote.webelement.WebElement (session=\"b1509320db996ca658d8bac3a87ff149\", element=\"aac88ae2-df97-4b97-87ce-49977b53dbf1\")>,\n",
       " <selenium.webdriver.remote.webelement.WebElement (session=\"b1509320db996ca658d8bac3a87ff149\", element=\"afc453fb-2ac7-4acb-b650-f1bf369d3588\")>,\n",
       " <selenium.webdriver.remote.webelement.WebElement (session=\"b1509320db996ca658d8bac3a87ff149\", element=\"0a8da742-f9cb-4875-8506-fd7902910e9e\")>,\n",
       " <selenium.webdriver.remote.webelement.WebElement (session=\"b1509320db996ca658d8bac3a87ff149\", element=\"68133395-0a8b-4803-afb2-cb01e45e72a6\")>,\n",
       " <selenium.webdriver.remote.webelement.WebElement (session=\"b1509320db996ca658d8bac3a87ff149\", element=\"50fc42d4-c28a-48f5-bfac-4785f6b237fc\")>,\n",
       " <selenium.webdriver.remote.webelement.WebElement (session=\"b1509320db996ca658d8bac3a87ff149\", element=\"eb11f749-b7d8-4643-8406-cfcc4d5e719e\")>,\n",
       " <selenium.webdriver.remote.webelement.WebElement (session=\"b1509320db996ca658d8bac3a87ff149\", element=\"03761415-8d49-4502-b761-6e7361a99692\")>,\n",
       " <selenium.webdriver.remote.webelement.WebElement (session=\"b1509320db996ca658d8bac3a87ff149\", element=\"43f807ce-3d50-4e1c-821a-5844eef8c3ce\")>,\n",
       " <selenium.webdriver.remote.webelement.WebElement (session=\"b1509320db996ca658d8bac3a87ff149\", element=\"0cb14e82-b828-486f-b6c8-b06652a6bab5\")>,\n",
       " <selenium.webdriver.remote.webelement.WebElement (session=\"b1509320db996ca658d8bac3a87ff149\", element=\"ca619cbc-fe2c-4e0b-858d-950a690c9ec0\")>,\n",
       " <selenium.webdriver.remote.webelement.WebElement (session=\"b1509320db996ca658d8bac3a87ff149\", element=\"87a51d6a-f7c9-47a3-9992-a649a6908f2e\")>,\n",
       " <selenium.webdriver.remote.webelement.WebElement (session=\"b1509320db996ca658d8bac3a87ff149\", element=\"de862874-752d-410e-8619-54521b54626d\")>]"
      ]
     },
     "execution_count": 58,
     "metadata": {},
     "output_type": "execute_result"
    }
   ],
   "source": [
    "di=driver.find_elements_by_xpath('//div[@class=\"_3Ay6Sb\"]')\n",
    "di"
   ]
  },
  {
   "cell_type": "code",
   "execution_count": 59,
   "metadata": {},
   "outputs": [
    {
     "data": {
      "text/plain": [
       "['61% off',\n",
       " '59% off',\n",
       " '62% off',\n",
       " '36% off',\n",
       " '58% off',\n",
       " '82% off',\n",
       " '89% off',\n",
       " '56% off',\n",
       " '65% off',\n",
       " '60% off',\n",
       " '50% off',\n",
       " '65% off',\n",
       " '55% off',\n",
       " '65% off',\n",
       " '52% off',\n",
       " '46% off',\n",
       " '65% off',\n",
       " '65% off',\n",
       " '70% off',\n",
       " '65% off']"
      ]
     },
     "execution_count": 59,
     "metadata": {},
     "output_type": "execute_result"
    }
   ],
   "source": [
    "DI=[]\n",
    "for i in di:\n",
    "    DI.append(i.text)\n",
    "DI[0:20]"
   ]
  },
  {
   "cell_type": "markdown",
   "metadata": {},
   "source": [
    "# ANS.8-"
   ]
  },
  {
   "cell_type": "code",
   "execution_count": 97,
   "metadata": {},
   "outputs": [],
   "source": [
    "uurrl=\"https://www.amazon.in/?&ext_vrnc=hi&tag=googhydrabk1-21&ref=pd_sl_5szpgfto9i_e&adgrpid=58075519359&hvpone=&hvptwo=&hvadid=486462454211&hvpos=&hvnetw=g&hvrand=5246149860240376260&hvqmt=e&hvdev=c&hvdvcmdl=&hvlocint=&hvlocphy=9299271&hvtargid=kwd-64107830&hydadcr=14452_2154371&gclid=Cj0KCQjw3IqSBhCoARIsAMBkTb2bvPWY1iJhnMTe1w8l-rH-ZyUGKz-xUPO-YPJ19bzWgy_JgvFYybQaAvZlEALw_wcB\"\n",
    "driver.get(uurrl)"
   ]
  },
  {
   "cell_type": "code",
   "execution_count": 98,
   "metadata": {},
   "outputs": [
    {
     "data": {
      "text/plain": [
       "<selenium.webdriver.remote.webelement.WebElement (session=\"b1509320db996ca658d8bac3a87ff149\", element=\"70287b26-8e9e-4d87-8b28-5c55afb2becf\")>"
      ]
     },
     "execution_count": 98,
     "metadata": {},
     "output_type": "execute_result"
    }
   ],
   "source": [
    "lptop=driver.find_element_by_xpath(\"/html/body/div[1]/header/div/div[1]/div[2]/div/form/div[2]/div[1]/input\")\n",
    "lptp"
   ]
  },
  {
   "cell_type": "code",
   "execution_count": 99,
   "metadata": {},
   "outputs": [],
   "source": [
    "lptop.send_keys(\"LAPTOP\")"
   ]
  },
  {
   "cell_type": "code",
   "execution_count": 100,
   "metadata": {},
   "outputs": [
    {
     "data": {
      "text/plain": [
       "<selenium.webdriver.remote.webelement.WebElement (session=\"b1509320db996ca658d8bac3a87ff149\", element=\"003b35eb-7738-43c4-aaf1-a146d9783361\")>"
      ]
     },
     "execution_count": 100,
     "metadata": {},
     "output_type": "execute_result"
    }
   ],
   "source": [
    "srchbutn=driver.find_element_by_xpath('/html/body/div[1]/header/div/div[1]/div[2]/div/form/div[3]/div/span/input')\n",
    "srchbtn"
   ]
  },
  {
   "cell_type": "code",
   "execution_count": 101,
   "metadata": {},
   "outputs": [],
   "source": [
    "srchbutn.click()"
   ]
  },
  {
   "cell_type": "code",
   "execution_count": 108,
   "metadata": {},
   "outputs": [],
   "source": [
    "cpu1=driver.find_element_by_xpath('//span[@class=\"a-size-small a-color-base\"]')\n",
    "cpu1.click()"
   ]
  },
  {
   "cell_type": "code",
   "execution_count": 109,
   "metadata": {},
   "outputs": [
    {
     "data": {
      "text/plain": [
       "[<selenium.webdriver.remote.webelement.WebElement (session=\"b1509320db996ca658d8bac3a87ff149\", element=\"e583578b-3136-4c18-b9d7-82dbd7be2fe4\")>,\n",
       " <selenium.webdriver.remote.webelement.WebElement (session=\"b1509320db996ca658d8bac3a87ff149\", element=\"6ac3011c-9f51-41dd-b2b2-d199eef12e3a\")>,\n",
       " <selenium.webdriver.remote.webelement.WebElement (session=\"b1509320db996ca658d8bac3a87ff149\", element=\"2bb3042d-42de-4757-98de-73be2cab3987\")>,\n",
       " <selenium.webdriver.remote.webelement.WebElement (session=\"b1509320db996ca658d8bac3a87ff149\", element=\"11a7ebe0-c188-4b45-867a-0d618ab2c7cd\")>,\n",
       " <selenium.webdriver.remote.webelement.WebElement (session=\"b1509320db996ca658d8bac3a87ff149\", element=\"901232dd-1f27-4445-adb6-5302e3625ca5\")>,\n",
       " <selenium.webdriver.remote.webelement.WebElement (session=\"b1509320db996ca658d8bac3a87ff149\", element=\"a092b618-b2c0-4806-b053-7d62ae7fc813\")>,\n",
       " <selenium.webdriver.remote.webelement.WebElement (session=\"b1509320db996ca658d8bac3a87ff149\", element=\"55675e6e-b5d1-4cb2-b9ef-7f58458a5952\")>,\n",
       " <selenium.webdriver.remote.webelement.WebElement (session=\"b1509320db996ca658d8bac3a87ff149\", element=\"3cc0dea7-cfb5-4541-b555-5b2bd64bf972\")>,\n",
       " <selenium.webdriver.remote.webelement.WebElement (session=\"b1509320db996ca658d8bac3a87ff149\", element=\"5dd9eec6-253f-4067-858e-777e88634d4d\")>,\n",
       " <selenium.webdriver.remote.webelement.WebElement (session=\"b1509320db996ca658d8bac3a87ff149\", element=\"46591ef6-b100-40c7-936c-c7ae8304a3b4\")>,\n",
       " <selenium.webdriver.remote.webelement.WebElement (session=\"b1509320db996ca658d8bac3a87ff149\", element=\"511aebd4-ee77-41b2-96ea-d9337074691e\")>,\n",
       " <selenium.webdriver.remote.webelement.WebElement (session=\"b1509320db996ca658d8bac3a87ff149\", element=\"b36fe2fe-ecea-4804-bfd5-f49c41ae724f\")>,\n",
       " <selenium.webdriver.remote.webelement.WebElement (session=\"b1509320db996ca658d8bac3a87ff149\", element=\"97a5e8e1-0dae-422d-86a7-4c5a7c015d93\")>,\n",
       " <selenium.webdriver.remote.webelement.WebElement (session=\"b1509320db996ca658d8bac3a87ff149\", element=\"ea6ecbb7-0936-4bb2-8d0c-8eb0057610dd\")>,\n",
       " <selenium.webdriver.remote.webelement.WebElement (session=\"b1509320db996ca658d8bac3a87ff149\", element=\"bdaea7a9-ff68-48dc-9b82-1c085f3da9bf\")>,\n",
       " <selenium.webdriver.remote.webelement.WebElement (session=\"b1509320db996ca658d8bac3a87ff149\", element=\"9a54b929-8cea-42ee-b395-a25513094b45\")>]"
      ]
     },
     "execution_count": 109,
     "metadata": {},
     "output_type": "execute_result"
    }
   ],
   "source": [
    "ttl=driver.find_elements_by_xpath('//div[@class=\"a-section a-spacing-none s-padding-right-small s-title-instructions-style\"]')\n",
    "ttl"
   ]
  },
  {
   "cell_type": "code",
   "execution_count": 111,
   "metadata": {},
   "outputs": [
    {
     "data": {
      "text/plain": [
       "['ASUS TUF Gaming A15 (2021) 15.6-inch (39.62 cms) FHD 144Hz, AMD Ryzen 7 4800H, RTX 3050 4GB Graphics, Gaming Laptop (8GB/512GB SSD/Windows 10/Black/2.3 Kg), FA506IC-HN005T, Graphite Black',\n",
       " 'ASUS VivoBook 14 (2021), 14-inch (35.56 cm) HD, Intel Pentium Silver N6000 Quad Core, Thin and Light Laptop (8GB/256GB SSD/Office 2021/Windows 11/Integrated Graphics/Silver/1.5 kg), X415KA-BV121WS',\n",
       " 'Lenovo IdeaPad Slim 5 11th Gen Intel Core i5 15.6\"(39.62cm) FHD IPS Thin & Light Laptop (16GB/512GB SSD/Windows 11/MS Office 2021/Backlit Keyboard/Fingerprint Reader/Graphite Grey/1.66Kg), 82FG01H9IN',\n",
       " \"Dell New Vostro 3405 Laptop AMD Ryzen 3-3250U 14 inches FHD Display, 8GB DDR4, 512GB SSD, Windows 11 + MS Office'21, Radeon Graphics, Black (D552235WIN9B), 1.59Kgs\",\n",
       " 'HP 15 AMD Ryzen 3 3250U 15.6 inches FHD Thin and Light Laptop (8GB RAM/256GB SSD /Windows 11 Ready /Radeon Graphics/MS Office/1.69 kg), 15s-gy0501AU',\n",
       " 'ASUS VivoBook 14 (2021) Intel Core i3-1005G1 10th Gen 14 inches FHD Thin and Light Laptop (8GB/512GB SSD + 32GB Optane/Integrated Graphics/Office 2021/Windows 11/Silver/1.6Kg) X415JA-EK562WS',\n",
       " 'HP 14s 11th Gen Intel Core i3- 8GB RAM/256GB SSD 14 inch(35.6cm) FHD,Micro-Edge,Anti-Glare,IPS Display/UHD Graphics/ Win 11/ MS Office/ Alexa Built-in/ 1.46kg/ Natural Silver - 14s-dy2506TU',\n",
       " 'MSI Modern 14, AMD Ryzen 5-5500U, 14\" FHD IPS-Level Panel Laptop (8GB/256GB NVMe SSD/Windows 10 Home/Radeon Graphics/Carbon Grey/1.3Kg), B5M-045IN',\n",
       " 'Dell New Inspiron 5418 Laptop Intel i5-11320H, 16GB DDR4, 512Gb SSD, Win 11 + MS Office\\'21, 14\" (35.56 cms) FHD 250 Nits Display, Platinum Silver, FPR + Backlit KB (D560633WIN9S), 1.46Kgs',\n",
       " 'ASUS TUF Gaming F15 (2021), 15.6-inch (39.62 cms) FHD 144Hz, Intel Core i5-11400H 11th Gen, GeForce RTX 3060 6GB Graphics, Gaming Laptop(16GB/512GB SSDWindows 10/Gray/2.3 Kg), FX566HM-HN104T']"
      ]
     },
     "execution_count": 111,
     "metadata": {},
     "output_type": "execute_result"
    }
   ],
   "source": [
    "TTL=[]\n",
    "for i in ttl:\n",
    "    TTL.append(i.text)\n",
    "TTL[0:10]"
   ]
  },
  {
   "cell_type": "code",
   "execution_count": 114,
   "metadata": {},
   "outputs": [
    {
     "data": {
      "text/plain": [
       "[<selenium.webdriver.remote.webelement.WebElement (session=\"b1509320db996ca658d8bac3a87ff149\", element=\"b6fd4589-5b20-46a8-b4c1-6e82b0687e6e\")>,\n",
       " <selenium.webdriver.remote.webelement.WebElement (session=\"b1509320db996ca658d8bac3a87ff149\", element=\"710dda23-ad27-4214-98b4-e6f832f624e9\")>,\n",
       " <selenium.webdriver.remote.webelement.WebElement (session=\"b1509320db996ca658d8bac3a87ff149\", element=\"61a7a5f7-5d5c-4b49-9edd-1a07da9fa100\")>,\n",
       " <selenium.webdriver.remote.webelement.WebElement (session=\"b1509320db996ca658d8bac3a87ff149\", element=\"8bbbf762-42a7-45d7-aced-dd44e1435c38\")>,\n",
       " <selenium.webdriver.remote.webelement.WebElement (session=\"b1509320db996ca658d8bac3a87ff149\", element=\"1a6ae09c-4858-4ec4-9c72-2da8ff9baef1\")>,\n",
       " <selenium.webdriver.remote.webelement.WebElement (session=\"b1509320db996ca658d8bac3a87ff149\", element=\"ad6ca4e8-38cf-4210-8f0b-3d0e58e677cd\")>,\n",
       " <selenium.webdriver.remote.webelement.WebElement (session=\"b1509320db996ca658d8bac3a87ff149\", element=\"e0d0610c-f4fe-447c-8fe8-d500c62bd20c\")>,\n",
       " <selenium.webdriver.remote.webelement.WebElement (session=\"b1509320db996ca658d8bac3a87ff149\", element=\"ac6fb992-202b-4b1c-b5c6-3b076bb2c407\")>,\n",
       " <selenium.webdriver.remote.webelement.WebElement (session=\"b1509320db996ca658d8bac3a87ff149\", element=\"62cab418-a6f5-4794-9e87-6aebcee99a88\")>,\n",
       " <selenium.webdriver.remote.webelement.WebElement (session=\"b1509320db996ca658d8bac3a87ff149\", element=\"3d1c41a6-2de0-4c7d-8ba5-6f3ef90f4b26\")>,\n",
       " <selenium.webdriver.remote.webelement.WebElement (session=\"b1509320db996ca658d8bac3a87ff149\", element=\"25f3ca50-b577-472d-957b-2a8c97e45d6d\")>,\n",
       " <selenium.webdriver.remote.webelement.WebElement (session=\"b1509320db996ca658d8bac3a87ff149\", element=\"b989000a-651c-4207-90ec-ad82c6711125\")>,\n",
       " <selenium.webdriver.remote.webelement.WebElement (session=\"b1509320db996ca658d8bac3a87ff149\", element=\"4abe5122-2f21-417b-b9ba-d682fc93d26b\")>,\n",
       " <selenium.webdriver.remote.webelement.WebElement (session=\"b1509320db996ca658d8bac3a87ff149\", element=\"a7a52589-fdac-4c1e-993d-5572c28035b4\")>,\n",
       " <selenium.webdriver.remote.webelement.WebElement (session=\"b1509320db996ca658d8bac3a87ff149\", element=\"924b9d1d-bf4d-4d83-91e4-ccbbfd8d9143\")>,\n",
       " <selenium.webdriver.remote.webelement.WebElement (session=\"b1509320db996ca658d8bac3a87ff149\", element=\"3e1ebc8c-2164-4b37-bc5a-4709cc1baa01\")>,\n",
       " <selenium.webdriver.remote.webelement.WebElement (session=\"b1509320db996ca658d8bac3a87ff149\", element=\"2bb96171-fc0a-4710-84ca-48f137c77bc0\")>,\n",
       " <selenium.webdriver.remote.webelement.WebElement (session=\"b1509320db996ca658d8bac3a87ff149\", element=\"2104d4a2-8450-4dd0-ac67-49841075d399\")>,\n",
       " <selenium.webdriver.remote.webelement.WebElement (session=\"b1509320db996ca658d8bac3a87ff149\", element=\"f048a2d5-07ba-4ee8-b77e-23d617c2e7d3\")>,\n",
       " <selenium.webdriver.remote.webelement.WebElement (session=\"b1509320db996ca658d8bac3a87ff149\", element=\"bbba3c9e-0818-4700-b1a5-9442aa4b7248\")>,\n",
       " <selenium.webdriver.remote.webelement.WebElement (session=\"b1509320db996ca658d8bac3a87ff149\", element=\"0a7bbcaa-fac5-4c42-9d9b-eaf5ad4530a6\")>,\n",
       " <selenium.webdriver.remote.webelement.WebElement (session=\"b1509320db996ca658d8bac3a87ff149\", element=\"667a59ac-fde5-4478-b8fc-e221f1daac3e\")>]"
      ]
     },
     "execution_count": 114,
     "metadata": {},
     "output_type": "execute_result"
    }
   ],
   "source": [
    "rrtng=driver.find_elements_by_xpath('//span[@class=\"a-icon-alt\"]')\n",
    "rrtng"
   ]
  },
  {
   "cell_type": "code",
   "execution_count": 116,
   "metadata": {},
   "outputs": [
    {
     "data": {
      "text/plain": [
       "['', '', '', '', '', '', '', '', '', '']"
      ]
     },
     "execution_count": 116,
     "metadata": {},
     "output_type": "execute_result"
    }
   ],
   "source": [
    "RRTNG=[]\n",
    "for i in rrtng:\n",
    "    RRTNG.append(i.text)\n",
    "RRTNG[0:10]"
   ]
  },
  {
   "cell_type": "code",
   "execution_count": 117,
   "metadata": {},
   "outputs": [
    {
     "data": {
      "text/plain": [
       "[<selenium.webdriver.remote.webelement.WebElement (session=\"b1509320db996ca658d8bac3a87ff149\", element=\"0816ab2b-1911-4a5a-b88f-d2561009f1fd\")>,\n",
       " <selenium.webdriver.remote.webelement.WebElement (session=\"b1509320db996ca658d8bac3a87ff149\", element=\"fca880dc-9fcd-4fd6-a5db-7db8f503d584\")>,\n",
       " <selenium.webdriver.remote.webelement.WebElement (session=\"b1509320db996ca658d8bac3a87ff149\", element=\"28c516cb-606f-465e-a783-bd9c850da81e\")>,\n",
       " <selenium.webdriver.remote.webelement.WebElement (session=\"b1509320db996ca658d8bac3a87ff149\", element=\"554e6feb-bbcd-4ca7-8778-64452101cc26\")>,\n",
       " <selenium.webdriver.remote.webelement.WebElement (session=\"b1509320db996ca658d8bac3a87ff149\", element=\"202bf5e4-733f-400f-b1a9-e3f20ed275ad\")>,\n",
       " <selenium.webdriver.remote.webelement.WebElement (session=\"b1509320db996ca658d8bac3a87ff149\", element=\"904298a3-4805-4298-8ab9-fe625e9981a7\")>,\n",
       " <selenium.webdriver.remote.webelement.WebElement (session=\"b1509320db996ca658d8bac3a87ff149\", element=\"5b86e8e1-a9e7-4526-a1d4-fc20b544e597\")>,\n",
       " <selenium.webdriver.remote.webelement.WebElement (session=\"b1509320db996ca658d8bac3a87ff149\", element=\"ce71c689-53b4-4bac-b461-0e0fdd3a619a\")>,\n",
       " <selenium.webdriver.remote.webelement.WebElement (session=\"b1509320db996ca658d8bac3a87ff149\", element=\"78c517b1-0049-42df-92a9-986a0c23a901\")>,\n",
       " <selenium.webdriver.remote.webelement.WebElement (session=\"b1509320db996ca658d8bac3a87ff149\", element=\"109ca3cc-cd28-45ba-be0d-206fd1be67f1\")>,\n",
       " <selenium.webdriver.remote.webelement.WebElement (session=\"b1509320db996ca658d8bac3a87ff149\", element=\"b88a21b3-4008-4fe2-a845-77ec5c3fe698\")>,\n",
       " <selenium.webdriver.remote.webelement.WebElement (session=\"b1509320db996ca658d8bac3a87ff149\", element=\"e5db9a4a-d2c8-410a-93fc-1672410b9bc9\")>,\n",
       " <selenium.webdriver.remote.webelement.WebElement (session=\"b1509320db996ca658d8bac3a87ff149\", element=\"0244f3f2-8b0b-4dc5-ae11-136c71eba26a\")>,\n",
       " <selenium.webdriver.remote.webelement.WebElement (session=\"b1509320db996ca658d8bac3a87ff149\", element=\"443528e8-3b71-4eaa-9a6f-cd0d2ce27303\")>,\n",
       " <selenium.webdriver.remote.webelement.WebElement (session=\"b1509320db996ca658d8bac3a87ff149\", element=\"74d9693e-106e-4b47-b1e9-57a688fbcbcb\")>,\n",
       " <selenium.webdriver.remote.webelement.WebElement (session=\"b1509320db996ca658d8bac3a87ff149\", element=\"a88d9e37-d287-4fbc-9029-feaf4f57e0b2\")>]"
      ]
     },
     "execution_count": 117,
     "metadata": {},
     "output_type": "execute_result"
    }
   ],
   "source": [
    "pc=driver.find_elements_by_xpath('//span[@class=\"a-price-whole\"]')\n",
    "pc"
   ]
  },
  {
   "cell_type": "code",
   "execution_count": 118,
   "metadata": {},
   "outputs": [
    {
     "data": {
      "text/plain": [
       "['74,990',\n",
       " '31,990',\n",
       " '62,490',\n",
       " '38,490',\n",
       " '38,990',\n",
       " '40,990',\n",
       " '39,900',\n",
       " '45,990',\n",
       " '67,573',\n",
       " '89,990']"
      ]
     },
     "execution_count": 118,
     "metadata": {},
     "output_type": "execute_result"
    }
   ],
   "source": [
    "PC=[]\n",
    "for i in pc:\n",
    "    PC.append(i.text)\n",
    "PC[0:10]"
   ]
  },
  {
   "cell_type": "code",
   "execution_count": null,
   "metadata": {},
   "outputs": [],
   "source": []
  },
  {
   "cell_type": "code",
   "execution_count": null,
   "metadata": {},
   "outputs": [],
   "source": []
  },
  {
   "cell_type": "code",
   "execution_count": null,
   "metadata": {},
   "outputs": [],
   "source": []
  },
  {
   "cell_type": "code",
   "execution_count": null,
   "metadata": {},
   "outputs": [],
   "source": []
  },
  {
   "cell_type": "code",
   "execution_count": null,
   "metadata": {},
   "outputs": [],
   "source": []
  },
  {
   "cell_type": "code",
   "execution_count": null,
   "metadata": {},
   "outputs": [],
   "source": []
  },
  {
   "cell_type": "code",
   "execution_count": null,
   "metadata": {},
   "outputs": [],
   "source": []
  },
  {
   "cell_type": "code",
   "execution_count": null,
   "metadata": {},
   "outputs": [],
   "source": []
  },
  {
   "cell_type": "code",
   "execution_count": null,
   "metadata": {},
   "outputs": [],
   "source": []
  },
  {
   "cell_type": "code",
   "execution_count": null,
   "metadata": {},
   "outputs": [],
   "source": []
  },
  {
   "cell_type": "code",
   "execution_count": null,
   "metadata": {},
   "outputs": [],
   "source": []
  },
  {
   "cell_type": "code",
   "execution_count": null,
   "metadata": {},
   "outputs": [],
   "source": []
  },
  {
   "cell_type": "code",
   "execution_count": null,
   "metadata": {},
   "outputs": [],
   "source": []
  },
  {
   "cell_type": "code",
   "execution_count": null,
   "metadata": {},
   "outputs": [],
   "source": []
  },
  {
   "cell_type": "code",
   "execution_count": null,
   "metadata": {},
   "outputs": [],
   "source": []
  },
  {
   "cell_type": "code",
   "execution_count": null,
   "metadata": {},
   "outputs": [],
   "source": []
  },
  {
   "cell_type": "code",
   "execution_count": null,
   "metadata": {},
   "outputs": [],
   "source": []
  },
  {
   "cell_type": "code",
   "execution_count": null,
   "metadata": {},
   "outputs": [],
   "source": []
  },
  {
   "cell_type": "code",
   "execution_count": null,
   "metadata": {},
   "outputs": [],
   "source": []
  },
  {
   "cell_type": "code",
   "execution_count": null,
   "metadata": {},
   "outputs": [],
   "source": []
  },
  {
   "cell_type": "code",
   "execution_count": null,
   "metadata": {},
   "outputs": [],
   "source": []
  },
  {
   "cell_type": "code",
   "execution_count": null,
   "metadata": {},
   "outputs": [],
   "source": []
  },
  {
   "cell_type": "code",
   "execution_count": null,
   "metadata": {},
   "outputs": [],
   "source": []
  },
  {
   "cell_type": "code",
   "execution_count": null,
   "metadata": {},
   "outputs": [],
   "source": []
  },
  {
   "cell_type": "code",
   "execution_count": null,
   "metadata": {},
   "outputs": [],
   "source": []
  },
  {
   "cell_type": "code",
   "execution_count": null,
   "metadata": {},
   "outputs": [],
   "source": []
  },
  {
   "cell_type": "code",
   "execution_count": null,
   "metadata": {},
   "outputs": [],
   "source": []
  },
  {
   "cell_type": "code",
   "execution_count": null,
   "metadata": {},
   "outputs": [],
   "source": []
  },
  {
   "cell_type": "code",
   "execution_count": null,
   "metadata": {},
   "outputs": [],
   "source": []
  },
  {
   "cell_type": "code",
   "execution_count": null,
   "metadata": {},
   "outputs": [],
   "source": []
  },
  {
   "cell_type": "code",
   "execution_count": null,
   "metadata": {},
   "outputs": [],
   "source": []
  },
  {
   "cell_type": "code",
   "execution_count": null,
   "metadata": {},
   "outputs": [],
   "source": []
  },
  {
   "cell_type": "code",
   "execution_count": null,
   "metadata": {},
   "outputs": [],
   "source": []
  },
  {
   "cell_type": "code",
   "execution_count": null,
   "metadata": {},
   "outputs": [],
   "source": []
  },
  {
   "cell_type": "code",
   "execution_count": null,
   "metadata": {},
   "outputs": [],
   "source": []
  },
  {
   "cell_type": "code",
   "execution_count": null,
   "metadata": {},
   "outputs": [],
   "source": []
  },
  {
   "cell_type": "code",
   "execution_count": null,
   "metadata": {},
   "outputs": [],
   "source": []
  },
  {
   "cell_type": "code",
   "execution_count": null,
   "metadata": {},
   "outputs": [],
   "source": []
  },
  {
   "cell_type": "code",
   "execution_count": null,
   "metadata": {},
   "outputs": [],
   "source": []
  },
  {
   "cell_type": "code",
   "execution_count": null,
   "metadata": {},
   "outputs": [],
   "source": []
  },
  {
   "cell_type": "code",
   "execution_count": null,
   "metadata": {},
   "outputs": [],
   "source": []
  },
  {
   "cell_type": "code",
   "execution_count": null,
   "metadata": {},
   "outputs": [],
   "source": []
  },
  {
   "cell_type": "code",
   "execution_count": null,
   "metadata": {},
   "outputs": [],
   "source": []
  },
  {
   "cell_type": "code",
   "execution_count": null,
   "metadata": {},
   "outputs": [],
   "source": []
  },
  {
   "cell_type": "code",
   "execution_count": null,
   "metadata": {},
   "outputs": [],
   "source": []
  },
  {
   "cell_type": "code",
   "execution_count": null,
   "metadata": {},
   "outputs": [],
   "source": []
  },
  {
   "cell_type": "code",
   "execution_count": null,
   "metadata": {},
   "outputs": [],
   "source": []
  },
  {
   "cell_type": "code",
   "execution_count": null,
   "metadata": {},
   "outputs": [],
   "source": []
  },
  {
   "cell_type": "code",
   "execution_count": null,
   "metadata": {},
   "outputs": [],
   "source": []
  },
  {
   "cell_type": "code",
   "execution_count": null,
   "metadata": {},
   "outputs": [],
   "source": []
  }
 ],
 "metadata": {
  "kernelspec": {
   "display_name": "Python 3",
   "language": "python",
   "name": "python3"
  },
  "language_info": {
   "codemirror_mode": {
    "name": "ipython",
    "version": 3
   },
   "file_extension": ".py",
   "mimetype": "text/x-python",
   "name": "python",
   "nbconvert_exporter": "python",
   "pygments_lexer": "ipython3",
   "version": "3.8.5"
  }
 },
 "nbformat": 4,
 "nbformat_minor": 4
}
